{
 "cells": [
  {
   "cell_type": "markdown",
   "id": "14d6cc8b",
   "metadata": {},
   "source": [
    "## Recommendation Systems.\n",
    "There are three main types of recommendation systems:\n",
    "* **Content-based filtering** - looks at the item and recommends similar items eg action movie(Jumanji) then the recommendation can be a similar action movie (Tomb Raider)\n",
    "* **Collaborative filtering** - looks at who liked what, then suggests these items.\n",
    "* **Hybrid Models** - combines both for more nuanced recommendations.(Amazon, Netflix & Google Ads)\n",
    "\n",
    "We'll start by looking at `content-based filtering` using cosine similarity on the movielens dataset."
   ]
  },
  {
   "cell_type": "code",
   "execution_count": 1,
   "id": "bcdcf28f",
   "metadata": {},
   "outputs": [],
   "source": [
    "import numpy as np\n",
    "import matplotlib.pyplot as plt \n",
    "import pandas as pd\n",
    "from sklearn.metrics.pairwise import cosine_similarity"
   ]
  },
  {
   "cell_type": "code",
   "execution_count": 2,
   "id": "3c8eb97a",
   "metadata": {},
   "outputs": [
    {
     "name": "stdout",
     "output_type": "stream",
     "text": [
      "<class 'pandas.core.frame.DataFrame'>\n",
      "RangeIndex: 1682 entries, 0 to 1681\n",
      "Data columns (total 24 columns):\n",
      " #   Column              Non-Null Count  Dtype  \n",
      "---  ------              --------------  -----  \n",
      " 0   movie_id            1682 non-null   int64  \n",
      " 1   movie title         1682 non-null   object \n",
      " 2   release date        1681 non-null   object \n",
      " 3   video_release_date  0 non-null      float64\n",
      " 4   IMDb URL            1679 non-null   object \n",
      " 5   unknown             1682 non-null   int64  \n",
      " 6   action              1682 non-null   int64  \n",
      " 7   adventure           1682 non-null   int64  \n",
      " 8   animation           1682 non-null   int64  \n",
      " 9   children's          1682 non-null   int64  \n",
      " 10  comedy              1682 non-null   int64  \n",
      " 11  crime               1682 non-null   int64  \n",
      " 12  documentary         1682 non-null   int64  \n",
      " 13  drama               1682 non-null   int64  \n",
      " 14  fantasy             1682 non-null   int64  \n",
      " 15  Film-Noir           1682 non-null   int64  \n",
      " 16  horror              1682 non-null   int64  \n",
      " 17  musical             1682 non-null   int64  \n",
      " 18  mystery             1682 non-null   int64  \n",
      " 19  romance             1682 non-null   int64  \n",
      " 20  Sci-Fi              1682 non-null   int64  \n",
      " 21  thriller            1682 non-null   int64  \n",
      " 22  war                 1682 non-null   int64  \n",
      " 23  western             1682 non-null   int64  \n",
      "dtypes: float64(1), int64(20), object(3)\n",
      "memory usage: 315.5+ KB\n"
     ]
    }
   ],
   "source": [
    "#load the movie and genres dataset\n",
    "\n",
    "items = [\"movie_id\", \"movie title\", \"release date\", \"video_release_date\",\n",
    "            \"IMDb URL\", \"unknown\", \"action\", 'adventure', \"animation\",\n",
    "              \"children's\", \"comedy\", \"crime\", \"documentary\", \"drama\", \"fantasy\",\n",
    "              \"Film-Noir\", \"horror\", \"musical\", \"mystery\", \"romance\", \"Sci-Fi\",\n",
    "              \"thriller\", \"war\", \"western\"]\n",
    "\n",
    "movies = pd.read_csv('./data/mlk/u.item', sep=\"|\", names=items, encoding='latin-1')\n",
    "movies.info()"
   ]
  },
  {
   "cell_type": "markdown",
   "id": "0e14568c",
   "metadata": {},
   "source": [
    "We'll do a bit of cleaning by removing column with the most null entries."
   ]
  },
  {
   "cell_type": "code",
   "execution_count": 3,
   "id": "b4d6e02c",
   "metadata": {},
   "outputs": [
    {
     "name": "stdout",
     "output_type": "stream",
     "text": [
      "<class 'pandas.core.frame.DataFrame'>\n",
      "RangeIndex: 1682 entries, 0 to 1681\n",
      "Data columns (total 22 columns):\n",
      " #   Column        Non-Null Count  Dtype \n",
      "---  ------        --------------  ----- \n",
      " 0   movie_id      1682 non-null   int64 \n",
      " 1   movie title   1682 non-null   object\n",
      " 2   release date  1681 non-null   object\n",
      " 3   unknown       1682 non-null   int64 \n",
      " 4   action        1682 non-null   int64 \n",
      " 5   adventure     1682 non-null   int64 \n",
      " 6   animation     1682 non-null   int64 \n",
      " 7   children's    1682 non-null   int64 \n",
      " 8   comedy        1682 non-null   int64 \n",
      " 9   crime         1682 non-null   int64 \n",
      " 10  documentary   1682 non-null   int64 \n",
      " 11  drama         1682 non-null   int64 \n",
      " 12  fantasy       1682 non-null   int64 \n",
      " 13  Film-Noir     1682 non-null   int64 \n",
      " 14  horror        1682 non-null   int64 \n",
      " 15  musical       1682 non-null   int64 \n",
      " 16  mystery       1682 non-null   int64 \n",
      " 17  romance       1682 non-null   int64 \n",
      " 18  Sci-Fi        1682 non-null   int64 \n",
      " 19  thriller      1682 non-null   int64 \n",
      " 20  war           1682 non-null   int64 \n",
      " 21  western       1682 non-null   int64 \n",
      "dtypes: int64(20), object(2)\n",
      "memory usage: 289.2+ KB\n"
     ]
    }
   ],
   "source": [
    "movies = movies.drop(['video_release_date','IMDb URL'], axis=1)\n",
    "movies.info()"
   ]
  },
  {
   "cell_type": "code",
   "execution_count": 4,
   "id": "469c9dcd",
   "metadata": {},
   "outputs": [
    {
     "data": {
      "application/vnd.microsoft.datawrangler.viewer.v0+json": {
       "columns": [
        {
         "name": "index",
         "rawType": "int64",
         "type": "integer"
        },
        {
         "name": "movie_id",
         "rawType": "int64",
         "type": "integer"
        },
        {
         "name": "movie title",
         "rawType": "object",
         "type": "string"
        },
        {
         "name": "release date",
         "rawType": "object",
         "type": "string"
        },
        {
         "name": "unknown",
         "rawType": "int64",
         "type": "integer"
        },
        {
         "name": "action",
         "rawType": "int64",
         "type": "integer"
        },
        {
         "name": "adventure",
         "rawType": "int64",
         "type": "integer"
        },
        {
         "name": "animation",
         "rawType": "int64",
         "type": "integer"
        },
        {
         "name": "children's",
         "rawType": "int64",
         "type": "integer"
        },
        {
         "name": "comedy",
         "rawType": "int64",
         "type": "integer"
        },
        {
         "name": "crime",
         "rawType": "int64",
         "type": "integer"
        },
        {
         "name": "documentary",
         "rawType": "int64",
         "type": "integer"
        },
        {
         "name": "drama",
         "rawType": "int64",
         "type": "integer"
        },
        {
         "name": "fantasy",
         "rawType": "int64",
         "type": "integer"
        },
        {
         "name": "Film-Noir",
         "rawType": "int64",
         "type": "integer"
        },
        {
         "name": "horror",
         "rawType": "int64",
         "type": "integer"
        },
        {
         "name": "musical",
         "rawType": "int64",
         "type": "integer"
        },
        {
         "name": "mystery",
         "rawType": "int64",
         "type": "integer"
        },
        {
         "name": "romance",
         "rawType": "int64",
         "type": "integer"
        },
        {
         "name": "Sci-Fi",
         "rawType": "int64",
         "type": "integer"
        },
        {
         "name": "thriller",
         "rawType": "int64",
         "type": "integer"
        },
        {
         "name": "war",
         "rawType": "int64",
         "type": "integer"
        },
        {
         "name": "western",
         "rawType": "int64",
         "type": "integer"
        }
       ],
       "ref": "d9d7d752-82a6-4425-8b42-c12215f333c8",
       "rows": [
        [
         "0",
         "1",
         "Toy Story (1995)",
         "01-Jan-1995",
         "0",
         "0",
         "0",
         "1",
         "1",
         "1",
         "0",
         "0",
         "0",
         "0",
         "0",
         "0",
         "0",
         "0",
         "0",
         "0",
         "0",
         "0",
         "0"
        ],
        [
         "1",
         "2",
         "GoldenEye (1995)",
         "01-Jan-1995",
         "0",
         "1",
         "1",
         "0",
         "0",
         "0",
         "0",
         "0",
         "0",
         "0",
         "0",
         "0",
         "0",
         "0",
         "0",
         "0",
         "1",
         "0",
         "0"
        ],
        [
         "2",
         "3",
         "Four Rooms (1995)",
         "01-Jan-1995",
         "0",
         "0",
         "0",
         "0",
         "0",
         "0",
         "0",
         "0",
         "0",
         "0",
         "0",
         "0",
         "0",
         "0",
         "0",
         "0",
         "1",
         "0",
         "0"
        ],
        [
         "3",
         "4",
         "Get Shorty (1995)",
         "01-Jan-1995",
         "0",
         "1",
         "0",
         "0",
         "0",
         "1",
         "0",
         "0",
         "1",
         "0",
         "0",
         "0",
         "0",
         "0",
         "0",
         "0",
         "0",
         "0",
         "0"
        ],
        [
         "4",
         "5",
         "Copycat (1995)",
         "01-Jan-1995",
         "0",
         "0",
         "0",
         "0",
         "0",
         "0",
         "1",
         "0",
         "1",
         "0",
         "0",
         "0",
         "0",
         "0",
         "0",
         "0",
         "1",
         "0",
         "0"
        ]
       ],
       "shape": {
        "columns": 22,
        "rows": 5
       }
      },
      "text/html": [
       "<div>\n",
       "<style scoped>\n",
       "    .dataframe tbody tr th:only-of-type {\n",
       "        vertical-align: middle;\n",
       "    }\n",
       "\n",
       "    .dataframe tbody tr th {\n",
       "        vertical-align: top;\n",
       "    }\n",
       "\n",
       "    .dataframe thead th {\n",
       "        text-align: right;\n",
       "    }\n",
       "</style>\n",
       "<table border=\"1\" class=\"dataframe\">\n",
       "  <thead>\n",
       "    <tr style=\"text-align: right;\">\n",
       "      <th></th>\n",
       "      <th>movie_id</th>\n",
       "      <th>movie title</th>\n",
       "      <th>release date</th>\n",
       "      <th>unknown</th>\n",
       "      <th>action</th>\n",
       "      <th>adventure</th>\n",
       "      <th>animation</th>\n",
       "      <th>children's</th>\n",
       "      <th>comedy</th>\n",
       "      <th>crime</th>\n",
       "      <th>...</th>\n",
       "      <th>fantasy</th>\n",
       "      <th>Film-Noir</th>\n",
       "      <th>horror</th>\n",
       "      <th>musical</th>\n",
       "      <th>mystery</th>\n",
       "      <th>romance</th>\n",
       "      <th>Sci-Fi</th>\n",
       "      <th>thriller</th>\n",
       "      <th>war</th>\n",
       "      <th>western</th>\n",
       "    </tr>\n",
       "  </thead>\n",
       "  <tbody>\n",
       "    <tr>\n",
       "      <th>0</th>\n",
       "      <td>1</td>\n",
       "      <td>Toy Story (1995)</td>\n",
       "      <td>01-Jan-1995</td>\n",
       "      <td>0</td>\n",
       "      <td>0</td>\n",
       "      <td>0</td>\n",
       "      <td>1</td>\n",
       "      <td>1</td>\n",
       "      <td>1</td>\n",
       "      <td>0</td>\n",
       "      <td>...</td>\n",
       "      <td>0</td>\n",
       "      <td>0</td>\n",
       "      <td>0</td>\n",
       "      <td>0</td>\n",
       "      <td>0</td>\n",
       "      <td>0</td>\n",
       "      <td>0</td>\n",
       "      <td>0</td>\n",
       "      <td>0</td>\n",
       "      <td>0</td>\n",
       "    </tr>\n",
       "    <tr>\n",
       "      <th>1</th>\n",
       "      <td>2</td>\n",
       "      <td>GoldenEye (1995)</td>\n",
       "      <td>01-Jan-1995</td>\n",
       "      <td>0</td>\n",
       "      <td>1</td>\n",
       "      <td>1</td>\n",
       "      <td>0</td>\n",
       "      <td>0</td>\n",
       "      <td>0</td>\n",
       "      <td>0</td>\n",
       "      <td>...</td>\n",
       "      <td>0</td>\n",
       "      <td>0</td>\n",
       "      <td>0</td>\n",
       "      <td>0</td>\n",
       "      <td>0</td>\n",
       "      <td>0</td>\n",
       "      <td>0</td>\n",
       "      <td>1</td>\n",
       "      <td>0</td>\n",
       "      <td>0</td>\n",
       "    </tr>\n",
       "    <tr>\n",
       "      <th>2</th>\n",
       "      <td>3</td>\n",
       "      <td>Four Rooms (1995)</td>\n",
       "      <td>01-Jan-1995</td>\n",
       "      <td>0</td>\n",
       "      <td>0</td>\n",
       "      <td>0</td>\n",
       "      <td>0</td>\n",
       "      <td>0</td>\n",
       "      <td>0</td>\n",
       "      <td>0</td>\n",
       "      <td>...</td>\n",
       "      <td>0</td>\n",
       "      <td>0</td>\n",
       "      <td>0</td>\n",
       "      <td>0</td>\n",
       "      <td>0</td>\n",
       "      <td>0</td>\n",
       "      <td>0</td>\n",
       "      <td>1</td>\n",
       "      <td>0</td>\n",
       "      <td>0</td>\n",
       "    </tr>\n",
       "    <tr>\n",
       "      <th>3</th>\n",
       "      <td>4</td>\n",
       "      <td>Get Shorty (1995)</td>\n",
       "      <td>01-Jan-1995</td>\n",
       "      <td>0</td>\n",
       "      <td>1</td>\n",
       "      <td>0</td>\n",
       "      <td>0</td>\n",
       "      <td>0</td>\n",
       "      <td>1</td>\n",
       "      <td>0</td>\n",
       "      <td>...</td>\n",
       "      <td>0</td>\n",
       "      <td>0</td>\n",
       "      <td>0</td>\n",
       "      <td>0</td>\n",
       "      <td>0</td>\n",
       "      <td>0</td>\n",
       "      <td>0</td>\n",
       "      <td>0</td>\n",
       "      <td>0</td>\n",
       "      <td>0</td>\n",
       "    </tr>\n",
       "    <tr>\n",
       "      <th>4</th>\n",
       "      <td>5</td>\n",
       "      <td>Copycat (1995)</td>\n",
       "      <td>01-Jan-1995</td>\n",
       "      <td>0</td>\n",
       "      <td>0</td>\n",
       "      <td>0</td>\n",
       "      <td>0</td>\n",
       "      <td>0</td>\n",
       "      <td>0</td>\n",
       "      <td>1</td>\n",
       "      <td>...</td>\n",
       "      <td>0</td>\n",
       "      <td>0</td>\n",
       "      <td>0</td>\n",
       "      <td>0</td>\n",
       "      <td>0</td>\n",
       "      <td>0</td>\n",
       "      <td>0</td>\n",
       "      <td>1</td>\n",
       "      <td>0</td>\n",
       "      <td>0</td>\n",
       "    </tr>\n",
       "  </tbody>\n",
       "</table>\n",
       "<p>5 rows × 22 columns</p>\n",
       "</div>"
      ],
      "text/plain": [
       "   movie_id        movie title release date  unknown  action  adventure  \\\n",
       "0         1   Toy Story (1995)  01-Jan-1995        0       0          0   \n",
       "1         2   GoldenEye (1995)  01-Jan-1995        0       1          1   \n",
       "2         3  Four Rooms (1995)  01-Jan-1995        0       0          0   \n",
       "3         4  Get Shorty (1995)  01-Jan-1995        0       1          0   \n",
       "4         5     Copycat (1995)  01-Jan-1995        0       0          0   \n",
       "\n",
       "   animation  children's  comedy  crime  ...  fantasy  Film-Noir  horror  \\\n",
       "0          1           1       1      0  ...        0          0       0   \n",
       "1          0           0       0      0  ...        0          0       0   \n",
       "2          0           0       0      0  ...        0          0       0   \n",
       "3          0           0       1      0  ...        0          0       0   \n",
       "4          0           0       0      1  ...        0          0       0   \n",
       "\n",
       "   musical  mystery  romance  Sci-Fi  thriller  war  western  \n",
       "0        0        0        0       0         0    0        0  \n",
       "1        0        0        0       0         1    0        0  \n",
       "2        0        0        0       0         1    0        0  \n",
       "3        0        0        0       0         0    0        0  \n",
       "4        0        0        0       0         1    0        0  \n",
       "\n",
       "[5 rows x 22 columns]"
      ]
     },
     "execution_count": 4,
     "metadata": {},
     "output_type": "execute_result"
    }
   ],
   "source": [
    "movies.head()"
   ]
  },
  {
   "cell_type": "markdown",
   "id": "9827d72a",
   "metadata": {},
   "source": [
    "The columns seem to be one-hot encoded so lets create vectors to represent each movie. Then use these vectors in the cosine similarity function to get recommendations."
   ]
  },
  {
   "cell_type": "code",
   "execution_count": 5,
   "id": "d87a491b",
   "metadata": {},
   "outputs": [
    {
     "name": "stdout",
     "output_type": "stream",
     "text": [
      "<class 'pandas.core.frame.DataFrame'>\n",
      "RangeIndex: 1682 entries, 0 to 1681\n",
      "Data columns (total 19 columns):\n",
      " #   Column       Non-Null Count  Dtype\n",
      "---  ------       --------------  -----\n",
      " 0   unknown      1682 non-null   int64\n",
      " 1   action       1682 non-null   int64\n",
      " 2   adventure    1682 non-null   int64\n",
      " 3   animation    1682 non-null   int64\n",
      " 4   children's   1682 non-null   int64\n",
      " 5   comedy       1682 non-null   int64\n",
      " 6   crime        1682 non-null   int64\n",
      " 7   documentary  1682 non-null   int64\n",
      " 8   drama        1682 non-null   int64\n",
      " 9   fantasy      1682 non-null   int64\n",
      " 10  Film-Noir    1682 non-null   int64\n",
      " 11  horror       1682 non-null   int64\n",
      " 12  musical      1682 non-null   int64\n",
      " 13  mystery      1682 non-null   int64\n",
      " 14  romance      1682 non-null   int64\n",
      " 15  Sci-Fi       1682 non-null   int64\n",
      " 16  thriller     1682 non-null   int64\n",
      " 17  war          1682 non-null   int64\n",
      " 18  western      1682 non-null   int64\n",
      "dtypes: int64(19)\n",
      "memory usage: 249.8 KB\n"
     ]
    }
   ],
   "source": [
    "genres = [ \"unknown\", \"action\", 'adventure', \"animation\",\n",
    "              \"children's\", \"comedy\", \"crime\", \"documentary\", \"drama\", \"fantasy\",\n",
    "              \"Film-Noir\", \"horror\", \"musical\", \"mystery\", \"romance\", \"Sci-Fi\",\n",
    "              \"thriller\", \"war\", \"western\"]\n",
    "\n",
    "genre_features = movies[genres]\n",
    "\n",
    "genre_features.info()\n"
   ]
  },
  {
   "cell_type": "markdown",
   "id": "98d427e7",
   "metadata": {},
   "source": [
    "## Cosine Similarity\n",
    "Instead of using angles directly, cosine similarity gives us a score between -1 and 1.\n",
    "* 1 = items are identical in terms of direction\n",
    "* 0 = they are completely different\n",
    "* -1 = opposite direction\n",
    "\n",
    "We will use these values to compare movies based on ttheir genre vectors."
   ]
  },
  {
   "cell_type": "code",
   "execution_count": 6,
   "id": "eff5c25a",
   "metadata": {},
   "outputs": [
    {
     "data": {
      "text/plain": [
       "array([1.        , 0.        , 0.        , 0.33333333, 0.        ,\n",
       "       0.        , 0.        , 0.66666667, 0.        , 0.        ,\n",
       "       0.        , 0.        , 0.57735027, 0.        , 0.        ])"
      ]
     },
     "execution_count": 6,
     "metadata": {},
     "output_type": "execute_result"
    }
   ],
   "source": [
    "#get the matrix to use within our function.\n",
    "cosine_matrix = cosine_similarity(genre_features)\n",
    "\n",
    "#displaying similarity of first movie with others\n",
    "cosine_matrix[0][:15]\n",
    "# cosine_matrix"
   ]
  },
  {
   "cell_type": "code",
   "execution_count": 7,
   "id": "c0803a29",
   "metadata": {},
   "outputs": [
    {
     "data": {
      "application/vnd.microsoft.datawrangler.viewer.v0+json": {
       "columns": [
        {
         "name": "index",
         "rawType": "int64",
         "type": "integer"
        },
        {
         "name": "movie_id",
         "rawType": "int64",
         "type": "integer"
        },
        {
         "name": "movie title",
         "rawType": "object",
         "type": "string"
        },
        {
         "name": "release date",
         "rawType": "object",
         "type": "string"
        },
        {
         "name": "unknown",
         "rawType": "int64",
         "type": "integer"
        },
        {
         "name": "action",
         "rawType": "int64",
         "type": "integer"
        },
        {
         "name": "adventure",
         "rawType": "int64",
         "type": "integer"
        },
        {
         "name": "animation",
         "rawType": "int64",
         "type": "integer"
        },
        {
         "name": "children's",
         "rawType": "int64",
         "type": "integer"
        },
        {
         "name": "comedy",
         "rawType": "int64",
         "type": "integer"
        },
        {
         "name": "crime",
         "rawType": "int64",
         "type": "integer"
        },
        {
         "name": "documentary",
         "rawType": "int64",
         "type": "integer"
        },
        {
         "name": "drama",
         "rawType": "int64",
         "type": "integer"
        },
        {
         "name": "fantasy",
         "rawType": "int64",
         "type": "integer"
        },
        {
         "name": "Film-Noir",
         "rawType": "int64",
         "type": "integer"
        },
        {
         "name": "horror",
         "rawType": "int64",
         "type": "integer"
        },
        {
         "name": "musical",
         "rawType": "int64",
         "type": "integer"
        },
        {
         "name": "mystery",
         "rawType": "int64",
         "type": "integer"
        },
        {
         "name": "romance",
         "rawType": "int64",
         "type": "integer"
        },
        {
         "name": "Sci-Fi",
         "rawType": "int64",
         "type": "integer"
        },
        {
         "name": "thriller",
         "rawType": "int64",
         "type": "integer"
        },
        {
         "name": "war",
         "rawType": "int64",
         "type": "integer"
        },
        {
         "name": "western",
         "rawType": "int64",
         "type": "integer"
        }
       ],
       "ref": "55991d33-975a-4479-8422-9ca271c46564",
       "rows": [
        [
         "0",
         "1",
         "Toy Story (1995)",
         "01-Jan-1995",
         "0",
         "0",
         "0",
         "1",
         "1",
         "1",
         "0",
         "0",
         "0",
         "0",
         "0",
         "0",
         "0",
         "0",
         "0",
         "0",
         "0",
         "0",
         "0"
        ],
        [
         "1",
         "2",
         "GoldenEye (1995)",
         "01-Jan-1995",
         "0",
         "1",
         "1",
         "0",
         "0",
         "0",
         "0",
         "0",
         "0",
         "0",
         "0",
         "0",
         "0",
         "0",
         "0",
         "0",
         "1",
         "0",
         "0"
        ],
        [
         "2",
         "3",
         "Four Rooms (1995)",
         "01-Jan-1995",
         "0",
         "0",
         "0",
         "0",
         "0",
         "0",
         "0",
         "0",
         "0",
         "0",
         "0",
         "0",
         "0",
         "0",
         "0",
         "0",
         "1",
         "0",
         "0"
        ],
        [
         "3",
         "4",
         "Get Shorty (1995)",
         "01-Jan-1995",
         "0",
         "1",
         "0",
         "0",
         "0",
         "1",
         "0",
         "0",
         "1",
         "0",
         "0",
         "0",
         "0",
         "0",
         "0",
         "0",
         "0",
         "0",
         "0"
        ],
        [
         "4",
         "5",
         "Copycat (1995)",
         "01-Jan-1995",
         "0",
         "0",
         "0",
         "0",
         "0",
         "0",
         "1",
         "0",
         "1",
         "0",
         "0",
         "0",
         "0",
         "0",
         "0",
         "0",
         "1",
         "0",
         "0"
        ],
        [
         "5",
         "6",
         "Shanghai Triad (Yao a yao yao dao waipo qiao) (1995)",
         "01-Jan-1995",
         "0",
         "0",
         "0",
         "0",
         "0",
         "0",
         "0",
         "0",
         "1",
         "0",
         "0",
         "0",
         "0",
         "0",
         "0",
         "0",
         "0",
         "0",
         "0"
        ],
        [
         "6",
         "7",
         "Twelve Monkeys (1995)",
         "01-Jan-1995",
         "0",
         "0",
         "0",
         "0",
         "0",
         "0",
         "0",
         "0",
         "1",
         "0",
         "0",
         "0",
         "0",
         "0",
         "0",
         "1",
         "0",
         "0",
         "0"
        ],
        [
         "7",
         "8",
         "Babe (1995)",
         "01-Jan-1995",
         "0",
         "0",
         "0",
         "0",
         "1",
         "1",
         "0",
         "0",
         "1",
         "0",
         "0",
         "0",
         "0",
         "0",
         "0",
         "0",
         "0",
         "0",
         "0"
        ],
        [
         "8",
         "9",
         "Dead Man Walking (1995)",
         "01-Jan-1995",
         "0",
         "0",
         "0",
         "0",
         "0",
         "0",
         "0",
         "0",
         "1",
         "0",
         "0",
         "0",
         "0",
         "0",
         "0",
         "0",
         "0",
         "0",
         "0"
        ],
        [
         "9",
         "10",
         "Richard III (1995)",
         "22-Jan-1996",
         "0",
         "0",
         "0",
         "0",
         "0",
         "0",
         "0",
         "0",
         "1",
         "0",
         "0",
         "0",
         "0",
         "0",
         "0",
         "0",
         "0",
         "1",
         "0"
        ]
       ],
       "shape": {
        "columns": 22,
        "rows": 10
       }
      },
      "text/html": [
       "<div>\n",
       "<style scoped>\n",
       "    .dataframe tbody tr th:only-of-type {\n",
       "        vertical-align: middle;\n",
       "    }\n",
       "\n",
       "    .dataframe tbody tr th {\n",
       "        vertical-align: top;\n",
       "    }\n",
       "\n",
       "    .dataframe thead th {\n",
       "        text-align: right;\n",
       "    }\n",
       "</style>\n",
       "<table border=\"1\" class=\"dataframe\">\n",
       "  <thead>\n",
       "    <tr style=\"text-align: right;\">\n",
       "      <th></th>\n",
       "      <th>movie_id</th>\n",
       "      <th>movie title</th>\n",
       "      <th>release date</th>\n",
       "      <th>unknown</th>\n",
       "      <th>action</th>\n",
       "      <th>adventure</th>\n",
       "      <th>animation</th>\n",
       "      <th>children's</th>\n",
       "      <th>comedy</th>\n",
       "      <th>crime</th>\n",
       "      <th>...</th>\n",
       "      <th>fantasy</th>\n",
       "      <th>Film-Noir</th>\n",
       "      <th>horror</th>\n",
       "      <th>musical</th>\n",
       "      <th>mystery</th>\n",
       "      <th>romance</th>\n",
       "      <th>Sci-Fi</th>\n",
       "      <th>thriller</th>\n",
       "      <th>war</th>\n",
       "      <th>western</th>\n",
       "    </tr>\n",
       "  </thead>\n",
       "  <tbody>\n",
       "    <tr>\n",
       "      <th>0</th>\n",
       "      <td>1</td>\n",
       "      <td>Toy Story (1995)</td>\n",
       "      <td>01-Jan-1995</td>\n",
       "      <td>0</td>\n",
       "      <td>0</td>\n",
       "      <td>0</td>\n",
       "      <td>1</td>\n",
       "      <td>1</td>\n",
       "      <td>1</td>\n",
       "      <td>0</td>\n",
       "      <td>...</td>\n",
       "      <td>0</td>\n",
       "      <td>0</td>\n",
       "      <td>0</td>\n",
       "      <td>0</td>\n",
       "      <td>0</td>\n",
       "      <td>0</td>\n",
       "      <td>0</td>\n",
       "      <td>0</td>\n",
       "      <td>0</td>\n",
       "      <td>0</td>\n",
       "    </tr>\n",
       "    <tr>\n",
       "      <th>1</th>\n",
       "      <td>2</td>\n",
       "      <td>GoldenEye (1995)</td>\n",
       "      <td>01-Jan-1995</td>\n",
       "      <td>0</td>\n",
       "      <td>1</td>\n",
       "      <td>1</td>\n",
       "      <td>0</td>\n",
       "      <td>0</td>\n",
       "      <td>0</td>\n",
       "      <td>0</td>\n",
       "      <td>...</td>\n",
       "      <td>0</td>\n",
       "      <td>0</td>\n",
       "      <td>0</td>\n",
       "      <td>0</td>\n",
       "      <td>0</td>\n",
       "      <td>0</td>\n",
       "      <td>0</td>\n",
       "      <td>1</td>\n",
       "      <td>0</td>\n",
       "      <td>0</td>\n",
       "    </tr>\n",
       "    <tr>\n",
       "      <th>2</th>\n",
       "      <td>3</td>\n",
       "      <td>Four Rooms (1995)</td>\n",
       "      <td>01-Jan-1995</td>\n",
       "      <td>0</td>\n",
       "      <td>0</td>\n",
       "      <td>0</td>\n",
       "      <td>0</td>\n",
       "      <td>0</td>\n",
       "      <td>0</td>\n",
       "      <td>0</td>\n",
       "      <td>...</td>\n",
       "      <td>0</td>\n",
       "      <td>0</td>\n",
       "      <td>0</td>\n",
       "      <td>0</td>\n",
       "      <td>0</td>\n",
       "      <td>0</td>\n",
       "      <td>0</td>\n",
       "      <td>1</td>\n",
       "      <td>0</td>\n",
       "      <td>0</td>\n",
       "    </tr>\n",
       "    <tr>\n",
       "      <th>3</th>\n",
       "      <td>4</td>\n",
       "      <td>Get Shorty (1995)</td>\n",
       "      <td>01-Jan-1995</td>\n",
       "      <td>0</td>\n",
       "      <td>1</td>\n",
       "      <td>0</td>\n",
       "      <td>0</td>\n",
       "      <td>0</td>\n",
       "      <td>1</td>\n",
       "      <td>0</td>\n",
       "      <td>...</td>\n",
       "      <td>0</td>\n",
       "      <td>0</td>\n",
       "      <td>0</td>\n",
       "      <td>0</td>\n",
       "      <td>0</td>\n",
       "      <td>0</td>\n",
       "      <td>0</td>\n",
       "      <td>0</td>\n",
       "      <td>0</td>\n",
       "      <td>0</td>\n",
       "    </tr>\n",
       "    <tr>\n",
       "      <th>4</th>\n",
       "      <td>5</td>\n",
       "      <td>Copycat (1995)</td>\n",
       "      <td>01-Jan-1995</td>\n",
       "      <td>0</td>\n",
       "      <td>0</td>\n",
       "      <td>0</td>\n",
       "      <td>0</td>\n",
       "      <td>0</td>\n",
       "      <td>0</td>\n",
       "      <td>1</td>\n",
       "      <td>...</td>\n",
       "      <td>0</td>\n",
       "      <td>0</td>\n",
       "      <td>0</td>\n",
       "      <td>0</td>\n",
       "      <td>0</td>\n",
       "      <td>0</td>\n",
       "      <td>0</td>\n",
       "      <td>1</td>\n",
       "      <td>0</td>\n",
       "      <td>0</td>\n",
       "    </tr>\n",
       "    <tr>\n",
       "      <th>5</th>\n",
       "      <td>6</td>\n",
       "      <td>Shanghai Triad (Yao a yao yao dao waipo qiao) ...</td>\n",
       "      <td>01-Jan-1995</td>\n",
       "      <td>0</td>\n",
       "      <td>0</td>\n",
       "      <td>0</td>\n",
       "      <td>0</td>\n",
       "      <td>0</td>\n",
       "      <td>0</td>\n",
       "      <td>0</td>\n",
       "      <td>...</td>\n",
       "      <td>0</td>\n",
       "      <td>0</td>\n",
       "      <td>0</td>\n",
       "      <td>0</td>\n",
       "      <td>0</td>\n",
       "      <td>0</td>\n",
       "      <td>0</td>\n",
       "      <td>0</td>\n",
       "      <td>0</td>\n",
       "      <td>0</td>\n",
       "    </tr>\n",
       "    <tr>\n",
       "      <th>6</th>\n",
       "      <td>7</td>\n",
       "      <td>Twelve Monkeys (1995)</td>\n",
       "      <td>01-Jan-1995</td>\n",
       "      <td>0</td>\n",
       "      <td>0</td>\n",
       "      <td>0</td>\n",
       "      <td>0</td>\n",
       "      <td>0</td>\n",
       "      <td>0</td>\n",
       "      <td>0</td>\n",
       "      <td>...</td>\n",
       "      <td>0</td>\n",
       "      <td>0</td>\n",
       "      <td>0</td>\n",
       "      <td>0</td>\n",
       "      <td>0</td>\n",
       "      <td>0</td>\n",
       "      <td>1</td>\n",
       "      <td>0</td>\n",
       "      <td>0</td>\n",
       "      <td>0</td>\n",
       "    </tr>\n",
       "    <tr>\n",
       "      <th>7</th>\n",
       "      <td>8</td>\n",
       "      <td>Babe (1995)</td>\n",
       "      <td>01-Jan-1995</td>\n",
       "      <td>0</td>\n",
       "      <td>0</td>\n",
       "      <td>0</td>\n",
       "      <td>0</td>\n",
       "      <td>1</td>\n",
       "      <td>1</td>\n",
       "      <td>0</td>\n",
       "      <td>...</td>\n",
       "      <td>0</td>\n",
       "      <td>0</td>\n",
       "      <td>0</td>\n",
       "      <td>0</td>\n",
       "      <td>0</td>\n",
       "      <td>0</td>\n",
       "      <td>0</td>\n",
       "      <td>0</td>\n",
       "      <td>0</td>\n",
       "      <td>0</td>\n",
       "    </tr>\n",
       "    <tr>\n",
       "      <th>8</th>\n",
       "      <td>9</td>\n",
       "      <td>Dead Man Walking (1995)</td>\n",
       "      <td>01-Jan-1995</td>\n",
       "      <td>0</td>\n",
       "      <td>0</td>\n",
       "      <td>0</td>\n",
       "      <td>0</td>\n",
       "      <td>0</td>\n",
       "      <td>0</td>\n",
       "      <td>0</td>\n",
       "      <td>...</td>\n",
       "      <td>0</td>\n",
       "      <td>0</td>\n",
       "      <td>0</td>\n",
       "      <td>0</td>\n",
       "      <td>0</td>\n",
       "      <td>0</td>\n",
       "      <td>0</td>\n",
       "      <td>0</td>\n",
       "      <td>0</td>\n",
       "      <td>0</td>\n",
       "    </tr>\n",
       "    <tr>\n",
       "      <th>9</th>\n",
       "      <td>10</td>\n",
       "      <td>Richard III (1995)</td>\n",
       "      <td>22-Jan-1996</td>\n",
       "      <td>0</td>\n",
       "      <td>0</td>\n",
       "      <td>0</td>\n",
       "      <td>0</td>\n",
       "      <td>0</td>\n",
       "      <td>0</td>\n",
       "      <td>0</td>\n",
       "      <td>...</td>\n",
       "      <td>0</td>\n",
       "      <td>0</td>\n",
       "      <td>0</td>\n",
       "      <td>0</td>\n",
       "      <td>0</td>\n",
       "      <td>0</td>\n",
       "      <td>0</td>\n",
       "      <td>0</td>\n",
       "      <td>1</td>\n",
       "      <td>0</td>\n",
       "    </tr>\n",
       "  </tbody>\n",
       "</table>\n",
       "<p>10 rows × 22 columns</p>\n",
       "</div>"
      ],
      "text/plain": [
       "   movie_id                                        movie title release date  \\\n",
       "0         1                                   Toy Story (1995)  01-Jan-1995   \n",
       "1         2                                   GoldenEye (1995)  01-Jan-1995   \n",
       "2         3                                  Four Rooms (1995)  01-Jan-1995   \n",
       "3         4                                  Get Shorty (1995)  01-Jan-1995   \n",
       "4         5                                     Copycat (1995)  01-Jan-1995   \n",
       "5         6  Shanghai Triad (Yao a yao yao dao waipo qiao) ...  01-Jan-1995   \n",
       "6         7                              Twelve Monkeys (1995)  01-Jan-1995   \n",
       "7         8                                        Babe (1995)  01-Jan-1995   \n",
       "8         9                            Dead Man Walking (1995)  01-Jan-1995   \n",
       "9        10                                 Richard III (1995)  22-Jan-1996   \n",
       "\n",
       "   unknown  action  adventure  animation  children's  comedy  crime  ...  \\\n",
       "0        0       0          0          1           1       1      0  ...   \n",
       "1        0       1          1          0           0       0      0  ...   \n",
       "2        0       0          0          0           0       0      0  ...   \n",
       "3        0       1          0          0           0       1      0  ...   \n",
       "4        0       0          0          0           0       0      1  ...   \n",
       "5        0       0          0          0           0       0      0  ...   \n",
       "6        0       0          0          0           0       0      0  ...   \n",
       "7        0       0          0          0           1       1      0  ...   \n",
       "8        0       0          0          0           0       0      0  ...   \n",
       "9        0       0          0          0           0       0      0  ...   \n",
       "\n",
       "   fantasy  Film-Noir  horror  musical  mystery  romance  Sci-Fi  thriller  \\\n",
       "0        0          0       0        0        0        0       0         0   \n",
       "1        0          0       0        0        0        0       0         1   \n",
       "2        0          0       0        0        0        0       0         1   \n",
       "3        0          0       0        0        0        0       0         0   \n",
       "4        0          0       0        0        0        0       0         1   \n",
       "5        0          0       0        0        0        0       0         0   \n",
       "6        0          0       0        0        0        0       1         0   \n",
       "7        0          0       0        0        0        0       0         0   \n",
       "8        0          0       0        0        0        0       0         0   \n",
       "9        0          0       0        0        0        0       0         0   \n",
       "\n",
       "   war  western  \n",
       "0    0        0  \n",
       "1    0        0  \n",
       "2    0        0  \n",
       "3    0        0  \n",
       "4    0        0  \n",
       "5    0        0  \n",
       "6    0        0  \n",
       "7    0        0  \n",
       "8    0        0  \n",
       "9    1        0  \n",
       "\n",
       "[10 rows x 22 columns]"
      ]
     },
     "execution_count": 7,
     "metadata": {},
     "output_type": "execute_result"
    }
   ],
   "source": [
    "movies.head(10)"
   ]
  },
  {
   "cell_type": "markdown",
   "id": "51f97cd3",
   "metadata": {},
   "source": [
    "Next, lets define a function that will take a movie title as an input, use the list from the cosine matrix to sort similar movies then return a list of top 5 movies as the output."
   ]
  },
  {
   "cell_type": "code",
   "execution_count": 8,
   "id": "e9ab6388",
   "metadata": {},
   "outputs": [
    {
     "data": {
      "application/vnd.microsoft.datawrangler.viewer.v0+json": {
       "columns": [
        {
         "name": "index",
         "rawType": "int64",
         "type": "integer"
        },
        {
         "name": "movie title",
         "rawType": "object",
         "type": "string"
        }
       ],
       "ref": "efc9722c-3401-44a0-b0fc-24659874873c",
       "rows": [
        [
         "8",
         "Dead Man Walking (1995)"
        ],
        [
         "14",
         "Mr. Holland's Opus (1995)"
        ],
        [
         "17",
         "White Balloon, The (1995)"
        ],
        [
         "18",
         "Antonia's Line (1995)"
        ],
        [
         "29",
         "Belle de jour (1967)"
        ]
       ],
       "shape": {
        "columns": 1,
        "rows": 5
       }
      },
      "text/plain": [
       "8       Dead Man Walking (1995)\n",
       "14    Mr. Holland's Opus (1995)\n",
       "17    White Balloon, The (1995)\n",
       "18        Antonia's Line (1995)\n",
       "29         Belle de jour (1967)\n",
       "Name: movie title, dtype: object"
      ]
     },
     "execution_count": 8,
     "metadata": {},
     "output_type": "execute_result"
    }
   ],
   "source": [
    "def movie_recommendation(movie_title, n=5):\n",
    "    movie_index = movies[movies['movie title'] == movie_title].index[0]\n",
    "\n",
    "    scores = list(enumerate(cosine_matrix[movie_index]))\n",
    "\n",
    "    sorted_scores = sorted(scores, key=lambda x: x[1], reverse=True)\n",
    "\n",
    "    #return the scores ommitting the first movie and adding the 6th one to make five \n",
    "    return_scores = sorted_scores[1: n+1]\n",
    "    #get movie indices and names\n",
    "    movie_indices = [i[0] for i in return_scores]\n",
    "\n",
    "    return movies['movie title'].iloc[movie_indices]\n",
    "\n",
    "\n",
    "\n",
    "movie_recommendation(\"Shanghai Triad (Yao a yao yao dao waipo qiao) (1995)\")"
   ]
  },
  {
   "cell_type": "code",
   "execution_count": 9,
   "id": "952eb9f9",
   "metadata": {},
   "outputs": [
    {
     "data": {
      "application/vnd.microsoft.datawrangler.viewer.v0+json": {
       "columns": [
        {
         "name": "index",
         "rawType": "int64",
         "type": "integer"
        },
        {
         "name": "movie title",
         "rawType": "object",
         "type": "string"
        }
       ],
       "ref": "cb50035d-d573-4125-8533-7520b7660079",
       "rows": [
        [
         "8",
         "Dead Man Walking (1995)"
        ],
        [
         "14",
         "Mr. Holland's Opus (1995)"
        ],
        [
         "17",
         "White Balloon, The (1995)"
        ],
        [
         "18",
         "Antonia's Line (1995)"
        ],
        [
         "29",
         "Belle de jour (1967)"
        ]
       ],
       "shape": {
        "columns": 1,
        "rows": 5
       }
      },
      "text/plain": [
       "8       Dead Man Walking (1995)\n",
       "14    Mr. Holland's Opus (1995)\n",
       "17    White Balloon, The (1995)\n",
       "18        Antonia's Line (1995)\n",
       "29         Belle de jour (1967)\n",
       "Name: movie title, dtype: object"
      ]
     },
     "execution_count": 9,
     "metadata": {},
     "output_type": "execute_result"
    }
   ],
   "source": [
    "movie_recommendation('Dead Man Walking (1995)')"
   ]
  },
  {
   "cell_type": "code",
   "execution_count": 10,
   "id": "75ebd8bc",
   "metadata": {},
   "outputs": [
    {
     "data": {
      "application/vnd.microsoft.datawrangler.viewer.v0+json": {
       "columns": [
        {
         "name": "index",
         "rawType": "int64",
         "type": "integer"
        },
        {
         "name": "movie_id",
         "rawType": "int64",
         "type": "integer"
        },
        {
         "name": "movie title",
         "rawType": "object",
         "type": "string"
        },
        {
         "name": "release date",
         "rawType": "object",
         "type": "string"
        },
        {
         "name": "unknown",
         "rawType": "int64",
         "type": "integer"
        },
        {
         "name": "action",
         "rawType": "int64",
         "type": "integer"
        },
        {
         "name": "adventure",
         "rawType": "int64",
         "type": "integer"
        },
        {
         "name": "animation",
         "rawType": "int64",
         "type": "integer"
        },
        {
         "name": "children's",
         "rawType": "int64",
         "type": "integer"
        },
        {
         "name": "comedy",
         "rawType": "int64",
         "type": "integer"
        },
        {
         "name": "crime",
         "rawType": "int64",
         "type": "integer"
        },
        {
         "name": "documentary",
         "rawType": "int64",
         "type": "integer"
        },
        {
         "name": "drama",
         "rawType": "int64",
         "type": "integer"
        },
        {
         "name": "fantasy",
         "rawType": "int64",
         "type": "integer"
        },
        {
         "name": "Film-Noir",
         "rawType": "int64",
         "type": "integer"
        },
        {
         "name": "horror",
         "rawType": "int64",
         "type": "integer"
        },
        {
         "name": "musical",
         "rawType": "int64",
         "type": "integer"
        },
        {
         "name": "mystery",
         "rawType": "int64",
         "type": "integer"
        },
        {
         "name": "romance",
         "rawType": "int64",
         "type": "integer"
        },
        {
         "name": "Sci-Fi",
         "rawType": "int64",
         "type": "integer"
        },
        {
         "name": "thriller",
         "rawType": "int64",
         "type": "integer"
        },
        {
         "name": "war",
         "rawType": "int64",
         "type": "integer"
        },
        {
         "name": "western",
         "rawType": "int64",
         "type": "integer"
        }
       ],
       "ref": "fe36c158-c1bd-4278-8ea4-64b69e9422ae",
       "rows": [
        [
         "1670",
         "1671",
         "Further Gesture, A (1996)",
         "20-Feb-1998",
         "0",
         "0",
         "0",
         "0",
         "0",
         "0",
         "0",
         "0",
         "1",
         "0",
         "0",
         "0",
         "0",
         "0",
         "0",
         "0",
         "0",
         "0",
         "0"
        ],
        [
         "1671",
         "1672",
         "Kika (1993)",
         "01-Jan-1993",
         "0",
         "0",
         "0",
         "0",
         "0",
         "0",
         "0",
         "0",
         "1",
         "0",
         "0",
         "0",
         "0",
         "0",
         "0",
         "0",
         "0",
         "0",
         "0"
        ],
        [
         "1672",
         "1673",
         "Mirage (1995)",
         "01-Jan-1995",
         "0",
         "1",
         "0",
         "0",
         "0",
         "0",
         "0",
         "0",
         "0",
         "0",
         "0",
         "0",
         "0",
         "0",
         "0",
         "0",
         "1",
         "0",
         "0"
        ],
        [
         "1673",
         "1674",
         "Mamma Roma (1962)",
         "01-Jan-1962",
         "0",
         "0",
         "0",
         "0",
         "0",
         "0",
         "0",
         "0",
         "1",
         "0",
         "0",
         "0",
         "0",
         "0",
         "0",
         "0",
         "0",
         "0",
         "0"
        ],
        [
         "1674",
         "1675",
         "Sunchaser, The (1996)",
         "25-Oct-1996",
         "0",
         "0",
         "0",
         "0",
         "0",
         "0",
         "0",
         "0",
         "1",
         "0",
         "0",
         "0",
         "0",
         "0",
         "0",
         "0",
         "0",
         "0",
         "0"
        ],
        [
         "1675",
         "1676",
         "War at Home, The (1996)",
         "01-Jan-1996",
         "0",
         "0",
         "0",
         "0",
         "0",
         "0",
         "0",
         "0",
         "1",
         "0",
         "0",
         "0",
         "0",
         "0",
         "0",
         "0",
         "0",
         "0",
         "0"
        ],
        [
         "1676",
         "1677",
         "Sweet Nothing (1995)",
         "20-Sep-1996",
         "0",
         "0",
         "0",
         "0",
         "0",
         "0",
         "0",
         "0",
         "1",
         "0",
         "0",
         "0",
         "0",
         "0",
         "0",
         "0",
         "0",
         "0",
         "0"
        ],
        [
         "1677",
         "1678",
         "Mat' i syn (1997)",
         "06-Feb-1998",
         "0",
         "0",
         "0",
         "0",
         "0",
         "0",
         "0",
         "0",
         "1",
         "0",
         "0",
         "0",
         "0",
         "0",
         "0",
         "0",
         "0",
         "0",
         "0"
        ],
        [
         "1678",
         "1679",
         "B. Monkey (1998)",
         "06-Feb-1998",
         "0",
         "0",
         "0",
         "0",
         "0",
         "0",
         "0",
         "0",
         "0",
         "0",
         "0",
         "0",
         "0",
         "0",
         "1",
         "0",
         "1",
         "0",
         "0"
        ],
        [
         "1679",
         "1680",
         "Sliding Doors (1998)",
         "01-Jan-1998",
         "0",
         "0",
         "0",
         "0",
         "0",
         "0",
         "0",
         "0",
         "1",
         "0",
         "0",
         "0",
         "0",
         "0",
         "1",
         "0",
         "0",
         "0",
         "0"
        ],
        [
         "1680",
         "1681",
         "You So Crazy (1994)",
         "01-Jan-1994",
         "0",
         "0",
         "0",
         "0",
         "0",
         "1",
         "0",
         "0",
         "0",
         "0",
         "0",
         "0",
         "0",
         "0",
         "0",
         "0",
         "0",
         "0",
         "0"
        ],
        [
         "1681",
         "1682",
         "Scream of Stone (Schrei aus Stein) (1991)",
         "08-Mar-1996",
         "0",
         "0",
         "0",
         "0",
         "0",
         "0",
         "0",
         "0",
         "1",
         "0",
         "0",
         "0",
         "0",
         "0",
         "0",
         "0",
         "0",
         "0",
         "0"
        ]
       ],
       "shape": {
        "columns": 22,
        "rows": 12
       }
      },
      "text/html": [
       "<div>\n",
       "<style scoped>\n",
       "    .dataframe tbody tr th:only-of-type {\n",
       "        vertical-align: middle;\n",
       "    }\n",
       "\n",
       "    .dataframe tbody tr th {\n",
       "        vertical-align: top;\n",
       "    }\n",
       "\n",
       "    .dataframe thead th {\n",
       "        text-align: right;\n",
       "    }\n",
       "</style>\n",
       "<table border=\"1\" class=\"dataframe\">\n",
       "  <thead>\n",
       "    <tr style=\"text-align: right;\">\n",
       "      <th></th>\n",
       "      <th>movie_id</th>\n",
       "      <th>movie title</th>\n",
       "      <th>release date</th>\n",
       "      <th>unknown</th>\n",
       "      <th>action</th>\n",
       "      <th>adventure</th>\n",
       "      <th>animation</th>\n",
       "      <th>children's</th>\n",
       "      <th>comedy</th>\n",
       "      <th>crime</th>\n",
       "      <th>...</th>\n",
       "      <th>fantasy</th>\n",
       "      <th>Film-Noir</th>\n",
       "      <th>horror</th>\n",
       "      <th>musical</th>\n",
       "      <th>mystery</th>\n",
       "      <th>romance</th>\n",
       "      <th>Sci-Fi</th>\n",
       "      <th>thriller</th>\n",
       "      <th>war</th>\n",
       "      <th>western</th>\n",
       "    </tr>\n",
       "  </thead>\n",
       "  <tbody>\n",
       "    <tr>\n",
       "      <th>1670</th>\n",
       "      <td>1671</td>\n",
       "      <td>Further Gesture, A (1996)</td>\n",
       "      <td>20-Feb-1998</td>\n",
       "      <td>0</td>\n",
       "      <td>0</td>\n",
       "      <td>0</td>\n",
       "      <td>0</td>\n",
       "      <td>0</td>\n",
       "      <td>0</td>\n",
       "      <td>0</td>\n",
       "      <td>...</td>\n",
       "      <td>0</td>\n",
       "      <td>0</td>\n",
       "      <td>0</td>\n",
       "      <td>0</td>\n",
       "      <td>0</td>\n",
       "      <td>0</td>\n",
       "      <td>0</td>\n",
       "      <td>0</td>\n",
       "      <td>0</td>\n",
       "      <td>0</td>\n",
       "    </tr>\n",
       "    <tr>\n",
       "      <th>1671</th>\n",
       "      <td>1672</td>\n",
       "      <td>Kika (1993)</td>\n",
       "      <td>01-Jan-1993</td>\n",
       "      <td>0</td>\n",
       "      <td>0</td>\n",
       "      <td>0</td>\n",
       "      <td>0</td>\n",
       "      <td>0</td>\n",
       "      <td>0</td>\n",
       "      <td>0</td>\n",
       "      <td>...</td>\n",
       "      <td>0</td>\n",
       "      <td>0</td>\n",
       "      <td>0</td>\n",
       "      <td>0</td>\n",
       "      <td>0</td>\n",
       "      <td>0</td>\n",
       "      <td>0</td>\n",
       "      <td>0</td>\n",
       "      <td>0</td>\n",
       "      <td>0</td>\n",
       "    </tr>\n",
       "    <tr>\n",
       "      <th>1672</th>\n",
       "      <td>1673</td>\n",
       "      <td>Mirage (1995)</td>\n",
       "      <td>01-Jan-1995</td>\n",
       "      <td>0</td>\n",
       "      <td>1</td>\n",
       "      <td>0</td>\n",
       "      <td>0</td>\n",
       "      <td>0</td>\n",
       "      <td>0</td>\n",
       "      <td>0</td>\n",
       "      <td>...</td>\n",
       "      <td>0</td>\n",
       "      <td>0</td>\n",
       "      <td>0</td>\n",
       "      <td>0</td>\n",
       "      <td>0</td>\n",
       "      <td>0</td>\n",
       "      <td>0</td>\n",
       "      <td>1</td>\n",
       "      <td>0</td>\n",
       "      <td>0</td>\n",
       "    </tr>\n",
       "    <tr>\n",
       "      <th>1673</th>\n",
       "      <td>1674</td>\n",
       "      <td>Mamma Roma (1962)</td>\n",
       "      <td>01-Jan-1962</td>\n",
       "      <td>0</td>\n",
       "      <td>0</td>\n",
       "      <td>0</td>\n",
       "      <td>0</td>\n",
       "      <td>0</td>\n",
       "      <td>0</td>\n",
       "      <td>0</td>\n",
       "      <td>...</td>\n",
       "      <td>0</td>\n",
       "      <td>0</td>\n",
       "      <td>0</td>\n",
       "      <td>0</td>\n",
       "      <td>0</td>\n",
       "      <td>0</td>\n",
       "      <td>0</td>\n",
       "      <td>0</td>\n",
       "      <td>0</td>\n",
       "      <td>0</td>\n",
       "    </tr>\n",
       "    <tr>\n",
       "      <th>1674</th>\n",
       "      <td>1675</td>\n",
       "      <td>Sunchaser, The (1996)</td>\n",
       "      <td>25-Oct-1996</td>\n",
       "      <td>0</td>\n",
       "      <td>0</td>\n",
       "      <td>0</td>\n",
       "      <td>0</td>\n",
       "      <td>0</td>\n",
       "      <td>0</td>\n",
       "      <td>0</td>\n",
       "      <td>...</td>\n",
       "      <td>0</td>\n",
       "      <td>0</td>\n",
       "      <td>0</td>\n",
       "      <td>0</td>\n",
       "      <td>0</td>\n",
       "      <td>0</td>\n",
       "      <td>0</td>\n",
       "      <td>0</td>\n",
       "      <td>0</td>\n",
       "      <td>0</td>\n",
       "    </tr>\n",
       "    <tr>\n",
       "      <th>1675</th>\n",
       "      <td>1676</td>\n",
       "      <td>War at Home, The (1996)</td>\n",
       "      <td>01-Jan-1996</td>\n",
       "      <td>0</td>\n",
       "      <td>0</td>\n",
       "      <td>0</td>\n",
       "      <td>0</td>\n",
       "      <td>0</td>\n",
       "      <td>0</td>\n",
       "      <td>0</td>\n",
       "      <td>...</td>\n",
       "      <td>0</td>\n",
       "      <td>0</td>\n",
       "      <td>0</td>\n",
       "      <td>0</td>\n",
       "      <td>0</td>\n",
       "      <td>0</td>\n",
       "      <td>0</td>\n",
       "      <td>0</td>\n",
       "      <td>0</td>\n",
       "      <td>0</td>\n",
       "    </tr>\n",
       "    <tr>\n",
       "      <th>1676</th>\n",
       "      <td>1677</td>\n",
       "      <td>Sweet Nothing (1995)</td>\n",
       "      <td>20-Sep-1996</td>\n",
       "      <td>0</td>\n",
       "      <td>0</td>\n",
       "      <td>0</td>\n",
       "      <td>0</td>\n",
       "      <td>0</td>\n",
       "      <td>0</td>\n",
       "      <td>0</td>\n",
       "      <td>...</td>\n",
       "      <td>0</td>\n",
       "      <td>0</td>\n",
       "      <td>0</td>\n",
       "      <td>0</td>\n",
       "      <td>0</td>\n",
       "      <td>0</td>\n",
       "      <td>0</td>\n",
       "      <td>0</td>\n",
       "      <td>0</td>\n",
       "      <td>0</td>\n",
       "    </tr>\n",
       "    <tr>\n",
       "      <th>1677</th>\n",
       "      <td>1678</td>\n",
       "      <td>Mat' i syn (1997)</td>\n",
       "      <td>06-Feb-1998</td>\n",
       "      <td>0</td>\n",
       "      <td>0</td>\n",
       "      <td>0</td>\n",
       "      <td>0</td>\n",
       "      <td>0</td>\n",
       "      <td>0</td>\n",
       "      <td>0</td>\n",
       "      <td>...</td>\n",
       "      <td>0</td>\n",
       "      <td>0</td>\n",
       "      <td>0</td>\n",
       "      <td>0</td>\n",
       "      <td>0</td>\n",
       "      <td>0</td>\n",
       "      <td>0</td>\n",
       "      <td>0</td>\n",
       "      <td>0</td>\n",
       "      <td>0</td>\n",
       "    </tr>\n",
       "    <tr>\n",
       "      <th>1678</th>\n",
       "      <td>1679</td>\n",
       "      <td>B. Monkey (1998)</td>\n",
       "      <td>06-Feb-1998</td>\n",
       "      <td>0</td>\n",
       "      <td>0</td>\n",
       "      <td>0</td>\n",
       "      <td>0</td>\n",
       "      <td>0</td>\n",
       "      <td>0</td>\n",
       "      <td>0</td>\n",
       "      <td>...</td>\n",
       "      <td>0</td>\n",
       "      <td>0</td>\n",
       "      <td>0</td>\n",
       "      <td>0</td>\n",
       "      <td>0</td>\n",
       "      <td>1</td>\n",
       "      <td>0</td>\n",
       "      <td>1</td>\n",
       "      <td>0</td>\n",
       "      <td>0</td>\n",
       "    </tr>\n",
       "    <tr>\n",
       "      <th>1679</th>\n",
       "      <td>1680</td>\n",
       "      <td>Sliding Doors (1998)</td>\n",
       "      <td>01-Jan-1998</td>\n",
       "      <td>0</td>\n",
       "      <td>0</td>\n",
       "      <td>0</td>\n",
       "      <td>0</td>\n",
       "      <td>0</td>\n",
       "      <td>0</td>\n",
       "      <td>0</td>\n",
       "      <td>...</td>\n",
       "      <td>0</td>\n",
       "      <td>0</td>\n",
       "      <td>0</td>\n",
       "      <td>0</td>\n",
       "      <td>0</td>\n",
       "      <td>1</td>\n",
       "      <td>0</td>\n",
       "      <td>0</td>\n",
       "      <td>0</td>\n",
       "      <td>0</td>\n",
       "    </tr>\n",
       "    <tr>\n",
       "      <th>1680</th>\n",
       "      <td>1681</td>\n",
       "      <td>You So Crazy (1994)</td>\n",
       "      <td>01-Jan-1994</td>\n",
       "      <td>0</td>\n",
       "      <td>0</td>\n",
       "      <td>0</td>\n",
       "      <td>0</td>\n",
       "      <td>0</td>\n",
       "      <td>1</td>\n",
       "      <td>0</td>\n",
       "      <td>...</td>\n",
       "      <td>0</td>\n",
       "      <td>0</td>\n",
       "      <td>0</td>\n",
       "      <td>0</td>\n",
       "      <td>0</td>\n",
       "      <td>0</td>\n",
       "      <td>0</td>\n",
       "      <td>0</td>\n",
       "      <td>0</td>\n",
       "      <td>0</td>\n",
       "    </tr>\n",
       "    <tr>\n",
       "      <th>1681</th>\n",
       "      <td>1682</td>\n",
       "      <td>Scream of Stone (Schrei aus Stein) (1991)</td>\n",
       "      <td>08-Mar-1996</td>\n",
       "      <td>0</td>\n",
       "      <td>0</td>\n",
       "      <td>0</td>\n",
       "      <td>0</td>\n",
       "      <td>0</td>\n",
       "      <td>0</td>\n",
       "      <td>0</td>\n",
       "      <td>...</td>\n",
       "      <td>0</td>\n",
       "      <td>0</td>\n",
       "      <td>0</td>\n",
       "      <td>0</td>\n",
       "      <td>0</td>\n",
       "      <td>0</td>\n",
       "      <td>0</td>\n",
       "      <td>0</td>\n",
       "      <td>0</td>\n",
       "      <td>0</td>\n",
       "    </tr>\n",
       "  </tbody>\n",
       "</table>\n",
       "<p>12 rows × 22 columns</p>\n",
       "</div>"
      ],
      "text/plain": [
       "      movie_id                                movie title release date  \\\n",
       "1670      1671                  Further Gesture, A (1996)  20-Feb-1998   \n",
       "1671      1672                                Kika (1993)  01-Jan-1993   \n",
       "1672      1673                              Mirage (1995)  01-Jan-1995   \n",
       "1673      1674                          Mamma Roma (1962)  01-Jan-1962   \n",
       "1674      1675                      Sunchaser, The (1996)  25-Oct-1996   \n",
       "1675      1676                    War at Home, The (1996)  01-Jan-1996   \n",
       "1676      1677                       Sweet Nothing (1995)  20-Sep-1996   \n",
       "1677      1678                          Mat' i syn (1997)  06-Feb-1998   \n",
       "1678      1679                           B. Monkey (1998)  06-Feb-1998   \n",
       "1679      1680                       Sliding Doors (1998)  01-Jan-1998   \n",
       "1680      1681                        You So Crazy (1994)  01-Jan-1994   \n",
       "1681      1682  Scream of Stone (Schrei aus Stein) (1991)  08-Mar-1996   \n",
       "\n",
       "      unknown  action  adventure  animation  children's  comedy  crime  ...  \\\n",
       "1670        0       0          0          0           0       0      0  ...   \n",
       "1671        0       0          0          0           0       0      0  ...   \n",
       "1672        0       1          0          0           0       0      0  ...   \n",
       "1673        0       0          0          0           0       0      0  ...   \n",
       "1674        0       0          0          0           0       0      0  ...   \n",
       "1675        0       0          0          0           0       0      0  ...   \n",
       "1676        0       0          0          0           0       0      0  ...   \n",
       "1677        0       0          0          0           0       0      0  ...   \n",
       "1678        0       0          0          0           0       0      0  ...   \n",
       "1679        0       0          0          0           0       0      0  ...   \n",
       "1680        0       0          0          0           0       1      0  ...   \n",
       "1681        0       0          0          0           0       0      0  ...   \n",
       "\n",
       "      fantasy  Film-Noir  horror  musical  mystery  romance  Sci-Fi  thriller  \\\n",
       "1670        0          0       0        0        0        0       0         0   \n",
       "1671        0          0       0        0        0        0       0         0   \n",
       "1672        0          0       0        0        0        0       0         1   \n",
       "1673        0          0       0        0        0        0       0         0   \n",
       "1674        0          0       0        0        0        0       0         0   \n",
       "1675        0          0       0        0        0        0       0         0   \n",
       "1676        0          0       0        0        0        0       0         0   \n",
       "1677        0          0       0        0        0        0       0         0   \n",
       "1678        0          0       0        0        0        1       0         1   \n",
       "1679        0          0       0        0        0        1       0         0   \n",
       "1680        0          0       0        0        0        0       0         0   \n",
       "1681        0          0       0        0        0        0       0         0   \n",
       "\n",
       "      war  western  \n",
       "1670    0        0  \n",
       "1671    0        0  \n",
       "1672    0        0  \n",
       "1673    0        0  \n",
       "1674    0        0  \n",
       "1675    0        0  \n",
       "1676    0        0  \n",
       "1677    0        0  \n",
       "1678    0        0  \n",
       "1679    0        0  \n",
       "1680    0        0  \n",
       "1681    0        0  \n",
       "\n",
       "[12 rows x 22 columns]"
      ]
     },
     "execution_count": 10,
     "metadata": {},
     "output_type": "execute_result"
    }
   ],
   "source": [
    "movies.tail(12)"
   ]
  },
  {
   "cell_type": "markdown",
   "id": "28161f78",
   "metadata": {},
   "source": [
    "Improve on the function to make sure it doesn't return the movie title parsed into it."
   ]
  },
  {
   "cell_type": "code",
   "execution_count": 11,
   "id": "3130c798",
   "metadata": {},
   "outputs": [
    {
     "data": {
      "application/vnd.microsoft.datawrangler.viewer.v0+json": {
       "columns": [
        {
         "name": "index",
         "rawType": "int64",
         "type": "integer"
        },
        {
         "name": "movie title",
         "rawType": "object",
         "type": "string"
        }
       ],
       "ref": "aea7a688-7a12-4287-84fe-426d672350f2",
       "rows": [
        [
         "8",
         "Dead Man Walking (1995)"
        ],
        [
         "14",
         "Mr. Holland's Opus (1995)"
        ],
        [
         "17",
         "White Balloon, The (1995)"
        ],
        [
         "18",
         "Antonia's Line (1995)"
        ],
        [
         "29",
         "Belle de jour (1967)"
        ]
       ],
       "shape": {
        "columns": 1,
        "rows": 5
       }
      },
      "text/plain": [
       "8       Dead Man Walking (1995)\n",
       "14    Mr. Holland's Opus (1995)\n",
       "17    White Balloon, The (1995)\n",
       "18        Antonia's Line (1995)\n",
       "29         Belle de jour (1967)\n",
       "Name: movie title, dtype: object"
      ]
     },
     "execution_count": 11,
     "metadata": {},
     "output_type": "execute_result"
    }
   ],
   "source": [
    "def improved_movie_recommendation(movie_title, n=5):\n",
    "    movie_index = movies[movies['movie title'] == movie_title].index[0]\n",
    "\n",
    "    scores = list(enumerate(cosine_matrix[movie_index]))\n",
    "\n",
    "    sorted_scores = sorted(scores, key=lambda x: x[1], reverse=True)\n",
    "\n",
    "    #make a list without the parsed in movie_title using the movie_id\n",
    "    return_scores = []\n",
    "    for score in sorted_scores:\n",
    "        index = score[0]\n",
    "        if index != movie_index:\n",
    "            return_scores.append(score)\n",
    "    #to break out of this loop\n",
    "        if len(return_scores) == n:\n",
    "            break\n",
    "\n",
    "    movie_indices = [i[0] for i in return_scores]\n",
    "\n",
    "    return movies['movie title'].iloc[movie_indices]\n",
    "\n",
    "\n",
    "movie_recommendation('Dead Man Walking (1995)')"
   ]
  },
  {
   "cell_type": "code",
   "execution_count": 12,
   "id": "a62849f8",
   "metadata": {},
   "outputs": [
    {
     "data": {
      "application/vnd.microsoft.datawrangler.viewer.v0+json": {
       "columns": [
        {
         "name": "index",
         "rawType": "int64",
         "type": "integer"
        },
        {
         "name": "movie title",
         "rawType": "object",
         "type": "string"
        }
       ],
       "ref": "e193e2a0-33f7-4c93-908c-30d77852d365",
       "rows": [
        [
         "5",
         "Shanghai Triad (Yao a yao yao dao waipo qiao) (1995)"
        ],
        [
         "14",
         "Mr. Holland's Opus (1995)"
        ],
        [
         "17",
         "White Balloon, The (1995)"
        ],
        [
         "18",
         "Antonia's Line (1995)"
        ],
        [
         "29",
         "Belle de jour (1967)"
        ]
       ],
       "shape": {
        "columns": 1,
        "rows": 5
       }
      },
      "text/plain": [
       "5     Shanghai Triad (Yao a yao yao dao waipo qiao) ...\n",
       "14                            Mr. Holland's Opus (1995)\n",
       "17                            White Balloon, The (1995)\n",
       "18                                Antonia's Line (1995)\n",
       "29                                 Belle de jour (1967)\n",
       "Name: movie title, dtype: object"
      ]
     },
     "execution_count": 12,
     "metadata": {},
     "output_type": "execute_result"
    }
   ],
   "source": [
    "# movie_recommendation('B. Monkey (1998)')\n",
    "improved_movie_recommendation('Dead Man Walking (1995)')"
   ]
  },
  {
   "cell_type": "code",
   "execution_count": 13,
   "id": "18cd2eb3",
   "metadata": {},
   "outputs": [
    {
     "data": {
      "application/vnd.microsoft.datawrangler.viewer.v0+json": {
       "columns": [
        {
         "name": "index",
         "rawType": "int64",
         "type": "integer"
        },
        {
         "name": "movie title",
         "rawType": "object",
         "type": "string"
        }
       ],
       "ref": "7f202269-ecbf-418b-99d8-4a21468990fb",
       "rows": [
        [
         "606",
         "Rebecca (1940)"
        ],
        [
         "885",
         "Life Less Ordinary, A (1997)"
        ],
        [
         "32",
         "Desperado (1995)"
        ],
        [
         "67",
         "Crow, The (1994)"
        ],
        [
         "89",
         "So I Married an Axe Murderer (1993)"
        ]
       ],
       "shape": {
        "columns": 1,
        "rows": 5
       }
      },
      "text/plain": [
       "606                         Rebecca (1940)\n",
       "885           Life Less Ordinary, A (1997)\n",
       "32                        Desperado (1995)\n",
       "67                        Crow, The (1994)\n",
       "89     So I Married an Axe Murderer (1993)\n",
       "Name: movie title, dtype: object"
      ]
     },
     "execution_count": 13,
     "metadata": {},
     "output_type": "execute_result"
    }
   ],
   "source": [
    "improved_movie_recommendation('B. Monkey (1998)')"
   ]
  },
  {
   "cell_type": "code",
   "execution_count": 14,
   "id": "684d495b",
   "metadata": {},
   "outputs": [
    {
     "data": {
      "application/vnd.microsoft.datawrangler.viewer.v0+json": {
       "columns": [
        {
         "name": "index",
         "rawType": "int64",
         "type": "integer"
        },
        {
         "name": "movie title",
         "rawType": "object",
         "type": "string"
        }
       ],
       "ref": "29d2569e-acca-4932-af5e-e485cf3812df",
       "rows": [
        [
         "5",
         "Shanghai Triad (Yao a yao yao dao waipo qiao) (1995)"
        ],
        [
         "14",
         "Mr. Holland's Opus (1995)"
        ],
        [
         "17",
         "White Balloon, The (1995)"
        ],
        [
         "18",
         "Antonia's Line (1995)"
        ],
        [
         "29",
         "Belle de jour (1967)"
        ]
       ],
       "shape": {
        "columns": 1,
        "rows": 5
       }
      },
      "text/plain": [
       "5     Shanghai Triad (Yao a yao yao dao waipo qiao) ...\n",
       "14                            Mr. Holland's Opus (1995)\n",
       "17                            White Balloon, The (1995)\n",
       "18                                Antonia's Line (1995)\n",
       "29                                 Belle de jour (1967)\n",
       "Name: movie title, dtype: object"
      ]
     },
     "execution_count": 14,
     "metadata": {},
     "output_type": "execute_result"
    }
   ],
   "source": [
    "improved_movie_recommendation('Dead Man Walking (1995)')\n"
   ]
  },
  {
   "cell_type": "code",
   "execution_count": 15,
   "id": "da5a3e85",
   "metadata": {},
   "outputs": [
    {
     "data": {
      "application/vnd.microsoft.datawrangler.viewer.v0+json": {
       "columns": [
        {
         "name": "index",
         "rawType": "int64",
         "type": "integer"
        },
        {
         "name": "movie title",
         "rawType": "object",
         "type": "string"
        }
       ],
       "ref": "a23c44a5-7871-4275-96af-f4f8f4b87d1c",
       "rows": [
        [
         "8",
         "Dead Man Walking (1995)"
        ],
        [
         "14",
         "Mr. Holland's Opus (1995)"
        ],
        [
         "17",
         "White Balloon, The (1995)"
        ],
        [
         "18",
         "Antonia's Line (1995)"
        ],
        [
         "29",
         "Belle de jour (1967)"
        ]
       ],
       "shape": {
        "columns": 1,
        "rows": 5
       }
      },
      "text/plain": [
       "8       Dead Man Walking (1995)\n",
       "14    Mr. Holland's Opus (1995)\n",
       "17    White Balloon, The (1995)\n",
       "18        Antonia's Line (1995)\n",
       "29         Belle de jour (1967)\n",
       "Name: movie title, dtype: object"
      ]
     },
     "execution_count": 15,
     "metadata": {},
     "output_type": "execute_result"
    }
   ],
   "source": [
    "movie_recommendation('Dead Man Walking (1995)')\n"
   ]
  },
  {
   "cell_type": "markdown",
   "id": "b0dda28a",
   "metadata": {},
   "source": [
    "### Collaborative Filtering\n",
    "We have seen an example of content-based filtering, now as you might have guessed its not a reliable system, just because two items are similar doesn't mean that the user will like it. \n",
    "\n",
    "So comes in collaborative filtering where we'll be looking at user preferences and recommending based on that. \n",
    "\n",
    "Collaborative Filtering (CF) is currently the most widely used approach to build recommendation systems and uses the users’ behavior in the form of user-item ratings for predictions."
   ]
  },
  {
   "cell_type": "code",
   "execution_count": 16,
   "id": "cf5ebe8d",
   "metadata": {},
   "outputs": [
    {
     "data": {
      "text/plain": [
       "' \\n          Sleepy Hollow  |      Dead-Pool     |     Madagascar |        Dodge \\nJacob           5                   3                   0                  2\\nMartha          4                   0                   0                  1\\nTony            1                   1                   0                  5\\n'"
      ]
     },
     "execution_count": 16,
     "metadata": {},
     "output_type": "execute_result"
    }
   ],
   "source": [
    "\"\"\" \n",
    "          Sleepy Hollow  |      Dead-Pool     |     Madagascar |        Dodge \n",
    "Jacob           5                   3                   0                  2\n",
    "Martha          4                   0                   0                  1\n",
    "Tony            1                   1                   0                  5\n",
    "\"\"\"\n",
    "\n",
    "\n",
    "# [5, 3, 0, 2],\n",
    "# [4, 0, 0, 1],\n",
    "# [1, 1, 0, 5]\n"
   ]
  },
  {
   "cell_type": "markdown",
   "id": "cd5fb6f3",
   "metadata": {},
   "source": [
    "SVD breaksdown this matrix into three parts:\n",
    "- `U` -  users' relationship to the hidden pattern/latent factors/hidden features.\n",
    "- `S` - this one contains the weight/strengh of each dimension.\n",
    "- `V^t` - captures how each item maps to these same dimensions.\n",
    "\n",
    "rating_matrix = U * S * V^t   ### SVD\n",
    "\n"
   ]
  },
  {
   "cell_type": "code",
   "execution_count": 17,
   "id": "38ce64f5",
   "metadata": {},
   "outputs": [],
   "source": [
    "import numpy as np\n",
    "from numpy.linalg import svd\n",
    "\n",
    "\n",
    "ratings = np.array([\n",
    "    [5, 3, 0, 2],\n",
    "    [4, 0, 0, 1],\n",
    "    [1, 1, 0, 5]\n",
    "])\n",
    "\n",
    "\n",
    "u, s, vt = svd(ratings)\n",
    "\n",
    "\n",
    "# s = np.pad(s, ((0, 0), (0, 1)), mode='constant')\n",
    "\n",
    "# np.dot(u, np.dot(s, vt))"
   ]
  },
  {
   "cell_type": "code",
   "execution_count": 18,
   "id": "08d5f4eb",
   "metadata": {},
   "outputs": [
    {
     "data": {
      "text/plain": [
       "(3, 4)"
      ]
     },
     "execution_count": 18,
     "metadata": {},
     "output_type": "execute_result"
    }
   ],
   "source": [
    "ratings.shape"
   ]
  },
  {
   "cell_type": "code",
   "execution_count": 19,
   "id": "f98dad5c",
   "metadata": {},
   "outputs": [
    {
     "data": {
      "text/plain": [
       "(3,)"
      ]
     },
     "execution_count": 19,
     "metadata": {},
     "output_type": "execute_result"
    }
   ],
   "source": [
    "s.shape"
   ]
  },
  {
   "cell_type": "code",
   "execution_count": 20,
   "id": "57fe5209",
   "metadata": {},
   "outputs": [
    {
     "data": {
      "text/plain": [
       "(4, 4)"
      ]
     },
     "execution_count": 20,
     "metadata": {},
     "output_type": "execute_result"
    }
   ],
   "source": [
    "vt.shape"
   ]
  },
  {
   "cell_type": "code",
   "execution_count": 21,
   "id": "f6189d94",
   "metadata": {},
   "outputs": [
    {
     "data": {
      "text/plain": [
       "array([[7.93906308, 0.        , 0.        ],\n",
       "       [0.        , 4.01213138, 0.        ],\n",
       "       [0.        , 0.        , 1.69531093]])"
      ]
     },
     "execution_count": 21,
     "metadata": {},
     "output_type": "execute_result"
    }
   ],
   "source": [
    "s = np.diag(s)\n",
    "s"
   ]
  },
  {
   "cell_type": "code",
   "execution_count": 22,
   "id": "119701e1",
   "metadata": {},
   "outputs": [
    {
     "name": "stdout",
     "output_type": "stream",
     "text": [
      "<class 'pandas.core.frame.DataFrame'>\n",
      "RangeIndex: 100000 entries, 0 to 99999\n",
      "Data columns (total 4 columns):\n",
      " #   Column      Non-Null Count   Dtype\n",
      "---  ------      --------------   -----\n",
      " 0   user_id     100000 non-null  int64\n",
      " 1   movie_id    100000 non-null  int64\n",
      " 2   ratings     100000 non-null  int64\n",
      " 3   timestampt  100000 non-null  int64\n",
      "dtypes: int64(4)\n",
      "memory usage: 3.1 MB\n"
     ]
    }
   ],
   "source": [
    "movie_ratings = pd.read_csv('./data/mlk/u.data', sep=\"\\t\", names=['user_id', 'movie_id', 'ratings', 'timestampt'])\n",
    "\n",
    "movie_ratings_copy = movie_ratings.copy()\n",
    "movie_ratings.info()"
   ]
  },
  {
   "cell_type": "code",
   "execution_count": 23,
   "id": "a420b787",
   "metadata": {},
   "outputs": [
    {
     "data": {
      "text/plain": [
       "array([3, 1, 2, 4, 5], dtype=int64)"
      ]
     },
     "execution_count": 23,
     "metadata": {},
     "output_type": "execute_result"
    }
   ],
   "source": [
    "movie_ratings['ratings'].unique()"
   ]
  },
  {
   "cell_type": "code",
   "execution_count": 24,
   "id": "fa90be12",
   "metadata": {},
   "outputs": [],
   "source": [
    "# !pip install scikit-surprise\n",
    "from surprise import SVD, Dataset, accuracy, Reader\n",
    "from surprise.model_selection import train_test_split\n",
    "\n",
    "\n",
    "#get ratings to surprise format\n",
    "reader = Reader(rating_scale=(1, 5))\n",
    "\n",
    "#load the data into surprise format\n",
    "data = Dataset.load_from_df(movie_ratings[['user_id', 'movie_id', 'ratings']], reader)\n"
   ]
  },
  {
   "cell_type": "code",
   "execution_count": 25,
   "id": "38ab2063",
   "metadata": {},
   "outputs": [],
   "source": [
    "#split data\n",
    "train_set, test_set = train_test_split(data, test_size=0.3, random_state=21)\n",
    "\n",
    "#initiate model\n",
    "svd_model = SVD()\n"
   ]
  },
  {
   "cell_type": "code",
   "execution_count": 26,
   "id": "8033b3c4",
   "metadata": {},
   "outputs": [
    {
     "name": "stdout",
     "output_type": "stream",
     "text": [
      "RMSE: 0.9435\n",
      "MAE:  0.7435\n"
     ]
    }
   ],
   "source": [
    "#modelling \n",
    "svd_model.fit(train_set)\n",
    "\n",
    "#prediction and evaluation\n",
    "svd_ratings = svd_model.test(test_set)\n",
    "\n",
    "#rmse & mae\n",
    "rsme = accuracy.rmse(svd_ratings)\n",
    "mae = accuracy.mae(svd_ratings)"
   ]
  },
  {
   "cell_type": "markdown",
   "id": "932af5cc",
   "metadata": {},
   "source": [
    "### ALS\n",
    "Alternating Least Squares works well with binary formats.\n",
    "\n",
    "rating_matrix = U * J^t   ###  ALS"
   ]
  },
  {
   "cell_type": "code",
   "execution_count": 27,
   "id": "960b40de",
   "metadata": {},
   "outputs": [
    {
     "name": "stdout",
     "output_type": "stream",
     "text": [
      "<class 'pandas.core.frame.DataFrame'>\n",
      "Index: 80000 entries, 80618 to 67324\n",
      "Data columns (total 4 columns):\n",
      " #   Column      Non-Null Count  Dtype\n",
      "---  ------      --------------  -----\n",
      " 0   user_id     80000 non-null  int16\n",
      " 1   movie_id    80000 non-null  int16\n",
      " 2   ratings     80000 non-null  int32\n",
      " 3   timestampt  80000 non-null  int64\n",
      "dtypes: int16(2), int32(1), int64(1)\n",
      "memory usage: 1.8 MB\n"
     ]
    },
    {
     "name": "stderr",
     "output_type": "stream",
     "text": [
      "c:\\Users\\marwa\\miniconda3\\envs\\xBase\\Lib\\site-packages\\tqdm\\auto.py:21: TqdmWarning: IProgress not found. Please update jupyter and ipywidgets. See https://ipywidgets.readthedocs.io/en/stable/user_install.html\n",
      "  from .autonotebook import tqdm as notebook_tqdm\n"
     ]
    }
   ],
   "source": [
    "# !pip install implicit\n",
    "import implicit\n",
    "from sklearn.model_selection import train_test_split\n",
    "# from surprise.model_selection import train_test_split\n",
    "\n",
    "# specify a rating\n",
    "movie_ratings['ratings'] = (movie_ratings['ratings'] >= 3).astype(int)\n",
    "\n",
    "movie_ratings['user_id'] = movie_ratings['user_id'].astype('category').cat.codes\n",
    "\n",
    "movie_ratings['movie_id'] = movie_ratings['movie_id'].astype('category').cat.codes\n",
    "\n",
    "#split dataset and make sure that all user are represented in both sets\n",
    "train_set_als, test_set_als = train_test_split(movie_ratings, test_size=0.2, random_state=42, stratify=movie_ratings['user_id'])\n",
    "\n",
    "\n",
    "train_set_als.info()"
   ]
  },
  {
   "cell_type": "code",
   "execution_count": 28,
   "id": "cdfbb17d",
   "metadata": {},
   "outputs": [],
   "source": [
    "users = movie_ratings['user_id'].nunique()\n",
    "movies = movie_ratings['movie_id'].nunique()"
   ]
  },
  {
   "cell_type": "code",
   "execution_count": 29,
   "id": "28a0ac7a",
   "metadata": {},
   "outputs": [],
   "source": [
    "#create a sparse matrix for both train and test\n",
    "from scipy.sparse import csr_matrix\n",
    "\n",
    "train_sparse = csr_matrix((train_set_als['ratings'], (train_set_als['user_id'], train_set_als['movie_id'])), shape=(users, movies))\n",
    "test_sparse = csr_matrix((test_set_als['ratings'], (test_set_als['user_id'], test_set_als['movie_id'])), shape=(users, movies))"
   ]
  },
  {
   "cell_type": "code",
   "execution_count": 30,
   "id": "1ce45ec9",
   "metadata": {},
   "outputs": [
    {
     "name": "stderr",
     "output_type": "stream",
     "text": [
      "c:\\Users\\marwa\\miniconda3\\envs\\xBase\\Lib\\site-packages\\implicit\\cpu\\als.py:95: RuntimeWarning: Intel MKL BLAS is configured to use 4 threads. It is highly recommended to disable its internal threadpool by setting the environment variable 'MKL_NUM_THREADS=1' or by callng 'threadpoolctl.threadpool_limits(1, \"blas\")'. Having MKL use a threadpool can lead to severe performance issues\n",
      "  check_blas_config()\n",
      "100%|██████████| 15/15 [00:00<00:00, 56.73it/s]\n"
     ]
    }
   ],
   "source": [
    "model = implicit.als.AlternatingLeastSquares(random_state=42)\n",
    "\n",
    "model.fit(train_sparse)"
   ]
  },
  {
   "cell_type": "code",
   "execution_count": 31,
   "id": "93b3b8c6",
   "metadata": {},
   "outputs": [
    {
     "name": "stderr",
     "output_type": "stream",
     "text": [
      "100%|██████████| 15/15 [00:00<00:00, 46.78it/s]\n"
     ]
    }
   ],
   "source": [
    "from implicit.als import AlternatingLeastSquares\n",
    "\n",
    "model = AlternatingLeastSquares(random_state=42)\n",
    "\n",
    "model.fit(train_sparse)"
   ]
  },
  {
   "cell_type": "code",
   "execution_count": null,
   "id": "cb5a123a",
   "metadata": {},
   "outputs": [
    {
     "data": {
      "text/plain": [
       "(array([750, 280, 247, 116, 284]),\n",
       " array([0.5000793 , 0.4959383 , 0.45313233, 0.4440935 , 0.44021663],\n",
       "       dtype=float32))"
      ]
     },
     "execution_count": 32,
     "metadata": {},
     "output_type": "execute_result"
    }
   ],
   "source": [
    "\n",
    "values = []\n",
    "predicted_ratings = []\n",
    "\n",
    "for user, item, pred_rating in zip(test_set_als['user_id'], test_set_als['movie_id'], test_set_als['ratings']):\n",
    "    if user < model.user_factors.shape[0] and item < model.item_factors.shape[0]:\n",
    "        user_v = model.user_factors[user]\n",
    "        item_v = model.item_factors[item]\n",
    "\n",
    "        \n",
    "        values.append(np.dot(user_v, item_v))\n",
    "        predicted_ratings.append(pred_rating)\n",
    "\n",
    "    else:\n",
    "        pass\n",
    "\n",
    "\n",
    "###create a logic to get movie names\n",
    "\n",
    "\n",
    "\n",
    "model.recommend(25, train_sparse[25], 5)"
   ]
  },
  {
   "cell_type": "code",
   "execution_count": null,
   "id": "f181be00",
   "metadata": {},
   "outputs": [],
   "source": [
    "##------------------------------------------------###"
   ]
  },
  {
   "cell_type": "markdown",
   "id": "30811e5a",
   "metadata": {},
   "source": [
    "## Clustering\n",
    "Clustering is an unsupervised learning technique where the goal is to group data points into groups(clusters), based on some similarity measure(eg. distance(euclidean distance)) while keeping the groups as different as possible.\n",
    "\n",
    "#### 1. K-means Clustering\n",
    "\n",
    "\n",
    "\n",
    "#### 2. Hierarchical Clustering"
   ]
  },
  {
   "cell_type": "code",
   "execution_count": null,
   "id": "27ad71f5",
   "metadata": {},
   "outputs": [],
   "source": [
    "\"\"\" \n",
    "6 A\n",
    "6 O\n",
    "6 P\n",
    "6 M     \n",
    "\n",
    "4 fruits\n",
    "\n",
    "FRUITS AND WEIGHTS\n",
    "\n",
    "Weights to calculate the distance:\n",
    "\n",
    "cluster 1       | cluster 2         | cluster 3          | cluster 4\n",
    "    A                   A                   A                   A\n",
    "    a\n",
    "    a\n",
    "\n",
    "\"\"\""
   ]
  },
  {
   "cell_type": "code",
   "execution_count": 34,
   "id": "ec76d624",
   "metadata": {},
   "outputs": [
    {
     "name": "stdout",
     "output_type": "stream",
     "text": [
      "<class 'pandas.core.frame.DataFrame'>\n",
      "RangeIndex: 100000 entries, 0 to 99999\n",
      "Data columns (total 4 columns):\n",
      " #   Column      Non-Null Count   Dtype\n",
      "---  ------      --------------   -----\n",
      " 0   user_id     100000 non-null  int16\n",
      " 1   movie_id    100000 non-null  int16\n",
      " 2   ratings     100000 non-null  int32\n",
      " 3   timestampt  100000 non-null  int64\n",
      "dtypes: int16(2), int32(1), int64(1)\n",
      "memory usage: 1.5 MB\n"
     ]
    }
   ],
   "source": [
    "movie_ratings.info()"
   ]
  },
  {
   "cell_type": "code",
   "execution_count": 57,
   "id": "7a12926d",
   "metadata": {},
   "outputs": [
    {
     "data": {
      "application/vnd.microsoft.datawrangler.viewer.v0+json": {
       "columns": [
        {
         "name": "user_id",
         "rawType": "int16",
         "type": "integer"
        },
        {
         "name": "0",
         "rawType": "float64",
         "type": "float"
        },
        {
         "name": "1",
         "rawType": "float64",
         "type": "float"
        },
        {
         "name": "2",
         "rawType": "float64",
         "type": "float"
        },
        {
         "name": "3",
         "rawType": "float64",
         "type": "float"
        },
        {
         "name": "4",
         "rawType": "float64",
         "type": "float"
        },
        {
         "name": "5",
         "rawType": "float64",
         "type": "float"
        },
        {
         "name": "6",
         "rawType": "float64",
         "type": "float"
        },
        {
         "name": "7",
         "rawType": "float64",
         "type": "float"
        },
        {
         "name": "8",
         "rawType": "float64",
         "type": "float"
        },
        {
         "name": "9",
         "rawType": "float64",
         "type": "float"
        },
        {
         "name": "10",
         "rawType": "float64",
         "type": "float"
        },
        {
         "name": "11",
         "rawType": "float64",
         "type": "float"
        },
        {
         "name": "12",
         "rawType": "float64",
         "type": "float"
        },
        {
         "name": "13",
         "rawType": "float64",
         "type": "float"
        },
        {
         "name": "14",
         "rawType": "float64",
         "type": "float"
        },
        {
         "name": "15",
         "rawType": "float64",
         "type": "float"
        },
        {
         "name": "16",
         "rawType": "float64",
         "type": "float"
        },
        {
         "name": "17",
         "rawType": "float64",
         "type": "float"
        },
        {
         "name": "18",
         "rawType": "float64",
         "type": "float"
        },
        {
         "name": "19",
         "rawType": "float64",
         "type": "float"
        },
        {
         "name": "20",
         "rawType": "float64",
         "type": "float"
        },
        {
         "name": "21",
         "rawType": "float64",
         "type": "float"
        },
        {
         "name": "22",
         "rawType": "float64",
         "type": "float"
        },
        {
         "name": "23",
         "rawType": "float64",
         "type": "float"
        },
        {
         "name": "24",
         "rawType": "float64",
         "type": "float"
        },
        {
         "name": "25",
         "rawType": "float64",
         "type": "float"
        },
        {
         "name": "26",
         "rawType": "float64",
         "type": "float"
        },
        {
         "name": "27",
         "rawType": "float64",
         "type": "float"
        },
        {
         "name": "28",
         "rawType": "float64",
         "type": "float"
        },
        {
         "name": "29",
         "rawType": "float64",
         "type": "float"
        },
        {
         "name": "30",
         "rawType": "float64",
         "type": "float"
        },
        {
         "name": "31",
         "rawType": "float64",
         "type": "float"
        },
        {
         "name": "32",
         "rawType": "float64",
         "type": "float"
        },
        {
         "name": "33",
         "rawType": "float64",
         "type": "float"
        },
        {
         "name": "34",
         "rawType": "float64",
         "type": "float"
        },
        {
         "name": "35",
         "rawType": "float64",
         "type": "float"
        },
        {
         "name": "36",
         "rawType": "float64",
         "type": "float"
        },
        {
         "name": "37",
         "rawType": "float64",
         "type": "float"
        },
        {
         "name": "38",
         "rawType": "float64",
         "type": "float"
        },
        {
         "name": "39",
         "rawType": "float64",
         "type": "float"
        },
        {
         "name": "40",
         "rawType": "float64",
         "type": "float"
        },
        {
         "name": "41",
         "rawType": "float64",
         "type": "float"
        },
        {
         "name": "42",
         "rawType": "float64",
         "type": "float"
        },
        {
         "name": "43",
         "rawType": "float64",
         "type": "float"
        },
        {
         "name": "44",
         "rawType": "float64",
         "type": "float"
        },
        {
         "name": "45",
         "rawType": "float64",
         "type": "float"
        },
        {
         "name": "46",
         "rawType": "float64",
         "type": "float"
        },
        {
         "name": "47",
         "rawType": "float64",
         "type": "float"
        },
        {
         "name": "48",
         "rawType": "float64",
         "type": "float"
        },
        {
         "name": "49",
         "rawType": "float64",
         "type": "float"
        },
        {
         "name": "50",
         "rawType": "float64",
         "type": "float"
        },
        {
         "name": "51",
         "rawType": "float64",
         "type": "float"
        },
        {
         "name": "52",
         "rawType": "float64",
         "type": "float"
        },
        {
         "name": "53",
         "rawType": "float64",
         "type": "float"
        },
        {
         "name": "54",
         "rawType": "float64",
         "type": "float"
        },
        {
         "name": "55",
         "rawType": "float64",
         "type": "float"
        },
        {
         "name": "56",
         "rawType": "float64",
         "type": "float"
        },
        {
         "name": "57",
         "rawType": "float64",
         "type": "float"
        },
        {
         "name": "58",
         "rawType": "float64",
         "type": "float"
        },
        {
         "name": "59",
         "rawType": "float64",
         "type": "float"
        },
        {
         "name": "60",
         "rawType": "float64",
         "type": "float"
        },
        {
         "name": "61",
         "rawType": "float64",
         "type": "float"
        },
        {
         "name": "62",
         "rawType": "float64",
         "type": "float"
        },
        {
         "name": "63",
         "rawType": "float64",
         "type": "float"
        },
        {
         "name": "64",
         "rawType": "float64",
         "type": "float"
        },
        {
         "name": "65",
         "rawType": "float64",
         "type": "float"
        },
        {
         "name": "66",
         "rawType": "float64",
         "type": "float"
        },
        {
         "name": "67",
         "rawType": "float64",
         "type": "float"
        },
        {
         "name": "68",
         "rawType": "float64",
         "type": "float"
        },
        {
         "name": "69",
         "rawType": "float64",
         "type": "float"
        },
        {
         "name": "70",
         "rawType": "float64",
         "type": "float"
        },
        {
         "name": "71",
         "rawType": "float64",
         "type": "float"
        },
        {
         "name": "72",
         "rawType": "float64",
         "type": "float"
        },
        {
         "name": "73",
         "rawType": "float64",
         "type": "float"
        },
        {
         "name": "74",
         "rawType": "float64",
         "type": "float"
        },
        {
         "name": "75",
         "rawType": "float64",
         "type": "float"
        },
        {
         "name": "76",
         "rawType": "float64",
         "type": "float"
        },
        {
         "name": "77",
         "rawType": "float64",
         "type": "float"
        },
        {
         "name": "78",
         "rawType": "float64",
         "type": "float"
        },
        {
         "name": "79",
         "rawType": "float64",
         "type": "float"
        },
        {
         "name": "80",
         "rawType": "float64",
         "type": "float"
        },
        {
         "name": "81",
         "rawType": "float64",
         "type": "float"
        },
        {
         "name": "82",
         "rawType": "float64",
         "type": "float"
        },
        {
         "name": "83",
         "rawType": "float64",
         "type": "float"
        },
        {
         "name": "84",
         "rawType": "float64",
         "type": "float"
        },
        {
         "name": "85",
         "rawType": "float64",
         "type": "float"
        },
        {
         "name": "86",
         "rawType": "float64",
         "type": "float"
        },
        {
         "name": "87",
         "rawType": "float64",
         "type": "float"
        },
        {
         "name": "88",
         "rawType": "float64",
         "type": "float"
        },
        {
         "name": "89",
         "rawType": "float64",
         "type": "float"
        },
        {
         "name": "90",
         "rawType": "float64",
         "type": "float"
        },
        {
         "name": "91",
         "rawType": "float64",
         "type": "float"
        },
        {
         "name": "92",
         "rawType": "float64",
         "type": "float"
        },
        {
         "name": "93",
         "rawType": "float64",
         "type": "float"
        },
        {
         "name": "94",
         "rawType": "float64",
         "type": "float"
        },
        {
         "name": "95",
         "rawType": "float64",
         "type": "float"
        },
        {
         "name": "96",
         "rawType": "float64",
         "type": "float"
        },
        {
         "name": "97",
         "rawType": "float64",
         "type": "float"
        },
        {
         "name": "98",
         "rawType": "float64",
         "type": "float"
        },
        {
         "name": "99",
         "rawType": "float64",
         "type": "float"
        },
        {
         "name": "100",
         "rawType": "float64",
         "type": "float"
        },
        {
         "name": "101",
         "rawType": "float64",
         "type": "float"
        },
        {
         "name": "102",
         "rawType": "float64",
         "type": "float"
        },
        {
         "name": "103",
         "rawType": "float64",
         "type": "float"
        },
        {
         "name": "104",
         "rawType": "float64",
         "type": "float"
        },
        {
         "name": "105",
         "rawType": "float64",
         "type": "float"
        },
        {
         "name": "106",
         "rawType": "float64",
         "type": "float"
        },
        {
         "name": "107",
         "rawType": "float64",
         "type": "float"
        },
        {
         "name": "108",
         "rawType": "float64",
         "type": "float"
        },
        {
         "name": "109",
         "rawType": "float64",
         "type": "float"
        },
        {
         "name": "110",
         "rawType": "float64",
         "type": "float"
        },
        {
         "name": "111",
         "rawType": "float64",
         "type": "float"
        },
        {
         "name": "112",
         "rawType": "float64",
         "type": "float"
        },
        {
         "name": "113",
         "rawType": "float64",
         "type": "float"
        },
        {
         "name": "114",
         "rawType": "float64",
         "type": "float"
        },
        {
         "name": "115",
         "rawType": "float64",
         "type": "float"
        },
        {
         "name": "116",
         "rawType": "float64",
         "type": "float"
        },
        {
         "name": "117",
         "rawType": "float64",
         "type": "float"
        },
        {
         "name": "118",
         "rawType": "float64",
         "type": "float"
        },
        {
         "name": "119",
         "rawType": "float64",
         "type": "float"
        },
        {
         "name": "120",
         "rawType": "float64",
         "type": "float"
        },
        {
         "name": "121",
         "rawType": "float64",
         "type": "float"
        },
        {
         "name": "122",
         "rawType": "float64",
         "type": "float"
        },
        {
         "name": "123",
         "rawType": "float64",
         "type": "float"
        },
        {
         "name": "124",
         "rawType": "float64",
         "type": "float"
        },
        {
         "name": "125",
         "rawType": "float64",
         "type": "float"
        },
        {
         "name": "126",
         "rawType": "float64",
         "type": "float"
        },
        {
         "name": "127",
         "rawType": "float64",
         "type": "float"
        },
        {
         "name": "128",
         "rawType": "float64",
         "type": "float"
        },
        {
         "name": "129",
         "rawType": "float64",
         "type": "float"
        },
        {
         "name": "130",
         "rawType": "float64",
         "type": "float"
        },
        {
         "name": "131",
         "rawType": "float64",
         "type": "float"
        },
        {
         "name": "132",
         "rawType": "float64",
         "type": "float"
        },
        {
         "name": "133",
         "rawType": "float64",
         "type": "float"
        },
        {
         "name": "134",
         "rawType": "float64",
         "type": "float"
        },
        {
         "name": "135",
         "rawType": "float64",
         "type": "float"
        },
        {
         "name": "136",
         "rawType": "float64",
         "type": "float"
        },
        {
         "name": "137",
         "rawType": "float64",
         "type": "float"
        },
        {
         "name": "138",
         "rawType": "float64",
         "type": "float"
        },
        {
         "name": "139",
         "rawType": "float64",
         "type": "float"
        },
        {
         "name": "140",
         "rawType": "float64",
         "type": "float"
        },
        {
         "name": "141",
         "rawType": "float64",
         "type": "float"
        },
        {
         "name": "142",
         "rawType": "float64",
         "type": "float"
        },
        {
         "name": "143",
         "rawType": "float64",
         "type": "float"
        },
        {
         "name": "144",
         "rawType": "float64",
         "type": "float"
        },
        {
         "name": "145",
         "rawType": "float64",
         "type": "float"
        },
        {
         "name": "146",
         "rawType": "float64",
         "type": "float"
        },
        {
         "name": "147",
         "rawType": "float64",
         "type": "float"
        },
        {
         "name": "148",
         "rawType": "float64",
         "type": "float"
        },
        {
         "name": "149",
         "rawType": "float64",
         "type": "float"
        },
        {
         "name": "150",
         "rawType": "float64",
         "type": "float"
        },
        {
         "name": "151",
         "rawType": "float64",
         "type": "float"
        },
        {
         "name": "152",
         "rawType": "float64",
         "type": "float"
        },
        {
         "name": "153",
         "rawType": "float64",
         "type": "float"
        },
        {
         "name": "154",
         "rawType": "float64",
         "type": "float"
        },
        {
         "name": "155",
         "rawType": "float64",
         "type": "float"
        },
        {
         "name": "156",
         "rawType": "float64",
         "type": "float"
        },
        {
         "name": "157",
         "rawType": "float64",
         "type": "float"
        },
        {
         "name": "158",
         "rawType": "float64",
         "type": "float"
        },
        {
         "name": "159",
         "rawType": "float64",
         "type": "float"
        },
        {
         "name": "160",
         "rawType": "float64",
         "type": "float"
        },
        {
         "name": "161",
         "rawType": "float64",
         "type": "float"
        },
        {
         "name": "162",
         "rawType": "float64",
         "type": "float"
        },
        {
         "name": "163",
         "rawType": "float64",
         "type": "float"
        },
        {
         "name": "164",
         "rawType": "float64",
         "type": "float"
        },
        {
         "name": "165",
         "rawType": "float64",
         "type": "float"
        },
        {
         "name": "166",
         "rawType": "float64",
         "type": "float"
        },
        {
         "name": "167",
         "rawType": "float64",
         "type": "float"
        },
        {
         "name": "168",
         "rawType": "float64",
         "type": "float"
        },
        {
         "name": "169",
         "rawType": "float64",
         "type": "float"
        },
        {
         "name": "170",
         "rawType": "float64",
         "type": "float"
        },
        {
         "name": "171",
         "rawType": "float64",
         "type": "float"
        },
        {
         "name": "172",
         "rawType": "float64",
         "type": "float"
        },
        {
         "name": "173",
         "rawType": "float64",
         "type": "float"
        },
        {
         "name": "174",
         "rawType": "float64",
         "type": "float"
        },
        {
         "name": "175",
         "rawType": "float64",
         "type": "float"
        },
        {
         "name": "176",
         "rawType": "float64",
         "type": "float"
        },
        {
         "name": "177",
         "rawType": "float64",
         "type": "float"
        },
        {
         "name": "178",
         "rawType": "float64",
         "type": "float"
        },
        {
         "name": "179",
         "rawType": "float64",
         "type": "float"
        },
        {
         "name": "180",
         "rawType": "float64",
         "type": "float"
        },
        {
         "name": "181",
         "rawType": "float64",
         "type": "float"
        },
        {
         "name": "182",
         "rawType": "float64",
         "type": "float"
        },
        {
         "name": "183",
         "rawType": "float64",
         "type": "float"
        },
        {
         "name": "184",
         "rawType": "float64",
         "type": "float"
        },
        {
         "name": "185",
         "rawType": "float64",
         "type": "float"
        },
        {
         "name": "186",
         "rawType": "float64",
         "type": "float"
        },
        {
         "name": "187",
         "rawType": "float64",
         "type": "float"
        },
        {
         "name": "188",
         "rawType": "float64",
         "type": "float"
        },
        {
         "name": "189",
         "rawType": "float64",
         "type": "float"
        },
        {
         "name": "190",
         "rawType": "float64",
         "type": "float"
        },
        {
         "name": "191",
         "rawType": "float64",
         "type": "float"
        },
        {
         "name": "192",
         "rawType": "float64",
         "type": "float"
        },
        {
         "name": "193",
         "rawType": "float64",
         "type": "float"
        },
        {
         "name": "194",
         "rawType": "float64",
         "type": "float"
        },
        {
         "name": "195",
         "rawType": "float64",
         "type": "float"
        },
        {
         "name": "196",
         "rawType": "float64",
         "type": "float"
        },
        {
         "name": "197",
         "rawType": "float64",
         "type": "float"
        },
        {
         "name": "198",
         "rawType": "float64",
         "type": "float"
        },
        {
         "name": "199",
         "rawType": "float64",
         "type": "float"
        },
        {
         "name": "200",
         "rawType": "float64",
         "type": "float"
        },
        {
         "name": "201",
         "rawType": "float64",
         "type": "float"
        },
        {
         "name": "202",
         "rawType": "float64",
         "type": "float"
        },
        {
         "name": "203",
         "rawType": "float64",
         "type": "float"
        },
        {
         "name": "204",
         "rawType": "float64",
         "type": "float"
        },
        {
         "name": "205",
         "rawType": "float64",
         "type": "float"
        },
        {
         "name": "206",
         "rawType": "float64",
         "type": "float"
        },
        {
         "name": "207",
         "rawType": "float64",
         "type": "float"
        },
        {
         "name": "208",
         "rawType": "float64",
         "type": "float"
        },
        {
         "name": "209",
         "rawType": "float64",
         "type": "float"
        },
        {
         "name": "210",
         "rawType": "float64",
         "type": "float"
        },
        {
         "name": "211",
         "rawType": "float64",
         "type": "float"
        },
        {
         "name": "212",
         "rawType": "float64",
         "type": "float"
        },
        {
         "name": "213",
         "rawType": "float64",
         "type": "float"
        },
        {
         "name": "214",
         "rawType": "float64",
         "type": "float"
        },
        {
         "name": "215",
         "rawType": "float64",
         "type": "float"
        },
        {
         "name": "216",
         "rawType": "float64",
         "type": "float"
        },
        {
         "name": "217",
         "rawType": "float64",
         "type": "float"
        },
        {
         "name": "218",
         "rawType": "float64",
         "type": "float"
        },
        {
         "name": "219",
         "rawType": "float64",
         "type": "float"
        },
        {
         "name": "220",
         "rawType": "float64",
         "type": "float"
        },
        {
         "name": "221",
         "rawType": "float64",
         "type": "float"
        },
        {
         "name": "222",
         "rawType": "float64",
         "type": "float"
        },
        {
         "name": "223",
         "rawType": "float64",
         "type": "float"
        },
        {
         "name": "224",
         "rawType": "float64",
         "type": "float"
        },
        {
         "name": "225",
         "rawType": "float64",
         "type": "float"
        },
        {
         "name": "226",
         "rawType": "float64",
         "type": "float"
        },
        {
         "name": "227",
         "rawType": "float64",
         "type": "float"
        },
        {
         "name": "228",
         "rawType": "float64",
         "type": "float"
        },
        {
         "name": "229",
         "rawType": "float64",
         "type": "float"
        },
        {
         "name": "230",
         "rawType": "float64",
         "type": "float"
        },
        {
         "name": "231",
         "rawType": "float64",
         "type": "float"
        },
        {
         "name": "232",
         "rawType": "float64",
         "type": "float"
        },
        {
         "name": "233",
         "rawType": "float64",
         "type": "float"
        },
        {
         "name": "234",
         "rawType": "float64",
         "type": "float"
        },
        {
         "name": "235",
         "rawType": "float64",
         "type": "float"
        },
        {
         "name": "236",
         "rawType": "float64",
         "type": "float"
        },
        {
         "name": "237",
         "rawType": "float64",
         "type": "float"
        },
        {
         "name": "238",
         "rawType": "float64",
         "type": "float"
        },
        {
         "name": "239",
         "rawType": "float64",
         "type": "float"
        },
        {
         "name": "240",
         "rawType": "float64",
         "type": "float"
        },
        {
         "name": "241",
         "rawType": "float64",
         "type": "float"
        },
        {
         "name": "242",
         "rawType": "float64",
         "type": "float"
        },
        {
         "name": "243",
         "rawType": "float64",
         "type": "float"
        },
        {
         "name": "244",
         "rawType": "float64",
         "type": "float"
        },
        {
         "name": "245",
         "rawType": "float64",
         "type": "float"
        },
        {
         "name": "246",
         "rawType": "float64",
         "type": "float"
        },
        {
         "name": "247",
         "rawType": "float64",
         "type": "float"
        },
        {
         "name": "248",
         "rawType": "float64",
         "type": "float"
        },
        {
         "name": "249",
         "rawType": "float64",
         "type": "float"
        },
        {
         "name": "250",
         "rawType": "float64",
         "type": "float"
        },
        {
         "name": "251",
         "rawType": "float64",
         "type": "float"
        },
        {
         "name": "252",
         "rawType": "float64",
         "type": "float"
        },
        {
         "name": "253",
         "rawType": "float64",
         "type": "float"
        },
        {
         "name": "254",
         "rawType": "float64",
         "type": "float"
        },
        {
         "name": "255",
         "rawType": "float64",
         "type": "float"
        },
        {
         "name": "256",
         "rawType": "float64",
         "type": "float"
        },
        {
         "name": "257",
         "rawType": "float64",
         "type": "float"
        },
        {
         "name": "258",
         "rawType": "float64",
         "type": "float"
        },
        {
         "name": "259",
         "rawType": "float64",
         "type": "float"
        },
        {
         "name": "260",
         "rawType": "float64",
         "type": "float"
        },
        {
         "name": "261",
         "rawType": "float64",
         "type": "float"
        },
        {
         "name": "262",
         "rawType": "float64",
         "type": "float"
        },
        {
         "name": "263",
         "rawType": "float64",
         "type": "float"
        },
        {
         "name": "264",
         "rawType": "float64",
         "type": "float"
        },
        {
         "name": "265",
         "rawType": "float64",
         "type": "float"
        },
        {
         "name": "266",
         "rawType": "float64",
         "type": "float"
        },
        {
         "name": "267",
         "rawType": "float64",
         "type": "float"
        },
        {
         "name": "268",
         "rawType": "float64",
         "type": "float"
        },
        {
         "name": "269",
         "rawType": "float64",
         "type": "float"
        },
        {
         "name": "270",
         "rawType": "float64",
         "type": "float"
        },
        {
         "name": "271",
         "rawType": "float64",
         "type": "float"
        },
        {
         "name": "272",
         "rawType": "float64",
         "type": "float"
        },
        {
         "name": "273",
         "rawType": "float64",
         "type": "float"
        },
        {
         "name": "274",
         "rawType": "float64",
         "type": "float"
        },
        {
         "name": "275",
         "rawType": "float64",
         "type": "float"
        },
        {
         "name": "276",
         "rawType": "float64",
         "type": "float"
        },
        {
         "name": "277",
         "rawType": "float64",
         "type": "float"
        },
        {
         "name": "278",
         "rawType": "float64",
         "type": "float"
        },
        {
         "name": "279",
         "rawType": "float64",
         "type": "float"
        },
        {
         "name": "280",
         "rawType": "float64",
         "type": "float"
        },
        {
         "name": "281",
         "rawType": "float64",
         "type": "float"
        },
        {
         "name": "282",
         "rawType": "float64",
         "type": "float"
        },
        {
         "name": "283",
         "rawType": "float64",
         "type": "float"
        },
        {
         "name": "284",
         "rawType": "float64",
         "type": "float"
        },
        {
         "name": "285",
         "rawType": "float64",
         "type": "float"
        },
        {
         "name": "286",
         "rawType": "float64",
         "type": "float"
        },
        {
         "name": "287",
         "rawType": "float64",
         "type": "float"
        },
        {
         "name": "288",
         "rawType": "float64",
         "type": "float"
        },
        {
         "name": "289",
         "rawType": "float64",
         "type": "float"
        },
        {
         "name": "290",
         "rawType": "float64",
         "type": "float"
        },
        {
         "name": "291",
         "rawType": "float64",
         "type": "float"
        },
        {
         "name": "292",
         "rawType": "float64",
         "type": "float"
        },
        {
         "name": "293",
         "rawType": "float64",
         "type": "float"
        },
        {
         "name": "294",
         "rawType": "float64",
         "type": "float"
        },
        {
         "name": "295",
         "rawType": "float64",
         "type": "float"
        },
        {
         "name": "296",
         "rawType": "float64",
         "type": "float"
        },
        {
         "name": "297",
         "rawType": "float64",
         "type": "float"
        },
        {
         "name": "298",
         "rawType": "float64",
         "type": "float"
        },
        {
         "name": "299",
         "rawType": "float64",
         "type": "float"
        },
        {
         "name": "300",
         "rawType": "float64",
         "type": "float"
        },
        {
         "name": "301",
         "rawType": "float64",
         "type": "float"
        },
        {
         "name": "302",
         "rawType": "float64",
         "type": "float"
        },
        {
         "name": "303",
         "rawType": "float64",
         "type": "float"
        },
        {
         "name": "304",
         "rawType": "float64",
         "type": "float"
        },
        {
         "name": "305",
         "rawType": "float64",
         "type": "float"
        },
        {
         "name": "306",
         "rawType": "float64",
         "type": "float"
        },
        {
         "name": "307",
         "rawType": "float64",
         "type": "float"
        },
        {
         "name": "308",
         "rawType": "float64",
         "type": "float"
        },
        {
         "name": "309",
         "rawType": "float64",
         "type": "float"
        },
        {
         "name": "310",
         "rawType": "float64",
         "type": "float"
        },
        {
         "name": "311",
         "rawType": "float64",
         "type": "float"
        },
        {
         "name": "312",
         "rawType": "float64",
         "type": "float"
        },
        {
         "name": "313",
         "rawType": "float64",
         "type": "float"
        },
        {
         "name": "314",
         "rawType": "float64",
         "type": "float"
        },
        {
         "name": "315",
         "rawType": "float64",
         "type": "float"
        },
        {
         "name": "316",
         "rawType": "float64",
         "type": "float"
        },
        {
         "name": "317",
         "rawType": "float64",
         "type": "float"
        },
        {
         "name": "318",
         "rawType": "float64",
         "type": "float"
        },
        {
         "name": "319",
         "rawType": "float64",
         "type": "float"
        },
        {
         "name": "320",
         "rawType": "float64",
         "type": "float"
        },
        {
         "name": "321",
         "rawType": "float64",
         "type": "float"
        },
        {
         "name": "322",
         "rawType": "float64",
         "type": "float"
        },
        {
         "name": "323",
         "rawType": "float64",
         "type": "float"
        },
        {
         "name": "324",
         "rawType": "float64",
         "type": "float"
        },
        {
         "name": "325",
         "rawType": "float64",
         "type": "float"
        },
        {
         "name": "326",
         "rawType": "float64",
         "type": "float"
        },
        {
         "name": "327",
         "rawType": "float64",
         "type": "float"
        },
        {
         "name": "328",
         "rawType": "float64",
         "type": "float"
        },
        {
         "name": "329",
         "rawType": "float64",
         "type": "float"
        },
        {
         "name": "330",
         "rawType": "float64",
         "type": "float"
        },
        {
         "name": "331",
         "rawType": "float64",
         "type": "float"
        },
        {
         "name": "332",
         "rawType": "float64",
         "type": "float"
        },
        {
         "name": "333",
         "rawType": "float64",
         "type": "float"
        },
        {
         "name": "334",
         "rawType": "float64",
         "type": "float"
        },
        {
         "name": "335",
         "rawType": "float64",
         "type": "float"
        },
        {
         "name": "336",
         "rawType": "float64",
         "type": "float"
        },
        {
         "name": "337",
         "rawType": "float64",
         "type": "float"
        },
        {
         "name": "338",
         "rawType": "float64",
         "type": "float"
        },
        {
         "name": "339",
         "rawType": "float64",
         "type": "float"
        },
        {
         "name": "340",
         "rawType": "float64",
         "type": "float"
        },
        {
         "name": "341",
         "rawType": "float64",
         "type": "float"
        },
        {
         "name": "342",
         "rawType": "float64",
         "type": "float"
        },
        {
         "name": "343",
         "rawType": "float64",
         "type": "float"
        },
        {
         "name": "344",
         "rawType": "float64",
         "type": "float"
        },
        {
         "name": "345",
         "rawType": "float64",
         "type": "float"
        },
        {
         "name": "346",
         "rawType": "float64",
         "type": "float"
        },
        {
         "name": "347",
         "rawType": "float64",
         "type": "float"
        },
        {
         "name": "348",
         "rawType": "float64",
         "type": "float"
        },
        {
         "name": "349",
         "rawType": "float64",
         "type": "float"
        },
        {
         "name": "350",
         "rawType": "float64",
         "type": "float"
        },
        {
         "name": "351",
         "rawType": "float64",
         "type": "float"
        },
        {
         "name": "352",
         "rawType": "float64",
         "type": "float"
        },
        {
         "name": "353",
         "rawType": "float64",
         "type": "float"
        },
        {
         "name": "354",
         "rawType": "float64",
         "type": "float"
        },
        {
         "name": "355",
         "rawType": "float64",
         "type": "float"
        },
        {
         "name": "356",
         "rawType": "float64",
         "type": "float"
        },
        {
         "name": "357",
         "rawType": "float64",
         "type": "float"
        },
        {
         "name": "358",
         "rawType": "float64",
         "type": "float"
        },
        {
         "name": "359",
         "rawType": "float64",
         "type": "float"
        },
        {
         "name": "360",
         "rawType": "float64",
         "type": "float"
        },
        {
         "name": "361",
         "rawType": "float64",
         "type": "float"
        },
        {
         "name": "362",
         "rawType": "float64",
         "type": "float"
        },
        {
         "name": "363",
         "rawType": "float64",
         "type": "float"
        },
        {
         "name": "364",
         "rawType": "float64",
         "type": "float"
        },
        {
         "name": "365",
         "rawType": "float64",
         "type": "float"
        },
        {
         "name": "366",
         "rawType": "float64",
         "type": "float"
        },
        {
         "name": "367",
         "rawType": "float64",
         "type": "float"
        },
        {
         "name": "368",
         "rawType": "float64",
         "type": "float"
        },
        {
         "name": "369",
         "rawType": "float64",
         "type": "float"
        },
        {
         "name": "370",
         "rawType": "float64",
         "type": "float"
        },
        {
         "name": "371",
         "rawType": "float64",
         "type": "float"
        },
        {
         "name": "372",
         "rawType": "float64",
         "type": "float"
        },
        {
         "name": "373",
         "rawType": "float64",
         "type": "float"
        },
        {
         "name": "374",
         "rawType": "float64",
         "type": "float"
        },
        {
         "name": "375",
         "rawType": "float64",
         "type": "float"
        },
        {
         "name": "376",
         "rawType": "float64",
         "type": "float"
        },
        {
         "name": "377",
         "rawType": "float64",
         "type": "float"
        },
        {
         "name": "378",
         "rawType": "float64",
         "type": "float"
        },
        {
         "name": "379",
         "rawType": "float64",
         "type": "float"
        },
        {
         "name": "380",
         "rawType": "float64",
         "type": "float"
        },
        {
         "name": "381",
         "rawType": "float64",
         "type": "float"
        },
        {
         "name": "382",
         "rawType": "float64",
         "type": "float"
        },
        {
         "name": "383",
         "rawType": "float64",
         "type": "float"
        },
        {
         "name": "384",
         "rawType": "float64",
         "type": "float"
        },
        {
         "name": "385",
         "rawType": "float64",
         "type": "float"
        },
        {
         "name": "386",
         "rawType": "float64",
         "type": "float"
        },
        {
         "name": "387",
         "rawType": "float64",
         "type": "float"
        },
        {
         "name": "388",
         "rawType": "float64",
         "type": "float"
        },
        {
         "name": "389",
         "rawType": "float64",
         "type": "float"
        },
        {
         "name": "390",
         "rawType": "float64",
         "type": "float"
        },
        {
         "name": "391",
         "rawType": "float64",
         "type": "float"
        },
        {
         "name": "392",
         "rawType": "float64",
         "type": "float"
        },
        {
         "name": "393",
         "rawType": "float64",
         "type": "float"
        },
        {
         "name": "394",
         "rawType": "float64",
         "type": "float"
        },
        {
         "name": "395",
         "rawType": "float64",
         "type": "float"
        },
        {
         "name": "396",
         "rawType": "float64",
         "type": "float"
        },
        {
         "name": "397",
         "rawType": "float64",
         "type": "float"
        },
        {
         "name": "398",
         "rawType": "float64",
         "type": "float"
        },
        {
         "name": "399",
         "rawType": "float64",
         "type": "float"
        },
        {
         "name": "400",
         "rawType": "float64",
         "type": "float"
        },
        {
         "name": "401",
         "rawType": "float64",
         "type": "float"
        },
        {
         "name": "402",
         "rawType": "float64",
         "type": "float"
        },
        {
         "name": "403",
         "rawType": "float64",
         "type": "float"
        },
        {
         "name": "404",
         "rawType": "float64",
         "type": "float"
        },
        {
         "name": "405",
         "rawType": "float64",
         "type": "float"
        },
        {
         "name": "406",
         "rawType": "float64",
         "type": "float"
        },
        {
         "name": "407",
         "rawType": "float64",
         "type": "float"
        },
        {
         "name": "408",
         "rawType": "float64",
         "type": "float"
        },
        {
         "name": "409",
         "rawType": "float64",
         "type": "float"
        },
        {
         "name": "410",
         "rawType": "float64",
         "type": "float"
        },
        {
         "name": "411",
         "rawType": "float64",
         "type": "float"
        },
        {
         "name": "412",
         "rawType": "float64",
         "type": "float"
        },
        {
         "name": "413",
         "rawType": "float64",
         "type": "float"
        },
        {
         "name": "414",
         "rawType": "float64",
         "type": "float"
        },
        {
         "name": "415",
         "rawType": "float64",
         "type": "float"
        },
        {
         "name": "416",
         "rawType": "float64",
         "type": "float"
        },
        {
         "name": "417",
         "rawType": "float64",
         "type": "float"
        },
        {
         "name": "418",
         "rawType": "float64",
         "type": "float"
        },
        {
         "name": "419",
         "rawType": "float64",
         "type": "float"
        },
        {
         "name": "420",
         "rawType": "float64",
         "type": "float"
        },
        {
         "name": "421",
         "rawType": "float64",
         "type": "float"
        },
        {
         "name": "422",
         "rawType": "float64",
         "type": "float"
        },
        {
         "name": "423",
         "rawType": "float64",
         "type": "float"
        },
        {
         "name": "424",
         "rawType": "float64",
         "type": "float"
        },
        {
         "name": "425",
         "rawType": "float64",
         "type": "float"
        },
        {
         "name": "426",
         "rawType": "float64",
         "type": "float"
        },
        {
         "name": "427",
         "rawType": "float64",
         "type": "float"
        },
        {
         "name": "428",
         "rawType": "float64",
         "type": "float"
        },
        {
         "name": "429",
         "rawType": "float64",
         "type": "float"
        },
        {
         "name": "430",
         "rawType": "float64",
         "type": "float"
        },
        {
         "name": "431",
         "rawType": "float64",
         "type": "float"
        },
        {
         "name": "432",
         "rawType": "float64",
         "type": "float"
        },
        {
         "name": "433",
         "rawType": "float64",
         "type": "float"
        },
        {
         "name": "434",
         "rawType": "float64",
         "type": "float"
        },
        {
         "name": "435",
         "rawType": "float64",
         "type": "float"
        },
        {
         "name": "436",
         "rawType": "float64",
         "type": "float"
        },
        {
         "name": "437",
         "rawType": "float64",
         "type": "float"
        },
        {
         "name": "438",
         "rawType": "float64",
         "type": "float"
        },
        {
         "name": "439",
         "rawType": "float64",
         "type": "float"
        },
        {
         "name": "440",
         "rawType": "float64",
         "type": "float"
        },
        {
         "name": "441",
         "rawType": "float64",
         "type": "float"
        },
        {
         "name": "442",
         "rawType": "float64",
         "type": "float"
        },
        {
         "name": "443",
         "rawType": "float64",
         "type": "float"
        },
        {
         "name": "444",
         "rawType": "float64",
         "type": "float"
        },
        {
         "name": "445",
         "rawType": "float64",
         "type": "float"
        },
        {
         "name": "446",
         "rawType": "float64",
         "type": "float"
        },
        {
         "name": "447",
         "rawType": "float64",
         "type": "float"
        },
        {
         "name": "448",
         "rawType": "float64",
         "type": "float"
        },
        {
         "name": "449",
         "rawType": "float64",
         "type": "float"
        },
        {
         "name": "450",
         "rawType": "float64",
         "type": "float"
        },
        {
         "name": "451",
         "rawType": "float64",
         "type": "float"
        },
        {
         "name": "452",
         "rawType": "float64",
         "type": "float"
        },
        {
         "name": "453",
         "rawType": "float64",
         "type": "float"
        },
        {
         "name": "454",
         "rawType": "float64",
         "type": "float"
        },
        {
         "name": "455",
         "rawType": "float64",
         "type": "float"
        },
        {
         "name": "456",
         "rawType": "float64",
         "type": "float"
        },
        {
         "name": "457",
         "rawType": "float64",
         "type": "float"
        },
        {
         "name": "458",
         "rawType": "float64",
         "type": "float"
        },
        {
         "name": "459",
         "rawType": "float64",
         "type": "float"
        },
        {
         "name": "460",
         "rawType": "float64",
         "type": "float"
        },
        {
         "name": "461",
         "rawType": "float64",
         "type": "float"
        },
        {
         "name": "462",
         "rawType": "float64",
         "type": "float"
        },
        {
         "name": "463",
         "rawType": "float64",
         "type": "float"
        },
        {
         "name": "464",
         "rawType": "float64",
         "type": "float"
        },
        {
         "name": "465",
         "rawType": "float64",
         "type": "float"
        },
        {
         "name": "466",
         "rawType": "float64",
         "type": "float"
        },
        {
         "name": "467",
         "rawType": "float64",
         "type": "float"
        },
        {
         "name": "468",
         "rawType": "float64",
         "type": "float"
        },
        {
         "name": "469",
         "rawType": "float64",
         "type": "float"
        },
        {
         "name": "470",
         "rawType": "float64",
         "type": "float"
        },
        {
         "name": "471",
         "rawType": "float64",
         "type": "float"
        },
        {
         "name": "472",
         "rawType": "float64",
         "type": "float"
        },
        {
         "name": "473",
         "rawType": "float64",
         "type": "float"
        },
        {
         "name": "474",
         "rawType": "float64",
         "type": "float"
        },
        {
         "name": "475",
         "rawType": "float64",
         "type": "float"
        },
        {
         "name": "476",
         "rawType": "float64",
         "type": "float"
        },
        {
         "name": "477",
         "rawType": "float64",
         "type": "float"
        },
        {
         "name": "478",
         "rawType": "float64",
         "type": "float"
        },
        {
         "name": "479",
         "rawType": "float64",
         "type": "float"
        },
        {
         "name": "480",
         "rawType": "float64",
         "type": "float"
        },
        {
         "name": "481",
         "rawType": "float64",
         "type": "float"
        },
        {
         "name": "482",
         "rawType": "float64",
         "type": "float"
        },
        {
         "name": "483",
         "rawType": "float64",
         "type": "float"
        },
        {
         "name": "484",
         "rawType": "float64",
         "type": "float"
        },
        {
         "name": "485",
         "rawType": "float64",
         "type": "float"
        },
        {
         "name": "486",
         "rawType": "float64",
         "type": "float"
        },
        {
         "name": "487",
         "rawType": "float64",
         "type": "float"
        },
        {
         "name": "488",
         "rawType": "float64",
         "type": "float"
        },
        {
         "name": "489",
         "rawType": "float64",
         "type": "float"
        },
        {
         "name": "490",
         "rawType": "float64",
         "type": "float"
        },
        {
         "name": "491",
         "rawType": "float64",
         "type": "float"
        },
        {
         "name": "492",
         "rawType": "float64",
         "type": "float"
        },
        {
         "name": "493",
         "rawType": "float64",
         "type": "float"
        },
        {
         "name": "494",
         "rawType": "float64",
         "type": "float"
        },
        {
         "name": "495",
         "rawType": "float64",
         "type": "float"
        },
        {
         "name": "496",
         "rawType": "float64",
         "type": "float"
        },
        {
         "name": "497",
         "rawType": "float64",
         "type": "float"
        },
        {
         "name": "498",
         "rawType": "float64",
         "type": "float"
        },
        {
         "name": "499",
         "rawType": "float64",
         "type": "float"
        },
        {
         "name": "500",
         "rawType": "float64",
         "type": "float"
        },
        {
         "name": "501",
         "rawType": "float64",
         "type": "float"
        },
        {
         "name": "502",
         "rawType": "float64",
         "type": "float"
        },
        {
         "name": "503",
         "rawType": "float64",
         "type": "float"
        },
        {
         "name": "504",
         "rawType": "float64",
         "type": "float"
        },
        {
         "name": "505",
         "rawType": "float64",
         "type": "float"
        },
        {
         "name": "506",
         "rawType": "float64",
         "type": "float"
        },
        {
         "name": "507",
         "rawType": "float64",
         "type": "float"
        },
        {
         "name": "508",
         "rawType": "float64",
         "type": "float"
        },
        {
         "name": "509",
         "rawType": "float64",
         "type": "float"
        },
        {
         "name": "510",
         "rawType": "float64",
         "type": "float"
        },
        {
         "name": "511",
         "rawType": "float64",
         "type": "float"
        },
        {
         "name": "512",
         "rawType": "float64",
         "type": "float"
        },
        {
         "name": "513",
         "rawType": "float64",
         "type": "float"
        },
        {
         "name": "514",
         "rawType": "float64",
         "type": "float"
        },
        {
         "name": "515",
         "rawType": "float64",
         "type": "float"
        },
        {
         "name": "516",
         "rawType": "float64",
         "type": "float"
        },
        {
         "name": "517",
         "rawType": "float64",
         "type": "float"
        },
        {
         "name": "518",
         "rawType": "float64",
         "type": "float"
        },
        {
         "name": "519",
         "rawType": "float64",
         "type": "float"
        },
        {
         "name": "520",
         "rawType": "float64",
         "type": "float"
        },
        {
         "name": "521",
         "rawType": "float64",
         "type": "float"
        },
        {
         "name": "522",
         "rawType": "float64",
         "type": "float"
        },
        {
         "name": "523",
         "rawType": "float64",
         "type": "float"
        },
        {
         "name": "524",
         "rawType": "float64",
         "type": "float"
        },
        {
         "name": "525",
         "rawType": "float64",
         "type": "float"
        },
        {
         "name": "526",
         "rawType": "float64",
         "type": "float"
        },
        {
         "name": "527",
         "rawType": "float64",
         "type": "float"
        },
        {
         "name": "528",
         "rawType": "float64",
         "type": "float"
        },
        {
         "name": "529",
         "rawType": "float64",
         "type": "float"
        },
        {
         "name": "530",
         "rawType": "float64",
         "type": "float"
        },
        {
         "name": "531",
         "rawType": "float64",
         "type": "float"
        },
        {
         "name": "532",
         "rawType": "float64",
         "type": "float"
        },
        {
         "name": "533",
         "rawType": "float64",
         "type": "float"
        },
        {
         "name": "534",
         "rawType": "float64",
         "type": "float"
        },
        {
         "name": "535",
         "rawType": "float64",
         "type": "float"
        },
        {
         "name": "536",
         "rawType": "float64",
         "type": "float"
        },
        {
         "name": "537",
         "rawType": "float64",
         "type": "float"
        },
        {
         "name": "538",
         "rawType": "float64",
         "type": "float"
        },
        {
         "name": "539",
         "rawType": "float64",
         "type": "float"
        },
        {
         "name": "540",
         "rawType": "float64",
         "type": "float"
        },
        {
         "name": "541",
         "rawType": "float64",
         "type": "float"
        },
        {
         "name": "542",
         "rawType": "float64",
         "type": "float"
        },
        {
         "name": "543",
         "rawType": "float64",
         "type": "float"
        },
        {
         "name": "544",
         "rawType": "float64",
         "type": "float"
        },
        {
         "name": "545",
         "rawType": "float64",
         "type": "float"
        },
        {
         "name": "546",
         "rawType": "float64",
         "type": "float"
        },
        {
         "name": "547",
         "rawType": "float64",
         "type": "float"
        },
        {
         "name": "548",
         "rawType": "float64",
         "type": "float"
        },
        {
         "name": "549",
         "rawType": "float64",
         "type": "float"
        },
        {
         "name": "550",
         "rawType": "float64",
         "type": "float"
        },
        {
         "name": "551",
         "rawType": "float64",
         "type": "float"
        },
        {
         "name": "552",
         "rawType": "float64",
         "type": "float"
        },
        {
         "name": "553",
         "rawType": "float64",
         "type": "float"
        },
        {
         "name": "554",
         "rawType": "float64",
         "type": "float"
        },
        {
         "name": "555",
         "rawType": "float64",
         "type": "float"
        },
        {
         "name": "556",
         "rawType": "float64",
         "type": "float"
        },
        {
         "name": "557",
         "rawType": "float64",
         "type": "float"
        },
        {
         "name": "558",
         "rawType": "float64",
         "type": "float"
        },
        {
         "name": "559",
         "rawType": "float64",
         "type": "float"
        },
        {
         "name": "560",
         "rawType": "float64",
         "type": "float"
        },
        {
         "name": "561",
         "rawType": "float64",
         "type": "float"
        },
        {
         "name": "562",
         "rawType": "float64",
         "type": "float"
        },
        {
         "name": "563",
         "rawType": "float64",
         "type": "float"
        },
        {
         "name": "564",
         "rawType": "float64",
         "type": "float"
        },
        {
         "name": "565",
         "rawType": "float64",
         "type": "float"
        },
        {
         "name": "566",
         "rawType": "float64",
         "type": "float"
        },
        {
         "name": "567",
         "rawType": "float64",
         "type": "float"
        },
        {
         "name": "568",
         "rawType": "float64",
         "type": "float"
        },
        {
         "name": "569",
         "rawType": "float64",
         "type": "float"
        },
        {
         "name": "570",
         "rawType": "float64",
         "type": "float"
        },
        {
         "name": "571",
         "rawType": "float64",
         "type": "float"
        },
        {
         "name": "572",
         "rawType": "float64",
         "type": "float"
        },
        {
         "name": "573",
         "rawType": "float64",
         "type": "float"
        },
        {
         "name": "574",
         "rawType": "float64",
         "type": "float"
        },
        {
         "name": "575",
         "rawType": "float64",
         "type": "float"
        },
        {
         "name": "576",
         "rawType": "float64",
         "type": "float"
        },
        {
         "name": "577",
         "rawType": "float64",
         "type": "float"
        },
        {
         "name": "578",
         "rawType": "float64",
         "type": "float"
        },
        {
         "name": "579",
         "rawType": "float64",
         "type": "float"
        },
        {
         "name": "580",
         "rawType": "float64",
         "type": "float"
        },
        {
         "name": "581",
         "rawType": "float64",
         "type": "float"
        },
        {
         "name": "582",
         "rawType": "float64",
         "type": "float"
        },
        {
         "name": "583",
         "rawType": "float64",
         "type": "float"
        },
        {
         "name": "584",
         "rawType": "float64",
         "type": "float"
        },
        {
         "name": "585",
         "rawType": "float64",
         "type": "float"
        },
        {
         "name": "586",
         "rawType": "float64",
         "type": "float"
        },
        {
         "name": "587",
         "rawType": "float64",
         "type": "float"
        },
        {
         "name": "588",
         "rawType": "float64",
         "type": "float"
        },
        {
         "name": "589",
         "rawType": "float64",
         "type": "float"
        },
        {
         "name": "590",
         "rawType": "float64",
         "type": "float"
        },
        {
         "name": "591",
         "rawType": "float64",
         "type": "float"
        },
        {
         "name": "592",
         "rawType": "float64",
         "type": "float"
        },
        {
         "name": "593",
         "rawType": "float64",
         "type": "float"
        },
        {
         "name": "594",
         "rawType": "float64",
         "type": "float"
        },
        {
         "name": "595",
         "rawType": "float64",
         "type": "float"
        },
        {
         "name": "596",
         "rawType": "float64",
         "type": "float"
        },
        {
         "name": "597",
         "rawType": "float64",
         "type": "float"
        },
        {
         "name": "598",
         "rawType": "float64",
         "type": "float"
        },
        {
         "name": "599",
         "rawType": "float64",
         "type": "float"
        },
        {
         "name": "600",
         "rawType": "float64",
         "type": "float"
        },
        {
         "name": "601",
         "rawType": "float64",
         "type": "float"
        },
        {
         "name": "602",
         "rawType": "float64",
         "type": "float"
        },
        {
         "name": "603",
         "rawType": "float64",
         "type": "float"
        },
        {
         "name": "604",
         "rawType": "float64",
         "type": "float"
        },
        {
         "name": "605",
         "rawType": "float64",
         "type": "float"
        },
        {
         "name": "606",
         "rawType": "float64",
         "type": "float"
        },
        {
         "name": "607",
         "rawType": "float64",
         "type": "float"
        },
        {
         "name": "608",
         "rawType": "float64",
         "type": "float"
        },
        {
         "name": "609",
         "rawType": "float64",
         "type": "float"
        },
        {
         "name": "610",
         "rawType": "float64",
         "type": "float"
        },
        {
         "name": "611",
         "rawType": "float64",
         "type": "float"
        },
        {
         "name": "612",
         "rawType": "float64",
         "type": "float"
        },
        {
         "name": "613",
         "rawType": "float64",
         "type": "float"
        },
        {
         "name": "614",
         "rawType": "float64",
         "type": "float"
        },
        {
         "name": "615",
         "rawType": "float64",
         "type": "float"
        },
        {
         "name": "616",
         "rawType": "float64",
         "type": "float"
        },
        {
         "name": "617",
         "rawType": "float64",
         "type": "float"
        },
        {
         "name": "618",
         "rawType": "float64",
         "type": "float"
        },
        {
         "name": "619",
         "rawType": "float64",
         "type": "float"
        },
        {
         "name": "620",
         "rawType": "float64",
         "type": "float"
        },
        {
         "name": "621",
         "rawType": "float64",
         "type": "float"
        },
        {
         "name": "622",
         "rawType": "float64",
         "type": "float"
        },
        {
         "name": "623",
         "rawType": "float64",
         "type": "float"
        },
        {
         "name": "624",
         "rawType": "float64",
         "type": "float"
        },
        {
         "name": "625",
         "rawType": "float64",
         "type": "float"
        },
        {
         "name": "626",
         "rawType": "float64",
         "type": "float"
        },
        {
         "name": "627",
         "rawType": "float64",
         "type": "float"
        },
        {
         "name": "628",
         "rawType": "float64",
         "type": "float"
        },
        {
         "name": "629",
         "rawType": "float64",
         "type": "float"
        },
        {
         "name": "630",
         "rawType": "float64",
         "type": "float"
        },
        {
         "name": "631",
         "rawType": "float64",
         "type": "float"
        },
        {
         "name": "632",
         "rawType": "float64",
         "type": "float"
        },
        {
         "name": "633",
         "rawType": "float64",
         "type": "float"
        },
        {
         "name": "634",
         "rawType": "float64",
         "type": "float"
        },
        {
         "name": "635",
         "rawType": "float64",
         "type": "float"
        },
        {
         "name": "636",
         "rawType": "float64",
         "type": "float"
        },
        {
         "name": "637",
         "rawType": "float64",
         "type": "float"
        },
        {
         "name": "638",
         "rawType": "float64",
         "type": "float"
        },
        {
         "name": "639",
         "rawType": "float64",
         "type": "float"
        },
        {
         "name": "640",
         "rawType": "float64",
         "type": "float"
        },
        {
         "name": "641",
         "rawType": "float64",
         "type": "float"
        },
        {
         "name": "642",
         "rawType": "float64",
         "type": "float"
        },
        {
         "name": "643",
         "rawType": "float64",
         "type": "float"
        },
        {
         "name": "644",
         "rawType": "float64",
         "type": "float"
        },
        {
         "name": "645",
         "rawType": "float64",
         "type": "float"
        },
        {
         "name": "646",
         "rawType": "float64",
         "type": "float"
        },
        {
         "name": "647",
         "rawType": "float64",
         "type": "float"
        },
        {
         "name": "648",
         "rawType": "float64",
         "type": "float"
        },
        {
         "name": "649",
         "rawType": "float64",
         "type": "float"
        },
        {
         "name": "650",
         "rawType": "float64",
         "type": "float"
        },
        {
         "name": "651",
         "rawType": "float64",
         "type": "float"
        },
        {
         "name": "652",
         "rawType": "float64",
         "type": "float"
        },
        {
         "name": "653",
         "rawType": "float64",
         "type": "float"
        },
        {
         "name": "654",
         "rawType": "float64",
         "type": "float"
        },
        {
         "name": "655",
         "rawType": "float64",
         "type": "float"
        },
        {
         "name": "656",
         "rawType": "float64",
         "type": "float"
        },
        {
         "name": "657",
         "rawType": "float64",
         "type": "float"
        },
        {
         "name": "658",
         "rawType": "float64",
         "type": "float"
        },
        {
         "name": "659",
         "rawType": "float64",
         "type": "float"
        },
        {
         "name": "660",
         "rawType": "float64",
         "type": "float"
        },
        {
         "name": "661",
         "rawType": "float64",
         "type": "float"
        },
        {
         "name": "662",
         "rawType": "float64",
         "type": "float"
        },
        {
         "name": "663",
         "rawType": "float64",
         "type": "float"
        },
        {
         "name": "664",
         "rawType": "float64",
         "type": "float"
        },
        {
         "name": "665",
         "rawType": "float64",
         "type": "float"
        },
        {
         "name": "666",
         "rawType": "float64",
         "type": "float"
        },
        {
         "name": "667",
         "rawType": "float64",
         "type": "float"
        },
        {
         "name": "668",
         "rawType": "float64",
         "type": "float"
        },
        {
         "name": "669",
         "rawType": "float64",
         "type": "float"
        },
        {
         "name": "670",
         "rawType": "float64",
         "type": "float"
        },
        {
         "name": "671",
         "rawType": "float64",
         "type": "float"
        },
        {
         "name": "672",
         "rawType": "float64",
         "type": "float"
        },
        {
         "name": "673",
         "rawType": "float64",
         "type": "float"
        },
        {
         "name": "674",
         "rawType": "float64",
         "type": "float"
        },
        {
         "name": "675",
         "rawType": "float64",
         "type": "float"
        },
        {
         "name": "676",
         "rawType": "float64",
         "type": "float"
        },
        {
         "name": "677",
         "rawType": "float64",
         "type": "float"
        },
        {
         "name": "678",
         "rawType": "float64",
         "type": "float"
        },
        {
         "name": "679",
         "rawType": "float64",
         "type": "float"
        },
        {
         "name": "680",
         "rawType": "float64",
         "type": "float"
        },
        {
         "name": "681",
         "rawType": "float64",
         "type": "float"
        },
        {
         "name": "682",
         "rawType": "float64",
         "type": "float"
        },
        {
         "name": "683",
         "rawType": "float64",
         "type": "float"
        },
        {
         "name": "684",
         "rawType": "float64",
         "type": "float"
        },
        {
         "name": "685",
         "rawType": "float64",
         "type": "float"
        },
        {
         "name": "686",
         "rawType": "float64",
         "type": "float"
        },
        {
         "name": "687",
         "rawType": "float64",
         "type": "float"
        },
        {
         "name": "688",
         "rawType": "float64",
         "type": "float"
        },
        {
         "name": "689",
         "rawType": "float64",
         "type": "float"
        },
        {
         "name": "690",
         "rawType": "float64",
         "type": "float"
        },
        {
         "name": "691",
         "rawType": "float64",
         "type": "float"
        },
        {
         "name": "692",
         "rawType": "float64",
         "type": "float"
        },
        {
         "name": "693",
         "rawType": "float64",
         "type": "float"
        },
        {
         "name": "694",
         "rawType": "float64",
         "type": "float"
        },
        {
         "name": "695",
         "rawType": "float64",
         "type": "float"
        },
        {
         "name": "696",
         "rawType": "float64",
         "type": "float"
        },
        {
         "name": "697",
         "rawType": "float64",
         "type": "float"
        },
        {
         "name": "698",
         "rawType": "float64",
         "type": "float"
        },
        {
         "name": "699",
         "rawType": "float64",
         "type": "float"
        },
        {
         "name": "700",
         "rawType": "float64",
         "type": "float"
        },
        {
         "name": "701",
         "rawType": "float64",
         "type": "float"
        },
        {
         "name": "702",
         "rawType": "float64",
         "type": "float"
        },
        {
         "name": "703",
         "rawType": "float64",
         "type": "float"
        },
        {
         "name": "704",
         "rawType": "float64",
         "type": "float"
        },
        {
         "name": "705",
         "rawType": "float64",
         "type": "float"
        },
        {
         "name": "706",
         "rawType": "float64",
         "type": "float"
        },
        {
         "name": "707",
         "rawType": "float64",
         "type": "float"
        },
        {
         "name": "708",
         "rawType": "float64",
         "type": "float"
        },
        {
         "name": "709",
         "rawType": "float64",
         "type": "float"
        },
        {
         "name": "710",
         "rawType": "float64",
         "type": "float"
        },
        {
         "name": "711",
         "rawType": "float64",
         "type": "float"
        },
        {
         "name": "712",
         "rawType": "float64",
         "type": "float"
        },
        {
         "name": "713",
         "rawType": "float64",
         "type": "float"
        },
        {
         "name": "714",
         "rawType": "float64",
         "type": "float"
        },
        {
         "name": "715",
         "rawType": "float64",
         "type": "float"
        },
        {
         "name": "716",
         "rawType": "float64",
         "type": "float"
        },
        {
         "name": "717",
         "rawType": "float64",
         "type": "float"
        },
        {
         "name": "718",
         "rawType": "float64",
         "type": "float"
        },
        {
         "name": "719",
         "rawType": "float64",
         "type": "float"
        },
        {
         "name": "720",
         "rawType": "float64",
         "type": "float"
        },
        {
         "name": "721",
         "rawType": "float64",
         "type": "float"
        },
        {
         "name": "722",
         "rawType": "float64",
         "type": "float"
        },
        {
         "name": "723",
         "rawType": "float64",
         "type": "float"
        },
        {
         "name": "724",
         "rawType": "float64",
         "type": "float"
        },
        {
         "name": "725",
         "rawType": "float64",
         "type": "float"
        },
        {
         "name": "726",
         "rawType": "float64",
         "type": "float"
        },
        {
         "name": "727",
         "rawType": "float64",
         "type": "float"
        },
        {
         "name": "728",
         "rawType": "float64",
         "type": "float"
        },
        {
         "name": "729",
         "rawType": "float64",
         "type": "float"
        },
        {
         "name": "730",
         "rawType": "float64",
         "type": "float"
        },
        {
         "name": "731",
         "rawType": "float64",
         "type": "float"
        },
        {
         "name": "732",
         "rawType": "float64",
         "type": "float"
        },
        {
         "name": "733",
         "rawType": "float64",
         "type": "float"
        },
        {
         "name": "734",
         "rawType": "float64",
         "type": "float"
        },
        {
         "name": "735",
         "rawType": "float64",
         "type": "float"
        },
        {
         "name": "736",
         "rawType": "float64",
         "type": "float"
        },
        {
         "name": "737",
         "rawType": "float64",
         "type": "float"
        },
        {
         "name": "738",
         "rawType": "float64",
         "type": "float"
        },
        {
         "name": "739",
         "rawType": "float64",
         "type": "float"
        },
        {
         "name": "740",
         "rawType": "float64",
         "type": "float"
        },
        {
         "name": "741",
         "rawType": "float64",
         "type": "float"
        },
        {
         "name": "742",
         "rawType": "float64",
         "type": "float"
        },
        {
         "name": "743",
         "rawType": "float64",
         "type": "float"
        },
        {
         "name": "744",
         "rawType": "float64",
         "type": "float"
        },
        {
         "name": "745",
         "rawType": "float64",
         "type": "float"
        },
        {
         "name": "746",
         "rawType": "float64",
         "type": "float"
        },
        {
         "name": "747",
         "rawType": "float64",
         "type": "float"
        },
        {
         "name": "748",
         "rawType": "float64",
         "type": "float"
        },
        {
         "name": "749",
         "rawType": "float64",
         "type": "float"
        },
        {
         "name": "750",
         "rawType": "float64",
         "type": "float"
        },
        {
         "name": "751",
         "rawType": "float64",
         "type": "float"
        },
        {
         "name": "752",
         "rawType": "float64",
         "type": "float"
        },
        {
         "name": "753",
         "rawType": "float64",
         "type": "float"
        },
        {
         "name": "754",
         "rawType": "float64",
         "type": "float"
        },
        {
         "name": "755",
         "rawType": "float64",
         "type": "float"
        },
        {
         "name": "756",
         "rawType": "float64",
         "type": "float"
        },
        {
         "name": "757",
         "rawType": "float64",
         "type": "float"
        },
        {
         "name": "758",
         "rawType": "float64",
         "type": "float"
        },
        {
         "name": "759",
         "rawType": "float64",
         "type": "float"
        },
        {
         "name": "760",
         "rawType": "float64",
         "type": "float"
        },
        {
         "name": "761",
         "rawType": "float64",
         "type": "float"
        },
        {
         "name": "762",
         "rawType": "float64",
         "type": "float"
        },
        {
         "name": "763",
         "rawType": "float64",
         "type": "float"
        },
        {
         "name": "764",
         "rawType": "float64",
         "type": "float"
        },
        {
         "name": "765",
         "rawType": "float64",
         "type": "float"
        },
        {
         "name": "766",
         "rawType": "float64",
         "type": "float"
        },
        {
         "name": "767",
         "rawType": "float64",
         "type": "float"
        },
        {
         "name": "768",
         "rawType": "float64",
         "type": "float"
        },
        {
         "name": "769",
         "rawType": "float64",
         "type": "float"
        },
        {
         "name": "770",
         "rawType": "float64",
         "type": "float"
        },
        {
         "name": "771",
         "rawType": "float64",
         "type": "float"
        },
        {
         "name": "772",
         "rawType": "float64",
         "type": "float"
        },
        {
         "name": "773",
         "rawType": "float64",
         "type": "float"
        },
        {
         "name": "774",
         "rawType": "float64",
         "type": "float"
        },
        {
         "name": "775",
         "rawType": "float64",
         "type": "float"
        },
        {
         "name": "776",
         "rawType": "float64",
         "type": "float"
        },
        {
         "name": "777",
         "rawType": "float64",
         "type": "float"
        },
        {
         "name": "778",
         "rawType": "float64",
         "type": "float"
        },
        {
         "name": "779",
         "rawType": "float64",
         "type": "float"
        },
        {
         "name": "780",
         "rawType": "float64",
         "type": "float"
        },
        {
         "name": "781",
         "rawType": "float64",
         "type": "float"
        },
        {
         "name": "782",
         "rawType": "float64",
         "type": "float"
        },
        {
         "name": "783",
         "rawType": "float64",
         "type": "float"
        },
        {
         "name": "784",
         "rawType": "float64",
         "type": "float"
        },
        {
         "name": "785",
         "rawType": "float64",
         "type": "float"
        },
        {
         "name": "786",
         "rawType": "float64",
         "type": "float"
        },
        {
         "name": "787",
         "rawType": "float64",
         "type": "float"
        },
        {
         "name": "788",
         "rawType": "float64",
         "type": "float"
        },
        {
         "name": "789",
         "rawType": "float64",
         "type": "float"
        },
        {
         "name": "790",
         "rawType": "float64",
         "type": "float"
        },
        {
         "name": "791",
         "rawType": "float64",
         "type": "float"
        },
        {
         "name": "792",
         "rawType": "float64",
         "type": "float"
        },
        {
         "name": "793",
         "rawType": "float64",
         "type": "float"
        },
        {
         "name": "794",
         "rawType": "float64",
         "type": "float"
        },
        {
         "name": "795",
         "rawType": "float64",
         "type": "float"
        },
        {
         "name": "796",
         "rawType": "float64",
         "type": "float"
        },
        {
         "name": "797",
         "rawType": "float64",
         "type": "float"
        },
        {
         "name": "798",
         "rawType": "float64",
         "type": "float"
        },
        {
         "name": "799",
         "rawType": "float64",
         "type": "float"
        },
        {
         "name": "800",
         "rawType": "float64",
         "type": "float"
        },
        {
         "name": "801",
         "rawType": "float64",
         "type": "float"
        },
        {
         "name": "802",
         "rawType": "float64",
         "type": "float"
        },
        {
         "name": "803",
         "rawType": "float64",
         "type": "float"
        },
        {
         "name": "804",
         "rawType": "float64",
         "type": "float"
        },
        {
         "name": "805",
         "rawType": "float64",
         "type": "float"
        },
        {
         "name": "806",
         "rawType": "float64",
         "type": "float"
        },
        {
         "name": "807",
         "rawType": "float64",
         "type": "float"
        },
        {
         "name": "808",
         "rawType": "float64",
         "type": "float"
        },
        {
         "name": "809",
         "rawType": "float64",
         "type": "float"
        },
        {
         "name": "810",
         "rawType": "float64",
         "type": "float"
        },
        {
         "name": "811",
         "rawType": "float64",
         "type": "float"
        },
        {
         "name": "812",
         "rawType": "float64",
         "type": "float"
        },
        {
         "name": "813",
         "rawType": "float64",
         "type": "float"
        },
        {
         "name": "814",
         "rawType": "float64",
         "type": "float"
        },
        {
         "name": "815",
         "rawType": "float64",
         "type": "float"
        },
        {
         "name": "816",
         "rawType": "float64",
         "type": "float"
        },
        {
         "name": "817",
         "rawType": "float64",
         "type": "float"
        },
        {
         "name": "818",
         "rawType": "float64",
         "type": "float"
        },
        {
         "name": "819",
         "rawType": "float64",
         "type": "float"
        },
        {
         "name": "820",
         "rawType": "float64",
         "type": "float"
        },
        {
         "name": "821",
         "rawType": "float64",
         "type": "float"
        },
        {
         "name": "822",
         "rawType": "float64",
         "type": "float"
        },
        {
         "name": "823",
         "rawType": "float64",
         "type": "float"
        },
        {
         "name": "824",
         "rawType": "float64",
         "type": "float"
        },
        {
         "name": "825",
         "rawType": "float64",
         "type": "float"
        },
        {
         "name": "826",
         "rawType": "float64",
         "type": "float"
        },
        {
         "name": "827",
         "rawType": "float64",
         "type": "float"
        },
        {
         "name": "828",
         "rawType": "float64",
         "type": "float"
        },
        {
         "name": "829",
         "rawType": "float64",
         "type": "float"
        },
        {
         "name": "830",
         "rawType": "float64",
         "type": "float"
        },
        {
         "name": "831",
         "rawType": "float64",
         "type": "float"
        },
        {
         "name": "832",
         "rawType": "float64",
         "type": "float"
        },
        {
         "name": "833",
         "rawType": "float64",
         "type": "float"
        },
        {
         "name": "834",
         "rawType": "float64",
         "type": "float"
        },
        {
         "name": "835",
         "rawType": "float64",
         "type": "float"
        },
        {
         "name": "836",
         "rawType": "float64",
         "type": "float"
        },
        {
         "name": "837",
         "rawType": "float64",
         "type": "float"
        },
        {
         "name": "838",
         "rawType": "float64",
         "type": "float"
        },
        {
         "name": "839",
         "rawType": "float64",
         "type": "float"
        },
        {
         "name": "840",
         "rawType": "float64",
         "type": "float"
        },
        {
         "name": "841",
         "rawType": "float64",
         "type": "float"
        },
        {
         "name": "842",
         "rawType": "float64",
         "type": "float"
        },
        {
         "name": "843",
         "rawType": "float64",
         "type": "float"
        },
        {
         "name": "844",
         "rawType": "float64",
         "type": "float"
        },
        {
         "name": "845",
         "rawType": "float64",
         "type": "float"
        },
        {
         "name": "846",
         "rawType": "float64",
         "type": "float"
        },
        {
         "name": "847",
         "rawType": "float64",
         "type": "float"
        },
        {
         "name": "848",
         "rawType": "float64",
         "type": "float"
        },
        {
         "name": "849",
         "rawType": "float64",
         "type": "float"
        },
        {
         "name": "850",
         "rawType": "float64",
         "type": "float"
        },
        {
         "name": "851",
         "rawType": "float64",
         "type": "float"
        },
        {
         "name": "852",
         "rawType": "float64",
         "type": "float"
        },
        {
         "name": "853",
         "rawType": "float64",
         "type": "float"
        },
        {
         "name": "854",
         "rawType": "float64",
         "type": "float"
        },
        {
         "name": "855",
         "rawType": "float64",
         "type": "float"
        },
        {
         "name": "856",
         "rawType": "float64",
         "type": "float"
        },
        {
         "name": "857",
         "rawType": "float64",
         "type": "float"
        },
        {
         "name": "858",
         "rawType": "float64",
         "type": "float"
        },
        {
         "name": "859",
         "rawType": "float64",
         "type": "float"
        },
        {
         "name": "860",
         "rawType": "float64",
         "type": "float"
        },
        {
         "name": "861",
         "rawType": "float64",
         "type": "float"
        },
        {
         "name": "862",
         "rawType": "float64",
         "type": "float"
        },
        {
         "name": "863",
         "rawType": "float64",
         "type": "float"
        },
        {
         "name": "864",
         "rawType": "float64",
         "type": "float"
        },
        {
         "name": "865",
         "rawType": "float64",
         "type": "float"
        },
        {
         "name": "866",
         "rawType": "float64",
         "type": "float"
        },
        {
         "name": "867",
         "rawType": "float64",
         "type": "float"
        },
        {
         "name": "868",
         "rawType": "float64",
         "type": "float"
        },
        {
         "name": "869",
         "rawType": "float64",
         "type": "float"
        },
        {
         "name": "870",
         "rawType": "float64",
         "type": "float"
        },
        {
         "name": "871",
         "rawType": "float64",
         "type": "float"
        },
        {
         "name": "872",
         "rawType": "float64",
         "type": "float"
        },
        {
         "name": "873",
         "rawType": "float64",
         "type": "float"
        },
        {
         "name": "874",
         "rawType": "float64",
         "type": "float"
        },
        {
         "name": "875",
         "rawType": "float64",
         "type": "float"
        },
        {
         "name": "876",
         "rawType": "float64",
         "type": "float"
        },
        {
         "name": "877",
         "rawType": "float64",
         "type": "float"
        },
        {
         "name": "878",
         "rawType": "float64",
         "type": "float"
        },
        {
         "name": "879",
         "rawType": "float64",
         "type": "float"
        },
        {
         "name": "880",
         "rawType": "float64",
         "type": "float"
        },
        {
         "name": "881",
         "rawType": "float64",
         "type": "float"
        },
        {
         "name": "882",
         "rawType": "float64",
         "type": "float"
        },
        {
         "name": "883",
         "rawType": "float64",
         "type": "float"
        },
        {
         "name": "884",
         "rawType": "float64",
         "type": "float"
        },
        {
         "name": "885",
         "rawType": "float64",
         "type": "float"
        },
        {
         "name": "886",
         "rawType": "float64",
         "type": "float"
        },
        {
         "name": "887",
         "rawType": "float64",
         "type": "float"
        },
        {
         "name": "888",
         "rawType": "float64",
         "type": "float"
        },
        {
         "name": "889",
         "rawType": "float64",
         "type": "float"
        },
        {
         "name": "890",
         "rawType": "float64",
         "type": "float"
        },
        {
         "name": "891",
         "rawType": "float64",
         "type": "float"
        },
        {
         "name": "892",
         "rawType": "float64",
         "type": "float"
        },
        {
         "name": "893",
         "rawType": "float64",
         "type": "float"
        },
        {
         "name": "894",
         "rawType": "float64",
         "type": "float"
        },
        {
         "name": "895",
         "rawType": "float64",
         "type": "float"
        },
        {
         "name": "896",
         "rawType": "float64",
         "type": "float"
        },
        {
         "name": "897",
         "rawType": "float64",
         "type": "float"
        },
        {
         "name": "898",
         "rawType": "float64",
         "type": "float"
        },
        {
         "name": "899",
         "rawType": "float64",
         "type": "float"
        },
        {
         "name": "900",
         "rawType": "float64",
         "type": "float"
        },
        {
         "name": "901",
         "rawType": "float64",
         "type": "float"
        },
        {
         "name": "902",
         "rawType": "float64",
         "type": "float"
        },
        {
         "name": "903",
         "rawType": "float64",
         "type": "float"
        },
        {
         "name": "904",
         "rawType": "float64",
         "type": "float"
        },
        {
         "name": "905",
         "rawType": "float64",
         "type": "float"
        },
        {
         "name": "906",
         "rawType": "float64",
         "type": "float"
        },
        {
         "name": "907",
         "rawType": "float64",
         "type": "float"
        },
        {
         "name": "908",
         "rawType": "float64",
         "type": "float"
        },
        {
         "name": "909",
         "rawType": "float64",
         "type": "float"
        },
        {
         "name": "910",
         "rawType": "float64",
         "type": "float"
        },
        {
         "name": "911",
         "rawType": "float64",
         "type": "float"
        },
        {
         "name": "912",
         "rawType": "float64",
         "type": "float"
        },
        {
         "name": "913",
         "rawType": "float64",
         "type": "float"
        },
        {
         "name": "914",
         "rawType": "float64",
         "type": "float"
        },
        {
         "name": "915",
         "rawType": "float64",
         "type": "float"
        },
        {
         "name": "916",
         "rawType": "float64",
         "type": "float"
        },
        {
         "name": "917",
         "rawType": "float64",
         "type": "float"
        },
        {
         "name": "918",
         "rawType": "float64",
         "type": "float"
        },
        {
         "name": "919",
         "rawType": "float64",
         "type": "float"
        },
        {
         "name": "920",
         "rawType": "float64",
         "type": "float"
        },
        {
         "name": "921",
         "rawType": "float64",
         "type": "float"
        },
        {
         "name": "922",
         "rawType": "float64",
         "type": "float"
        },
        {
         "name": "923",
         "rawType": "float64",
         "type": "float"
        },
        {
         "name": "924",
         "rawType": "float64",
         "type": "float"
        },
        {
         "name": "925",
         "rawType": "float64",
         "type": "float"
        },
        {
         "name": "926",
         "rawType": "float64",
         "type": "float"
        },
        {
         "name": "927",
         "rawType": "float64",
         "type": "float"
        },
        {
         "name": "928",
         "rawType": "float64",
         "type": "float"
        },
        {
         "name": "929",
         "rawType": "float64",
         "type": "float"
        },
        {
         "name": "930",
         "rawType": "float64",
         "type": "float"
        },
        {
         "name": "931",
         "rawType": "float64",
         "type": "float"
        },
        {
         "name": "932",
         "rawType": "float64",
         "type": "float"
        },
        {
         "name": "933",
         "rawType": "float64",
         "type": "float"
        },
        {
         "name": "934",
         "rawType": "float64",
         "type": "float"
        },
        {
         "name": "935",
         "rawType": "float64",
         "type": "float"
        },
        {
         "name": "936",
         "rawType": "float64",
         "type": "float"
        },
        {
         "name": "937",
         "rawType": "float64",
         "type": "float"
        },
        {
         "name": "938",
         "rawType": "float64",
         "type": "float"
        },
        {
         "name": "939",
         "rawType": "float64",
         "type": "float"
        },
        {
         "name": "940",
         "rawType": "float64",
         "type": "float"
        },
        {
         "name": "941",
         "rawType": "float64",
         "type": "float"
        },
        {
         "name": "942",
         "rawType": "float64",
         "type": "float"
        },
        {
         "name": "943",
         "rawType": "float64",
         "type": "float"
        },
        {
         "name": "944",
         "rawType": "float64",
         "type": "float"
        },
        {
         "name": "945",
         "rawType": "float64",
         "type": "float"
        },
        {
         "name": "946",
         "rawType": "float64",
         "type": "float"
        },
        {
         "name": "947",
         "rawType": "float64",
         "type": "float"
        },
        {
         "name": "948",
         "rawType": "float64",
         "type": "float"
        },
        {
         "name": "949",
         "rawType": "float64",
         "type": "float"
        },
        {
         "name": "950",
         "rawType": "float64",
         "type": "float"
        },
        {
         "name": "951",
         "rawType": "float64",
         "type": "float"
        },
        {
         "name": "952",
         "rawType": "float64",
         "type": "float"
        },
        {
         "name": "953",
         "rawType": "float64",
         "type": "float"
        },
        {
         "name": "954",
         "rawType": "float64",
         "type": "float"
        },
        {
         "name": "955",
         "rawType": "float64",
         "type": "float"
        },
        {
         "name": "956",
         "rawType": "float64",
         "type": "float"
        },
        {
         "name": "957",
         "rawType": "float64",
         "type": "float"
        },
        {
         "name": "958",
         "rawType": "float64",
         "type": "float"
        },
        {
         "name": "959",
         "rawType": "float64",
         "type": "float"
        },
        {
         "name": "960",
         "rawType": "float64",
         "type": "float"
        },
        {
         "name": "961",
         "rawType": "float64",
         "type": "float"
        },
        {
         "name": "962",
         "rawType": "float64",
         "type": "float"
        },
        {
         "name": "963",
         "rawType": "float64",
         "type": "float"
        },
        {
         "name": "964",
         "rawType": "float64",
         "type": "float"
        },
        {
         "name": "965",
         "rawType": "float64",
         "type": "float"
        },
        {
         "name": "966",
         "rawType": "float64",
         "type": "float"
        },
        {
         "name": "967",
         "rawType": "float64",
         "type": "float"
        },
        {
         "name": "968",
         "rawType": "float64",
         "type": "float"
        },
        {
         "name": "969",
         "rawType": "float64",
         "type": "float"
        },
        {
         "name": "970",
         "rawType": "float64",
         "type": "float"
        },
        {
         "name": "971",
         "rawType": "float64",
         "type": "float"
        },
        {
         "name": "972",
         "rawType": "float64",
         "type": "float"
        },
        {
         "name": "973",
         "rawType": "float64",
         "type": "float"
        },
        {
         "name": "974",
         "rawType": "float64",
         "type": "float"
        },
        {
         "name": "975",
         "rawType": "float64",
         "type": "float"
        },
        {
         "name": "976",
         "rawType": "float64",
         "type": "float"
        },
        {
         "name": "977",
         "rawType": "float64",
         "type": "float"
        },
        {
         "name": "978",
         "rawType": "float64",
         "type": "float"
        },
        {
         "name": "979",
         "rawType": "float64",
         "type": "float"
        },
        {
         "name": "980",
         "rawType": "float64",
         "type": "float"
        },
        {
         "name": "981",
         "rawType": "float64",
         "type": "float"
        },
        {
         "name": "982",
         "rawType": "float64",
         "type": "float"
        },
        {
         "name": "983",
         "rawType": "float64",
         "type": "float"
        },
        {
         "name": "984",
         "rawType": "float64",
         "type": "float"
        },
        {
         "name": "985",
         "rawType": "float64",
         "type": "float"
        },
        {
         "name": "986",
         "rawType": "float64",
         "type": "float"
        },
        {
         "name": "987",
         "rawType": "float64",
         "type": "float"
        },
        {
         "name": "988",
         "rawType": "float64",
         "type": "float"
        },
        {
         "name": "989",
         "rawType": "float64",
         "type": "float"
        },
        {
         "name": "990",
         "rawType": "float64",
         "type": "float"
        },
        {
         "name": "991",
         "rawType": "float64",
         "type": "float"
        },
        {
         "name": "992",
         "rawType": "float64",
         "type": "float"
        },
        {
         "name": "993",
         "rawType": "float64",
         "type": "float"
        },
        {
         "name": "994",
         "rawType": "float64",
         "type": "float"
        },
        {
         "name": "995",
         "rawType": "float64",
         "type": "float"
        },
        {
         "name": "996",
         "rawType": "float64",
         "type": "float"
        },
        {
         "name": "997",
         "rawType": "float64",
         "type": "float"
        },
        {
         "name": "998",
         "rawType": "float64",
         "type": "float"
        },
        {
         "name": "999",
         "rawType": "float64",
         "type": "float"
        },
        {
         "name": "1000",
         "rawType": "float64",
         "type": "float"
        },
        {
         "name": "1001",
         "rawType": "float64",
         "type": "float"
        },
        {
         "name": "1002",
         "rawType": "float64",
         "type": "float"
        },
        {
         "name": "1003",
         "rawType": "float64",
         "type": "float"
        },
        {
         "name": "1004",
         "rawType": "float64",
         "type": "float"
        },
        {
         "name": "1005",
         "rawType": "float64",
         "type": "float"
        },
        {
         "name": "1006",
         "rawType": "float64",
         "type": "float"
        },
        {
         "name": "1007",
         "rawType": "float64",
         "type": "float"
        },
        {
         "name": "1008",
         "rawType": "float64",
         "type": "float"
        },
        {
         "name": "1009",
         "rawType": "float64",
         "type": "float"
        },
        {
         "name": "1010",
         "rawType": "float64",
         "type": "float"
        },
        {
         "name": "1011",
         "rawType": "float64",
         "type": "float"
        },
        {
         "name": "1012",
         "rawType": "float64",
         "type": "float"
        },
        {
         "name": "1013",
         "rawType": "float64",
         "type": "float"
        },
        {
         "name": "1014",
         "rawType": "float64",
         "type": "float"
        },
        {
         "name": "1015",
         "rawType": "float64",
         "type": "float"
        },
        {
         "name": "1016",
         "rawType": "float64",
         "type": "float"
        },
        {
         "name": "1017",
         "rawType": "float64",
         "type": "float"
        },
        {
         "name": "1018",
         "rawType": "float64",
         "type": "float"
        },
        {
         "name": "1019",
         "rawType": "float64",
         "type": "float"
        },
        {
         "name": "1020",
         "rawType": "float64",
         "type": "float"
        },
        {
         "name": "1021",
         "rawType": "float64",
         "type": "float"
        },
        {
         "name": "1022",
         "rawType": "float64",
         "type": "float"
        },
        {
         "name": "1023",
         "rawType": "float64",
         "type": "float"
        },
        {
         "name": "1024",
         "rawType": "float64",
         "type": "float"
        },
        {
         "name": "1025",
         "rawType": "float64",
         "type": "float"
        },
        {
         "name": "1026",
         "rawType": "float64",
         "type": "float"
        },
        {
         "name": "1027",
         "rawType": "float64",
         "type": "float"
        },
        {
         "name": "1028",
         "rawType": "float64",
         "type": "float"
        },
        {
         "name": "1029",
         "rawType": "float64",
         "type": "float"
        },
        {
         "name": "1030",
         "rawType": "float64",
         "type": "float"
        },
        {
         "name": "1031",
         "rawType": "float64",
         "type": "float"
        },
        {
         "name": "1032",
         "rawType": "float64",
         "type": "float"
        },
        {
         "name": "1033",
         "rawType": "float64",
         "type": "float"
        },
        {
         "name": "1034",
         "rawType": "float64",
         "type": "float"
        },
        {
         "name": "1035",
         "rawType": "float64",
         "type": "float"
        },
        {
         "name": "1036",
         "rawType": "float64",
         "type": "float"
        },
        {
         "name": "1037",
         "rawType": "float64",
         "type": "float"
        },
        {
         "name": "1038",
         "rawType": "float64",
         "type": "float"
        },
        {
         "name": "1039",
         "rawType": "float64",
         "type": "float"
        },
        {
         "name": "1040",
         "rawType": "float64",
         "type": "float"
        },
        {
         "name": "1041",
         "rawType": "float64",
         "type": "float"
        },
        {
         "name": "1042",
         "rawType": "float64",
         "type": "float"
        },
        {
         "name": "1043",
         "rawType": "float64",
         "type": "float"
        },
        {
         "name": "1044",
         "rawType": "float64",
         "type": "float"
        },
        {
         "name": "1045",
         "rawType": "float64",
         "type": "float"
        },
        {
         "name": "1046",
         "rawType": "float64",
         "type": "float"
        },
        {
         "name": "1047",
         "rawType": "float64",
         "type": "float"
        },
        {
         "name": "1048",
         "rawType": "float64",
         "type": "float"
        },
        {
         "name": "1049",
         "rawType": "float64",
         "type": "float"
        },
        {
         "name": "1050",
         "rawType": "float64",
         "type": "float"
        },
        {
         "name": "1051",
         "rawType": "float64",
         "type": "float"
        },
        {
         "name": "1052",
         "rawType": "float64",
         "type": "float"
        },
        {
         "name": "1053",
         "rawType": "float64",
         "type": "float"
        },
        {
         "name": "1054",
         "rawType": "float64",
         "type": "float"
        },
        {
         "name": "1055",
         "rawType": "float64",
         "type": "float"
        },
        {
         "name": "1056",
         "rawType": "float64",
         "type": "float"
        },
        {
         "name": "1057",
         "rawType": "float64",
         "type": "float"
        },
        {
         "name": "1058",
         "rawType": "float64",
         "type": "float"
        },
        {
         "name": "1059",
         "rawType": "float64",
         "type": "float"
        },
        {
         "name": "1060",
         "rawType": "float64",
         "type": "float"
        },
        {
         "name": "1061",
         "rawType": "float64",
         "type": "float"
        },
        {
         "name": "1062",
         "rawType": "float64",
         "type": "float"
        },
        {
         "name": "1063",
         "rawType": "float64",
         "type": "float"
        },
        {
         "name": "1064",
         "rawType": "float64",
         "type": "float"
        },
        {
         "name": "1065",
         "rawType": "float64",
         "type": "float"
        },
        {
         "name": "1066",
         "rawType": "float64",
         "type": "float"
        },
        {
         "name": "1067",
         "rawType": "float64",
         "type": "float"
        },
        {
         "name": "1068",
         "rawType": "float64",
         "type": "float"
        },
        {
         "name": "1069",
         "rawType": "float64",
         "type": "float"
        },
        {
         "name": "1070",
         "rawType": "float64",
         "type": "float"
        },
        {
         "name": "1071",
         "rawType": "float64",
         "type": "float"
        },
        {
         "name": "1072",
         "rawType": "float64",
         "type": "float"
        },
        {
         "name": "1073",
         "rawType": "float64",
         "type": "float"
        },
        {
         "name": "1074",
         "rawType": "float64",
         "type": "float"
        },
        {
         "name": "1075",
         "rawType": "float64",
         "type": "float"
        },
        {
         "name": "1076",
         "rawType": "float64",
         "type": "float"
        },
        {
         "name": "1077",
         "rawType": "float64",
         "type": "float"
        },
        {
         "name": "1078",
         "rawType": "float64",
         "type": "float"
        },
        {
         "name": "1079",
         "rawType": "float64",
         "type": "float"
        },
        {
         "name": "1080",
         "rawType": "float64",
         "type": "float"
        },
        {
         "name": "1081",
         "rawType": "float64",
         "type": "float"
        },
        {
         "name": "1082",
         "rawType": "float64",
         "type": "float"
        },
        {
         "name": "1083",
         "rawType": "float64",
         "type": "float"
        },
        {
         "name": "1084",
         "rawType": "float64",
         "type": "float"
        },
        {
         "name": "1085",
         "rawType": "float64",
         "type": "float"
        },
        {
         "name": "1086",
         "rawType": "float64",
         "type": "float"
        },
        {
         "name": "1087",
         "rawType": "float64",
         "type": "float"
        },
        {
         "name": "1088",
         "rawType": "float64",
         "type": "float"
        },
        {
         "name": "1089",
         "rawType": "float64",
         "type": "float"
        },
        {
         "name": "1090",
         "rawType": "float64",
         "type": "float"
        },
        {
         "name": "1091",
         "rawType": "float64",
         "type": "float"
        },
        {
         "name": "1092",
         "rawType": "float64",
         "type": "float"
        },
        {
         "name": "1093",
         "rawType": "float64",
         "type": "float"
        },
        {
         "name": "1094",
         "rawType": "float64",
         "type": "float"
        },
        {
         "name": "1095",
         "rawType": "float64",
         "type": "float"
        },
        {
         "name": "1096",
         "rawType": "float64",
         "type": "float"
        },
        {
         "name": "1097",
         "rawType": "float64",
         "type": "float"
        },
        {
         "name": "1098",
         "rawType": "float64",
         "type": "float"
        },
        {
         "name": "1099",
         "rawType": "float64",
         "type": "float"
        },
        {
         "name": "1100",
         "rawType": "float64",
         "type": "float"
        },
        {
         "name": "1101",
         "rawType": "float64",
         "type": "float"
        },
        {
         "name": "1102",
         "rawType": "float64",
         "type": "float"
        },
        {
         "name": "1103",
         "rawType": "float64",
         "type": "float"
        },
        {
         "name": "1104",
         "rawType": "float64",
         "type": "float"
        },
        {
         "name": "1105",
         "rawType": "float64",
         "type": "float"
        },
        {
         "name": "1106",
         "rawType": "float64",
         "type": "float"
        },
        {
         "name": "1107",
         "rawType": "float64",
         "type": "float"
        },
        {
         "name": "1108",
         "rawType": "float64",
         "type": "float"
        },
        {
         "name": "1109",
         "rawType": "float64",
         "type": "float"
        },
        {
         "name": "1110",
         "rawType": "float64",
         "type": "float"
        },
        {
         "name": "1111",
         "rawType": "float64",
         "type": "float"
        },
        {
         "name": "1112",
         "rawType": "float64",
         "type": "float"
        },
        {
         "name": "1113",
         "rawType": "float64",
         "type": "float"
        },
        {
         "name": "1114",
         "rawType": "float64",
         "type": "float"
        },
        {
         "name": "1115",
         "rawType": "float64",
         "type": "float"
        },
        {
         "name": "1116",
         "rawType": "float64",
         "type": "float"
        },
        {
         "name": "1117",
         "rawType": "float64",
         "type": "float"
        },
        {
         "name": "1118",
         "rawType": "float64",
         "type": "float"
        },
        {
         "name": "1119",
         "rawType": "float64",
         "type": "float"
        },
        {
         "name": "1120",
         "rawType": "float64",
         "type": "float"
        },
        {
         "name": "1121",
         "rawType": "float64",
         "type": "float"
        },
        {
         "name": "1122",
         "rawType": "float64",
         "type": "float"
        },
        {
         "name": "1123",
         "rawType": "float64",
         "type": "float"
        },
        {
         "name": "1124",
         "rawType": "float64",
         "type": "float"
        },
        {
         "name": "1125",
         "rawType": "float64",
         "type": "float"
        },
        {
         "name": "1126",
         "rawType": "float64",
         "type": "float"
        },
        {
         "name": "1127",
         "rawType": "float64",
         "type": "float"
        },
        {
         "name": "1128",
         "rawType": "float64",
         "type": "float"
        },
        {
         "name": "1129",
         "rawType": "float64",
         "type": "float"
        },
        {
         "name": "1130",
         "rawType": "float64",
         "type": "float"
        },
        {
         "name": "1131",
         "rawType": "float64",
         "type": "float"
        },
        {
         "name": "1132",
         "rawType": "float64",
         "type": "float"
        },
        {
         "name": "1133",
         "rawType": "float64",
         "type": "float"
        },
        {
         "name": "1134",
         "rawType": "float64",
         "type": "float"
        },
        {
         "name": "1135",
         "rawType": "float64",
         "type": "float"
        },
        {
         "name": "1136",
         "rawType": "float64",
         "type": "float"
        },
        {
         "name": "1137",
         "rawType": "float64",
         "type": "float"
        },
        {
         "name": "1138",
         "rawType": "float64",
         "type": "float"
        },
        {
         "name": "1139",
         "rawType": "float64",
         "type": "float"
        },
        {
         "name": "1140",
         "rawType": "float64",
         "type": "float"
        },
        {
         "name": "1141",
         "rawType": "float64",
         "type": "float"
        },
        {
         "name": "1142",
         "rawType": "float64",
         "type": "float"
        },
        {
         "name": "1143",
         "rawType": "float64",
         "type": "float"
        },
        {
         "name": "1144",
         "rawType": "float64",
         "type": "float"
        },
        {
         "name": "1145",
         "rawType": "float64",
         "type": "float"
        },
        {
         "name": "1146",
         "rawType": "float64",
         "type": "float"
        },
        {
         "name": "1147",
         "rawType": "float64",
         "type": "float"
        },
        {
         "name": "1148",
         "rawType": "float64",
         "type": "float"
        },
        {
         "name": "1149",
         "rawType": "float64",
         "type": "float"
        },
        {
         "name": "1150",
         "rawType": "float64",
         "type": "float"
        },
        {
         "name": "1151",
         "rawType": "float64",
         "type": "float"
        },
        {
         "name": "1152",
         "rawType": "float64",
         "type": "float"
        },
        {
         "name": "1153",
         "rawType": "float64",
         "type": "float"
        },
        {
         "name": "1154",
         "rawType": "float64",
         "type": "float"
        },
        {
         "name": "1155",
         "rawType": "float64",
         "type": "float"
        },
        {
         "name": "1156",
         "rawType": "float64",
         "type": "float"
        },
        {
         "name": "1157",
         "rawType": "float64",
         "type": "float"
        },
        {
         "name": "1158",
         "rawType": "float64",
         "type": "float"
        },
        {
         "name": "1159",
         "rawType": "float64",
         "type": "float"
        },
        {
         "name": "1160",
         "rawType": "float64",
         "type": "float"
        },
        {
         "name": "1161",
         "rawType": "float64",
         "type": "float"
        },
        {
         "name": "1162",
         "rawType": "float64",
         "type": "float"
        },
        {
         "name": "1163",
         "rawType": "float64",
         "type": "float"
        },
        {
         "name": "1164",
         "rawType": "float64",
         "type": "float"
        },
        {
         "name": "1165",
         "rawType": "float64",
         "type": "float"
        },
        {
         "name": "1166",
         "rawType": "float64",
         "type": "float"
        },
        {
         "name": "1167",
         "rawType": "float64",
         "type": "float"
        },
        {
         "name": "1168",
         "rawType": "float64",
         "type": "float"
        },
        {
         "name": "1169",
         "rawType": "float64",
         "type": "float"
        },
        {
         "name": "1170",
         "rawType": "float64",
         "type": "float"
        },
        {
         "name": "1171",
         "rawType": "float64",
         "type": "float"
        },
        {
         "name": "1172",
         "rawType": "float64",
         "type": "float"
        },
        {
         "name": "1173",
         "rawType": "float64",
         "type": "float"
        },
        {
         "name": "1174",
         "rawType": "float64",
         "type": "float"
        },
        {
         "name": "1175",
         "rawType": "float64",
         "type": "float"
        },
        {
         "name": "1176",
         "rawType": "float64",
         "type": "float"
        },
        {
         "name": "1177",
         "rawType": "float64",
         "type": "float"
        },
        {
         "name": "1178",
         "rawType": "float64",
         "type": "float"
        },
        {
         "name": "1179",
         "rawType": "float64",
         "type": "float"
        },
        {
         "name": "1180",
         "rawType": "float64",
         "type": "float"
        },
        {
         "name": "1181",
         "rawType": "float64",
         "type": "float"
        },
        {
         "name": "1182",
         "rawType": "float64",
         "type": "float"
        },
        {
         "name": "1183",
         "rawType": "float64",
         "type": "float"
        },
        {
         "name": "1184",
         "rawType": "float64",
         "type": "float"
        },
        {
         "name": "1185",
         "rawType": "float64",
         "type": "float"
        },
        {
         "name": "1186",
         "rawType": "float64",
         "type": "float"
        },
        {
         "name": "1187",
         "rawType": "float64",
         "type": "float"
        },
        {
         "name": "1188",
         "rawType": "float64",
         "type": "float"
        },
        {
         "name": "1189",
         "rawType": "float64",
         "type": "float"
        },
        {
         "name": "1190",
         "rawType": "float64",
         "type": "float"
        },
        {
         "name": "1191",
         "rawType": "float64",
         "type": "float"
        },
        {
         "name": "1192",
         "rawType": "float64",
         "type": "float"
        },
        {
         "name": "1193",
         "rawType": "float64",
         "type": "float"
        },
        {
         "name": "1194",
         "rawType": "float64",
         "type": "float"
        },
        {
         "name": "1195",
         "rawType": "float64",
         "type": "float"
        },
        {
         "name": "1196",
         "rawType": "float64",
         "type": "float"
        },
        {
         "name": "1197",
         "rawType": "float64",
         "type": "float"
        },
        {
         "name": "1198",
         "rawType": "float64",
         "type": "float"
        },
        {
         "name": "1199",
         "rawType": "float64",
         "type": "float"
        },
        {
         "name": "1200",
         "rawType": "float64",
         "type": "float"
        },
        {
         "name": "1201",
         "rawType": "float64",
         "type": "float"
        },
        {
         "name": "1202",
         "rawType": "float64",
         "type": "float"
        },
        {
         "name": "1203",
         "rawType": "float64",
         "type": "float"
        },
        {
         "name": "1204",
         "rawType": "float64",
         "type": "float"
        },
        {
         "name": "1205",
         "rawType": "float64",
         "type": "float"
        },
        {
         "name": "1206",
         "rawType": "float64",
         "type": "float"
        },
        {
         "name": "1207",
         "rawType": "float64",
         "type": "float"
        },
        {
         "name": "1208",
         "rawType": "float64",
         "type": "float"
        },
        {
         "name": "1209",
         "rawType": "float64",
         "type": "float"
        },
        {
         "name": "1210",
         "rawType": "float64",
         "type": "float"
        },
        {
         "name": "1211",
         "rawType": "float64",
         "type": "float"
        },
        {
         "name": "1212",
         "rawType": "float64",
         "type": "float"
        },
        {
         "name": "1213",
         "rawType": "float64",
         "type": "float"
        },
        {
         "name": "1214",
         "rawType": "float64",
         "type": "float"
        },
        {
         "name": "1215",
         "rawType": "float64",
         "type": "float"
        },
        {
         "name": "1216",
         "rawType": "float64",
         "type": "float"
        },
        {
         "name": "1217",
         "rawType": "float64",
         "type": "float"
        },
        {
         "name": "1218",
         "rawType": "float64",
         "type": "float"
        },
        {
         "name": "1219",
         "rawType": "float64",
         "type": "float"
        },
        {
         "name": "1220",
         "rawType": "float64",
         "type": "float"
        },
        {
         "name": "1221",
         "rawType": "float64",
         "type": "float"
        },
        {
         "name": "1222",
         "rawType": "float64",
         "type": "float"
        },
        {
         "name": "1223",
         "rawType": "float64",
         "type": "float"
        },
        {
         "name": "1224",
         "rawType": "float64",
         "type": "float"
        },
        {
         "name": "1225",
         "rawType": "float64",
         "type": "float"
        },
        {
         "name": "1226",
         "rawType": "float64",
         "type": "float"
        },
        {
         "name": "1227",
         "rawType": "float64",
         "type": "float"
        },
        {
         "name": "1228",
         "rawType": "float64",
         "type": "float"
        },
        {
         "name": "1229",
         "rawType": "float64",
         "type": "float"
        },
        {
         "name": "1230",
         "rawType": "float64",
         "type": "float"
        },
        {
         "name": "1231",
         "rawType": "float64",
         "type": "float"
        },
        {
         "name": "1232",
         "rawType": "float64",
         "type": "float"
        },
        {
         "name": "1233",
         "rawType": "float64",
         "type": "float"
        },
        {
         "name": "1234",
         "rawType": "float64",
         "type": "float"
        },
        {
         "name": "1235",
         "rawType": "float64",
         "type": "float"
        },
        {
         "name": "1236",
         "rawType": "float64",
         "type": "float"
        },
        {
         "name": "1237",
         "rawType": "float64",
         "type": "float"
        },
        {
         "name": "1238",
         "rawType": "float64",
         "type": "float"
        },
        {
         "name": "1239",
         "rawType": "float64",
         "type": "float"
        },
        {
         "name": "1240",
         "rawType": "float64",
         "type": "float"
        },
        {
         "name": "1241",
         "rawType": "float64",
         "type": "float"
        },
        {
         "name": "1242",
         "rawType": "float64",
         "type": "float"
        },
        {
         "name": "1243",
         "rawType": "float64",
         "type": "float"
        },
        {
         "name": "1244",
         "rawType": "float64",
         "type": "float"
        },
        {
         "name": "1245",
         "rawType": "float64",
         "type": "float"
        },
        {
         "name": "1246",
         "rawType": "float64",
         "type": "float"
        },
        {
         "name": "1247",
         "rawType": "float64",
         "type": "float"
        },
        {
         "name": "1248",
         "rawType": "float64",
         "type": "float"
        },
        {
         "name": "1249",
         "rawType": "float64",
         "type": "float"
        },
        {
         "name": "1250",
         "rawType": "float64",
         "type": "float"
        },
        {
         "name": "1251",
         "rawType": "float64",
         "type": "float"
        },
        {
         "name": "1252",
         "rawType": "float64",
         "type": "float"
        },
        {
         "name": "1253",
         "rawType": "float64",
         "type": "float"
        },
        {
         "name": "1254",
         "rawType": "float64",
         "type": "float"
        },
        {
         "name": "1255",
         "rawType": "float64",
         "type": "float"
        },
        {
         "name": "1256",
         "rawType": "float64",
         "type": "float"
        },
        {
         "name": "1257",
         "rawType": "float64",
         "type": "float"
        },
        {
         "name": "1258",
         "rawType": "float64",
         "type": "float"
        },
        {
         "name": "1259",
         "rawType": "float64",
         "type": "float"
        },
        {
         "name": "1260",
         "rawType": "float64",
         "type": "float"
        },
        {
         "name": "1261",
         "rawType": "float64",
         "type": "float"
        },
        {
         "name": "1262",
         "rawType": "float64",
         "type": "float"
        },
        {
         "name": "1263",
         "rawType": "float64",
         "type": "float"
        },
        {
         "name": "1264",
         "rawType": "float64",
         "type": "float"
        },
        {
         "name": "1265",
         "rawType": "float64",
         "type": "float"
        },
        {
         "name": "1266",
         "rawType": "float64",
         "type": "float"
        },
        {
         "name": "1267",
         "rawType": "float64",
         "type": "float"
        },
        {
         "name": "1268",
         "rawType": "float64",
         "type": "float"
        },
        {
         "name": "1269",
         "rawType": "float64",
         "type": "float"
        },
        {
         "name": "1270",
         "rawType": "float64",
         "type": "float"
        },
        {
         "name": "1271",
         "rawType": "float64",
         "type": "float"
        },
        {
         "name": "1272",
         "rawType": "float64",
         "type": "float"
        },
        {
         "name": "1273",
         "rawType": "float64",
         "type": "float"
        },
        {
         "name": "1274",
         "rawType": "float64",
         "type": "float"
        },
        {
         "name": "1275",
         "rawType": "float64",
         "type": "float"
        },
        {
         "name": "1276",
         "rawType": "float64",
         "type": "float"
        },
        {
         "name": "1277",
         "rawType": "float64",
         "type": "float"
        },
        {
         "name": "1278",
         "rawType": "float64",
         "type": "float"
        },
        {
         "name": "1279",
         "rawType": "float64",
         "type": "float"
        },
        {
         "name": "1280",
         "rawType": "float64",
         "type": "float"
        },
        {
         "name": "1281",
         "rawType": "float64",
         "type": "float"
        },
        {
         "name": "1282",
         "rawType": "float64",
         "type": "float"
        },
        {
         "name": "1283",
         "rawType": "float64",
         "type": "float"
        },
        {
         "name": "1284",
         "rawType": "float64",
         "type": "float"
        },
        {
         "name": "1285",
         "rawType": "float64",
         "type": "float"
        },
        {
         "name": "1286",
         "rawType": "float64",
         "type": "float"
        },
        {
         "name": "1287",
         "rawType": "float64",
         "type": "float"
        },
        {
         "name": "1288",
         "rawType": "float64",
         "type": "float"
        },
        {
         "name": "1289",
         "rawType": "float64",
         "type": "float"
        },
        {
         "name": "1290",
         "rawType": "float64",
         "type": "float"
        },
        {
         "name": "1291",
         "rawType": "float64",
         "type": "float"
        },
        {
         "name": "1292",
         "rawType": "float64",
         "type": "float"
        },
        {
         "name": "1293",
         "rawType": "float64",
         "type": "float"
        },
        {
         "name": "1294",
         "rawType": "float64",
         "type": "float"
        },
        {
         "name": "1295",
         "rawType": "float64",
         "type": "float"
        },
        {
         "name": "1296",
         "rawType": "float64",
         "type": "float"
        },
        {
         "name": "1297",
         "rawType": "float64",
         "type": "float"
        },
        {
         "name": "1298",
         "rawType": "float64",
         "type": "float"
        },
        {
         "name": "1299",
         "rawType": "float64",
         "type": "float"
        },
        {
         "name": "1300",
         "rawType": "float64",
         "type": "float"
        },
        {
         "name": "1301",
         "rawType": "float64",
         "type": "float"
        },
        {
         "name": "1302",
         "rawType": "float64",
         "type": "float"
        },
        {
         "name": "1303",
         "rawType": "float64",
         "type": "float"
        },
        {
         "name": "1304",
         "rawType": "float64",
         "type": "float"
        },
        {
         "name": "1305",
         "rawType": "float64",
         "type": "float"
        },
        {
         "name": "1306",
         "rawType": "float64",
         "type": "float"
        },
        {
         "name": "1307",
         "rawType": "float64",
         "type": "float"
        },
        {
         "name": "1308",
         "rawType": "float64",
         "type": "float"
        },
        {
         "name": "1309",
         "rawType": "float64",
         "type": "float"
        },
        {
         "name": "1310",
         "rawType": "float64",
         "type": "float"
        },
        {
         "name": "1311",
         "rawType": "float64",
         "type": "float"
        },
        {
         "name": "1312",
         "rawType": "float64",
         "type": "float"
        },
        {
         "name": "1313",
         "rawType": "float64",
         "type": "float"
        },
        {
         "name": "1314",
         "rawType": "float64",
         "type": "float"
        },
        {
         "name": "1315",
         "rawType": "float64",
         "type": "float"
        },
        {
         "name": "1316",
         "rawType": "float64",
         "type": "float"
        },
        {
         "name": "1317",
         "rawType": "float64",
         "type": "float"
        },
        {
         "name": "1318",
         "rawType": "float64",
         "type": "float"
        },
        {
         "name": "1319",
         "rawType": "float64",
         "type": "float"
        },
        {
         "name": "1320",
         "rawType": "float64",
         "type": "float"
        },
        {
         "name": "1321",
         "rawType": "float64",
         "type": "float"
        },
        {
         "name": "1322",
         "rawType": "float64",
         "type": "float"
        },
        {
         "name": "1323",
         "rawType": "float64",
         "type": "float"
        },
        {
         "name": "1324",
         "rawType": "float64",
         "type": "float"
        },
        {
         "name": "1325",
         "rawType": "float64",
         "type": "float"
        },
        {
         "name": "1326",
         "rawType": "float64",
         "type": "float"
        },
        {
         "name": "1327",
         "rawType": "float64",
         "type": "float"
        },
        {
         "name": "1328",
         "rawType": "float64",
         "type": "float"
        },
        {
         "name": "1329",
         "rawType": "float64",
         "type": "float"
        },
        {
         "name": "1330",
         "rawType": "float64",
         "type": "float"
        },
        {
         "name": "1331",
         "rawType": "float64",
         "type": "float"
        },
        {
         "name": "1332",
         "rawType": "float64",
         "type": "float"
        },
        {
         "name": "1333",
         "rawType": "float64",
         "type": "float"
        },
        {
         "name": "1334",
         "rawType": "float64",
         "type": "float"
        },
        {
         "name": "1335",
         "rawType": "float64",
         "type": "float"
        },
        {
         "name": "1336",
         "rawType": "float64",
         "type": "float"
        },
        {
         "name": "1337",
         "rawType": "float64",
         "type": "float"
        },
        {
         "name": "1338",
         "rawType": "float64",
         "type": "float"
        },
        {
         "name": "1339",
         "rawType": "float64",
         "type": "float"
        },
        {
         "name": "1340",
         "rawType": "float64",
         "type": "float"
        },
        {
         "name": "1341",
         "rawType": "float64",
         "type": "float"
        },
        {
         "name": "1342",
         "rawType": "float64",
         "type": "float"
        },
        {
         "name": "1343",
         "rawType": "float64",
         "type": "float"
        },
        {
         "name": "1344",
         "rawType": "float64",
         "type": "float"
        },
        {
         "name": "1345",
         "rawType": "float64",
         "type": "float"
        },
        {
         "name": "1346",
         "rawType": "float64",
         "type": "float"
        },
        {
         "name": "1347",
         "rawType": "float64",
         "type": "float"
        },
        {
         "name": "1348",
         "rawType": "float64",
         "type": "float"
        },
        {
         "name": "1349",
         "rawType": "float64",
         "type": "float"
        },
        {
         "name": "1350",
         "rawType": "float64",
         "type": "float"
        },
        {
         "name": "1351",
         "rawType": "float64",
         "type": "float"
        },
        {
         "name": "1352",
         "rawType": "float64",
         "type": "float"
        },
        {
         "name": "1353",
         "rawType": "float64",
         "type": "float"
        },
        {
         "name": "1354",
         "rawType": "float64",
         "type": "float"
        },
        {
         "name": "1355",
         "rawType": "float64",
         "type": "float"
        },
        {
         "name": "1356",
         "rawType": "float64",
         "type": "float"
        },
        {
         "name": "1357",
         "rawType": "float64",
         "type": "float"
        },
        {
         "name": "1358",
         "rawType": "float64",
         "type": "float"
        },
        {
         "name": "1359",
         "rawType": "float64",
         "type": "float"
        },
        {
         "name": "1360",
         "rawType": "float64",
         "type": "float"
        },
        {
         "name": "1361",
         "rawType": "float64",
         "type": "float"
        },
        {
         "name": "1362",
         "rawType": "float64",
         "type": "float"
        },
        {
         "name": "1363",
         "rawType": "float64",
         "type": "float"
        },
        {
         "name": "1364",
         "rawType": "float64",
         "type": "float"
        },
        {
         "name": "1365",
         "rawType": "float64",
         "type": "float"
        },
        {
         "name": "1366",
         "rawType": "float64",
         "type": "float"
        },
        {
         "name": "1367",
         "rawType": "float64",
         "type": "float"
        },
        {
         "name": "1368",
         "rawType": "float64",
         "type": "float"
        },
        {
         "name": "1369",
         "rawType": "float64",
         "type": "float"
        },
        {
         "name": "1370",
         "rawType": "float64",
         "type": "float"
        },
        {
         "name": "1371",
         "rawType": "float64",
         "type": "float"
        },
        {
         "name": "1372",
         "rawType": "float64",
         "type": "float"
        },
        {
         "name": "1373",
         "rawType": "float64",
         "type": "float"
        },
        {
         "name": "1374",
         "rawType": "float64",
         "type": "float"
        },
        {
         "name": "1375",
         "rawType": "float64",
         "type": "float"
        },
        {
         "name": "1376",
         "rawType": "float64",
         "type": "float"
        },
        {
         "name": "1377",
         "rawType": "float64",
         "type": "float"
        },
        {
         "name": "1378",
         "rawType": "float64",
         "type": "float"
        },
        {
         "name": "1379",
         "rawType": "float64",
         "type": "float"
        },
        {
         "name": "1380",
         "rawType": "float64",
         "type": "float"
        },
        {
         "name": "1381",
         "rawType": "float64",
         "type": "float"
        },
        {
         "name": "1382",
         "rawType": "float64",
         "type": "float"
        },
        {
         "name": "1383",
         "rawType": "float64",
         "type": "float"
        },
        {
         "name": "1384",
         "rawType": "float64",
         "type": "float"
        },
        {
         "name": "1385",
         "rawType": "float64",
         "type": "float"
        },
        {
         "name": "1386",
         "rawType": "float64",
         "type": "float"
        },
        {
         "name": "1387",
         "rawType": "float64",
         "type": "float"
        },
        {
         "name": "1388",
         "rawType": "float64",
         "type": "float"
        },
        {
         "name": "1389",
         "rawType": "float64",
         "type": "float"
        },
        {
         "name": "1390",
         "rawType": "float64",
         "type": "float"
        },
        {
         "name": "1391",
         "rawType": "float64",
         "type": "float"
        },
        {
         "name": "1392",
         "rawType": "float64",
         "type": "float"
        },
        {
         "name": "1393",
         "rawType": "float64",
         "type": "float"
        },
        {
         "name": "1394",
         "rawType": "float64",
         "type": "float"
        },
        {
         "name": "1395",
         "rawType": "float64",
         "type": "float"
        },
        {
         "name": "1396",
         "rawType": "float64",
         "type": "float"
        },
        {
         "name": "1397",
         "rawType": "float64",
         "type": "float"
        },
        {
         "name": "1398",
         "rawType": "float64",
         "type": "float"
        },
        {
         "name": "1399",
         "rawType": "float64",
         "type": "float"
        },
        {
         "name": "1400",
         "rawType": "float64",
         "type": "float"
        },
        {
         "name": "1401",
         "rawType": "float64",
         "type": "float"
        },
        {
         "name": "1402",
         "rawType": "float64",
         "type": "float"
        },
        {
         "name": "1403",
         "rawType": "float64",
         "type": "float"
        },
        {
         "name": "1404",
         "rawType": "float64",
         "type": "float"
        },
        {
         "name": "1405",
         "rawType": "float64",
         "type": "float"
        },
        {
         "name": "1406",
         "rawType": "float64",
         "type": "float"
        },
        {
         "name": "1407",
         "rawType": "float64",
         "type": "float"
        },
        {
         "name": "1408",
         "rawType": "float64",
         "type": "float"
        },
        {
         "name": "1409",
         "rawType": "float64",
         "type": "float"
        },
        {
         "name": "1410",
         "rawType": "float64",
         "type": "float"
        },
        {
         "name": "1411",
         "rawType": "float64",
         "type": "float"
        },
        {
         "name": "1412",
         "rawType": "float64",
         "type": "float"
        },
        {
         "name": "1413",
         "rawType": "float64",
         "type": "float"
        },
        {
         "name": "1414",
         "rawType": "float64",
         "type": "float"
        },
        {
         "name": "1415",
         "rawType": "float64",
         "type": "float"
        },
        {
         "name": "1416",
         "rawType": "float64",
         "type": "float"
        },
        {
         "name": "1417",
         "rawType": "float64",
         "type": "float"
        },
        {
         "name": "1418",
         "rawType": "float64",
         "type": "float"
        },
        {
         "name": "1419",
         "rawType": "float64",
         "type": "float"
        },
        {
         "name": "1420",
         "rawType": "float64",
         "type": "float"
        },
        {
         "name": "1421",
         "rawType": "float64",
         "type": "float"
        },
        {
         "name": "1422",
         "rawType": "float64",
         "type": "float"
        },
        {
         "name": "1423",
         "rawType": "float64",
         "type": "float"
        },
        {
         "name": "1424",
         "rawType": "float64",
         "type": "float"
        },
        {
         "name": "1425",
         "rawType": "float64",
         "type": "float"
        },
        {
         "name": "1426",
         "rawType": "float64",
         "type": "float"
        },
        {
         "name": "1427",
         "rawType": "float64",
         "type": "float"
        },
        {
         "name": "1428",
         "rawType": "float64",
         "type": "float"
        },
        {
         "name": "1429",
         "rawType": "float64",
         "type": "float"
        },
        {
         "name": "1430",
         "rawType": "float64",
         "type": "float"
        },
        {
         "name": "1431",
         "rawType": "float64",
         "type": "float"
        },
        {
         "name": "1432",
         "rawType": "float64",
         "type": "float"
        },
        {
         "name": "1433",
         "rawType": "float64",
         "type": "float"
        },
        {
         "name": "1434",
         "rawType": "float64",
         "type": "float"
        },
        {
         "name": "1435",
         "rawType": "float64",
         "type": "float"
        },
        {
         "name": "1436",
         "rawType": "float64",
         "type": "float"
        },
        {
         "name": "1437",
         "rawType": "float64",
         "type": "float"
        },
        {
         "name": "1438",
         "rawType": "float64",
         "type": "float"
        },
        {
         "name": "1439",
         "rawType": "float64",
         "type": "float"
        },
        {
         "name": "1440",
         "rawType": "float64",
         "type": "float"
        },
        {
         "name": "1441",
         "rawType": "float64",
         "type": "float"
        },
        {
         "name": "1442",
         "rawType": "float64",
         "type": "float"
        },
        {
         "name": "1443",
         "rawType": "float64",
         "type": "float"
        },
        {
         "name": "1444",
         "rawType": "float64",
         "type": "float"
        },
        {
         "name": "1445",
         "rawType": "float64",
         "type": "float"
        },
        {
         "name": "1446",
         "rawType": "float64",
         "type": "float"
        },
        {
         "name": "1447",
         "rawType": "float64",
         "type": "float"
        },
        {
         "name": "1448",
         "rawType": "float64",
         "type": "float"
        },
        {
         "name": "1449",
         "rawType": "float64",
         "type": "float"
        },
        {
         "name": "1450",
         "rawType": "float64",
         "type": "float"
        },
        {
         "name": "1451",
         "rawType": "float64",
         "type": "float"
        },
        {
         "name": "1452",
         "rawType": "float64",
         "type": "float"
        },
        {
         "name": "1453",
         "rawType": "float64",
         "type": "float"
        },
        {
         "name": "1454",
         "rawType": "float64",
         "type": "float"
        },
        {
         "name": "1455",
         "rawType": "float64",
         "type": "float"
        },
        {
         "name": "1456",
         "rawType": "float64",
         "type": "float"
        },
        {
         "name": "1457",
         "rawType": "float64",
         "type": "float"
        },
        {
         "name": "1458",
         "rawType": "float64",
         "type": "float"
        },
        {
         "name": "1459",
         "rawType": "float64",
         "type": "float"
        },
        {
         "name": "1460",
         "rawType": "float64",
         "type": "float"
        },
        {
         "name": "1461",
         "rawType": "float64",
         "type": "float"
        },
        {
         "name": "1462",
         "rawType": "float64",
         "type": "float"
        },
        {
         "name": "1463",
         "rawType": "float64",
         "type": "float"
        },
        {
         "name": "1464",
         "rawType": "float64",
         "type": "float"
        },
        {
         "name": "1465",
         "rawType": "float64",
         "type": "float"
        },
        {
         "name": "1466",
         "rawType": "float64",
         "type": "float"
        },
        {
         "name": "1467",
         "rawType": "float64",
         "type": "float"
        },
        {
         "name": "1468",
         "rawType": "float64",
         "type": "float"
        },
        {
         "name": "1469",
         "rawType": "float64",
         "type": "float"
        },
        {
         "name": "1470",
         "rawType": "float64",
         "type": "float"
        },
        {
         "name": "1471",
         "rawType": "float64",
         "type": "float"
        },
        {
         "name": "1472",
         "rawType": "float64",
         "type": "float"
        },
        {
         "name": "1473",
         "rawType": "float64",
         "type": "float"
        },
        {
         "name": "1474",
         "rawType": "float64",
         "type": "float"
        },
        {
         "name": "1475",
         "rawType": "float64",
         "type": "float"
        },
        {
         "name": "1476",
         "rawType": "float64",
         "type": "float"
        },
        {
         "name": "1477",
         "rawType": "float64",
         "type": "float"
        },
        {
         "name": "1478",
         "rawType": "float64",
         "type": "float"
        },
        {
         "name": "1479",
         "rawType": "float64",
         "type": "float"
        },
        {
         "name": "1480",
         "rawType": "float64",
         "type": "float"
        },
        {
         "name": "1481",
         "rawType": "float64",
         "type": "float"
        },
        {
         "name": "1482",
         "rawType": "float64",
         "type": "float"
        },
        {
         "name": "1483",
         "rawType": "float64",
         "type": "float"
        },
        {
         "name": "1484",
         "rawType": "float64",
         "type": "float"
        },
        {
         "name": "1485",
         "rawType": "float64",
         "type": "float"
        },
        {
         "name": "1486",
         "rawType": "float64",
         "type": "float"
        },
        {
         "name": "1487",
         "rawType": "float64",
         "type": "float"
        },
        {
         "name": "1488",
         "rawType": "float64",
         "type": "float"
        },
        {
         "name": "1489",
         "rawType": "float64",
         "type": "float"
        },
        {
         "name": "1490",
         "rawType": "float64",
         "type": "float"
        },
        {
         "name": "1491",
         "rawType": "float64",
         "type": "float"
        },
        {
         "name": "1492",
         "rawType": "float64",
         "type": "float"
        },
        {
         "name": "1493",
         "rawType": "float64",
         "type": "float"
        },
        {
         "name": "1494",
         "rawType": "float64",
         "type": "float"
        },
        {
         "name": "1495",
         "rawType": "float64",
         "type": "float"
        },
        {
         "name": "1496",
         "rawType": "float64",
         "type": "float"
        },
        {
         "name": "1497",
         "rawType": "float64",
         "type": "float"
        },
        {
         "name": "1498",
         "rawType": "float64",
         "type": "float"
        },
        {
         "name": "1499",
         "rawType": "float64",
         "type": "float"
        },
        {
         "name": "1500",
         "rawType": "float64",
         "type": "float"
        },
        {
         "name": "1501",
         "rawType": "float64",
         "type": "float"
        },
        {
         "name": "1502",
         "rawType": "float64",
         "type": "float"
        },
        {
         "name": "1503",
         "rawType": "float64",
         "type": "float"
        },
        {
         "name": "1504",
         "rawType": "float64",
         "type": "float"
        },
        {
         "name": "1505",
         "rawType": "float64",
         "type": "float"
        },
        {
         "name": "1506",
         "rawType": "float64",
         "type": "float"
        },
        {
         "name": "1507",
         "rawType": "float64",
         "type": "float"
        },
        {
         "name": "1508",
         "rawType": "float64",
         "type": "float"
        },
        {
         "name": "1509",
         "rawType": "float64",
         "type": "float"
        },
        {
         "name": "1510",
         "rawType": "float64",
         "type": "float"
        },
        {
         "name": "1511",
         "rawType": "float64",
         "type": "float"
        },
        {
         "name": "1512",
         "rawType": "float64",
         "type": "float"
        },
        {
         "name": "1513",
         "rawType": "float64",
         "type": "float"
        },
        {
         "name": "1514",
         "rawType": "float64",
         "type": "float"
        },
        {
         "name": "1515",
         "rawType": "float64",
         "type": "float"
        },
        {
         "name": "1516",
         "rawType": "float64",
         "type": "float"
        },
        {
         "name": "1517",
         "rawType": "float64",
         "type": "float"
        },
        {
         "name": "1518",
         "rawType": "float64",
         "type": "float"
        },
        {
         "name": "1519",
         "rawType": "float64",
         "type": "float"
        },
        {
         "name": "1520",
         "rawType": "float64",
         "type": "float"
        },
        {
         "name": "1521",
         "rawType": "float64",
         "type": "float"
        },
        {
         "name": "1522",
         "rawType": "float64",
         "type": "float"
        },
        {
         "name": "1523",
         "rawType": "float64",
         "type": "float"
        },
        {
         "name": "1524",
         "rawType": "float64",
         "type": "float"
        },
        {
         "name": "1525",
         "rawType": "float64",
         "type": "float"
        },
        {
         "name": "1526",
         "rawType": "float64",
         "type": "float"
        },
        {
         "name": "1527",
         "rawType": "float64",
         "type": "float"
        },
        {
         "name": "1528",
         "rawType": "float64",
         "type": "float"
        },
        {
         "name": "1529",
         "rawType": "float64",
         "type": "float"
        },
        {
         "name": "1530",
         "rawType": "float64",
         "type": "float"
        },
        {
         "name": "1531",
         "rawType": "float64",
         "type": "float"
        },
        {
         "name": "1532",
         "rawType": "float64",
         "type": "float"
        },
        {
         "name": "1533",
         "rawType": "float64",
         "type": "float"
        },
        {
         "name": "1534",
         "rawType": "float64",
         "type": "float"
        },
        {
         "name": "1535",
         "rawType": "float64",
         "type": "float"
        },
        {
         "name": "1536",
         "rawType": "float64",
         "type": "float"
        },
        {
         "name": "1537",
         "rawType": "float64",
         "type": "float"
        },
        {
         "name": "1538",
         "rawType": "float64",
         "type": "float"
        },
        {
         "name": "1539",
         "rawType": "float64",
         "type": "float"
        },
        {
         "name": "1540",
         "rawType": "float64",
         "type": "float"
        },
        {
         "name": "1541",
         "rawType": "float64",
         "type": "float"
        },
        {
         "name": "1542",
         "rawType": "float64",
         "type": "float"
        },
        {
         "name": "1543",
         "rawType": "float64",
         "type": "float"
        },
        {
         "name": "1544",
         "rawType": "float64",
         "type": "float"
        },
        {
         "name": "1545",
         "rawType": "float64",
         "type": "float"
        },
        {
         "name": "1546",
         "rawType": "float64",
         "type": "float"
        },
        {
         "name": "1547",
         "rawType": "float64",
         "type": "float"
        },
        {
         "name": "1548",
         "rawType": "float64",
         "type": "float"
        },
        {
         "name": "1549",
         "rawType": "float64",
         "type": "float"
        },
        {
         "name": "1550",
         "rawType": "float64",
         "type": "float"
        },
        {
         "name": "1551",
         "rawType": "float64",
         "type": "float"
        },
        {
         "name": "1552",
         "rawType": "float64",
         "type": "float"
        },
        {
         "name": "1553",
         "rawType": "float64",
         "type": "float"
        },
        {
         "name": "1554",
         "rawType": "float64",
         "type": "float"
        },
        {
         "name": "1555",
         "rawType": "float64",
         "type": "float"
        },
        {
         "name": "1556",
         "rawType": "float64",
         "type": "float"
        },
        {
         "name": "1557",
         "rawType": "float64",
         "type": "float"
        },
        {
         "name": "1558",
         "rawType": "float64",
         "type": "float"
        },
        {
         "name": "1559",
         "rawType": "float64",
         "type": "float"
        },
        {
         "name": "1560",
         "rawType": "float64",
         "type": "float"
        },
        {
         "name": "1561",
         "rawType": "float64",
         "type": "float"
        },
        {
         "name": "1562",
         "rawType": "float64",
         "type": "float"
        },
        {
         "name": "1563",
         "rawType": "float64",
         "type": "float"
        },
        {
         "name": "1564",
         "rawType": "float64",
         "type": "float"
        },
        {
         "name": "1565",
         "rawType": "float64",
         "type": "float"
        },
        {
         "name": "1566",
         "rawType": "float64",
         "type": "float"
        },
        {
         "name": "1567",
         "rawType": "float64",
         "type": "float"
        },
        {
         "name": "1568",
         "rawType": "float64",
         "type": "float"
        },
        {
         "name": "1569",
         "rawType": "float64",
         "type": "float"
        },
        {
         "name": "1570",
         "rawType": "float64",
         "type": "float"
        },
        {
         "name": "1571",
         "rawType": "float64",
         "type": "float"
        },
        {
         "name": "1572",
         "rawType": "float64",
         "type": "float"
        },
        {
         "name": "1573",
         "rawType": "float64",
         "type": "float"
        },
        {
         "name": "1574",
         "rawType": "float64",
         "type": "float"
        },
        {
         "name": "1575",
         "rawType": "float64",
         "type": "float"
        },
        {
         "name": "1576",
         "rawType": "float64",
         "type": "float"
        },
        {
         "name": "1577",
         "rawType": "float64",
         "type": "float"
        },
        {
         "name": "1578",
         "rawType": "float64",
         "type": "float"
        },
        {
         "name": "1579",
         "rawType": "float64",
         "type": "float"
        },
        {
         "name": "1580",
         "rawType": "float64",
         "type": "float"
        },
        {
         "name": "1581",
         "rawType": "float64",
         "type": "float"
        },
        {
         "name": "1582",
         "rawType": "float64",
         "type": "float"
        },
        {
         "name": "1583",
         "rawType": "float64",
         "type": "float"
        },
        {
         "name": "1584",
         "rawType": "float64",
         "type": "float"
        },
        {
         "name": "1585",
         "rawType": "float64",
         "type": "float"
        },
        {
         "name": "1586",
         "rawType": "float64",
         "type": "float"
        },
        {
         "name": "1587",
         "rawType": "float64",
         "type": "float"
        },
        {
         "name": "1588",
         "rawType": "float64",
         "type": "float"
        },
        {
         "name": "1589",
         "rawType": "float64",
         "type": "float"
        },
        {
         "name": "1590",
         "rawType": "float64",
         "type": "float"
        },
        {
         "name": "1591",
         "rawType": "float64",
         "type": "float"
        },
        {
         "name": "1592",
         "rawType": "float64",
         "type": "float"
        },
        {
         "name": "1593",
         "rawType": "float64",
         "type": "float"
        },
        {
         "name": "1594",
         "rawType": "float64",
         "type": "float"
        },
        {
         "name": "1595",
         "rawType": "float64",
         "type": "float"
        },
        {
         "name": "1596",
         "rawType": "float64",
         "type": "float"
        },
        {
         "name": "1597",
         "rawType": "float64",
         "type": "float"
        },
        {
         "name": "1598",
         "rawType": "float64",
         "type": "float"
        },
        {
         "name": "1599",
         "rawType": "float64",
         "type": "float"
        },
        {
         "name": "1600",
         "rawType": "float64",
         "type": "float"
        },
        {
         "name": "1601",
         "rawType": "float64",
         "type": "float"
        },
        {
         "name": "1602",
         "rawType": "float64",
         "type": "float"
        },
        {
         "name": "1603",
         "rawType": "float64",
         "type": "float"
        },
        {
         "name": "1604",
         "rawType": "float64",
         "type": "float"
        },
        {
         "name": "1605",
         "rawType": "float64",
         "type": "float"
        },
        {
         "name": "1606",
         "rawType": "float64",
         "type": "float"
        },
        {
         "name": "1607",
         "rawType": "float64",
         "type": "float"
        },
        {
         "name": "1608",
         "rawType": "float64",
         "type": "float"
        },
        {
         "name": "1609",
         "rawType": "float64",
         "type": "float"
        },
        {
         "name": "1610",
         "rawType": "float64",
         "type": "float"
        },
        {
         "name": "1611",
         "rawType": "float64",
         "type": "float"
        },
        {
         "name": "1612",
         "rawType": "float64",
         "type": "float"
        },
        {
         "name": "1613",
         "rawType": "float64",
         "type": "float"
        },
        {
         "name": "1614",
         "rawType": "float64",
         "type": "float"
        },
        {
         "name": "1615",
         "rawType": "float64",
         "type": "float"
        },
        {
         "name": "1616",
         "rawType": "float64",
         "type": "float"
        },
        {
         "name": "1617",
         "rawType": "float64",
         "type": "float"
        },
        {
         "name": "1618",
         "rawType": "float64",
         "type": "float"
        },
        {
         "name": "1619",
         "rawType": "float64",
         "type": "float"
        },
        {
         "name": "1620",
         "rawType": "float64",
         "type": "float"
        },
        {
         "name": "1621",
         "rawType": "float64",
         "type": "float"
        },
        {
         "name": "1622",
         "rawType": "float64",
         "type": "float"
        },
        {
         "name": "1623",
         "rawType": "float64",
         "type": "float"
        },
        {
         "name": "1624",
         "rawType": "float64",
         "type": "float"
        },
        {
         "name": "1625",
         "rawType": "float64",
         "type": "float"
        },
        {
         "name": "1626",
         "rawType": "float64",
         "type": "float"
        },
        {
         "name": "1627",
         "rawType": "float64",
         "type": "float"
        },
        {
         "name": "1628",
         "rawType": "float64",
         "type": "float"
        },
        {
         "name": "1629",
         "rawType": "float64",
         "type": "float"
        },
        {
         "name": "1630",
         "rawType": "float64",
         "type": "float"
        },
        {
         "name": "1631",
         "rawType": "float64",
         "type": "float"
        },
        {
         "name": "1632",
         "rawType": "float64",
         "type": "float"
        },
        {
         "name": "1633",
         "rawType": "float64",
         "type": "float"
        },
        {
         "name": "1634",
         "rawType": "float64",
         "type": "float"
        },
        {
         "name": "1635",
         "rawType": "float64",
         "type": "float"
        },
        {
         "name": "1636",
         "rawType": "float64",
         "type": "float"
        },
        {
         "name": "1637",
         "rawType": "float64",
         "type": "float"
        },
        {
         "name": "1638",
         "rawType": "float64",
         "type": "float"
        },
        {
         "name": "1639",
         "rawType": "float64",
         "type": "float"
        },
        {
         "name": "1640",
         "rawType": "float64",
         "type": "float"
        },
        {
         "name": "1641",
         "rawType": "float64",
         "type": "float"
        },
        {
         "name": "1642",
         "rawType": "float64",
         "type": "float"
        },
        {
         "name": "1643",
         "rawType": "float64",
         "type": "float"
        },
        {
         "name": "1644",
         "rawType": "float64",
         "type": "float"
        },
        {
         "name": "1645",
         "rawType": "float64",
         "type": "float"
        },
        {
         "name": "1646",
         "rawType": "float64",
         "type": "float"
        },
        {
         "name": "1647",
         "rawType": "float64",
         "type": "float"
        },
        {
         "name": "1648",
         "rawType": "float64",
         "type": "float"
        },
        {
         "name": "1649",
         "rawType": "float64",
         "type": "float"
        },
        {
         "name": "1650",
         "rawType": "float64",
         "type": "float"
        },
        {
         "name": "1651",
         "rawType": "float64",
         "type": "float"
        },
        {
         "name": "1652",
         "rawType": "float64",
         "type": "float"
        },
        {
         "name": "1653",
         "rawType": "float64",
         "type": "float"
        },
        {
         "name": "1654",
         "rawType": "float64",
         "type": "float"
        },
        {
         "name": "1655",
         "rawType": "float64",
         "type": "float"
        },
        {
         "name": "1656",
         "rawType": "float64",
         "type": "float"
        },
        {
         "name": "1657",
         "rawType": "float64",
         "type": "float"
        },
        {
         "name": "1658",
         "rawType": "float64",
         "type": "float"
        },
        {
         "name": "1659",
         "rawType": "float64",
         "type": "float"
        },
        {
         "name": "1660",
         "rawType": "float64",
         "type": "float"
        },
        {
         "name": "1661",
         "rawType": "float64",
         "type": "float"
        },
        {
         "name": "1662",
         "rawType": "float64",
         "type": "float"
        },
        {
         "name": "1663",
         "rawType": "float64",
         "type": "float"
        },
        {
         "name": "1664",
         "rawType": "float64",
         "type": "float"
        },
        {
         "name": "1665",
         "rawType": "float64",
         "type": "float"
        },
        {
         "name": "1666",
         "rawType": "float64",
         "type": "float"
        },
        {
         "name": "1667",
         "rawType": "float64",
         "type": "float"
        },
        {
         "name": "1668",
         "rawType": "float64",
         "type": "float"
        },
        {
         "name": "1669",
         "rawType": "float64",
         "type": "float"
        },
        {
         "name": "1670",
         "rawType": "float64",
         "type": "float"
        },
        {
         "name": "1671",
         "rawType": "float64",
         "type": "float"
        },
        {
         "name": "1672",
         "rawType": "float64",
         "type": "float"
        },
        {
         "name": "1673",
         "rawType": "float64",
         "type": "float"
        },
        {
         "name": "1674",
         "rawType": "float64",
         "type": "float"
        },
        {
         "name": "1675",
         "rawType": "float64",
         "type": "float"
        },
        {
         "name": "1676",
         "rawType": "float64",
         "type": "float"
        },
        {
         "name": "1677",
         "rawType": "float64",
         "type": "float"
        },
        {
         "name": "1678",
         "rawType": "float64",
         "type": "float"
        },
        {
         "name": "1679",
         "rawType": "float64",
         "type": "float"
        },
        {
         "name": "1680",
         "rawType": "float64",
         "type": "float"
        },
        {
         "name": "1681",
         "rawType": "float64",
         "type": "float"
        }
       ],
       "ref": "5b1c336f-1579-4923-807d-ce1b0f487f72",
       "rows": [
        [
         "0",
         "1.0",
         "1.0",
         "1.0",
         "1.0",
         "1.0",
         "1.0",
         "1.0",
         "0.0",
         "1.0",
         "1.0",
         "0.0",
         "1.0",
         "1.0",
         "1.0",
         "1.0",
         "1.0",
         "1.0",
         "1.0",
         "1.0",
         "1.0",
         "0.0",
         "1.0",
         "1.0",
         "1.0",
         "1.0",
         "1.0",
         "0.0",
         "1.0",
         "0.0",
         "1.0",
         "1.0",
         "1.0",
         "1.0",
         "0.0",
         "0.0",
         "0.0",
         "0.0",
         "1.0",
         "1.0",
         "1.0",
         "0.0",
         "1.0",
         "1.0",
         "1.0",
         "1.0",
         "1.0",
         "1.0",
         "1.0",
         "1.0",
         "1.0",
         "1.0",
         "1.0",
         "1.0",
         "1.0",
         "1.0",
         "1.0",
         "1.0",
         "1.0",
         "1.0",
         "1.0",
         "1.0",
         "1.0",
         "0.0",
         "1.0",
         "1.0",
         "1.0",
         "1.0",
         "1.0",
         "1.0",
         "1.0",
         "1.0",
         "1.0",
         "1.0",
         "0.0",
         "1.0",
         "1.0",
         "1.0",
         "0.0",
         "1.0",
         "1.0",
         "1.0",
         "1.0",
         "1.0",
         "1.0",
         "1.0",
         "1.0",
         "1.0",
         "1.0",
         "1.0",
         "1.0",
         "1.0",
         "1.0",
         "1.0",
         "0.0",
         "1.0",
         "1.0",
         "1.0",
         "1.0",
         "1.0",
         "1.0",
         "0.0",
         "0.0",
         "0.0",
         "0.0",
         "0.0",
         "1.0",
         "1.0",
         "1.0",
         "1.0",
         "0.0",
         "1.0",
         "0.0",
         "1.0",
         "1.0",
         "1.0",
         "1.0",
         "1.0",
         "1.0",
         "1.0",
         "0.0",
         "1.0",
         "1.0",
         "1.0",
         "1.0",
         "1.0",
         "0.0",
         "1.0",
         "1.0",
         "1.0",
         "1.0",
         "0.0",
         "1.0",
         "1.0",
         "1.0",
         "1.0",
         "1.0",
         "1.0",
         "0.0",
         "1.0",
         "0.0",
         "1.0",
         "0.0",
         "0.0",
         "1.0",
         "0.0",
         "1.0",
         "1.0",
         "0.0",
         "0.0",
         "1.0",
         "1.0",
         "1.0",
         "1.0",
         "1.0",
         "0.0",
         "1.0",
         "1.0",
         "1.0",
         "1.0",
         "1.0",
         "1.0",
         "1.0",
         "1.0",
         "1.0",
         "1.0",
         "1.0",
         "0.0",
         "1.0",
         "1.0",
         "1.0",
         "1.0",
         "1.0",
         "1.0",
         "1.0",
         "1.0",
         "1.0",
         "1.0",
         "1.0",
         "1.0",
         "1.0",
         "1.0",
         "1.0",
         "1.0",
         "1.0",
         "1.0",
         "1.0",
         "1.0",
         "1.0",
         "1.0",
         "1.0",
         "1.0",
         "1.0",
         "1.0",
         "1.0",
         "1.0",
         "1.0",
         "1.0",
         "1.0",
         "1.0",
         "1.0",
         "1.0",
         "1.0",
         "1.0",
         "1.0",
         "1.0",
         "1.0",
         "1.0",
         "1.0",
         "1.0",
         "1.0",
         "1.0",
         "1.0",
         "0.0",
         "1.0",
         "1.0",
         "1.0",
         "1.0",
         "1.0",
         "0.0",
         "1.0",
         "1.0",
         "1.0",
         "1.0",
         "1.0",
         "0.0",
         "1.0",
         "1.0",
         "1.0",
         "1.0",
         "1.0",
         "0.0",
         "1.0",
         "0.0",
         "1.0",
         "1.0",
         "1.0",
         "0.0",
         "1.0",
         "1.0",
         "1.0",
         "1.0",
         "1.0",
         "0.0",
         "0.0",
         "0.0",
         "1.0",
         "0.0",
         "1.0",
         "1.0",
         "1.0",
         "1.0",
         "0.0",
         "1.0",
         "0.0",
         "0.0",
         "1.0",
         "1.0",
         "1.0",
         "0.0",
         "0.0",
         "0.0",
         "1.0",
         "0.0",
         "0.0",
         "1.0",
         "0.0",
         "1.0",
         "1.0",
         "1.0",
         "1.0",
         "0.0",
         "1.0",
         "0.0",
         "0.0",
         "0.0",
         "0.0",
         "0.0",
         "0.0",
         "0.0",
         "0.0",
         "0.0",
         "0.0",
         "0.0",
         "0.0",
         "0.0",
         "0.0",
         "0.0",
         "0.0",
         "0.0",
         "0.0",
         "0.0",
         "0.0",
         "0.0",
         "0.0",
         "0.0",
         "0.0",
         "0.0",
         "0.0",
         "0.0",
         "0.0",
         "0.0",
         "0.0",
         "0.0",
         "0.0",
         "0.0",
         "0.0",
         "0.0",
         "0.0",
         "0.0",
         "0.0",
         "0.0",
         "0.0",
         "0.0",
         "0.0",
         "0.0",
         "0.0",
         "0.0",
         "0.0",
         "0.0",
         "0.0",
         "0.0",
         "0.0",
         "0.0",
         "0.0",
         "0.0",
         "0.0",
         "0.0",
         "0.0",
         "0.0",
         "0.0",
         "0.0",
         "0.0",
         "0.0",
         "0.0",
         "0.0",
         "0.0",
         "0.0",
         "0.0",
         "0.0",
         "0.0",
         "0.0",
         "0.0",
         "0.0",
         "0.0",
         "0.0",
         "0.0",
         "0.0",
         "0.0",
         "0.0",
         "0.0",
         "0.0",
         "0.0",
         "0.0",
         "0.0",
         "0.0",
         "0.0",
         "0.0",
         "0.0",
         "0.0",
         "0.0",
         "0.0",
         "0.0",
         "0.0",
         "0.0",
         "0.0",
         "0.0",
         "0.0",
         "0.0",
         "0.0",
         "0.0",
         "0.0",
         "0.0",
         "0.0",
         "0.0",
         "0.0",
         "0.0",
         "0.0",
         "0.0",
         "0.0",
         "0.0",
         "0.0",
         "0.0",
         "0.0",
         "0.0",
         "0.0",
         "0.0",
         "0.0",
         "0.0",
         "0.0",
         "0.0",
         "0.0",
         "0.0",
         "0.0",
         "0.0",
         "0.0",
         "0.0",
         "0.0",
         "0.0",
         "0.0",
         "0.0",
         "0.0",
         "0.0",
         "0.0",
         "0.0",
         "0.0",
         "0.0",
         "0.0",
         "0.0",
         "0.0",
         "0.0",
         "0.0",
         "0.0",
         "0.0",
         "0.0",
         "0.0",
         "0.0",
         "0.0",
         "0.0",
         "0.0",
         "0.0",
         "0.0",
         "0.0",
         "0.0",
         "0.0",
         "0.0",
         "0.0",
         "0.0",
         "0.0",
         "0.0",
         "0.0",
         "0.0",
         "0.0",
         "0.0",
         "0.0",
         "0.0",
         "0.0",
         "0.0",
         "0.0",
         "0.0",
         "0.0",
         "0.0",
         "0.0",
         "0.0",
         "0.0",
         "0.0",
         "0.0",
         "0.0",
         "0.0",
         "0.0",
         "0.0",
         "0.0",
         "0.0",
         "0.0",
         "0.0",
         "0.0",
         "0.0",
         "0.0",
         "0.0",
         "0.0",
         "0.0",
         "0.0",
         "0.0",
         "0.0",
         "0.0",
         "0.0",
         "0.0",
         "0.0",
         "0.0",
         "0.0",
         "0.0",
         "0.0",
         "0.0",
         "0.0",
         "0.0",
         "0.0",
         "0.0",
         "0.0",
         "0.0",
         "0.0",
         "0.0",
         "0.0",
         "0.0",
         "0.0",
         "0.0",
         "0.0",
         "0.0",
         "0.0",
         "0.0",
         "0.0",
         "0.0",
         "0.0",
         "0.0",
         "0.0",
         "0.0",
         "0.0",
         "0.0",
         "0.0",
         "0.0",
         "0.0",
         "0.0",
         "0.0",
         "0.0",
         "0.0",
         "0.0",
         "0.0",
         "0.0",
         "0.0",
         "0.0",
         "0.0",
         "0.0",
         "0.0",
         "0.0",
         "0.0",
         "0.0",
         "0.0",
         "0.0",
         "0.0",
         "0.0",
         "0.0",
         "0.0",
         "0.0",
         "0.0",
         "0.0",
         "0.0",
         "0.0",
         "0.0",
         "0.0",
         "0.0",
         "0.0",
         "0.0",
         "0.0",
         "0.0",
         "0.0",
         "0.0",
         "0.0",
         "0.0",
         "0.0",
         "0.0",
         "0.0",
         "0.0",
         "0.0",
         "0.0",
         "0.0",
         "0.0",
         "0.0",
         "0.0",
         "0.0",
         "0.0",
         "0.0",
         "0.0",
         "0.0",
         "0.0",
         "0.0",
         "0.0",
         "0.0",
         "0.0",
         "0.0",
         "0.0",
         "0.0",
         "0.0",
         "0.0",
         "0.0",
         "0.0",
         "0.0",
         "0.0",
         "0.0",
         "0.0",
         "0.0",
         "0.0",
         "0.0",
         "0.0",
         "0.0",
         "0.0",
         "0.0",
         "0.0",
         "0.0",
         "0.0",
         "0.0",
         "0.0",
         "0.0",
         "0.0",
         "0.0",
         "0.0",
         "0.0",
         "0.0",
         "0.0",
         "0.0",
         "0.0",
         "0.0",
         "0.0",
         "0.0",
         "0.0",
         "0.0",
         "0.0",
         "0.0",
         "0.0",
         "0.0",
         "0.0",
         "0.0",
         "0.0",
         "0.0",
         "0.0",
         "0.0",
         "0.0",
         "0.0",
         "0.0",
         "0.0",
         "0.0",
         "0.0",
         "0.0",
         "0.0",
         "0.0",
         "0.0",
         "0.0",
         "0.0",
         "0.0",
         "0.0",
         "0.0",
         "0.0",
         "0.0",
         "0.0",
         "0.0",
         "0.0",
         "0.0",
         "0.0",
         "0.0",
         "0.0",
         "0.0",
         "0.0",
         "0.0",
         "0.0",
         "0.0",
         "0.0",
         "0.0",
         "0.0",
         "0.0",
         "0.0",
         "0.0",
         "0.0",
         "0.0",
         "0.0",
         "0.0",
         "0.0",
         "0.0",
         "0.0",
         "0.0",
         "0.0",
         "0.0",
         "0.0",
         "0.0",
         "0.0",
         "0.0",
         "0.0",
         "0.0",
         "0.0",
         "0.0",
         "0.0",
         "0.0",
         "0.0",
         "0.0",
         "0.0",
         "0.0",
         "0.0",
         "0.0",
         "0.0",
         "0.0",
         "0.0",
         "0.0",
         "0.0",
         "0.0",
         "0.0",
         "0.0",
         "0.0",
         "0.0",
         "0.0",
         "0.0",
         "0.0",
         "0.0",
         "0.0",
         "0.0",
         "0.0",
         "0.0",
         "0.0",
         "0.0",
         "0.0",
         "0.0",
         "0.0",
         "0.0",
         "0.0",
         "0.0",
         "0.0",
         "0.0",
         "0.0",
         "0.0",
         "0.0",
         "0.0",
         "0.0",
         "0.0",
         "0.0",
         "0.0",
         "0.0",
         "0.0",
         "0.0",
         "0.0",
         "0.0",
         "0.0",
         "0.0",
         "0.0",
         "0.0",
         "0.0",
         "0.0",
         "0.0",
         "0.0",
         "0.0",
         "0.0",
         "0.0",
         "0.0",
         "0.0",
         "0.0",
         "0.0",
         "0.0",
         "0.0",
         "0.0",
         "0.0",
         "0.0",
         "0.0",
         "0.0",
         "0.0",
         "0.0",
         "0.0",
         "0.0",
         "0.0",
         "0.0",
         "0.0",
         "0.0",
         "0.0",
         "0.0",
         "0.0",
         "0.0",
         "0.0",
         "0.0",
         "0.0",
         "0.0",
         "0.0",
         "0.0",
         "0.0",
         "0.0",
         "0.0",
         "0.0",
         "0.0",
         "0.0",
         "0.0",
         "0.0",
         "0.0",
         "0.0",
         "0.0",
         "0.0",
         "0.0",
         "0.0",
         "0.0",
         "0.0",
         "0.0",
         "0.0",
         "0.0",
         "0.0",
         "0.0",
         "0.0",
         "0.0",
         "0.0",
         "0.0",
         "0.0",
         "0.0",
         "0.0",
         "0.0",
         "0.0",
         "0.0",
         "0.0",
         "0.0",
         "0.0",
         "0.0",
         "0.0",
         "0.0",
         "0.0",
         "0.0",
         "0.0",
         "0.0",
         "0.0",
         "0.0",
         "0.0",
         "0.0",
         "0.0",
         "0.0",
         "0.0",
         "0.0",
         "0.0",
         "0.0",
         "0.0",
         "0.0",
         "0.0",
         "0.0",
         "0.0",
         "0.0",
         "0.0",
         "0.0",
         "0.0",
         "0.0",
         "0.0",
         "0.0",
         "0.0",
         "0.0",
         "0.0",
         "0.0",
         "0.0",
         "0.0",
         "0.0",
         "0.0",
         "0.0",
         "0.0",
         "0.0",
         "0.0",
         "0.0",
         "0.0",
         "0.0",
         "0.0",
         "0.0",
         "0.0",
         "0.0",
         "0.0",
         "0.0",
         "0.0",
         "0.0",
         "0.0",
         "0.0",
         "0.0",
         "0.0",
         "0.0",
         "0.0",
         "0.0",
         "0.0",
         "0.0",
         "0.0",
         "0.0",
         "0.0",
         "0.0",
         "0.0",
         "0.0",
         "0.0",
         "0.0",
         "0.0",
         "0.0",
         "0.0",
         "0.0",
         "0.0",
         "0.0",
         "0.0",
         "0.0",
         "0.0",
         "0.0",
         "0.0",
         "0.0",
         "0.0",
         "0.0",
         "0.0",
         "0.0",
         "0.0",
         "0.0",
         "0.0",
         "0.0",
         "0.0",
         "0.0",
         "0.0",
         "0.0",
         "0.0",
         "0.0",
         "0.0",
         "0.0",
         "0.0",
         "0.0",
         "0.0",
         "0.0",
         "0.0",
         "0.0",
         "0.0",
         "0.0",
         "0.0",
         "0.0",
         "0.0",
         "0.0",
         "0.0",
         "0.0",
         "0.0",
         "0.0",
         "0.0",
         "0.0",
         "0.0",
         "0.0",
         "0.0",
         "0.0",
         "0.0",
         "0.0",
         "0.0",
         "0.0",
         "0.0",
         "0.0",
         "0.0",
         "0.0",
         "0.0",
         "0.0",
         "0.0",
         "0.0",
         "0.0",
         "0.0",
         "0.0",
         "0.0",
         "0.0",
         "0.0",
         "0.0",
         "0.0",
         "0.0",
         "0.0",
         "0.0",
         "0.0",
         "0.0",
         "0.0",
         "0.0",
         "0.0",
         "0.0",
         "0.0",
         "0.0",
         "0.0",
         "0.0",
         "0.0",
         "0.0",
         "0.0",
         "0.0",
         "0.0",
         "0.0",
         "0.0",
         "0.0",
         "0.0",
         "0.0",
         "0.0",
         "0.0",
         "0.0",
         "0.0",
         "0.0",
         "0.0",
         "0.0",
         "0.0",
         "0.0",
         "0.0",
         "0.0",
         "0.0",
         "0.0",
         "0.0",
         "0.0",
         "0.0",
         "0.0",
         "0.0",
         "0.0",
         "0.0",
         "0.0",
         "0.0",
         "0.0",
         "0.0",
         "0.0",
         "0.0",
         "0.0",
         "0.0",
         "0.0",
         "0.0",
         "0.0",
         "0.0",
         "0.0",
         "0.0",
         "0.0",
         "0.0",
         "0.0",
         "0.0",
         "0.0",
         "0.0",
         "0.0",
         "0.0",
         "0.0",
         "0.0",
         "0.0",
         "0.0",
         "0.0",
         "0.0",
         "0.0",
         "0.0",
         "0.0",
         "0.0",
         "0.0",
         "0.0",
         "0.0",
         "0.0",
         "0.0",
         "0.0",
         "0.0",
         "0.0",
         "0.0",
         "0.0",
         "0.0",
         "0.0",
         "0.0",
         "0.0",
         "0.0",
         "0.0",
         "0.0",
         "0.0",
         "0.0",
         "0.0",
         "0.0",
         "0.0",
         "0.0",
         "0.0",
         "0.0",
         "0.0",
         "0.0",
         "0.0",
         "0.0",
         "0.0",
         "0.0",
         "0.0",
         "0.0",
         "0.0",
         "0.0",
         "0.0",
         "0.0",
         "0.0",
         "0.0",
         "0.0",
         "0.0",
         "0.0",
         "0.0",
         "0.0",
         "0.0",
         "0.0",
         "0.0",
         "0.0",
         "0.0",
         "0.0",
         "0.0",
         "0.0",
         "0.0",
         "0.0",
         "0.0",
         "0.0",
         "0.0",
         "0.0",
         "0.0",
         "0.0",
         "0.0",
         "0.0",
         "0.0",
         "0.0",
         "0.0",
         "0.0",
         "0.0",
         "0.0",
         "0.0",
         "0.0",
         "0.0",
         "0.0",
         "0.0",
         "0.0",
         "0.0",
         "0.0",
         "0.0",
         "0.0",
         "0.0",
         "0.0",
         "0.0",
         "0.0",
         "0.0",
         "0.0",
         "0.0",
         "0.0",
         "0.0",
         "0.0",
         "0.0",
         "0.0",
         "0.0",
         "0.0",
         "0.0",
         "0.0",
         "0.0",
         "0.0",
         "0.0",
         "0.0",
         "0.0",
         "0.0",
         "0.0",
         "0.0",
         "0.0",
         "0.0",
         "0.0",
         "0.0",
         "0.0",
         "0.0",
         "0.0",
         "0.0",
         "0.0",
         "0.0",
         "0.0",
         "0.0",
         "0.0",
         "0.0",
         "0.0",
         "0.0",
         "0.0",
         "0.0",
         "0.0",
         "0.0",
         "0.0",
         "0.0",
         "0.0",
         "0.0",
         "0.0",
         "0.0",
         "0.0",
         "0.0",
         "0.0",
         "0.0",
         "0.0",
         "0.0",
         "0.0",
         "0.0",
         "0.0",
         "0.0",
         "0.0",
         "0.0",
         "0.0",
         "0.0",
         "0.0",
         "0.0",
         "0.0",
         "0.0",
         "0.0",
         "0.0",
         "0.0",
         "0.0",
         "0.0",
         "0.0",
         "0.0",
         "0.0",
         "0.0",
         "0.0",
         "0.0",
         "0.0",
         "0.0",
         "0.0",
         "0.0",
         "0.0",
         "0.0",
         "0.0",
         "0.0",
         "0.0",
         "0.0",
         "0.0",
         "0.0",
         "0.0",
         "0.0",
         "0.0",
         "0.0",
         "0.0",
         "0.0",
         "0.0",
         "0.0",
         "0.0",
         "0.0",
         "0.0",
         "0.0",
         "0.0",
         "0.0",
         "0.0",
         "0.0",
         "0.0",
         "0.0",
         "0.0",
         "0.0",
         "0.0",
         "0.0",
         "0.0",
         "0.0",
         "0.0",
         "0.0",
         "0.0",
         "0.0",
         "0.0",
         "0.0",
         "0.0",
         "0.0",
         "0.0",
         "0.0",
         "0.0",
         "0.0",
         "0.0",
         "0.0",
         "0.0",
         "0.0",
         "0.0",
         "0.0",
         "0.0",
         "0.0",
         "0.0",
         "0.0",
         "0.0",
         "0.0",
         "0.0",
         "0.0",
         "0.0",
         "0.0",
         "0.0",
         "0.0",
         "0.0",
         "0.0",
         "0.0",
         "0.0",
         "0.0",
         "0.0",
         "0.0",
         "0.0",
         "0.0",
         "0.0",
         "0.0",
         "0.0",
         "0.0",
         "0.0",
         "0.0",
         "0.0",
         "0.0",
         "0.0",
         "0.0",
         "0.0",
         "0.0",
         "0.0",
         "0.0",
         "0.0",
         "0.0",
         "0.0",
         "0.0",
         "0.0",
         "0.0",
         "0.0",
         "0.0",
         "0.0",
         "0.0",
         "0.0",
         "0.0",
         "0.0",
         "0.0",
         "0.0",
         "0.0",
         "0.0",
         "0.0",
         "0.0",
         "0.0",
         "0.0",
         "0.0",
         "0.0",
         "0.0",
         "0.0",
         "0.0",
         "0.0",
         "0.0",
         "0.0",
         "0.0",
         "0.0",
         "0.0",
         "0.0",
         "0.0",
         "0.0",
         "0.0",
         "0.0",
         "0.0",
         "0.0",
         "0.0",
         "0.0",
         "0.0",
         "0.0",
         "0.0",
         "0.0",
         "0.0",
         "0.0",
         "0.0",
         "0.0",
         "0.0",
         "0.0",
         "0.0",
         "0.0",
         "0.0",
         "0.0",
         "0.0",
         "0.0",
         "0.0",
         "0.0",
         "0.0",
         "0.0",
         "0.0",
         "0.0",
         "0.0",
         "0.0",
         "0.0",
         "0.0",
         "0.0",
         "0.0",
         "0.0",
         "0.0",
         "0.0",
         "0.0",
         "0.0",
         "0.0",
         "0.0",
         "0.0",
         "0.0",
         "0.0",
         "0.0",
         "0.0",
         "0.0",
         "0.0",
         "0.0",
         "0.0",
         "0.0",
         "0.0",
         "0.0",
         "0.0",
         "0.0",
         "0.0",
         "0.0",
         "0.0",
         "0.0",
         "0.0",
         "0.0",
         "0.0",
         "0.0",
         "0.0",
         "0.0",
         "0.0",
         "0.0",
         "0.0",
         "0.0",
         "0.0",
         "0.0",
         "0.0",
         "0.0",
         "0.0",
         "0.0",
         "0.0",
         "0.0",
         "0.0",
         "0.0",
         "0.0",
         "0.0",
         "0.0",
         "0.0",
         "0.0",
         "0.0",
         "0.0",
         "0.0",
         "0.0",
         "0.0",
         "0.0",
         "0.0",
         "0.0",
         "0.0",
         "0.0",
         "0.0",
         "0.0",
         "0.0",
         "0.0",
         "0.0",
         "0.0",
         "0.0",
         "0.0",
         "0.0",
         "0.0",
         "0.0",
         "0.0",
         "0.0",
         "0.0",
         "0.0",
         "0.0",
         "0.0",
         "0.0",
         "0.0",
         "0.0",
         "0.0",
         "0.0",
         "0.0",
         "0.0",
         "0.0",
         "0.0",
         "0.0",
         "0.0",
         "0.0",
         "0.0",
         "0.0",
         "0.0",
         "0.0",
         "0.0",
         "0.0",
         "0.0",
         "0.0",
         "0.0",
         "0.0",
         "0.0",
         "0.0",
         "0.0",
         "0.0",
         "0.0",
         "0.0",
         "0.0",
         "0.0",
         "0.0",
         "0.0",
         "0.0",
         "0.0",
         "0.0",
         "0.0",
         "0.0",
         "0.0",
         "0.0",
         "0.0",
         "0.0",
         "0.0",
         "0.0",
         "0.0",
         "0.0",
         "0.0",
         "0.0",
         "0.0",
         "0.0",
         "0.0",
         "0.0",
         "0.0",
         "0.0",
         "0.0",
         "0.0",
         "0.0",
         "0.0",
         "0.0",
         "0.0",
         "0.0",
         "0.0",
         "0.0",
         "0.0",
         "0.0",
         "0.0",
         "0.0",
         "0.0",
         "0.0",
         "0.0",
         "0.0",
         "0.0",
         "0.0",
         "0.0",
         "0.0",
         "0.0",
         "0.0",
         "0.0",
         "0.0",
         "0.0",
         "0.0",
         "0.0",
         "0.0",
         "0.0",
         "0.0",
         "0.0",
         "0.0",
         "0.0",
         "0.0",
         "0.0",
         "0.0",
         "0.0",
         "0.0",
         "0.0",
         "0.0",
         "0.0",
         "0.0",
         "0.0",
         "0.0",
         "0.0",
         "0.0",
         "0.0",
         "0.0",
         "0.0",
         "0.0",
         "0.0",
         "0.0",
         "0.0",
         "0.0",
         "0.0",
         "0.0",
         "0.0",
         "0.0",
         "0.0",
         "0.0",
         "0.0",
         "0.0",
         "0.0",
         "0.0",
         "0.0",
         "0.0",
         "0.0",
         "0.0",
         "0.0",
         "0.0",
         "0.0",
         "0.0",
         "0.0",
         "0.0",
         "0.0",
         "0.0",
         "0.0",
         "0.0",
         "0.0",
         "0.0",
         "0.0",
         "0.0",
         "0.0",
         "0.0",
         "0.0",
         "0.0",
         "0.0",
         "0.0",
         "0.0",
         "0.0",
         "0.0",
         "0.0",
         "0.0",
         "0.0",
         "0.0",
         "0.0",
         "0.0",
         "0.0",
         "0.0",
         "0.0",
         "0.0",
         "0.0",
         "0.0",
         "0.0",
         "0.0",
         "0.0",
         "0.0",
         "0.0",
         "0.0",
         "0.0",
         "0.0",
         "0.0",
         "0.0",
         "0.0",
         "0.0",
         "0.0",
         "0.0",
         "0.0",
         "0.0",
         "0.0",
         "0.0",
         "0.0",
         "0.0",
         "0.0",
         "0.0",
         "0.0",
         "0.0",
         "0.0",
         "0.0",
         "0.0",
         "0.0",
         "0.0",
         "0.0",
         "0.0",
         "0.0",
         "0.0",
         "0.0",
         "0.0",
         "0.0",
         "0.0",
         "0.0",
         "0.0",
         "0.0",
         "0.0",
         "0.0",
         "0.0",
         "0.0",
         "0.0",
         "0.0",
         "0.0",
         "0.0",
         "0.0",
         "0.0",
         "0.0",
         "0.0",
         "0.0",
         "0.0",
         "0.0",
         "0.0",
         "0.0",
         "0.0",
         "0.0",
         "0.0",
         "0.0",
         "0.0",
         "0.0",
         "0.0",
         "0.0",
         "0.0",
         "0.0",
         "0.0",
         "0.0",
         "0.0",
         "0.0",
         "0.0",
         "0.0",
         "0.0",
         "0.0",
         "0.0",
         "0.0",
         "0.0",
         "0.0",
         "0.0",
         "0.0",
         "0.0",
         "0.0",
         "0.0",
         "0.0",
         "0.0",
         "0.0",
         "0.0",
         "0.0",
         "0.0",
         "0.0",
         "0.0",
         "0.0",
         "0.0",
         "0.0",
         "0.0",
         "0.0",
         "0.0",
         "0.0",
         "0.0",
         "0.0",
         "0.0",
         "0.0",
         "0.0",
         "0.0",
         "0.0",
         "0.0",
         "0.0",
         "0.0",
         "0.0",
         "0.0",
         "0.0",
         "0.0",
         "0.0",
         "0.0",
         "0.0",
         "0.0",
         "0.0",
         "0.0",
         "0.0",
         "0.0",
         "0.0",
         "0.0",
         "0.0",
         "0.0",
         "0.0",
         "0.0",
         "0.0",
         "0.0",
         "0.0",
         "0.0",
         "0.0",
         "0.0",
         "0.0",
         "0.0",
         "0.0",
         "0.0",
         "0.0",
         "0.0",
         "0.0"
        ],
        [
         "1",
         "1.0",
         "0.0",
         "0.0",
         "0.0",
         "0.0",
         "0.0",
         "0.0",
         "0.0",
         "0.0",
         "0.0",
         "0.0",
         "0.0",
         "1.0",
         "1.0",
         "0.0",
         "0.0",
         "0.0",
         "0.0",
         "1.0",
         "0.0",
         "0.0",
         "0.0",
         "0.0",
         "0.0",
         "1.0",
         "0.0",
         "0.0",
         "0.0",
         "0.0",
         "0.0",
         "0.0",
         "0.0",
         "0.0",
         "0.0",
         "0.0",
         "0.0",
         "0.0",
         "0.0",
         "0.0",
         "0.0",
         "0.0",
         "0.0",
         "0.0",
         "0.0",
         "0.0",
         "0.0",
         "0.0",
         "0.0",
         "0.0",
         "1.0",
         "0.0",
         "0.0",
         "0.0",
         "0.0",
         "0.0",
         "0.0",
         "0.0",
         "0.0",
         "0.0",
         "0.0",
         "0.0",
         "0.0",
         "0.0",
         "0.0",
         "0.0",
         "0.0",
         "0.0",
         "0.0",
         "0.0",
         "0.0",
         "0.0",
         "0.0",
         "0.0",
         "0.0",
         "0.0",
         "0.0",
         "0.0",
         "0.0",
         "0.0",
         "0.0",
         "0.0",
         "0.0",
         "0.0",
         "0.0",
         "0.0",
         "0.0",
         "0.0",
         "0.0",
         "0.0",
         "0.0",
         "0.0",
         "0.0",
         "0.0",
         "0.0",
         "0.0",
         "0.0",
         "0.0",
         "0.0",
         "0.0",
         "1.0",
         "0.0",
         "0.0",
         "0.0",
         "0.0",
         "0.0",
         "0.0",
         "0.0",
         "0.0",
         "0.0",
         "0.0",
         "1.0",
         "0.0",
         "0.0",
         "0.0",
         "0.0",
         "0.0",
         "0.0",
         "0.0",
         "0.0",
         "0.0",
         "0.0",
         "0.0",
         "0.0",
         "0.0",
         "0.0",
         "0.0",
         "1.0",
         "0.0",
         "0.0",
         "0.0",
         "0.0",
         "0.0",
         "0.0",
         "0.0",
         "0.0",
         "0.0",
         "0.0",
         "0.0",
         "0.0",
         "0.0",
         "0.0",
         "0.0",
         "0.0",
         "0.0",
         "0.0",
         "0.0",
         "0.0",
         "0.0",
         "0.0",
         "0.0",
         "0.0",
         "0.0",
         "0.0",
         "0.0",
         "0.0",
         "0.0",
         "0.0",
         "0.0",
         "0.0",
         "0.0",
         "0.0",
         "0.0",
         "0.0",
         "0.0",
         "0.0",
         "0.0",
         "0.0",
         "0.0",
         "0.0",
         "0.0",
         "0.0",
         "0.0",
         "0.0",
         "0.0",
         "0.0",
         "0.0",
         "0.0",
         "0.0",
         "0.0",
         "0.0",
         "0.0",
         "0.0",
         "0.0",
         "0.0",
         "0.0",
         "0.0",
         "0.0",
         "0.0",
         "0.0",
         "0.0",
         "0.0",
         "0.0",
         "0.0",
         "0.0",
         "0.0",
         "0.0",
         "0.0",
         "0.0",
         "0.0",
         "0.0",
         "0.0",
         "0.0",
         "0.0",
         "0.0",
         "0.0",
         "0.0",
         "0.0",
         "0.0",
         "0.0",
         "0.0",
         "0.0",
         "0.0",
         "0.0",
         "0.0",
         "0.0",
         "0.0",
         "0.0",
         "0.0",
         "0.0",
         "0.0",
         "0.0",
         "0.0",
         "0.0",
         "0.0",
         "0.0",
         "0.0",
         "0.0",
         "0.0",
         "0.0",
         "0.0",
         "0.0",
         "0.0",
         "0.0",
         "0.0",
         "0.0",
         "0.0",
         "1.0",
         "0.0",
         "0.0",
         "0.0",
         "0.0",
         "1.0",
         "0.0",
         "0.0",
         "0.0",
         "0.0",
         "0.0",
         "0.0",
         "0.0",
         "0.0",
         "1.0",
         "0.0",
         "0.0",
         "0.0",
         "1.0",
         "0.0",
         "1.0",
         "1.0",
         "0.0",
         "0.0",
         "0.0",
         "0.0",
         "0.0",
         "0.0",
         "0.0",
         "0.0",
         "0.0",
         "0.0",
         "1.0",
         "0.0",
         "0.0",
         "1.0",
         "1.0",
         "1.0",
         "1.0",
         "1.0",
         "1.0",
         "1.0",
         "1.0",
         "1.0",
         "1.0",
         "1.0",
         "1.0",
         "1.0",
         "1.0",
         "1.0",
         "1.0",
         "1.0",
         "1.0",
         "1.0",
         "1.0",
         "1.0",
         "1.0",
         "0.0",
         "1.0",
         "1.0",
         "1.0",
         "1.0",
         "1.0",
         "1.0",
         "1.0",
         "1.0",
         "1.0",
         "1.0",
         "1.0",
         "1.0",
         "1.0",
         "1.0",
         "0.0",
         "1.0",
         "1.0",
         "1.0",
         "1.0",
         "0.0",
         "0.0",
         "1.0",
         "0.0",
         "0.0",
         "0.0",
         "0.0",
         "0.0",
         "0.0",
         "0.0",
         "0.0",
         "0.0",
         "0.0",
         "0.0",
         "0.0",
         "0.0",
         "0.0",
         "0.0",
         "0.0",
         "0.0",
         "0.0",
         "0.0",
         "0.0",
         "0.0",
         "0.0",
         "0.0",
         "0.0",
         "0.0",
         "0.0",
         "0.0",
         "0.0",
         "0.0",
         "0.0",
         "0.0",
         "0.0",
         "0.0",
         "0.0",
         "0.0",
         "0.0",
         "0.0",
         "0.0",
         "0.0",
         "0.0",
         "0.0",
         "0.0",
         "0.0",
         "0.0",
         "0.0",
         "0.0",
         "0.0",
         "0.0",
         "0.0",
         "0.0",
         "0.0",
         "0.0",
         "0.0",
         "0.0",
         "0.0",
         "0.0",
         "0.0",
         "0.0",
         "0.0",
         "0.0",
         "0.0",
         "0.0",
         "0.0",
         "0.0",
         "0.0",
         "0.0",
         "0.0",
         "0.0",
         "0.0",
         "0.0",
         "0.0",
         "0.0",
         "0.0",
         "0.0",
         "0.0",
         "0.0",
         "0.0",
         "0.0",
         "0.0",
         "0.0",
         "0.0",
         "0.0",
         "0.0",
         "0.0",
         "0.0",
         "0.0",
         "0.0",
         "0.0",
         "0.0",
         "0.0",
         "0.0",
         "0.0",
         "0.0",
         "0.0",
         "0.0",
         "0.0",
         "0.0",
         "0.0",
         "0.0",
         "0.0",
         "0.0",
         "0.0",
         "0.0",
         "0.0",
         "0.0",
         "0.0",
         "0.0",
         "0.0",
         "0.0",
         "0.0",
         "0.0",
         "0.0",
         "0.0",
         "0.0",
         "0.0",
         "0.0",
         "0.0",
         "0.0",
         "0.0",
         "0.0",
         "0.0",
         "0.0",
         "0.0",
         "0.0",
         "0.0",
         "0.0",
         "0.0",
         "0.0",
         "0.0",
         "0.0",
         "0.0",
         "0.0",
         "0.0",
         "0.0",
         "0.0",
         "0.0",
         "0.0",
         "0.0",
         "0.0",
         "0.0",
         "0.0",
         "0.0",
         "0.0",
         "0.0",
         "0.0",
         "0.0",
         "0.0",
         "0.0",
         "0.0",
         "0.0",
         "0.0",
         "0.0",
         "0.0",
         "0.0",
         "0.0",
         "0.0",
         "0.0",
         "0.0",
         "0.0",
         "0.0",
         "0.0",
         "0.0",
         "0.0",
         "0.0",
         "0.0",
         "0.0",
         "0.0",
         "0.0",
         "0.0",
         "0.0",
         "0.0",
         "0.0",
         "0.0",
         "0.0",
         "0.0",
         "0.0",
         "0.0",
         "0.0",
         "0.0",
         "0.0",
         "0.0",
         "0.0",
         "0.0",
         "0.0",
         "0.0",
         "0.0",
         "0.0",
         "0.0",
         "0.0",
         "0.0",
         "0.0",
         "0.0",
         "0.0",
         "0.0",
         "0.0",
         "0.0",
         "0.0",
         "0.0",
         "0.0",
         "0.0",
         "0.0",
         "0.0",
         "0.0",
         "0.0",
         "0.0",
         "0.0",
         "0.0",
         "0.0",
         "0.0",
         "0.0",
         "0.0",
         "0.0",
         "0.0",
         "0.0",
         "0.0",
         "0.0",
         "0.0",
         "0.0",
         "0.0",
         "0.0",
         "0.0",
         "0.0",
         "0.0",
         "0.0",
         "0.0",
         "0.0",
         "0.0",
         "0.0",
         "0.0",
         "0.0",
         "0.0",
         "0.0",
         "0.0",
         "0.0",
         "0.0",
         "0.0",
         "0.0",
         "0.0",
         "0.0",
         "0.0",
         "0.0",
         "0.0",
         "0.0",
         "0.0",
         "0.0",
         "0.0",
         "0.0",
         "0.0",
         "0.0",
         "0.0",
         "0.0",
         "0.0",
         "0.0",
         "0.0",
         "0.0",
         "0.0",
         "0.0",
         "0.0",
         "0.0",
         "0.0",
         "0.0",
         "0.0",
         "0.0",
         "0.0",
         "0.0",
         "0.0",
         "0.0",
         "0.0",
         "0.0",
         "0.0",
         "0.0",
         "0.0",
         "0.0",
         "0.0",
         "0.0",
         "0.0",
         "0.0",
         "0.0",
         "0.0",
         "0.0",
         "0.0",
         "0.0",
         "0.0",
         "0.0",
         "0.0",
         "0.0",
         "0.0",
         "0.0",
         "0.0",
         "0.0",
         "0.0",
         "0.0",
         "0.0",
         "0.0",
         "0.0",
         "0.0",
         "0.0",
         "0.0",
         "0.0",
         "0.0",
         "0.0",
         "0.0",
         "0.0",
         "0.0",
         "0.0",
         "0.0",
         "0.0",
         "0.0",
         "0.0",
         "0.0",
         "0.0",
         "0.0",
         "0.0",
         "0.0",
         "0.0",
         "0.0",
         "0.0",
         "0.0",
         "0.0",
         "0.0",
         "0.0",
         "0.0",
         "0.0",
         "0.0",
         "0.0",
         "0.0",
         "0.0",
         "0.0",
         "0.0",
         "0.0",
         "0.0",
         "0.0",
         "0.0",
         "0.0",
         "0.0",
         "0.0",
         "0.0",
         "0.0",
         "0.0",
         "0.0",
         "0.0",
         "0.0",
         "0.0",
         "0.0",
         "0.0",
         "0.0",
         "0.0",
         "0.0",
         "0.0",
         "0.0",
         "0.0",
         "0.0",
         "0.0",
         "0.0",
         "0.0",
         "0.0",
         "0.0",
         "0.0",
         "0.0",
         "0.0",
         "0.0",
         "0.0",
         "0.0",
         "0.0",
         "0.0",
         "0.0",
         "0.0",
         "0.0",
         "0.0",
         "0.0",
         "0.0",
         "0.0",
         "0.0",
         "0.0",
         "0.0",
         "0.0",
         "0.0",
         "0.0",
         "0.0",
         "0.0",
         "0.0",
         "0.0",
         "0.0",
         "0.0",
         "0.0",
         "0.0",
         "0.0",
         "0.0",
         "0.0",
         "0.0",
         "0.0",
         "0.0",
         "0.0",
         "0.0",
         "0.0",
         "0.0",
         "0.0",
         "0.0",
         "0.0",
         "0.0",
         "0.0",
         "0.0",
         "0.0",
         "0.0",
         "0.0",
         "0.0",
         "0.0",
         "0.0",
         "0.0",
         "0.0",
         "0.0",
         "0.0",
         "0.0",
         "0.0",
         "0.0",
         "0.0",
         "0.0",
         "0.0",
         "0.0",
         "0.0",
         "0.0",
         "0.0",
         "0.0",
         "0.0",
         "0.0",
         "0.0",
         "0.0",
         "0.0",
         "0.0",
         "0.0",
         "0.0",
         "0.0",
         "0.0",
         "0.0",
         "0.0",
         "0.0",
         "0.0",
         "0.0",
         "0.0",
         "0.0",
         "0.0",
         "0.0",
         "0.0",
         "0.0",
         "0.0",
         "0.0",
         "0.0",
         "0.0",
         "0.0",
         "0.0",
         "0.0",
         "0.0",
         "0.0",
         "0.0",
         "0.0",
         "0.0",
         "0.0",
         "0.0",
         "0.0",
         "0.0",
         "0.0",
         "0.0",
         "0.0",
         "0.0",
         "0.0",
         "0.0",
         "0.0",
         "0.0",
         "0.0",
         "0.0",
         "0.0",
         "0.0",
         "0.0",
         "0.0",
         "0.0",
         "0.0",
         "0.0",
         "0.0",
         "0.0",
         "0.0",
         "0.0",
         "0.0",
         "0.0",
         "0.0",
         "0.0",
         "0.0",
         "0.0",
         "0.0",
         "0.0",
         "0.0",
         "0.0",
         "0.0",
         "0.0",
         "0.0",
         "0.0",
         "0.0",
         "0.0",
         "0.0",
         "0.0",
         "0.0",
         "0.0",
         "0.0",
         "0.0",
         "0.0",
         "0.0",
         "0.0",
         "0.0",
         "0.0",
         "0.0",
         "0.0",
         "0.0",
         "0.0",
         "0.0",
         "0.0",
         "0.0",
         "0.0",
         "0.0",
         "0.0",
         "0.0",
         "0.0",
         "0.0",
         "0.0",
         "0.0",
         "0.0",
         "0.0",
         "0.0",
         "0.0",
         "0.0",
         "0.0",
         "0.0",
         "0.0",
         "0.0",
         "0.0",
         "0.0",
         "0.0",
         "0.0",
         "0.0",
         "0.0",
         "0.0",
         "0.0",
         "0.0",
         "0.0",
         "0.0",
         "0.0",
         "0.0",
         "0.0",
         "0.0",
         "0.0",
         "0.0",
         "0.0",
         "0.0",
         "0.0",
         "0.0",
         "0.0",
         "0.0",
         "0.0",
         "0.0",
         "0.0",
         "0.0",
         "0.0",
         "0.0",
         "0.0",
         "0.0",
         "0.0",
         "0.0",
         "0.0",
         "0.0",
         "0.0",
         "0.0",
         "0.0",
         "0.0",
         "0.0",
         "0.0",
         "0.0",
         "0.0",
         "0.0",
         "0.0",
         "0.0",
         "0.0",
         "0.0",
         "0.0",
         "0.0",
         "0.0",
         "0.0",
         "0.0",
         "0.0",
         "0.0",
         "0.0",
         "0.0",
         "0.0",
         "0.0",
         "0.0",
         "0.0",
         "0.0",
         "0.0",
         "0.0",
         "0.0",
         "0.0",
         "0.0",
         "0.0",
         "0.0",
         "0.0",
         "0.0",
         "0.0",
         "0.0",
         "0.0",
         "0.0",
         "0.0",
         "0.0",
         "0.0",
         "0.0",
         "0.0",
         "0.0",
         "0.0",
         "0.0",
         "0.0",
         "0.0",
         "0.0",
         "0.0",
         "0.0",
         "0.0",
         "0.0",
         "0.0",
         "0.0",
         "0.0",
         "0.0",
         "0.0",
         "0.0",
         "0.0",
         "0.0",
         "0.0",
         "0.0",
         "0.0",
         "0.0",
         "0.0",
         "0.0",
         "0.0",
         "0.0",
         "0.0",
         "0.0",
         "0.0",
         "0.0",
         "0.0",
         "0.0",
         "0.0",
         "0.0",
         "0.0",
         "0.0",
         "0.0",
         "0.0",
         "0.0",
         "0.0",
         "0.0",
         "0.0",
         "0.0",
         "0.0",
         "0.0",
         "0.0",
         "0.0",
         "0.0",
         "0.0",
         "0.0",
         "0.0",
         "0.0",
         "0.0",
         "0.0",
         "0.0",
         "0.0",
         "0.0",
         "0.0",
         "0.0",
         "0.0",
         "0.0",
         "0.0",
         "0.0",
         "0.0",
         "0.0",
         "0.0",
         "0.0",
         "0.0",
         "0.0",
         "0.0",
         "0.0",
         "0.0",
         "0.0",
         "0.0",
         "0.0",
         "0.0",
         "0.0",
         "0.0",
         "0.0",
         "0.0",
         "0.0",
         "0.0",
         "0.0",
         "0.0",
         "0.0",
         "0.0",
         "0.0",
         "0.0",
         "0.0",
         "0.0",
         "0.0",
         "0.0",
         "0.0",
         "0.0",
         "0.0",
         "0.0",
         "0.0",
         "0.0",
         "0.0",
         "0.0",
         "0.0",
         "0.0",
         "0.0",
         "0.0",
         "0.0",
         "0.0",
         "0.0",
         "0.0",
         "0.0",
         "0.0",
         "0.0",
         "0.0",
         "0.0",
         "0.0",
         "0.0",
         "0.0",
         "0.0",
         "0.0",
         "0.0",
         "0.0",
         "0.0",
         "0.0",
         "0.0",
         "0.0",
         "0.0",
         "0.0",
         "0.0",
         "0.0",
         "0.0",
         "0.0",
         "0.0",
         "0.0",
         "0.0",
         "0.0",
         "0.0",
         "0.0",
         "0.0",
         "0.0",
         "0.0",
         "0.0",
         "0.0",
         "0.0",
         "0.0",
         "0.0",
         "0.0",
         "0.0",
         "0.0",
         "0.0",
         "0.0",
         "0.0",
         "0.0",
         "0.0",
         "0.0",
         "0.0",
         "0.0",
         "0.0",
         "0.0",
         "0.0",
         "0.0",
         "0.0",
         "0.0",
         "0.0",
         "0.0",
         "0.0",
         "0.0",
         "0.0",
         "0.0",
         "0.0",
         "0.0",
         "0.0",
         "0.0",
         "0.0",
         "0.0",
         "0.0",
         "0.0",
         "0.0",
         "0.0",
         "0.0",
         "0.0",
         "0.0",
         "0.0",
         "0.0",
         "0.0",
         "0.0",
         "0.0",
         "0.0",
         "0.0",
         "0.0",
         "0.0",
         "0.0",
         "0.0",
         "0.0",
         "0.0",
         "0.0",
         "0.0",
         "0.0",
         "0.0",
         "0.0",
         "0.0",
         "0.0",
         "0.0",
         "0.0",
         "0.0",
         "0.0",
         "0.0",
         "0.0",
         "0.0",
         "0.0",
         "0.0",
         "0.0",
         "0.0",
         "0.0",
         "0.0",
         "0.0",
         "0.0",
         "0.0",
         "0.0",
         "0.0",
         "0.0",
         "0.0",
         "0.0",
         "0.0",
         "0.0",
         "0.0",
         "0.0",
         "0.0",
         "0.0",
         "0.0",
         "0.0",
         "0.0",
         "0.0",
         "0.0",
         "0.0",
         "0.0",
         "0.0",
         "0.0",
         "0.0",
         "0.0",
         "0.0",
         "0.0",
         "0.0",
         "0.0",
         "0.0",
         "0.0",
         "0.0",
         "0.0",
         "0.0",
         "0.0",
         "0.0",
         "0.0",
         "0.0",
         "0.0",
         "0.0",
         "0.0",
         "0.0",
         "0.0",
         "0.0",
         "0.0",
         "0.0",
         "0.0",
         "0.0",
         "0.0",
         "0.0",
         "0.0",
         "0.0",
         "0.0",
         "0.0",
         "0.0",
         "0.0",
         "0.0",
         "0.0",
         "0.0",
         "0.0",
         "0.0",
         "0.0",
         "0.0",
         "0.0",
         "0.0",
         "0.0",
         "0.0",
         "0.0",
         "0.0",
         "0.0",
         "0.0",
         "0.0",
         "0.0",
         "0.0",
         "0.0",
         "0.0",
         "0.0",
         "0.0",
         "0.0",
         "0.0",
         "0.0",
         "0.0",
         "0.0",
         "0.0",
         "0.0",
         "0.0",
         "0.0",
         "0.0",
         "0.0",
         "0.0",
         "0.0",
         "0.0",
         "0.0",
         "0.0",
         "0.0",
         "0.0",
         "0.0",
         "0.0",
         "0.0",
         "0.0",
         "0.0",
         "0.0",
         "0.0",
         "0.0",
         "0.0",
         "0.0",
         "0.0",
         "0.0",
         "0.0",
         "0.0",
         "0.0",
         "0.0",
         "0.0",
         "0.0",
         "0.0",
         "0.0",
         "0.0",
         "0.0",
         "0.0",
         "0.0",
         "0.0",
         "0.0",
         "0.0",
         "0.0",
         "0.0",
         "0.0",
         "0.0",
         "0.0",
         "0.0",
         "0.0",
         "0.0",
         "0.0",
         "0.0",
         "0.0",
         "0.0",
         "0.0",
         "0.0",
         "0.0",
         "0.0",
         "0.0",
         "0.0",
         "0.0",
         "0.0",
         "0.0",
         "0.0",
         "0.0",
         "0.0",
         "0.0",
         "0.0",
         "0.0",
         "0.0",
         "0.0",
         "0.0",
         "0.0",
         "0.0",
         "0.0",
         "0.0",
         "0.0",
         "0.0",
         "0.0",
         "0.0",
         "0.0",
         "0.0",
         "0.0",
         "0.0",
         "0.0",
         "0.0",
         "0.0",
         "0.0",
         "0.0",
         "0.0",
         "0.0",
         "0.0",
         "0.0",
         "0.0",
         "0.0",
         "0.0",
         "0.0",
         "0.0",
         "0.0",
         "0.0",
         "0.0",
         "0.0",
         "0.0",
         "0.0",
         "0.0",
         "0.0",
         "0.0",
         "0.0",
         "0.0",
         "0.0",
         "0.0",
         "0.0",
         "0.0",
         "0.0",
         "0.0",
         "0.0",
         "0.0",
         "0.0",
         "0.0",
         "0.0",
         "0.0",
         "0.0",
         "0.0",
         "0.0",
         "0.0",
         "0.0",
         "0.0",
         "0.0",
         "0.0",
         "0.0",
         "0.0",
         "0.0",
         "0.0",
         "0.0",
         "0.0",
         "0.0",
         "0.0",
         "0.0",
         "0.0",
         "0.0",
         "0.0",
         "0.0",
         "0.0",
         "0.0",
         "0.0",
         "0.0",
         "0.0",
         "0.0",
         "0.0",
         "0.0",
         "0.0",
         "0.0",
         "0.0",
         "0.0",
         "0.0",
         "0.0",
         "0.0",
         "0.0",
         "0.0",
         "0.0",
         "0.0",
         "0.0",
         "0.0",
         "0.0",
         "0.0",
         "0.0",
         "0.0",
         "0.0",
         "0.0",
         "0.0",
         "0.0",
         "0.0",
         "0.0",
         "0.0",
         "0.0",
         "0.0",
         "0.0",
         "0.0",
         "0.0",
         "0.0",
         "0.0",
         "0.0",
         "0.0",
         "0.0",
         "0.0",
         "0.0",
         "0.0",
         "0.0",
         "0.0",
         "0.0",
         "0.0",
         "0.0",
         "0.0",
         "0.0",
         "0.0",
         "0.0",
         "0.0",
         "0.0",
         "0.0",
         "0.0",
         "0.0",
         "0.0",
         "0.0",
         "0.0",
         "0.0",
         "0.0",
         "0.0",
         "0.0",
         "0.0",
         "0.0",
         "0.0",
         "0.0",
         "0.0",
         "0.0",
         "0.0",
         "0.0",
         "0.0",
         "0.0",
         "0.0",
         "0.0",
         "0.0",
         "0.0",
         "0.0",
         "0.0",
         "0.0",
         "0.0",
         "0.0",
         "0.0",
         "0.0",
         "0.0",
         "0.0",
         "0.0",
         "0.0",
         "0.0",
         "0.0",
         "0.0",
         "0.0",
         "0.0",
         "0.0",
         "0.0",
         "0.0",
         "0.0",
         "0.0",
         "0.0",
         "0.0",
         "0.0",
         "0.0",
         "0.0",
         "0.0",
         "0.0",
         "0.0",
         "0.0",
         "0.0",
         "0.0",
         "0.0",
         "0.0",
         "0.0",
         "0.0",
         "0.0",
         "0.0",
         "0.0",
         "0.0",
         "0.0",
         "0.0",
         "0.0",
         "0.0",
         "0.0",
         "0.0",
         "0.0",
         "0.0",
         "0.0",
         "0.0",
         "0.0",
         "0.0",
         "0.0",
         "0.0",
         "0.0",
         "0.0",
         "0.0",
         "0.0",
         "0.0",
         "0.0",
         "0.0",
         "0.0",
         "0.0",
         "0.0",
         "0.0",
         "0.0",
         "0.0",
         "0.0",
         "0.0",
         "0.0",
         "0.0",
         "0.0",
         "0.0",
         "0.0",
         "0.0",
         "0.0",
         "0.0",
         "0.0",
         "0.0",
         "0.0",
         "0.0",
         "0.0",
         "0.0",
         "0.0",
         "0.0",
         "0.0",
         "0.0",
         "0.0",
         "0.0",
         "0.0",
         "0.0",
         "0.0",
         "0.0",
         "0.0",
         "0.0",
         "0.0",
         "0.0",
         "0.0",
         "0.0",
         "0.0",
         "0.0",
         "0.0",
         "0.0",
         "0.0",
         "0.0",
         "0.0",
         "0.0",
         "0.0",
         "0.0",
         "0.0",
         "0.0",
         "0.0",
         "0.0",
         "0.0",
         "0.0",
         "0.0",
         "0.0",
         "0.0",
         "0.0",
         "0.0",
         "0.0",
         "0.0",
         "0.0",
         "0.0",
         "0.0",
         "0.0",
         "0.0",
         "0.0",
         "0.0",
         "0.0",
         "0.0",
         "0.0",
         "0.0",
         "0.0",
         "0.0",
         "0.0",
         "0.0",
         "0.0",
         "0.0",
         "0.0",
         "0.0",
         "0.0",
         "0.0",
         "0.0",
         "0.0",
         "0.0",
         "0.0",
         "0.0",
         "0.0",
         "0.0",
         "0.0",
         "0.0",
         "0.0",
         "0.0",
         "0.0",
         "0.0",
         "0.0",
         "0.0",
         "0.0",
         "0.0",
         "0.0",
         "0.0",
         "0.0",
         "0.0",
         "0.0",
         "0.0",
         "0.0",
         "0.0",
         "0.0",
         "0.0",
         "0.0",
         "0.0",
         "0.0",
         "0.0",
         "0.0",
         "0.0",
         "0.0",
         "0.0",
         "0.0",
         "0.0",
         "0.0",
         "0.0",
         "0.0",
         "0.0",
         "0.0",
         "0.0",
         "0.0",
         "0.0",
         "0.0",
         "0.0",
         "0.0",
         "0.0",
         "0.0",
         "0.0",
         "0.0",
         "0.0",
         "0.0",
         "0.0",
         "0.0",
         "0.0",
         "0.0",
         "0.0",
         "0.0",
         "0.0",
         "0.0",
         "0.0",
         "0.0",
         "0.0",
         "0.0",
         "0.0",
         "0.0",
         "0.0",
         "0.0",
         "0.0",
         "0.0",
         "0.0",
         "0.0",
         "0.0",
         "0.0",
         "0.0",
         "0.0",
         "0.0",
         "0.0",
         "0.0",
         "0.0",
         "0.0",
         "0.0",
         "0.0",
         "0.0",
         "0.0",
         "0.0",
         "0.0",
         "0.0",
         "0.0",
         "0.0",
         "0.0",
         "0.0",
         "0.0"
        ],
        [
         "2",
         "0.0",
         "0.0",
         "0.0",
         "0.0",
         "0.0",
         "0.0",
         "0.0",
         "0.0",
         "0.0",
         "0.0",
         "0.0",
         "0.0",
         "0.0",
         "0.0",
         "0.0",
         "0.0",
         "0.0",
         "0.0",
         "0.0",
         "0.0",
         "0.0",
         "0.0",
         "0.0",
         "0.0",
         "0.0",
         "0.0",
         "0.0",
         "0.0",
         "0.0",
         "0.0",
         "0.0",
         "0.0",
         "0.0",
         "0.0",
         "0.0",
         "0.0",
         "0.0",
         "0.0",
         "0.0",
         "0.0",
         "0.0",
         "0.0",
         "0.0",
         "0.0",
         "0.0",
         "0.0",
         "0.0",
         "0.0",
         "0.0",
         "0.0",
         "0.0",
         "0.0",
         "0.0",
         "0.0",
         "0.0",
         "0.0",
         "0.0",
         "0.0",
         "0.0",
         "0.0",
         "0.0",
         "0.0",
         "0.0",
         "0.0",
         "0.0",
         "0.0",
         "0.0",
         "0.0",
         "0.0",
         "0.0",
         "0.0",
         "0.0",
         "0.0",
         "0.0",
         "0.0",
         "0.0",
         "0.0",
         "0.0",
         "0.0",
         "0.0",
         "0.0",
         "0.0",
         "0.0",
         "0.0",
         "0.0",
         "0.0",
         "0.0",
         "0.0",
         "0.0",
         "0.0",
         "0.0",
         "0.0",
         "0.0",
         "0.0",
         "0.0",
         "0.0",
         "0.0",
         "0.0",
         "0.0",
         "0.0",
         "0.0",
         "0.0",
         "0.0",
         "0.0",
         "0.0",
         "0.0",
         "0.0",
         "0.0",
         "0.0",
         "0.0",
         "0.0",
         "0.0",
         "0.0",
         "0.0",
         "0.0",
         "0.0",
         "0.0",
         "0.0",
         "0.0",
         "0.0",
         "0.0",
         "0.0",
         "0.0",
         "0.0",
         "0.0",
         "0.0",
         "0.0",
         "0.0",
         "0.0",
         "0.0",
         "0.0",
         "0.0",
         "0.0",
         "0.0",
         "0.0",
         "0.0",
         "0.0",
         "0.0",
         "0.0",
         "0.0",
         "0.0",
         "0.0",
         "0.0",
         "0.0",
         "0.0",
         "0.0",
         "0.0",
         "0.0",
         "0.0",
         "0.0",
         "0.0",
         "0.0",
         "0.0",
         "0.0",
         "0.0",
         "0.0",
         "0.0",
         "0.0",
         "0.0",
         "0.0",
         "0.0",
         "0.0",
         "0.0",
         "0.0",
         "0.0",
         "0.0",
         "0.0",
         "0.0",
         "0.0",
         "0.0",
         "0.0",
         "0.0",
         "0.0",
         "0.0",
         "0.0",
         "0.0",
         "0.0",
         "0.0",
         "0.0",
         "0.0",
         "1.0",
         "0.0",
         "0.0",
         "0.0",
         "0.0",
         "0.0",
         "0.0",
         "0.0",
         "0.0",
         "0.0",
         "0.0",
         "0.0",
         "0.0",
         "0.0",
         "0.0",
         "0.0",
         "0.0",
         "0.0",
         "0.0",
         "0.0",
         "0.0",
         "0.0",
         "0.0",
         "0.0",
         "0.0",
         "0.0",
         "0.0",
         "0.0",
         "0.0",
         "0.0",
         "0.0",
         "0.0",
         "0.0",
         "0.0",
         "0.0",
         "0.0",
         "0.0",
         "0.0",
         "0.0",
         "0.0",
         "0.0",
         "0.0",
         "0.0",
         "0.0",
         "0.0",
         "0.0",
         "0.0",
         "0.0",
         "0.0",
         "0.0",
         "0.0",
         "0.0",
         "0.0",
         "0.0",
         "0.0",
         "0.0",
         "0.0",
         "0.0",
         "0.0",
         "0.0",
         "0.0",
         "0.0",
         "0.0",
         "0.0",
         "0.0",
         "0.0",
         "0.0",
         "0.0",
         "0.0",
         "0.0",
         "0.0",
         "0.0",
         "0.0",
         "0.0",
         "0.0",
         "0.0",
         "0.0",
         "0.0",
         "0.0",
         "1.0",
         "0.0",
         "0.0",
         "0.0",
         "0.0",
         "0.0",
         "0.0",
         "0.0",
         "1.0",
         "0.0",
         "0.0",
         "1.0",
         "0.0",
         "0.0",
         "0.0",
         "0.0",
         "0.0",
         "0.0",
         "0.0",
         "0.0",
         "0.0",
         "0.0",
         "0.0",
         "0.0",
         "0.0",
         "0.0",
         "0.0",
         "0.0",
         "0.0",
         "0.0",
         "0.0",
         "0.0",
         "0.0",
         "0.0",
         "0.0",
         "0.0",
         "0.0",
         "0.0",
         "0.0",
         "1.0",
         "0.0",
         "0.0",
         "0.0",
         "1.0",
         "0.0",
         "0.0",
         "0.0",
         "1.0",
         "0.0",
         "0.0",
         "0.0",
         "0.0",
         "0.0",
         "0.0",
         "0.0",
         "0.0",
         "0.0",
         "0.0",
         "1.0",
         "0.0",
         "1.0",
         "1.0",
         "1.0",
         "0.0",
         "0.0",
         "0.0",
         "0.0",
         "1.0",
         "1.0",
         "1.0",
         "0.0",
         "1.0",
         "0.0",
         "0.0",
         "1.0",
         "0.0",
         "0.0",
         "0.0",
         "0.0",
         "1.0",
         "1.0",
         "0.0",
         "1.0",
         "1.0",
         "1.0",
         "1.0",
         "1.0",
         "1.0",
         "1.0",
         "1.0",
         "1.0",
         "1.0",
         "0.0",
         "0.0",
         "1.0",
         "1.0",
         "0.0",
         "0.0",
         "0.0",
         "0.0",
         "0.0",
         "0.0",
         "0.0",
         "0.0",
         "0.0",
         "0.0",
         "0.0",
         "0.0",
         "0.0",
         "0.0",
         "0.0",
         "0.0",
         "0.0",
         "0.0",
         "0.0",
         "0.0",
         "0.0",
         "0.0",
         "0.0",
         "0.0",
         "0.0",
         "0.0",
         "0.0",
         "0.0",
         "0.0",
         "0.0",
         "0.0",
         "0.0",
         "0.0",
         "0.0",
         "0.0",
         "0.0",
         "0.0",
         "0.0",
         "0.0",
         "0.0",
         "0.0",
         "0.0",
         "0.0",
         "0.0",
         "0.0",
         "0.0",
         "0.0",
         "0.0",
         "0.0",
         "0.0",
         "0.0",
         "0.0",
         "0.0",
         "0.0",
         "0.0",
         "0.0",
         "0.0",
         "0.0",
         "0.0",
         "0.0",
         "0.0",
         "0.0",
         "0.0",
         "0.0",
         "0.0",
         "0.0",
         "0.0",
         "0.0",
         "0.0",
         "0.0",
         "0.0",
         "0.0",
         "0.0",
         "0.0",
         "0.0",
         "0.0",
         "0.0",
         "0.0",
         "0.0",
         "0.0",
         "0.0",
         "0.0",
         "0.0",
         "0.0",
         "0.0",
         "0.0",
         "0.0",
         "0.0",
         "0.0",
         "0.0",
         "0.0",
         "0.0",
         "0.0",
         "0.0",
         "0.0",
         "0.0",
         "0.0",
         "0.0",
         "0.0",
         "0.0",
         "0.0",
         "0.0",
         "0.0",
         "0.0",
         "0.0",
         "0.0",
         "0.0",
         "0.0",
         "0.0",
         "0.0",
         "0.0",
         "0.0",
         "0.0",
         "0.0",
         "0.0",
         "0.0",
         "0.0",
         "0.0",
         "0.0",
         "0.0",
         "0.0",
         "0.0",
         "0.0",
         "0.0",
         "0.0",
         "0.0",
         "0.0",
         "0.0",
         "0.0",
         "0.0",
         "0.0",
         "0.0",
         "0.0",
         "0.0",
         "0.0",
         "0.0",
         "0.0",
         "0.0",
         "0.0",
         "0.0",
         "0.0",
         "0.0",
         "0.0",
         "0.0",
         "0.0",
         "0.0",
         "0.0",
         "0.0",
         "0.0",
         "0.0",
         "0.0",
         "0.0",
         "0.0",
         "0.0",
         "0.0",
         "0.0",
         "0.0",
         "0.0",
         "0.0",
         "0.0",
         "0.0",
         "0.0",
         "0.0",
         "0.0",
         "0.0",
         "0.0",
         "0.0",
         "0.0",
         "0.0",
         "0.0",
         "0.0",
         "0.0",
         "0.0",
         "0.0",
         "0.0",
         "0.0",
         "0.0",
         "0.0",
         "0.0",
         "0.0",
         "0.0",
         "0.0",
         "0.0",
         "0.0",
         "0.0",
         "0.0",
         "0.0",
         "0.0",
         "0.0",
         "0.0",
         "0.0",
         "0.0",
         "0.0",
         "0.0",
         "0.0",
         "0.0",
         "0.0",
         "0.0",
         "0.0",
         "0.0",
         "0.0",
         "0.0",
         "0.0",
         "0.0",
         "0.0",
         "0.0",
         "0.0",
         "0.0",
         "0.0",
         "0.0",
         "0.0",
         "0.0",
         "0.0",
         "0.0",
         "0.0",
         "0.0",
         "0.0",
         "0.0",
         "0.0",
         "0.0",
         "0.0",
         "0.0",
         "0.0",
         "0.0",
         "0.0",
         "0.0",
         "0.0",
         "0.0",
         "0.0",
         "0.0",
         "0.0",
         "0.0",
         "0.0",
         "0.0",
         "0.0",
         "0.0",
         "0.0",
         "0.0",
         "0.0",
         "0.0",
         "0.0",
         "0.0",
         "0.0",
         "0.0",
         "0.0",
         "0.0",
         "0.0",
         "0.0",
         "0.0",
         "0.0",
         "0.0",
         "0.0",
         "0.0",
         "0.0",
         "0.0",
         "0.0",
         "0.0",
         "0.0",
         "0.0",
         "0.0",
         "0.0",
         "0.0",
         "0.0",
         "0.0",
         "0.0",
         "0.0",
         "0.0",
         "0.0",
         "0.0",
         "0.0",
         "0.0",
         "0.0",
         "0.0",
         "0.0",
         "0.0",
         "0.0",
         "0.0",
         "0.0",
         "0.0",
         "0.0",
         "0.0",
         "0.0",
         "0.0",
         "0.0",
         "0.0",
         "0.0",
         "0.0",
         "0.0",
         "0.0",
         "0.0",
         "0.0",
         "0.0",
         "0.0",
         "0.0",
         "0.0",
         "0.0",
         "0.0",
         "0.0",
         "0.0",
         "0.0",
         "0.0",
         "0.0",
         "0.0",
         "0.0",
         "0.0",
         "0.0",
         "0.0",
         "0.0",
         "0.0",
         "0.0",
         "0.0",
         "0.0",
         "0.0",
         "0.0",
         "0.0",
         "0.0",
         "0.0",
         "0.0",
         "0.0",
         "0.0",
         "0.0",
         "0.0",
         "0.0",
         "0.0",
         "0.0",
         "0.0",
         "0.0",
         "0.0",
         "0.0",
         "0.0",
         "0.0",
         "0.0",
         "0.0",
         "0.0",
         "0.0",
         "0.0",
         "0.0",
         "0.0",
         "0.0",
         "0.0",
         "0.0",
         "0.0",
         "0.0",
         "0.0",
         "0.0",
         "0.0",
         "0.0",
         "0.0",
         "0.0",
         "0.0",
         "0.0",
         "0.0",
         "0.0",
         "0.0",
         "0.0",
         "0.0",
         "0.0",
         "0.0",
         "0.0",
         "0.0",
         "0.0",
         "0.0",
         "0.0",
         "0.0",
         "0.0",
         "0.0",
         "0.0",
         "0.0",
         "0.0",
         "0.0",
         "0.0",
         "0.0",
         "0.0",
         "0.0",
         "0.0",
         "0.0",
         "0.0",
         "0.0",
         "0.0",
         "0.0",
         "0.0",
         "0.0",
         "0.0",
         "0.0",
         "0.0",
         "0.0",
         "0.0",
         "0.0",
         "0.0",
         "0.0",
         "0.0",
         "0.0",
         "0.0",
         "0.0",
         "0.0",
         "0.0",
         "0.0",
         "0.0",
         "0.0",
         "0.0",
         "0.0",
         "0.0",
         "0.0",
         "0.0",
         "0.0",
         "0.0",
         "0.0",
         "0.0",
         "0.0",
         "0.0",
         "0.0",
         "0.0",
         "0.0",
         "0.0",
         "0.0",
         "0.0",
         "0.0",
         "0.0",
         "0.0",
         "0.0",
         "0.0",
         "0.0",
         "0.0",
         "0.0",
         "0.0",
         "0.0",
         "0.0",
         "0.0",
         "0.0",
         "0.0",
         "0.0",
         "0.0",
         "0.0",
         "0.0",
         "0.0",
         "0.0",
         "0.0",
         "0.0",
         "0.0",
         "0.0",
         "0.0",
         "0.0",
         "0.0",
         "0.0",
         "0.0",
         "0.0",
         "0.0",
         "0.0",
         "0.0",
         "0.0",
         "0.0",
         "0.0",
         "0.0",
         "0.0",
         "0.0",
         "0.0",
         "0.0",
         "0.0",
         "0.0",
         "0.0",
         "0.0",
         "0.0",
         "0.0",
         "0.0",
         "0.0",
         "0.0",
         "0.0",
         "0.0",
         "0.0",
         "0.0",
         "0.0",
         "0.0",
         "0.0",
         "0.0",
         "0.0",
         "0.0",
         "0.0",
         "0.0",
         "0.0",
         "0.0",
         "0.0",
         "0.0",
         "0.0",
         "0.0",
         "0.0",
         "0.0",
         "0.0",
         "0.0",
         "0.0",
         "0.0",
         "0.0",
         "0.0",
         "0.0",
         "0.0",
         "0.0",
         "0.0",
         "0.0",
         "0.0",
         "0.0",
         "0.0",
         "0.0",
         "0.0",
         "0.0",
         "0.0",
         "0.0",
         "0.0",
         "0.0",
         "0.0",
         "0.0",
         "0.0",
         "0.0",
         "0.0",
         "0.0",
         "0.0",
         "0.0",
         "0.0",
         "0.0",
         "0.0",
         "0.0",
         "0.0",
         "0.0",
         "0.0",
         "0.0",
         "0.0",
         "0.0",
         "0.0",
         "0.0",
         "0.0",
         "0.0",
         "0.0",
         "0.0",
         "0.0",
         "0.0",
         "0.0",
         "0.0",
         "0.0",
         "0.0",
         "0.0",
         "0.0",
         "0.0",
         "0.0",
         "0.0",
         "0.0",
         "0.0",
         "0.0",
         "0.0",
         "0.0",
         "0.0",
         "0.0",
         "0.0",
         "0.0",
         "0.0",
         "0.0",
         "0.0",
         "0.0",
         "0.0",
         "0.0",
         "0.0",
         "0.0",
         "0.0",
         "0.0",
         "0.0",
         "0.0",
         "0.0",
         "0.0",
         "0.0",
         "0.0",
         "0.0",
         "0.0",
         "0.0",
         "0.0",
         "0.0",
         "0.0",
         "0.0",
         "0.0",
         "0.0",
         "0.0",
         "0.0",
         "0.0",
         "0.0",
         "0.0",
         "0.0",
         "0.0",
         "0.0",
         "0.0",
         "0.0",
         "0.0",
         "0.0",
         "0.0",
         "0.0",
         "0.0",
         "0.0",
         "0.0",
         "0.0",
         "0.0",
         "0.0",
         "0.0",
         "0.0",
         "0.0",
         "0.0",
         "0.0",
         "0.0",
         "0.0",
         "0.0",
         "0.0",
         "0.0",
         "0.0",
         "0.0",
         "0.0",
         "0.0",
         "0.0",
         "0.0",
         "0.0",
         "0.0",
         "0.0",
         "0.0",
         "0.0",
         "0.0",
         "0.0",
         "0.0",
         "0.0",
         "0.0",
         "0.0",
         "0.0",
         "0.0",
         "0.0",
         "0.0",
         "0.0",
         "0.0",
         "0.0",
         "0.0",
         "0.0",
         "0.0",
         "0.0",
         "0.0",
         "0.0",
         "0.0",
         "0.0",
         "0.0",
         "0.0",
         "0.0",
         "0.0",
         "0.0",
         "0.0",
         "0.0",
         "0.0",
         "0.0",
         "0.0",
         "0.0",
         "0.0",
         "0.0",
         "0.0",
         "0.0",
         "0.0",
         "0.0",
         "0.0",
         "0.0",
         "0.0",
         "0.0",
         "0.0",
         "0.0",
         "0.0",
         "0.0",
         "0.0",
         "0.0",
         "0.0",
         "0.0",
         "0.0",
         "0.0",
         "0.0",
         "0.0",
         "0.0",
         "0.0",
         "0.0",
         "0.0",
         "0.0",
         "0.0",
         "0.0",
         "0.0",
         "0.0",
         "0.0",
         "0.0",
         "0.0",
         "0.0",
         "0.0",
         "0.0",
         "0.0",
         "0.0",
         "0.0",
         "0.0",
         "0.0",
         "0.0",
         "0.0",
         "0.0",
         "0.0",
         "0.0",
         "0.0",
         "0.0",
         "0.0",
         "0.0",
         "0.0",
         "0.0",
         "0.0",
         "0.0",
         "0.0",
         "0.0",
         "0.0",
         "0.0",
         "0.0",
         "0.0",
         "0.0",
         "0.0",
         "0.0",
         "0.0",
         "0.0",
         "0.0",
         "0.0",
         "0.0",
         "0.0",
         "0.0",
         "0.0",
         "0.0",
         "0.0",
         "0.0",
         "0.0",
         "0.0",
         "0.0",
         "0.0",
         "0.0",
         "0.0",
         "0.0",
         "0.0",
         "0.0",
         "0.0",
         "0.0",
         "0.0",
         "0.0",
         "0.0",
         "0.0",
         "0.0",
         "0.0",
         "0.0",
         "0.0",
         "0.0",
         "0.0",
         "0.0",
         "0.0",
         "0.0",
         "0.0",
         "0.0",
         "0.0",
         "0.0",
         "0.0",
         "0.0",
         "0.0",
         "0.0",
         "0.0",
         "0.0",
         "0.0",
         "0.0",
         "0.0",
         "0.0",
         "0.0",
         "0.0",
         "0.0",
         "0.0",
         "0.0",
         "0.0",
         "0.0",
         "0.0",
         "0.0",
         "0.0",
         "0.0",
         "0.0",
         "0.0",
         "0.0",
         "0.0",
         "0.0",
         "0.0",
         "0.0",
         "0.0",
         "0.0",
         "0.0",
         "0.0",
         "0.0",
         "0.0",
         "0.0",
         "0.0",
         "0.0",
         "0.0",
         "0.0",
         "0.0",
         "0.0",
         "0.0",
         "0.0",
         "0.0",
         "0.0",
         "0.0",
         "0.0",
         "0.0",
         "0.0",
         "0.0",
         "0.0",
         "0.0",
         "0.0",
         "0.0",
         "0.0",
         "0.0",
         "0.0",
         "0.0",
         "0.0",
         "0.0",
         "0.0",
         "0.0",
         "0.0",
         "0.0",
         "0.0",
         "0.0",
         "0.0",
         "0.0",
         "0.0",
         "0.0",
         "0.0",
         "0.0",
         "0.0",
         "0.0",
         "0.0",
         "0.0",
         "0.0",
         "0.0",
         "0.0",
         "0.0",
         "0.0",
         "0.0",
         "0.0",
         "0.0",
         "0.0",
         "0.0",
         "0.0",
         "0.0",
         "0.0",
         "0.0",
         "0.0",
         "0.0",
         "0.0",
         "0.0",
         "0.0",
         "0.0",
         "0.0",
         "0.0",
         "0.0",
         "0.0",
         "0.0",
         "0.0",
         "0.0",
         "0.0",
         "0.0",
         "0.0",
         "0.0",
         "0.0",
         "0.0",
         "0.0",
         "0.0",
         "0.0",
         "0.0",
         "0.0",
         "0.0",
         "0.0",
         "0.0",
         "0.0",
         "0.0",
         "0.0",
         "0.0",
         "0.0",
         "0.0",
         "0.0",
         "0.0",
         "0.0",
         "0.0",
         "0.0",
         "0.0",
         "0.0",
         "0.0",
         "0.0",
         "0.0",
         "0.0",
         "0.0",
         "0.0",
         "0.0",
         "0.0",
         "0.0",
         "0.0",
         "0.0",
         "0.0",
         "0.0",
         "0.0",
         "0.0",
         "0.0",
         "0.0",
         "0.0",
         "0.0",
         "0.0",
         "0.0",
         "0.0",
         "0.0",
         "0.0",
         "0.0",
         "0.0",
         "0.0",
         "0.0",
         "0.0",
         "0.0",
         "0.0",
         "0.0",
         "0.0",
         "0.0",
         "0.0",
         "0.0",
         "0.0",
         "0.0",
         "0.0",
         "0.0",
         "0.0",
         "0.0",
         "0.0",
         "0.0",
         "0.0",
         "0.0",
         "0.0",
         "0.0",
         "0.0",
         "0.0",
         "0.0",
         "0.0",
         "0.0",
         "0.0",
         "0.0",
         "0.0",
         "0.0",
         "0.0",
         "0.0",
         "0.0",
         "0.0",
         "0.0",
         "0.0",
         "0.0",
         "0.0",
         "0.0",
         "0.0",
         "0.0",
         "0.0",
         "0.0",
         "0.0",
         "0.0",
         "0.0",
         "0.0",
         "0.0",
         "0.0",
         "0.0",
         "0.0",
         "0.0",
         "0.0",
         "0.0",
         "0.0",
         "0.0",
         "0.0",
         "0.0",
         "0.0",
         "0.0",
         "0.0",
         "0.0",
         "0.0",
         "0.0",
         "0.0",
         "0.0",
         "0.0",
         "0.0",
         "0.0",
         "0.0",
         "0.0",
         "0.0",
         "0.0",
         "0.0",
         "0.0",
         "0.0",
         "0.0",
         "0.0",
         "0.0",
         "0.0",
         "0.0",
         "0.0",
         "0.0",
         "0.0",
         "0.0",
         "0.0",
         "0.0",
         "0.0",
         "0.0",
         "0.0",
         "0.0",
         "0.0",
         "0.0",
         "0.0",
         "0.0",
         "0.0",
         "0.0",
         "0.0",
         "0.0",
         "0.0",
         "0.0",
         "0.0",
         "0.0",
         "0.0",
         "0.0",
         "0.0",
         "0.0",
         "0.0",
         "0.0",
         "0.0",
         "0.0",
         "0.0",
         "0.0",
         "0.0",
         "0.0",
         "0.0",
         "0.0",
         "0.0",
         "0.0",
         "0.0",
         "0.0",
         "0.0",
         "0.0",
         "0.0",
         "0.0",
         "0.0",
         "0.0",
         "0.0",
         "0.0",
         "0.0",
         "0.0",
         "0.0",
         "0.0",
         "0.0",
         "0.0",
         "0.0",
         "0.0",
         "0.0",
         "0.0",
         "0.0",
         "0.0",
         "0.0",
         "0.0",
         "0.0",
         "0.0",
         "0.0",
         "0.0",
         "0.0",
         "0.0",
         "0.0",
         "0.0",
         "0.0",
         "0.0",
         "0.0",
         "0.0",
         "0.0",
         "0.0",
         "0.0",
         "0.0",
         "0.0",
         "0.0",
         "0.0",
         "0.0",
         "0.0",
         "0.0",
         "0.0",
         "0.0",
         "0.0",
         "0.0",
         "0.0",
         "0.0",
         "0.0",
         "0.0",
         "0.0",
         "0.0",
         "0.0",
         "0.0",
         "0.0",
         "0.0",
         "0.0",
         "0.0",
         "0.0",
         "0.0",
         "0.0",
         "0.0",
         "0.0",
         "0.0",
         "0.0",
         "0.0",
         "0.0",
         "0.0",
         "0.0",
         "0.0",
         "0.0",
         "0.0",
         "0.0",
         "0.0",
         "0.0",
         "0.0",
         "0.0",
         "0.0",
         "0.0",
         "0.0",
         "0.0",
         "0.0",
         "0.0",
         "0.0",
         "0.0",
         "0.0",
         "0.0",
         "0.0",
         "0.0",
         "0.0",
         "0.0",
         "0.0",
         "0.0",
         "0.0",
         "0.0",
         "0.0",
         "0.0",
         "0.0",
         "0.0",
         "0.0",
         "0.0",
         "0.0",
         "0.0",
         "0.0",
         "0.0",
         "0.0",
         "0.0",
         "0.0",
         "0.0",
         "0.0",
         "0.0",
         "0.0",
         "0.0",
         "0.0",
         "0.0",
         "0.0",
         "0.0",
         "0.0",
         "0.0",
         "0.0",
         "0.0",
         "0.0",
         "0.0",
         "0.0",
         "0.0",
         "0.0",
         "0.0",
         "0.0",
         "0.0",
         "0.0",
         "0.0",
         "0.0",
         "0.0",
         "0.0",
         "0.0",
         "0.0",
         "0.0",
         "0.0",
         "0.0",
         "0.0",
         "0.0",
         "0.0",
         "0.0",
         "0.0",
         "0.0",
         "0.0",
         "0.0",
         "0.0",
         "0.0",
         "0.0",
         "0.0",
         "0.0",
         "0.0",
         "0.0",
         "0.0",
         "0.0",
         "0.0",
         "0.0",
         "0.0",
         "0.0",
         "0.0",
         "0.0",
         "0.0",
         "0.0",
         "0.0",
         "0.0",
         "0.0",
         "0.0",
         "0.0",
         "0.0",
         "0.0",
         "0.0",
         "0.0",
         "0.0",
         "0.0",
         "0.0",
         "0.0",
         "0.0",
         "0.0",
         "0.0",
         "0.0",
         "0.0",
         "0.0",
         "0.0",
         "0.0",
         "0.0",
         "0.0",
         "0.0",
         "0.0",
         "0.0",
         "0.0",
         "0.0",
         "0.0",
         "0.0",
         "0.0",
         "0.0",
         "0.0",
         "0.0",
         "0.0",
         "0.0",
         "0.0",
         "0.0",
         "0.0",
         "0.0",
         "0.0",
         "0.0",
         "0.0",
         "0.0",
         "0.0",
         "0.0",
         "0.0",
         "0.0",
         "0.0",
         "0.0",
         "0.0",
         "0.0",
         "0.0",
         "0.0",
         "0.0",
         "0.0",
         "0.0",
         "0.0",
         "0.0",
         "0.0",
         "0.0",
         "0.0",
         "0.0",
         "0.0",
         "0.0",
         "0.0",
         "0.0",
         "0.0",
         "0.0",
         "0.0",
         "0.0",
         "0.0",
         "0.0",
         "0.0",
         "0.0",
         "0.0",
         "0.0",
         "0.0",
         "0.0",
         "0.0",
         "0.0",
         "0.0",
         "0.0",
         "0.0",
         "0.0",
         "0.0",
         "0.0",
         "0.0",
         "0.0",
         "0.0",
         "0.0",
         "0.0",
         "0.0",
         "0.0",
         "0.0",
         "0.0",
         "0.0",
         "0.0",
         "0.0",
         "0.0",
         "0.0",
         "0.0",
         "0.0",
         "0.0",
         "0.0",
         "0.0",
         "0.0",
         "0.0",
         "0.0",
         "0.0",
         "0.0",
         "0.0",
         "0.0",
         "0.0",
         "0.0",
         "0.0",
         "0.0",
         "0.0",
         "0.0",
         "0.0",
         "0.0",
         "0.0",
         "0.0",
         "0.0",
         "0.0",
         "0.0",
         "0.0",
         "0.0",
         "0.0",
         "0.0",
         "0.0"
        ],
        [
         "3",
         "0.0",
         "0.0",
         "0.0",
         "0.0",
         "0.0",
         "0.0",
         "0.0",
         "0.0",
         "0.0",
         "0.0",
         "1.0",
         "0.0",
         "0.0",
         "0.0",
         "0.0",
         "0.0",
         "0.0",
         "0.0",
         "0.0",
         "0.0",
         "0.0",
         "0.0",
         "0.0",
         "0.0",
         "0.0",
         "0.0",
         "0.0",
         "0.0",
         "0.0",
         "0.0",
         "0.0",
         "0.0",
         "0.0",
         "0.0",
         "0.0",
         "0.0",
         "0.0",
         "0.0",
         "0.0",
         "0.0",
         "0.0",
         "0.0",
         "0.0",
         "0.0",
         "0.0",
         "0.0",
         "0.0",
         "0.0",
         "0.0",
         "1.0",
         "0.0",
         "0.0",
         "0.0",
         "0.0",
         "0.0",
         "0.0",
         "0.0",
         "0.0",
         "0.0",
         "0.0",
         "0.0",
         "0.0",
         "0.0",
         "0.0",
         "0.0",
         "0.0",
         "0.0",
         "0.0",
         "0.0",
         "0.0",
         "0.0",
         "0.0",
         "0.0",
         "0.0",
         "0.0",
         "0.0",
         "0.0",
         "0.0",
         "0.0",
         "0.0",
         "0.0",
         "0.0",
         "0.0",
         "0.0",
         "0.0",
         "0.0",
         "0.0",
         "0.0",
         "0.0",
         "0.0",
         "0.0",
         "0.0",
         "0.0",
         "0.0",
         "0.0",
         "0.0",
         "0.0",
         "0.0",
         "0.0",
         "0.0",
         "0.0",
         "0.0",
         "0.0",
         "0.0",
         "0.0",
         "0.0",
         "0.0",
         "0.0",
         "0.0",
         "0.0",
         "0.0",
         "0.0",
         "0.0",
         "0.0",
         "0.0",
         "0.0",
         "0.0",
         "0.0",
         "0.0",
         "0.0",
         "0.0",
         "0.0",
         "0.0",
         "0.0",
         "0.0",
         "0.0",
         "0.0",
         "0.0",
         "0.0",
         "0.0",
         "0.0",
         "0.0",
         "0.0",
         "0.0",
         "0.0",
         "0.0",
         "0.0",
         "0.0",
         "0.0",
         "0.0",
         "0.0",
         "0.0",
         "0.0",
         "0.0",
         "0.0",
         "0.0",
         "0.0",
         "0.0",
         "0.0",
         "0.0",
         "0.0",
         "0.0",
         "0.0",
         "0.0",
         "0.0",
         "0.0",
         "0.0",
         "0.0",
         "0.0",
         "0.0",
         "0.0",
         "0.0",
         "0.0",
         "0.0",
         "0.0",
         "0.0",
         "0.0",
         "0.0",
         "0.0",
         "0.0",
         "0.0",
         "0.0",
         "0.0",
         "0.0",
         "0.0",
         "0.0",
         "0.0",
         "0.0",
         "0.0",
         "0.0",
         "0.0",
         "0.0",
         "0.0",
         "0.0",
         "0.0",
         "0.0",
         "0.0",
         "0.0",
         "0.0",
         "0.0",
         "0.0",
         "0.0",
         "0.0",
         "0.0",
         "0.0",
         "0.0",
         "0.0",
         "0.0",
         "0.0",
         "0.0",
         "0.0",
         "0.0",
         "0.0",
         "0.0",
         "0.0",
         "0.0",
         "0.0",
         "0.0",
         "0.0",
         "1.0",
         "0.0",
         "0.0",
         "0.0",
         "0.0",
         "0.0",
         "0.0",
         "0.0",
         "0.0",
         "0.0",
         "0.0",
         "0.0",
         "0.0",
         "0.0",
         "0.0",
         "0.0",
         "0.0",
         "0.0",
         "0.0",
         "0.0",
         "0.0",
         "0.0",
         "0.0",
         "0.0",
         "0.0",
         "0.0",
         "0.0",
         "0.0",
         "0.0",
         "0.0",
         "0.0",
         "0.0",
         "0.0",
         "0.0",
         "0.0",
         "0.0",
         "0.0",
         "0.0",
         "0.0",
         "0.0",
         "0.0",
         "0.0",
         "0.0",
         "0.0",
         "0.0",
         "0.0",
         "0.0",
         "0.0",
         "1.0",
         "0.0",
         "1.0",
         "0.0",
         "0.0",
         "0.0",
         "1.0",
         "0.0",
         "0.0",
         "0.0",
         "0.0",
         "0.0",
         "0.0",
         "1.0",
         "0.0",
         "0.0",
         "0.0",
         "0.0",
         "0.0",
         "0.0",
         "0.0",
         "0.0",
         "0.0",
         "0.0",
         "0.0",
         "0.0",
         "0.0",
         "0.0",
         "0.0",
         "0.0",
         "1.0",
         "0.0",
         "0.0",
         "0.0",
         "0.0",
         "0.0",
         "1.0",
         "0.0",
         "0.0",
         "0.0",
         "0.0",
         "0.0",
         "1.0",
         "1.0",
         "0.0",
         "1.0",
         "0.0",
         "0.0",
         "0.0",
         "0.0",
         "0.0",
         "0.0",
         "0.0",
         "0.0",
         "0.0",
         "0.0",
         "0.0",
         "0.0",
         "0.0",
         "0.0",
         "0.0",
         "0.0",
         "0.0",
         "0.0",
         "0.0",
         "0.0",
         "1.0",
         "0.0",
         "0.0",
         "1.0",
         "1.0",
         "1.0",
         "0.0",
         "0.0",
         "0.0",
         "0.0",
         "0.0",
         "0.0",
         "0.0",
         "0.0",
         "0.0",
         "0.0",
         "0.0",
         "0.0",
         "0.0",
         "0.0",
         "0.0",
         "0.0",
         "0.0",
         "0.0",
         "0.0",
         "0.0",
         "0.0",
         "0.0",
         "0.0",
         "0.0",
         "1.0",
         "0.0",
         "1.0",
         "1.0",
         "0.0",
         "1.0",
         "1.0",
         "1.0",
         "1.0",
         "0.0",
         "0.0",
         "0.0",
         "0.0",
         "0.0",
         "0.0",
         "0.0",
         "0.0",
         "0.0",
         "0.0",
         "0.0",
         "0.0",
         "0.0",
         "0.0",
         "0.0",
         "0.0",
         "0.0",
         "0.0",
         "0.0",
         "0.0",
         "0.0",
         "0.0",
         "0.0",
         "0.0",
         "0.0",
         "0.0",
         "0.0",
         "0.0",
         "0.0",
         "0.0",
         "0.0",
         "0.0",
         "0.0",
         "0.0",
         "0.0",
         "0.0",
         "0.0",
         "0.0",
         "0.0",
         "0.0",
         "0.0",
         "0.0",
         "0.0",
         "0.0",
         "0.0",
         "0.0",
         "0.0",
         "0.0",
         "0.0",
         "0.0",
         "0.0",
         "0.0",
         "0.0",
         "0.0",
         "0.0",
         "0.0",
         "0.0",
         "0.0",
         "0.0",
         "0.0",
         "0.0",
         "0.0",
         "0.0",
         "0.0",
         "0.0",
         "0.0",
         "0.0",
         "0.0",
         "0.0",
         "0.0",
         "0.0",
         "0.0",
         "0.0",
         "0.0",
         "0.0",
         "0.0",
         "0.0",
         "0.0",
         "0.0",
         "0.0",
         "0.0",
         "0.0",
         "0.0",
         "0.0",
         "0.0",
         "0.0",
         "0.0",
         "0.0",
         "0.0",
         "0.0",
         "0.0",
         "0.0",
         "0.0",
         "0.0",
         "0.0",
         "0.0",
         "0.0",
         "0.0",
         "0.0",
         "0.0",
         "0.0",
         "0.0",
         "0.0",
         "0.0",
         "0.0",
         "0.0",
         "0.0",
         "0.0",
         "0.0",
         "0.0",
         "0.0",
         "0.0",
         "0.0",
         "0.0",
         "0.0",
         "0.0",
         "0.0",
         "0.0",
         "0.0",
         "0.0",
         "0.0",
         "0.0",
         "0.0",
         "0.0",
         "0.0",
         "0.0",
         "0.0",
         "0.0",
         "0.0",
         "0.0",
         "0.0",
         "0.0",
         "0.0",
         "0.0",
         "0.0",
         "0.0",
         "0.0",
         "0.0",
         "0.0",
         "0.0",
         "0.0",
         "0.0",
         "0.0",
         "0.0",
         "0.0",
         "0.0",
         "0.0",
         "0.0",
         "0.0",
         "0.0",
         "0.0",
         "0.0",
         "0.0",
         "0.0",
         "0.0",
         "0.0",
         "0.0",
         "0.0",
         "0.0",
         "0.0",
         "0.0",
         "0.0",
         "0.0",
         "0.0",
         "0.0",
         "0.0",
         "0.0",
         "0.0",
         "0.0",
         "0.0",
         "0.0",
         "0.0",
         "0.0",
         "0.0",
         "0.0",
         "0.0",
         "0.0",
         "0.0",
         "0.0",
         "0.0",
         "0.0",
         "0.0",
         "0.0",
         "0.0",
         "0.0",
         "0.0",
         "0.0",
         "0.0",
         "0.0",
         "0.0",
         "0.0",
         "0.0",
         "0.0",
         "0.0",
         "0.0",
         "0.0",
         "0.0",
         "0.0",
         "0.0",
         "0.0",
         "0.0",
         "0.0",
         "0.0",
         "0.0",
         "0.0",
         "0.0",
         "0.0",
         "0.0",
         "0.0",
         "0.0",
         "0.0",
         "0.0",
         "0.0",
         "0.0",
         "0.0",
         "0.0",
         "0.0",
         "0.0",
         "0.0",
         "0.0",
         "0.0",
         "0.0",
         "0.0",
         "0.0",
         "0.0",
         "0.0",
         "0.0",
         "0.0",
         "0.0",
         "0.0",
         "0.0",
         "0.0",
         "0.0",
         "0.0",
         "0.0",
         "0.0",
         "0.0",
         "0.0",
         "0.0",
         "0.0",
         "0.0",
         "0.0",
         "0.0",
         "0.0",
         "0.0",
         "0.0",
         "0.0",
         "0.0",
         "0.0",
         "0.0",
         "0.0",
         "0.0",
         "0.0",
         "0.0",
         "0.0",
         "0.0",
         "0.0",
         "0.0",
         "0.0",
         "0.0",
         "0.0",
         "0.0",
         "0.0",
         "0.0",
         "0.0",
         "0.0",
         "0.0",
         "0.0",
         "0.0",
         "0.0",
         "0.0",
         "0.0",
         "0.0",
         "0.0",
         "0.0",
         "0.0",
         "0.0",
         "0.0",
         "0.0",
         "0.0",
         "0.0",
         "0.0",
         "0.0",
         "0.0",
         "0.0",
         "0.0",
         "0.0",
         "0.0",
         "0.0",
         "0.0",
         "0.0",
         "0.0",
         "0.0",
         "0.0",
         "0.0",
         "0.0",
         "0.0",
         "0.0",
         "0.0",
         "0.0",
         "0.0",
         "0.0",
         "0.0",
         "0.0",
         "0.0",
         "0.0",
         "0.0",
         "0.0",
         "0.0",
         "0.0",
         "0.0",
         "0.0",
         "0.0",
         "0.0",
         "0.0",
         "0.0",
         "0.0",
         "0.0",
         "0.0",
         "0.0",
         "0.0",
         "0.0",
         "0.0",
         "0.0",
         "0.0",
         "0.0",
         "0.0",
         "0.0",
         "0.0",
         "0.0",
         "0.0",
         "0.0",
         "0.0",
         "0.0",
         "0.0",
         "0.0",
         "0.0",
         "0.0",
         "0.0",
         "0.0",
         "0.0",
         "0.0",
         "0.0",
         "0.0",
         "0.0",
         "0.0",
         "0.0",
         "0.0",
         "0.0",
         "0.0",
         "0.0",
         "0.0",
         "0.0",
         "0.0",
         "0.0",
         "0.0",
         "0.0",
         "0.0",
         "0.0",
         "0.0",
         "0.0",
         "0.0",
         "0.0",
         "0.0",
         "0.0",
         "0.0",
         "0.0",
         "0.0",
         "0.0",
         "0.0",
         "0.0",
         "0.0",
         "0.0",
         "0.0",
         "0.0",
         "0.0",
         "0.0",
         "0.0",
         "0.0",
         "0.0",
         "0.0",
         "0.0",
         "0.0",
         "0.0",
         "0.0",
         "0.0",
         "0.0",
         "0.0",
         "0.0",
         "0.0",
         "0.0",
         "0.0",
         "0.0",
         "0.0",
         "0.0",
         "0.0",
         "0.0",
         "0.0",
         "0.0",
         "0.0",
         "0.0",
         "0.0",
         "0.0",
         "0.0",
         "0.0",
         "0.0",
         "0.0",
         "0.0",
         "0.0",
         "0.0",
         "0.0",
         "0.0",
         "0.0",
         "0.0",
         "0.0",
         "0.0",
         "0.0",
         "0.0",
         "0.0",
         "0.0",
         "0.0",
         "0.0",
         "0.0",
         "0.0",
         "0.0",
         "0.0",
         "0.0",
         "0.0",
         "0.0",
         "0.0",
         "0.0",
         "0.0",
         "0.0",
         "0.0",
         "0.0",
         "0.0",
         "0.0",
         "0.0",
         "0.0",
         "0.0",
         "0.0",
         "0.0",
         "0.0",
         "0.0",
         "0.0",
         "0.0",
         "0.0",
         "0.0",
         "0.0",
         "0.0",
         "0.0",
         "0.0",
         "0.0",
         "0.0",
         "0.0",
         "0.0",
         "0.0",
         "0.0",
         "0.0",
         "0.0",
         "0.0",
         "0.0",
         "0.0",
         "0.0",
         "0.0",
         "0.0",
         "0.0",
         "0.0",
         "0.0",
         "0.0",
         "0.0",
         "0.0",
         "0.0",
         "0.0",
         "0.0",
         "0.0",
         "0.0",
         "0.0",
         "0.0",
         "0.0",
         "0.0",
         "0.0",
         "0.0",
         "0.0",
         "0.0",
         "0.0",
         "0.0",
         "0.0",
         "0.0",
         "0.0",
         "0.0",
         "0.0",
         "0.0",
         "0.0",
         "0.0",
         "0.0",
         "0.0",
         "0.0",
         "0.0",
         "0.0",
         "0.0",
         "0.0",
         "0.0",
         "0.0",
         "0.0",
         "0.0",
         "0.0",
         "0.0",
         "0.0",
         "0.0",
         "0.0",
         "0.0",
         "0.0",
         "0.0",
         "0.0",
         "0.0",
         "0.0",
         "0.0",
         "0.0",
         "0.0",
         "0.0",
         "0.0",
         "0.0",
         "0.0",
         "0.0",
         "0.0",
         "0.0",
         "0.0",
         "0.0",
         "0.0",
         "0.0",
         "0.0",
         "0.0",
         "0.0",
         "0.0",
         "0.0",
         "0.0",
         "0.0",
         "0.0",
         "0.0",
         "0.0",
         "0.0",
         "0.0",
         "0.0",
         "0.0",
         "0.0",
         "0.0",
         "0.0",
         "0.0",
         "0.0",
         "0.0",
         "0.0",
         "0.0",
         "0.0",
         "0.0",
         "0.0",
         "0.0",
         "0.0",
         "0.0",
         "0.0",
         "0.0",
         "0.0",
         "0.0",
         "0.0",
         "0.0",
         "0.0",
         "0.0",
         "0.0",
         "0.0",
         "0.0",
         "0.0",
         "0.0",
         "0.0",
         "0.0",
         "0.0",
         "0.0",
         "0.0",
         "0.0",
         "0.0",
         "0.0",
         "0.0",
         "0.0",
         "0.0",
         "0.0",
         "0.0",
         "0.0",
         "0.0",
         "0.0",
         "0.0",
         "0.0",
         "0.0",
         "0.0",
         "0.0",
         "0.0",
         "0.0",
         "0.0",
         "0.0",
         "0.0",
         "0.0",
         "0.0",
         "0.0",
         "0.0",
         "0.0",
         "0.0",
         "0.0",
         "0.0",
         "0.0",
         "0.0",
         "0.0",
         "0.0",
         "0.0",
         "0.0",
         "0.0",
         "0.0",
         "0.0",
         "0.0",
         "0.0",
         "0.0",
         "0.0",
         "0.0",
         "0.0",
         "0.0",
         "0.0",
         "0.0",
         "0.0",
         "0.0",
         "0.0",
         "0.0",
         "0.0",
         "0.0",
         "0.0",
         "0.0",
         "0.0",
         "0.0",
         "0.0",
         "0.0",
         "0.0",
         "0.0",
         "0.0",
         "0.0",
         "0.0",
         "0.0",
         "0.0",
         "0.0",
         "0.0",
         "0.0",
         "0.0",
         "0.0",
         "0.0",
         "0.0",
         "0.0",
         "0.0",
         "0.0",
         "0.0",
         "0.0",
         "0.0",
         "0.0",
         "0.0",
         "0.0",
         "0.0",
         "0.0",
         "0.0",
         "0.0",
         "0.0",
         "0.0",
         "0.0",
         "0.0",
         "0.0",
         "0.0",
         "0.0",
         "0.0",
         "0.0",
         "0.0",
         "0.0",
         "0.0",
         "0.0",
         "0.0",
         "0.0",
         "0.0",
         "0.0",
         "0.0",
         "0.0",
         "0.0",
         "0.0",
         "0.0",
         "0.0",
         "0.0",
         "0.0",
         "0.0",
         "0.0",
         "0.0",
         "0.0",
         "0.0",
         "0.0",
         "0.0",
         "0.0",
         "0.0",
         "0.0",
         "0.0",
         "0.0",
         "0.0",
         "0.0",
         "0.0",
         "0.0",
         "0.0",
         "0.0",
         "0.0",
         "0.0",
         "0.0",
         "0.0",
         "0.0",
         "0.0",
         "0.0",
         "0.0",
         "0.0",
         "0.0",
         "0.0",
         "0.0",
         "0.0",
         "0.0",
         "0.0",
         "0.0",
         "0.0",
         "0.0",
         "0.0",
         "0.0",
         "0.0",
         "0.0",
         "0.0",
         "0.0",
         "0.0",
         "0.0",
         "0.0",
         "0.0",
         "0.0",
         "0.0",
         "0.0",
         "0.0",
         "0.0",
         "0.0",
         "0.0",
         "0.0",
         "0.0",
         "0.0",
         "0.0",
         "0.0",
         "0.0",
         "0.0",
         "0.0",
         "0.0",
         "0.0",
         "0.0",
         "0.0",
         "0.0",
         "0.0",
         "0.0",
         "0.0",
         "0.0",
         "0.0",
         "0.0",
         "0.0",
         "0.0",
         "0.0",
         "0.0",
         "0.0",
         "0.0",
         "0.0",
         "0.0",
         "0.0",
         "0.0",
         "0.0",
         "0.0",
         "0.0",
         "0.0",
         "0.0",
         "0.0",
         "0.0",
         "0.0",
         "0.0",
         "0.0",
         "0.0",
         "0.0",
         "0.0",
         "0.0",
         "0.0",
         "0.0",
         "0.0",
         "0.0",
         "0.0",
         "0.0",
         "0.0",
         "0.0",
         "0.0",
         "0.0",
         "0.0",
         "0.0",
         "0.0",
         "0.0",
         "0.0",
         "0.0",
         "0.0",
         "0.0",
         "0.0",
         "0.0",
         "0.0",
         "0.0",
         "0.0",
         "0.0",
         "0.0",
         "0.0",
         "0.0",
         "0.0",
         "0.0",
         "0.0",
         "0.0",
         "0.0",
         "0.0",
         "0.0",
         "0.0",
         "0.0",
         "0.0",
         "0.0",
         "0.0",
         "0.0",
         "0.0",
         "0.0",
         "0.0",
         "0.0",
         "0.0",
         "0.0",
         "0.0",
         "0.0",
         "0.0",
         "0.0",
         "0.0",
         "0.0",
         "0.0",
         "0.0",
         "0.0",
         "0.0",
         "0.0",
         "0.0",
         "0.0",
         "0.0",
         "0.0",
         "0.0",
         "0.0",
         "0.0",
         "0.0",
         "0.0",
         "0.0",
         "0.0",
         "0.0",
         "0.0",
         "0.0",
         "0.0",
         "0.0",
         "0.0",
         "0.0",
         "0.0",
         "0.0",
         "0.0",
         "0.0",
         "0.0",
         "0.0",
         "0.0",
         "0.0",
         "0.0",
         "0.0",
         "0.0",
         "0.0",
         "0.0",
         "0.0",
         "0.0",
         "0.0",
         "0.0",
         "0.0",
         "0.0",
         "0.0",
         "0.0",
         "0.0",
         "0.0",
         "0.0",
         "0.0",
         "0.0",
         "0.0",
         "0.0",
         "0.0",
         "0.0",
         "0.0",
         "0.0",
         "0.0",
         "0.0",
         "0.0",
         "0.0",
         "0.0",
         "0.0",
         "0.0",
         "0.0",
         "0.0",
         "0.0",
         "0.0",
         "0.0",
         "0.0",
         "0.0",
         "0.0",
         "0.0",
         "0.0",
         "0.0",
         "0.0",
         "0.0",
         "0.0",
         "0.0",
         "0.0",
         "0.0",
         "0.0",
         "0.0",
         "0.0",
         "0.0",
         "0.0",
         "0.0",
         "0.0",
         "0.0",
         "0.0",
         "0.0",
         "0.0",
         "0.0",
         "0.0",
         "0.0",
         "0.0",
         "0.0",
         "0.0",
         "0.0",
         "0.0",
         "0.0",
         "0.0",
         "0.0",
         "0.0",
         "0.0",
         "0.0",
         "0.0",
         "0.0",
         "0.0",
         "0.0",
         "0.0",
         "0.0",
         "0.0",
         "0.0",
         "0.0",
         "0.0",
         "0.0",
         "0.0",
         "0.0",
         "0.0",
         "0.0",
         "0.0",
         "0.0",
         "0.0",
         "0.0",
         "0.0",
         "0.0",
         "0.0",
         "0.0",
         "0.0",
         "0.0",
         "0.0",
         "0.0",
         "0.0",
         "0.0",
         "0.0",
         "0.0",
         "0.0",
         "0.0",
         "0.0",
         "0.0",
         "0.0",
         "0.0",
         "0.0",
         "0.0",
         "0.0",
         "0.0",
         "0.0",
         "0.0",
         "0.0",
         "0.0",
         "0.0",
         "0.0",
         "0.0",
         "0.0",
         "0.0",
         "0.0",
         "0.0",
         "0.0",
         "0.0",
         "0.0",
         "0.0",
         "0.0",
         "0.0",
         "0.0",
         "0.0",
         "0.0",
         "0.0",
         "0.0",
         "0.0",
         "0.0",
         "0.0",
         "0.0",
         "0.0",
         "0.0",
         "0.0",
         "0.0",
         "0.0",
         "0.0",
         "0.0",
         "0.0",
         "0.0",
         "0.0",
         "0.0",
         "0.0",
         "0.0",
         "0.0",
         "0.0",
         "0.0",
         "0.0",
         "0.0",
         "0.0",
         "0.0",
         "0.0",
         "0.0",
         "0.0",
         "0.0",
         "0.0",
         "0.0",
         "0.0",
         "0.0",
         "0.0",
         "0.0",
         "0.0",
         "0.0",
         "0.0",
         "0.0",
         "0.0",
         "0.0",
         "0.0",
         "0.0",
         "0.0",
         "0.0",
         "0.0",
         "0.0",
         "0.0",
         "0.0",
         "0.0",
         "0.0",
         "0.0",
         "0.0",
         "0.0",
         "0.0",
         "0.0",
         "0.0",
         "0.0",
         "0.0",
         "0.0",
         "0.0",
         "0.0",
         "0.0",
         "0.0",
         "0.0",
         "0.0",
         "0.0",
         "0.0",
         "0.0",
         "0.0",
         "0.0",
         "0.0",
         "0.0",
         "0.0",
         "0.0",
         "0.0",
         "0.0",
         "0.0",
         "0.0",
         "0.0",
         "0.0",
         "0.0",
         "0.0",
         "0.0",
         "0.0",
         "0.0",
         "0.0",
         "0.0",
         "0.0",
         "0.0",
         "0.0",
         "0.0",
         "0.0",
         "0.0",
         "0.0",
         "0.0",
         "0.0",
         "0.0",
         "0.0",
         "0.0",
         "0.0",
         "0.0",
         "0.0",
         "0.0",
         "0.0",
         "0.0",
         "0.0",
         "0.0",
         "0.0",
         "0.0",
         "0.0",
         "0.0",
         "0.0",
         "0.0",
         "0.0",
         "0.0",
         "0.0",
         "0.0",
         "0.0",
         "0.0",
         "0.0",
         "0.0",
         "0.0",
         "0.0",
         "0.0",
         "0.0",
         "0.0",
         "0.0",
         "0.0",
         "0.0",
         "0.0",
         "0.0",
         "0.0",
         "0.0",
         "0.0",
         "0.0",
         "0.0",
         "0.0",
         "0.0",
         "0.0",
         "0.0",
         "0.0",
         "0.0",
         "0.0",
         "0.0",
         "0.0",
         "0.0",
         "0.0",
         "0.0",
         "0.0",
         "0.0",
         "0.0",
         "0.0",
         "0.0",
         "0.0",
         "0.0",
         "0.0",
         "0.0",
         "0.0",
         "0.0",
         "0.0",
         "0.0",
         "0.0",
         "0.0",
         "0.0",
         "0.0",
         "0.0",
         "0.0",
         "0.0",
         "0.0",
         "0.0",
         "0.0",
         "0.0",
         "0.0",
         "0.0",
         "0.0",
         "0.0",
         "0.0",
         "0.0",
         "0.0",
         "0.0",
         "0.0",
         "0.0",
         "0.0",
         "0.0",
         "0.0",
         "0.0",
         "0.0",
         "0.0",
         "0.0",
         "0.0",
         "0.0",
         "0.0",
         "0.0",
         "0.0",
         "0.0",
         "0.0",
         "0.0",
         "0.0",
         "0.0",
         "0.0",
         "0.0",
         "0.0",
         "0.0",
         "0.0",
         "0.0",
         "0.0",
         "0.0",
         "0.0",
         "0.0",
         "0.0",
         "0.0",
         "0.0",
         "0.0",
         "0.0",
         "0.0",
         "0.0",
         "0.0",
         "0.0",
         "0.0",
         "0.0",
         "0.0",
         "0.0",
         "0.0",
         "0.0",
         "0.0",
         "0.0",
         "0.0",
         "0.0",
         "0.0",
         "0.0",
         "0.0",
         "0.0",
         "0.0",
         "0.0",
         "0.0",
         "0.0",
         "0.0",
         "0.0",
         "0.0",
         "0.0",
         "0.0",
         "0.0",
         "0.0",
         "0.0",
         "0.0",
         "0.0",
         "0.0",
         "0.0",
         "0.0",
         "0.0",
         "0.0",
         "0.0",
         "0.0",
         "0.0",
         "0.0",
         "0.0",
         "0.0",
         "0.0",
         "0.0",
         "0.0",
         "0.0",
         "0.0",
         "0.0",
         "0.0",
         "0.0",
         "0.0",
         "0.0",
         "0.0",
         "0.0",
         "0.0",
         "0.0",
         "0.0",
         "0.0",
         "0.0",
         "0.0",
         "0.0",
         "0.0",
         "0.0",
         "0.0",
         "0.0",
         "0.0",
         "0.0",
         "0.0",
         "0.0",
         "0.0",
         "0.0",
         "0.0",
         "0.0",
         "0.0",
         "0.0",
         "0.0",
         "0.0",
         "0.0",
         "0.0",
         "0.0",
         "0.0",
         "0.0",
         "0.0",
         "0.0",
         "0.0",
         "0.0",
         "0.0",
         "0.0",
         "0.0",
         "0.0",
         "0.0",
         "0.0",
         "0.0",
         "0.0",
         "0.0",
         "0.0",
         "0.0",
         "0.0",
         "0.0",
         "0.0",
         "0.0",
         "0.0"
        ],
        [
         "4",
         "1.0",
         "1.0",
         "0.0",
         "0.0",
         "0.0",
         "0.0",
         "0.0",
         "0.0",
         "0.0",
         "0.0",
         "0.0",
         "0.0",
         "0.0",
         "0.0",
         "0.0",
         "0.0",
         "1.0",
         "0.0",
         "0.0",
         "0.0",
         "1.0",
         "0.0",
         "0.0",
         "1.0",
         "1.0",
         "0.0",
         "0.0",
         "0.0",
         "1.0",
         "0.0",
         "0.0",
         "0.0",
         "0.0",
         "0.0",
         "0.0",
         "0.0",
         "0.0",
         "0.0",
         "0.0",
         "1.0",
         "0.0",
         "1.0",
         "0.0",
         "0.0",
         "0.0",
         "0.0",
         "0.0",
         "0.0",
         "0.0",
         "1.0",
         "0.0",
         "0.0",
         "0.0",
         "0.0",
         "0.0",
         "0.0",
         "0.0",
         "0.0",
         "0.0",
         "0.0",
         "0.0",
         "1.0",
         "0.0",
         "0.0",
         "0.0",
         "0.0",
         "0.0",
         "0.0",
         "0.0",
         "1.0",
         "0.0",
         "0.0",
         "0.0",
         "0.0",
         "0.0",
         "0.0",
         "0.0",
         "0.0",
         "1.0",
         "0.0",
         "0.0",
         "0.0",
         "0.0",
         "0.0",
         "0.0",
         "0.0",
         "0.0",
         "0.0",
         "1.0",
         "1.0",
         "0.0",
         "0.0",
         "0.0",
         "1.0",
         "1.0",
         "0.0",
         "0.0",
         "1.0",
         "1.0",
         "1.0",
         "1.0",
         "1.0",
         "0.0",
         "0.0",
         "1.0",
         "0.0",
         "0.0",
         "0.0",
         "1.0",
         "0.0",
         "0.0",
         "0.0",
         "0.0",
         "0.0",
         "0.0",
         "0.0",
         "0.0",
         "0.0",
         "0.0",
         "0.0",
         "1.0",
         "0.0",
         "0.0",
         "0.0",
         "0.0",
         "0.0",
         "0.0",
         "0.0",
         "0.0",
         "0.0",
         "0.0",
         "0.0",
         "0.0",
         "0.0",
         "1.0",
         "0.0",
         "0.0",
         "0.0",
         "1.0",
         "0.0",
         "0.0",
         "0.0",
         "1.0",
         "1.0",
         "0.0",
         "0.0",
         "0.0",
         "0.0",
         "0.0",
         "0.0",
         "1.0",
         "0.0",
         "1.0",
         "1.0",
         "0.0",
         "0.0",
         "0.0",
         "0.0",
         "0.0",
         "0.0",
         "0.0",
         "0.0",
         "1.0",
         "0.0",
         "0.0",
         "0.0",
         "0.0",
         "1.0",
         "1.0",
         "0.0",
         "0.0",
         "1.0",
         "1.0",
         "1.0",
         "0.0",
         "1.0",
         "0.0",
         "0.0",
         "0.0",
         "0.0",
         "1.0",
         "0.0",
         "1.0",
         "0.0",
         "1.0",
         "1.0",
         "0.0",
         "0.0",
         "1.0",
         "0.0",
         "0.0",
         "0.0",
         "0.0",
         "1.0",
         "0.0",
         "0.0",
         "0.0",
         "0.0",
         "0.0",
         "0.0",
         "0.0",
         "0.0",
         "0.0",
         "1.0",
         "0.0",
         "0.0",
         "0.0",
         "1.0",
         "1.0",
         "1.0",
         "1.0",
         "0.0",
         "0.0",
         "1.0",
         "0.0",
         "0.0",
         "0.0",
         "0.0",
         "1.0",
         "0.0",
         "0.0",
         "1.0",
         "0.0",
         "0.0",
         "0.0",
         "1.0",
         "1.0",
         "1.0",
         "0.0",
         "1.0",
         "0.0",
         "0.0",
         "1.0",
         "0.0",
         "1.0",
         "0.0",
         "0.0",
         "0.0",
         "1.0",
         "0.0",
         "0.0",
         "0.0",
         "0.0",
         "0.0",
         "0.0",
         "0.0",
         "0.0",
         "0.0",
         "0.0",
         "1.0",
         "0.0",
         "0.0",
         "0.0",
         "0.0",
         "0.0",
         "0.0",
         "1.0",
         "0.0",
         "0.0",
         "0.0",
         "0.0",
         "0.0",
         "0.0",
         "0.0",
         "0.0",
         "0.0",
         "1.0",
         "0.0",
         "0.0",
         "0.0",
         "0.0",
         "0.0",
         "0.0",
         "0.0",
         "0.0",
         "0.0",
         "0.0",
         "0.0",
         "0.0",
         "0.0",
         "0.0",
         "0.0",
         "0.0",
         "0.0",
         "0.0",
         "0.0",
         "0.0",
         "0.0",
         "0.0",
         "0.0",
         "0.0",
         "0.0",
         "0.0",
         "0.0",
         "0.0",
         "0.0",
         "0.0",
         "0.0",
         "0.0",
         "0.0",
         "0.0",
         "0.0",
         "0.0",
         "0.0",
         "0.0",
         "0.0",
         "0.0",
         "0.0",
         "0.0",
         "0.0",
         "0.0",
         "0.0",
         "0.0",
         "0.0",
         "0.0",
         "0.0",
         "0.0",
         "0.0",
         "0.0",
         "0.0",
         "0.0",
         "0.0",
         "0.0",
         "0.0",
         "0.0",
         "0.0",
         "0.0",
         "0.0",
         "0.0",
         "0.0",
         "0.0",
         "0.0",
         "0.0",
         "0.0",
         "0.0",
         "0.0",
         "0.0",
         "0.0",
         "0.0",
         "0.0",
         "0.0",
         "0.0",
         "0.0",
         "0.0",
         "0.0",
         "0.0",
         "0.0",
         "0.0",
         "0.0",
         "0.0",
         "0.0",
         "0.0",
         "0.0",
         "0.0",
         "0.0",
         "0.0",
         "0.0",
         "0.0",
         "0.0",
         "0.0",
         "0.0",
         "0.0",
         "1.0",
         "0.0",
         "0.0",
         "1.0",
         "1.0",
         "0.0",
         "0.0",
         "0.0",
         "0.0",
         "1.0",
         "1.0",
         "1.0",
         "1.0",
         "0.0",
         "0.0",
         "0.0",
         "1.0",
         "1.0",
         "0.0",
         "1.0",
         "1.0",
         "1.0",
         "1.0",
         "0.0",
         "1.0",
         "0.0",
         "0.0",
         "1.0",
         "1.0",
         "0.0",
         "0.0",
         "0.0",
         "0.0",
         "1.0",
         "0.0",
         "0.0",
         "1.0",
         "0.0",
         "1.0",
         "0.0",
         "1.0",
         "0.0",
         "1.0",
         "0.0",
         "1.0",
         "1.0",
         "0.0",
         "0.0",
         "0.0",
         "1.0",
         "1.0",
         "1.0",
         "0.0",
         "0.0",
         "1.0",
         "1.0",
         "1.0",
         "1.0",
         "0.0",
         "1.0",
         "1.0",
         "0.0",
         "0.0",
         "1.0",
         "1.0",
         "1.0",
         "1.0",
         "1.0",
         "1.0",
         "1.0",
         "1.0",
         "1.0",
         "1.0",
         "1.0",
         "0.0",
         "0.0",
         "0.0",
         "0.0",
         "0.0",
         "0.0",
         "1.0",
         "0.0",
         "1.0",
         "1.0",
         "1.0",
         "0.0",
         "0.0",
         "0.0",
         "0.0",
         "0.0",
         "0.0",
         "0.0",
         "1.0",
         "0.0",
         "0.0",
         "0.0",
         "0.0",
         "0.0",
         "0.0",
         "0.0",
         "0.0",
         "0.0",
         "0.0",
         "0.0",
         "0.0",
         "0.0",
         "0.0",
         "0.0",
         "0.0",
         "0.0",
         "0.0",
         "0.0",
         "0.0",
         "0.0",
         "0.0",
         "0.0",
         "0.0",
         "0.0",
         "0.0",
         "0.0",
         "0.0",
         "0.0",
         "0.0",
         "0.0",
         "0.0",
         "0.0",
         "0.0",
         "0.0",
         "0.0",
         "0.0",
         "0.0",
         "0.0",
         "0.0",
         "0.0",
         "0.0",
         "0.0",
         "0.0",
         "0.0",
         "0.0",
         "0.0",
         "0.0",
         "0.0",
         "0.0",
         "0.0",
         "0.0",
         "0.0",
         "0.0",
         "0.0",
         "0.0",
         "0.0",
         "0.0",
         "0.0",
         "0.0",
         "0.0",
         "0.0",
         "0.0",
         "0.0",
         "0.0",
         "0.0",
         "0.0",
         "0.0",
         "0.0",
         "0.0",
         "0.0",
         "0.0",
         "0.0",
         "0.0",
         "0.0",
         "0.0",
         "0.0",
         "0.0",
         "0.0",
         "0.0",
         "0.0",
         "0.0",
         "0.0",
         "0.0",
         "0.0",
         "0.0",
         "0.0",
         "0.0",
         "0.0",
         "0.0",
         "0.0",
         "0.0",
         "0.0",
         "0.0",
         "0.0",
         "0.0",
         "0.0",
         "0.0",
         "0.0",
         "0.0",
         "0.0",
         "0.0",
         "0.0",
         "0.0",
         "0.0",
         "0.0",
         "0.0",
         "0.0",
         "0.0",
         "0.0",
         "0.0",
         "0.0",
         "0.0",
         "0.0",
         "0.0",
         "0.0",
         "0.0",
         "0.0",
         "0.0",
         "0.0",
         "0.0",
         "0.0",
         "0.0",
         "0.0",
         "0.0",
         "0.0",
         "0.0",
         "0.0",
         "0.0",
         "0.0",
         "0.0",
         "0.0",
         "0.0",
         "0.0",
         "0.0",
         "0.0",
         "0.0",
         "0.0",
         "0.0",
         "0.0",
         "0.0",
         "0.0",
         "0.0",
         "0.0",
         "0.0",
         "0.0",
         "0.0",
         "0.0",
         "0.0",
         "0.0",
         "0.0",
         "0.0",
         "0.0",
         "0.0",
         "0.0",
         "0.0",
         "0.0",
         "0.0",
         "0.0",
         "0.0",
         "0.0",
         "0.0",
         "0.0",
         "0.0",
         "0.0",
         "0.0",
         "0.0",
         "0.0",
         "0.0",
         "0.0",
         "0.0",
         "0.0",
         "0.0",
         "0.0",
         "0.0",
         "0.0",
         "0.0",
         "0.0",
         "0.0",
         "0.0",
         "0.0",
         "0.0",
         "0.0",
         "0.0",
         "0.0",
         "0.0",
         "0.0",
         "0.0",
         "0.0",
         "0.0",
         "0.0",
         "0.0",
         "0.0",
         "0.0",
         "0.0",
         "0.0",
         "0.0",
         "0.0",
         "0.0",
         "0.0",
         "0.0",
         "0.0",
         "0.0",
         "0.0",
         "0.0",
         "0.0",
         "0.0",
         "0.0",
         "0.0",
         "0.0",
         "0.0",
         "0.0",
         "0.0",
         "0.0",
         "0.0",
         "0.0",
         "0.0",
         "0.0",
         "0.0",
         "0.0",
         "0.0",
         "0.0",
         "0.0",
         "0.0",
         "0.0",
         "0.0",
         "0.0",
         "0.0",
         "0.0",
         "0.0",
         "0.0",
         "0.0",
         "0.0",
         "0.0",
         "0.0",
         "0.0",
         "0.0",
         "0.0",
         "0.0",
         "0.0",
         "0.0",
         "0.0",
         "0.0",
         "0.0",
         "0.0",
         "0.0",
         "0.0",
         "0.0",
         "0.0",
         "0.0",
         "0.0",
         "0.0",
         "0.0",
         "0.0",
         "0.0",
         "0.0",
         "0.0",
         "0.0",
         "0.0",
         "0.0",
         "0.0",
         "0.0",
         "0.0",
         "0.0",
         "0.0",
         "0.0",
         "0.0",
         "0.0",
         "0.0",
         "0.0",
         "0.0",
         "0.0",
         "0.0",
         "0.0",
         "0.0",
         "0.0",
         "0.0",
         "0.0",
         "0.0",
         "0.0",
         "0.0",
         "0.0",
         "0.0",
         "0.0",
         "0.0",
         "0.0",
         "0.0",
         "0.0",
         "0.0",
         "0.0",
         "0.0",
         "0.0",
         "0.0",
         "0.0",
         "0.0",
         "0.0",
         "0.0",
         "0.0",
         "0.0",
         "0.0",
         "0.0",
         "0.0",
         "0.0",
         "0.0",
         "0.0",
         "0.0",
         "0.0",
         "0.0",
         "0.0",
         "0.0",
         "0.0",
         "0.0",
         "0.0",
         "0.0",
         "0.0",
         "0.0",
         "0.0",
         "0.0",
         "0.0",
         "0.0",
         "0.0",
         "0.0",
         "0.0",
         "0.0",
         "0.0",
         "0.0",
         "0.0",
         "0.0",
         "0.0",
         "0.0",
         "0.0",
         "0.0",
         "0.0",
         "0.0",
         "0.0",
         "0.0",
         "0.0",
         "0.0",
         "0.0",
         "0.0",
         "0.0",
         "0.0",
         "0.0",
         "0.0",
         "0.0",
         "0.0",
         "0.0",
         "0.0",
         "0.0",
         "0.0",
         "0.0",
         "0.0",
         "0.0",
         "0.0",
         "0.0",
         "0.0",
         "0.0",
         "0.0",
         "0.0",
         "0.0",
         "0.0",
         "0.0",
         "0.0",
         "0.0",
         "0.0",
         "0.0",
         "0.0",
         "0.0",
         "0.0",
         "0.0",
         "0.0",
         "0.0",
         "0.0",
         "0.0",
         "0.0",
         "0.0",
         "0.0",
         "0.0",
         "0.0",
         "0.0",
         "0.0",
         "0.0",
         "0.0",
         "0.0",
         "0.0",
         "0.0",
         "0.0",
         "0.0",
         "0.0",
         "0.0",
         "0.0",
         "0.0",
         "0.0",
         "0.0",
         "0.0",
         "0.0",
         "0.0",
         "0.0",
         "0.0",
         "0.0",
         "0.0",
         "0.0",
         "0.0",
         "0.0",
         "0.0",
         "0.0",
         "0.0",
         "0.0",
         "0.0",
         "0.0",
         "0.0",
         "0.0",
         "0.0",
         "0.0",
         "0.0",
         "0.0",
         "0.0",
         "0.0",
         "0.0",
         "0.0",
         "0.0",
         "0.0",
         "0.0",
         "0.0",
         "0.0",
         "0.0",
         "0.0",
         "0.0",
         "0.0",
         "0.0",
         "0.0",
         "0.0",
         "0.0",
         "0.0",
         "0.0",
         "0.0",
         "0.0",
         "0.0",
         "0.0",
         "0.0",
         "0.0",
         "0.0",
         "0.0",
         "0.0",
         "0.0",
         "0.0",
         "0.0",
         "0.0",
         "0.0",
         "0.0",
         "0.0",
         "0.0",
         "0.0",
         "0.0",
         "0.0",
         "0.0",
         "0.0",
         "0.0",
         "0.0",
         "0.0",
         "0.0",
         "0.0",
         "0.0",
         "0.0",
         "0.0",
         "0.0",
         "0.0",
         "0.0",
         "0.0",
         "0.0",
         "0.0",
         "0.0",
         "0.0",
         "0.0",
         "0.0",
         "0.0",
         "0.0",
         "0.0",
         "0.0",
         "0.0",
         "0.0",
         "0.0",
         "0.0",
         "0.0",
         "0.0",
         "0.0",
         "0.0",
         "0.0",
         "0.0",
         "0.0",
         "0.0",
         "0.0",
         "0.0",
         "0.0",
         "0.0",
         "0.0",
         "0.0",
         "0.0",
         "0.0",
         "0.0",
         "0.0",
         "0.0",
         "0.0",
         "0.0",
         "0.0",
         "0.0",
         "0.0",
         "0.0",
         "0.0",
         "0.0",
         "0.0",
         "0.0",
         "0.0",
         "0.0",
         "0.0",
         "0.0",
         "0.0",
         "0.0",
         "0.0",
         "0.0",
         "0.0",
         "0.0",
         "0.0",
         "0.0",
         "0.0",
         "0.0",
         "0.0",
         "0.0",
         "0.0",
         "0.0",
         "0.0",
         "0.0",
         "0.0",
         "0.0",
         "0.0",
         "0.0",
         "0.0",
         "0.0",
         "0.0",
         "0.0",
         "0.0",
         "0.0",
         "0.0",
         "0.0",
         "0.0",
         "0.0",
         "0.0",
         "0.0",
         "0.0",
         "0.0",
         "0.0",
         "0.0",
         "0.0",
         "0.0",
         "0.0",
         "0.0",
         "0.0",
         "0.0",
         "0.0",
         "0.0",
         "0.0",
         "0.0",
         "0.0",
         "0.0",
         "0.0",
         "0.0",
         "0.0",
         "0.0",
         "0.0",
         "0.0",
         "0.0",
         "0.0",
         "0.0",
         "0.0",
         "0.0",
         "0.0",
         "0.0",
         "0.0",
         "0.0",
         "0.0",
         "0.0",
         "0.0",
         "0.0",
         "0.0",
         "0.0",
         "0.0",
         "0.0",
         "0.0",
         "0.0",
         "0.0",
         "0.0",
         "0.0",
         "0.0",
         "0.0",
         "0.0",
         "0.0",
         "0.0",
         "0.0",
         "0.0",
         "0.0",
         "0.0",
         "0.0",
         "0.0",
         "0.0",
         "0.0",
         "0.0",
         "0.0",
         "0.0",
         "0.0",
         "0.0",
         "0.0",
         "0.0",
         "0.0",
         "0.0",
         "0.0",
         "0.0",
         "0.0",
         "0.0",
         "0.0",
         "0.0",
         "0.0",
         "0.0",
         "0.0",
         "0.0",
         "0.0",
         "0.0",
         "0.0",
         "0.0",
         "0.0",
         "0.0",
         "0.0",
         "0.0",
         "0.0",
         "0.0",
         "0.0",
         "0.0",
         "0.0",
         "0.0",
         "0.0",
         "0.0",
         "0.0",
         "0.0",
         "0.0",
         "0.0",
         "0.0",
         "0.0",
         "0.0",
         "0.0",
         "0.0",
         "0.0",
         "0.0",
         "0.0",
         "0.0",
         "0.0",
         "0.0",
         "0.0",
         "0.0",
         "0.0",
         "0.0",
         "0.0",
         "0.0",
         "0.0",
         "0.0",
         "0.0",
         "0.0",
         "0.0",
         "0.0",
         "0.0",
         "0.0",
         "0.0",
         "0.0",
         "0.0",
         "0.0",
         "0.0",
         "0.0",
         "0.0",
         "0.0",
         "0.0",
         "0.0",
         "0.0",
         "0.0",
         "0.0",
         "0.0",
         "0.0",
         "0.0",
         "0.0",
         "0.0",
         "0.0",
         "0.0",
         "0.0",
         "0.0",
         "0.0",
         "0.0",
         "0.0",
         "0.0",
         "0.0",
         "0.0",
         "0.0",
         "0.0",
         "0.0",
         "0.0",
         "0.0",
         "0.0",
         "0.0",
         "0.0",
         "0.0",
         "0.0",
         "0.0",
         "0.0",
         "0.0",
         "0.0",
         "0.0",
         "0.0",
         "0.0",
         "0.0",
         "0.0",
         "0.0",
         "0.0",
         "0.0",
         "0.0",
         "0.0",
         "0.0",
         "0.0",
         "0.0",
         "0.0",
         "0.0",
         "0.0",
         "0.0",
         "0.0",
         "0.0",
         "0.0",
         "0.0",
         "0.0",
         "0.0",
         "0.0",
         "0.0",
         "0.0",
         "0.0",
         "0.0",
         "0.0",
         "0.0",
         "0.0",
         "0.0",
         "0.0",
         "0.0",
         "0.0",
         "0.0",
         "0.0",
         "0.0",
         "0.0",
         "0.0",
         "0.0",
         "0.0",
         "0.0",
         "0.0",
         "0.0",
         "0.0",
         "0.0",
         "0.0",
         "0.0",
         "0.0",
         "0.0",
         "0.0",
         "0.0",
         "0.0",
         "0.0",
         "0.0",
         "0.0",
         "0.0",
         "0.0",
         "0.0",
         "0.0",
         "0.0",
         "0.0",
         "0.0",
         "0.0",
         "0.0",
         "0.0",
         "0.0",
         "0.0",
         "0.0",
         "0.0",
         "0.0",
         "0.0",
         "0.0",
         "0.0",
         "0.0",
         "0.0",
         "0.0",
         "0.0",
         "0.0",
         "0.0",
         "0.0",
         "0.0",
         "0.0",
         "0.0",
         "0.0",
         "0.0",
         "0.0",
         "0.0",
         "0.0",
         "0.0",
         "0.0",
         "0.0",
         "0.0",
         "0.0",
         "0.0",
         "0.0",
         "0.0",
         "0.0",
         "0.0",
         "0.0",
         "0.0",
         "0.0",
         "0.0",
         "0.0",
         "0.0",
         "0.0",
         "0.0",
         "0.0",
         "0.0",
         "0.0",
         "0.0",
         "0.0",
         "0.0",
         "0.0",
         "0.0",
         "0.0",
         "0.0",
         "0.0",
         "0.0",
         "0.0",
         "0.0",
         "0.0",
         "0.0",
         "0.0",
         "0.0",
         "0.0",
         "0.0",
         "0.0",
         "0.0",
         "0.0",
         "0.0",
         "0.0",
         "0.0",
         "0.0",
         "0.0",
         "0.0",
         "0.0",
         "0.0",
         "0.0",
         "0.0",
         "0.0",
         "0.0",
         "0.0",
         "0.0",
         "0.0",
         "0.0",
         "0.0",
         "0.0",
         "0.0",
         "0.0",
         "0.0",
         "0.0",
         "0.0",
         "0.0",
         "0.0",
         "0.0",
         "0.0",
         "0.0",
         "0.0",
         "0.0",
         "0.0",
         "0.0",
         "0.0",
         "0.0",
         "0.0",
         "0.0",
         "0.0",
         "0.0",
         "0.0",
         "0.0",
         "0.0",
         "0.0",
         "0.0",
         "0.0",
         "0.0",
         "0.0",
         "0.0",
         "0.0",
         "0.0",
         "0.0",
         "0.0",
         "0.0",
         "0.0",
         "0.0",
         "0.0",
         "0.0",
         "0.0",
         "0.0",
         "0.0",
         "0.0",
         "0.0",
         "0.0",
         "0.0",
         "0.0",
         "0.0",
         "0.0",
         "0.0",
         "0.0",
         "0.0",
         "0.0",
         "0.0",
         "0.0",
         "0.0",
         "0.0",
         "0.0",
         "0.0",
         "0.0",
         "0.0",
         "0.0",
         "0.0",
         "0.0",
         "0.0",
         "0.0",
         "0.0",
         "0.0",
         "0.0",
         "0.0",
         "0.0",
         "0.0",
         "0.0",
         "0.0",
         "0.0",
         "0.0",
         "0.0",
         "0.0",
         "0.0",
         "0.0",
         "0.0",
         "0.0",
         "0.0",
         "0.0",
         "0.0",
         "0.0",
         "0.0",
         "0.0",
         "0.0",
         "0.0",
         "0.0",
         "0.0",
         "0.0",
         "0.0",
         "0.0",
         "0.0",
         "0.0",
         "0.0",
         "0.0",
         "0.0",
         "0.0",
         "0.0",
         "0.0",
         "0.0",
         "0.0",
         "0.0",
         "0.0",
         "0.0",
         "0.0",
         "0.0",
         "0.0",
         "0.0",
         "0.0",
         "0.0",
         "0.0",
         "0.0",
         "0.0",
         "0.0",
         "0.0",
         "0.0",
         "0.0",
         "0.0",
         "0.0",
         "0.0",
         "0.0",
         "0.0",
         "0.0",
         "0.0",
         "0.0",
         "0.0",
         "0.0",
         "0.0",
         "0.0",
         "0.0",
         "0.0",
         "0.0",
         "0.0",
         "0.0",
         "0.0",
         "0.0",
         "0.0",
         "0.0",
         "0.0",
         "0.0",
         "0.0",
         "0.0",
         "0.0",
         "0.0",
         "0.0",
         "0.0",
         "0.0",
         "0.0",
         "0.0",
         "0.0",
         "0.0",
         "0.0",
         "0.0",
         "0.0",
         "0.0",
         "0.0",
         "0.0",
         "0.0",
         "0.0",
         "0.0",
         "0.0",
         "0.0",
         "0.0",
         "0.0",
         "0.0",
         "0.0",
         "0.0",
         "0.0",
         "0.0",
         "0.0",
         "0.0",
         "0.0",
         "0.0",
         "0.0",
         "0.0",
         "0.0",
         "0.0",
         "0.0",
         "0.0",
         "0.0",
         "0.0",
         "0.0",
         "0.0",
         "0.0",
         "0.0",
         "0.0",
         "0.0",
         "0.0",
         "0.0",
         "0.0",
         "0.0",
         "0.0",
         "0.0",
         "0.0",
         "0.0",
         "0.0",
         "0.0",
         "0.0",
         "0.0",
         "0.0",
         "0.0",
         "0.0",
         "0.0",
         "0.0",
         "0.0",
         "0.0",
         "0.0",
         "0.0",
         "0.0",
         "0.0",
         "0.0",
         "0.0",
         "0.0",
         "0.0",
         "0.0",
         "0.0",
         "0.0",
         "0.0",
         "0.0",
         "0.0",
         "0.0",
         "0.0",
         "0.0",
         "0.0",
         "0.0",
         "0.0",
         "0.0",
         "0.0",
         "0.0",
         "0.0",
         "0.0",
         "0.0",
         "0.0",
         "0.0",
         "0.0",
         "0.0",
         "0.0",
         "0.0",
         "0.0",
         "0.0",
         "0.0",
         "0.0",
         "0.0",
         "0.0",
         "0.0",
         "0.0",
         "0.0",
         "0.0",
         "0.0",
         "0.0",
         "0.0",
         "0.0",
         "0.0",
         "0.0",
         "0.0",
         "0.0",
         "0.0",
         "0.0",
         "0.0",
         "0.0",
         "0.0",
         "0.0",
         "0.0",
         "0.0",
         "0.0",
         "0.0",
         "0.0",
         "0.0",
         "0.0",
         "0.0",
         "0.0",
         "0.0",
         "0.0",
         "0.0",
         "0.0",
         "0.0",
         "0.0",
         "0.0",
         "0.0",
         "0.0",
         "0.0",
         "0.0",
         "0.0",
         "0.0",
         "0.0",
         "0.0",
         "0.0",
         "0.0",
         "0.0",
         "0.0",
         "0.0",
         "0.0",
         "0.0",
         "0.0",
         "0.0",
         "0.0",
         "0.0",
         "0.0",
         "0.0",
         "0.0",
         "0.0",
         "0.0",
         "0.0",
         "0.0",
         "0.0",
         "0.0",
         "0.0",
         "0.0",
         "0.0",
         "0.0",
         "0.0",
         "0.0",
         "0.0",
         "0.0",
         "0.0",
         "0.0",
         "0.0",
         "0.0",
         "0.0",
         "0.0",
         "0.0",
         "0.0",
         "0.0",
         "0.0",
         "0.0",
         "0.0",
         "0.0",
         "0.0",
         "0.0",
         "0.0",
         "0.0",
         "0.0",
         "0.0",
         "0.0",
         "0.0",
         "0.0",
         "0.0",
         "0.0",
         "0.0",
         "0.0",
         "0.0",
         "0.0",
         "0.0",
         "0.0",
         "0.0",
         "0.0",
         "0.0",
         "0.0",
         "0.0",
         "0.0",
         "0.0",
         "0.0",
         "0.0",
         "0.0",
         "0.0",
         "0.0",
         "0.0",
         "0.0",
         "0.0",
         "0.0",
         "0.0",
         "0.0",
         "0.0",
         "0.0"
        ]
       ],
       "shape": {
        "columns": 1682,
        "rows": 5
       }
      },
      "text/html": [
       "<div>\n",
       "<style scoped>\n",
       "    .dataframe tbody tr th:only-of-type {\n",
       "        vertical-align: middle;\n",
       "    }\n",
       "\n",
       "    .dataframe tbody tr th {\n",
       "        vertical-align: top;\n",
       "    }\n",
       "\n",
       "    .dataframe thead th {\n",
       "        text-align: right;\n",
       "    }\n",
       "</style>\n",
       "<table border=\"1\" class=\"dataframe\">\n",
       "  <thead>\n",
       "    <tr style=\"text-align: right;\">\n",
       "      <th>movie_id</th>\n",
       "      <th>0</th>\n",
       "      <th>1</th>\n",
       "      <th>2</th>\n",
       "      <th>3</th>\n",
       "      <th>4</th>\n",
       "      <th>5</th>\n",
       "      <th>6</th>\n",
       "      <th>7</th>\n",
       "      <th>8</th>\n",
       "      <th>9</th>\n",
       "      <th>...</th>\n",
       "      <th>1672</th>\n",
       "      <th>1673</th>\n",
       "      <th>1674</th>\n",
       "      <th>1675</th>\n",
       "      <th>1676</th>\n",
       "      <th>1677</th>\n",
       "      <th>1678</th>\n",
       "      <th>1679</th>\n",
       "      <th>1680</th>\n",
       "      <th>1681</th>\n",
       "    </tr>\n",
       "    <tr>\n",
       "      <th>user_id</th>\n",
       "      <th></th>\n",
       "      <th></th>\n",
       "      <th></th>\n",
       "      <th></th>\n",
       "      <th></th>\n",
       "      <th></th>\n",
       "      <th></th>\n",
       "      <th></th>\n",
       "      <th></th>\n",
       "      <th></th>\n",
       "      <th></th>\n",
       "      <th></th>\n",
       "      <th></th>\n",
       "      <th></th>\n",
       "      <th></th>\n",
       "      <th></th>\n",
       "      <th></th>\n",
       "      <th></th>\n",
       "      <th></th>\n",
       "      <th></th>\n",
       "      <th></th>\n",
       "    </tr>\n",
       "  </thead>\n",
       "  <tbody>\n",
       "    <tr>\n",
       "      <th>0</th>\n",
       "      <td>1.0</td>\n",
       "      <td>1.0</td>\n",
       "      <td>1.0</td>\n",
       "      <td>1.0</td>\n",
       "      <td>1.0</td>\n",
       "      <td>1.0</td>\n",
       "      <td>1.0</td>\n",
       "      <td>0.0</td>\n",
       "      <td>1.0</td>\n",
       "      <td>1.0</td>\n",
       "      <td>...</td>\n",
       "      <td>0.0</td>\n",
       "      <td>0.0</td>\n",
       "      <td>0.0</td>\n",
       "      <td>0.0</td>\n",
       "      <td>0.0</td>\n",
       "      <td>0.0</td>\n",
       "      <td>0.0</td>\n",
       "      <td>0.0</td>\n",
       "      <td>0.0</td>\n",
       "      <td>0.0</td>\n",
       "    </tr>\n",
       "    <tr>\n",
       "      <th>1</th>\n",
       "      <td>1.0</td>\n",
       "      <td>0.0</td>\n",
       "      <td>0.0</td>\n",
       "      <td>0.0</td>\n",
       "      <td>0.0</td>\n",
       "      <td>0.0</td>\n",
       "      <td>0.0</td>\n",
       "      <td>0.0</td>\n",
       "      <td>0.0</td>\n",
       "      <td>0.0</td>\n",
       "      <td>...</td>\n",
       "      <td>0.0</td>\n",
       "      <td>0.0</td>\n",
       "      <td>0.0</td>\n",
       "      <td>0.0</td>\n",
       "      <td>0.0</td>\n",
       "      <td>0.0</td>\n",
       "      <td>0.0</td>\n",
       "      <td>0.0</td>\n",
       "      <td>0.0</td>\n",
       "      <td>0.0</td>\n",
       "    </tr>\n",
       "    <tr>\n",
       "      <th>2</th>\n",
       "      <td>0.0</td>\n",
       "      <td>0.0</td>\n",
       "      <td>0.0</td>\n",
       "      <td>0.0</td>\n",
       "      <td>0.0</td>\n",
       "      <td>0.0</td>\n",
       "      <td>0.0</td>\n",
       "      <td>0.0</td>\n",
       "      <td>0.0</td>\n",
       "      <td>0.0</td>\n",
       "      <td>...</td>\n",
       "      <td>0.0</td>\n",
       "      <td>0.0</td>\n",
       "      <td>0.0</td>\n",
       "      <td>0.0</td>\n",
       "      <td>0.0</td>\n",
       "      <td>0.0</td>\n",
       "      <td>0.0</td>\n",
       "      <td>0.0</td>\n",
       "      <td>0.0</td>\n",
       "      <td>0.0</td>\n",
       "    </tr>\n",
       "    <tr>\n",
       "      <th>3</th>\n",
       "      <td>0.0</td>\n",
       "      <td>0.0</td>\n",
       "      <td>0.0</td>\n",
       "      <td>0.0</td>\n",
       "      <td>0.0</td>\n",
       "      <td>0.0</td>\n",
       "      <td>0.0</td>\n",
       "      <td>0.0</td>\n",
       "      <td>0.0</td>\n",
       "      <td>0.0</td>\n",
       "      <td>...</td>\n",
       "      <td>0.0</td>\n",
       "      <td>0.0</td>\n",
       "      <td>0.0</td>\n",
       "      <td>0.0</td>\n",
       "      <td>0.0</td>\n",
       "      <td>0.0</td>\n",
       "      <td>0.0</td>\n",
       "      <td>0.0</td>\n",
       "      <td>0.0</td>\n",
       "      <td>0.0</td>\n",
       "    </tr>\n",
       "    <tr>\n",
       "      <th>4</th>\n",
       "      <td>1.0</td>\n",
       "      <td>1.0</td>\n",
       "      <td>0.0</td>\n",
       "      <td>0.0</td>\n",
       "      <td>0.0</td>\n",
       "      <td>0.0</td>\n",
       "      <td>0.0</td>\n",
       "      <td>0.0</td>\n",
       "      <td>0.0</td>\n",
       "      <td>0.0</td>\n",
       "      <td>...</td>\n",
       "      <td>0.0</td>\n",
       "      <td>0.0</td>\n",
       "      <td>0.0</td>\n",
       "      <td>0.0</td>\n",
       "      <td>0.0</td>\n",
       "      <td>0.0</td>\n",
       "      <td>0.0</td>\n",
       "      <td>0.0</td>\n",
       "      <td>0.0</td>\n",
       "      <td>0.0</td>\n",
       "    </tr>\n",
       "  </tbody>\n",
       "</table>\n",
       "<p>5 rows × 1682 columns</p>\n",
       "</div>"
      ],
      "text/plain": [
       "movie_id  0     1     2     3     4     5     6     7     8     9     ...  \\\n",
       "user_id                                                               ...   \n",
       "0          1.0   1.0   1.0   1.0   1.0   1.0   1.0   0.0   1.0   1.0  ...   \n",
       "1          1.0   0.0   0.0   0.0   0.0   0.0   0.0   0.0   0.0   0.0  ...   \n",
       "2          0.0   0.0   0.0   0.0   0.0   0.0   0.0   0.0   0.0   0.0  ...   \n",
       "3          0.0   0.0   0.0   0.0   0.0   0.0   0.0   0.0   0.0   0.0  ...   \n",
       "4          1.0   1.0   0.0   0.0   0.0   0.0   0.0   0.0   0.0   0.0  ...   \n",
       "\n",
       "movie_id  1672  1673  1674  1675  1676  1677  1678  1679  1680  1681  \n",
       "user_id                                                               \n",
       "0          0.0   0.0   0.0   0.0   0.0   0.0   0.0   0.0   0.0   0.0  \n",
       "1          0.0   0.0   0.0   0.0   0.0   0.0   0.0   0.0   0.0   0.0  \n",
       "2          0.0   0.0   0.0   0.0   0.0   0.0   0.0   0.0   0.0   0.0  \n",
       "3          0.0   0.0   0.0   0.0   0.0   0.0   0.0   0.0   0.0   0.0  \n",
       "4          0.0   0.0   0.0   0.0   0.0   0.0   0.0   0.0   0.0   0.0  \n",
       "\n",
       "[5 rows x 1682 columns]"
      ]
     },
     "execution_count": 57,
     "metadata": {},
     "output_type": "execute_result"
    }
   ],
   "source": [
    "#k-means clustering\n",
    "\n",
    "# movie_ratings  ## ratings dataset\n",
    "\n",
    "#create a pivot table\n",
    "pivot_table = movie_ratings.pivot_table(index='user_id', columns='movie_id', values='ratings').fillna(value=0)\n",
    "\n",
    "pivot_table.head()\n"
   ]
  },
  {
   "cell_type": "code",
   "execution_count": 58,
   "id": "fad2e7af",
   "metadata": {},
   "outputs": [
    {
     "name": "stderr",
     "output_type": "stream",
     "text": [
      "c:\\Users\\marwa\\miniconda3\\envs\\xBase\\Lib\\site-packages\\sklearn\\cluster\\_kmeans.py:1419: UserWarning: KMeans is known to have a memory leak on Windows with MKL, when there are less chunks than available threads. You can avoid it by setting the environment variable OMP_NUM_THREADS=4.\n",
      "  warnings.warn(\n"
     ]
    }
   ],
   "source": [
    "from sklearn.cluster import KMeans\n",
    "import seaborn as sns\n",
    "\n",
    "pivot_table_kmeans1 = pivot_table.copy()\n",
    "#instatiate kmeans\n",
    "kmeans = KMeans(n_clusters=5, random_state=21)\n",
    "clusters = kmeans.fit_predict(pivot_table_kmeans1)\n",
    "\n",
    "\n",
    "pivot_table_kmeans1['cluster'] = clusters\n",
    "\n",
    "# plt.figure(figsize=(10, 8))\n",
    "# sns.scatterplot(data=pivot_table, hue='cluster')\n",
    "# # plt.title()\n",
    "# plt.show()"
   ]
  },
  {
   "cell_type": "markdown",
   "id": "25c0710a",
   "metadata": {},
   "source": [
    "### Elbow Point Technique\n",
    "The elbow method helps us plot a range of k and the inertia(sum of squared errors) against the k. The elbow point  on the graph represents the optimum number of clusters to use."
   ]
  },
  {
   "cell_type": "code",
   "execution_count": 59,
   "id": "ef547048",
   "metadata": {},
   "outputs": [
    {
     "name": "stderr",
     "output_type": "stream",
     "text": [
      "c:\\Users\\marwa\\miniconda3\\envs\\xBase\\Lib\\site-packages\\sklearn\\cluster\\_kmeans.py:1419: UserWarning: KMeans is known to have a memory leak on Windows with MKL, when there are less chunks than available threads. You can avoid it by setting the environment variable OMP_NUM_THREADS=1.\n",
      "  warnings.warn(\n",
      "c:\\Users\\marwa\\miniconda3\\envs\\xBase\\Lib\\site-packages\\sklearn\\cluster\\_kmeans.py:1419: UserWarning: KMeans is known to have a memory leak on Windows with MKL, when there are less chunks than available threads. You can avoid it by setting the environment variable OMP_NUM_THREADS=1.\n",
      "  warnings.warn(\n",
      "c:\\Users\\marwa\\miniconda3\\envs\\xBase\\Lib\\site-packages\\sklearn\\cluster\\_kmeans.py:1419: UserWarning: KMeans is known to have a memory leak on Windows with MKL, when there are less chunks than available threads. You can avoid it by setting the environment variable OMP_NUM_THREADS=1.\n",
      "  warnings.warn(\n",
      "c:\\Users\\marwa\\miniconda3\\envs\\xBase\\Lib\\site-packages\\sklearn\\cluster\\_kmeans.py:1419: UserWarning: KMeans is known to have a memory leak on Windows with MKL, when there are less chunks than available threads. You can avoid it by setting the environment variable OMP_NUM_THREADS=1.\n",
      "  warnings.warn(\n",
      "c:\\Users\\marwa\\miniconda3\\envs\\xBase\\Lib\\site-packages\\sklearn\\cluster\\_kmeans.py:1419: UserWarning: KMeans is known to have a memory leak on Windows with MKL, when there are less chunks than available threads. You can avoid it by setting the environment variable OMP_NUM_THREADS=1.\n",
      "  warnings.warn(\n",
      "c:\\Users\\marwa\\miniconda3\\envs\\xBase\\Lib\\site-packages\\sklearn\\cluster\\_kmeans.py:1419: UserWarning: KMeans is known to have a memory leak on Windows with MKL, when there are less chunks than available threads. You can avoid it by setting the environment variable OMP_NUM_THREADS=1.\n",
      "  warnings.warn(\n",
      "c:\\Users\\marwa\\miniconda3\\envs\\xBase\\Lib\\site-packages\\sklearn\\cluster\\_kmeans.py:1419: UserWarning: KMeans is known to have a memory leak on Windows with MKL, when there are less chunks than available threads. You can avoid it by setting the environment variable OMP_NUM_THREADS=1.\n",
      "  warnings.warn(\n",
      "c:\\Users\\marwa\\miniconda3\\envs\\xBase\\Lib\\site-packages\\sklearn\\cluster\\_kmeans.py:1419: UserWarning: KMeans is known to have a memory leak on Windows with MKL, when there are less chunks than available threads. You can avoid it by setting the environment variable OMP_NUM_THREADS=1.\n",
      "  warnings.warn(\n",
      "c:\\Users\\marwa\\miniconda3\\envs\\xBase\\Lib\\site-packages\\sklearn\\cluster\\_kmeans.py:1419: UserWarning: KMeans is known to have a memory leak on Windows with MKL, when there are less chunks than available threads. You can avoid it by setting the environment variable OMP_NUM_THREADS=1.\n",
      "  warnings.warn(\n",
      "c:\\Users\\marwa\\miniconda3\\envs\\xBase\\Lib\\site-packages\\sklearn\\cluster\\_kmeans.py:1419: UserWarning: KMeans is known to have a memory leak on Windows with MKL, when there are less chunks than available threads. You can avoid it by setting the environment variable OMP_NUM_THREADS=1.\n",
      "  warnings.warn(\n",
      "c:\\Users\\marwa\\miniconda3\\envs\\xBase\\Lib\\site-packages\\sklearn\\cluster\\_kmeans.py:1419: UserWarning: KMeans is known to have a memory leak on Windows with MKL, when there are less chunks than available threads. You can avoid it by setting the environment variable OMP_NUM_THREADS=1.\n",
      "  warnings.warn(\n",
      "c:\\Users\\marwa\\miniconda3\\envs\\xBase\\Lib\\site-packages\\sklearn\\cluster\\_kmeans.py:1419: UserWarning: KMeans is known to have a memory leak on Windows with MKL, when there are less chunks than available threads. You can avoid it by setting the environment variable OMP_NUM_THREADS=1.\n",
      "  warnings.warn(\n",
      "c:\\Users\\marwa\\miniconda3\\envs\\xBase\\Lib\\site-packages\\sklearn\\cluster\\_kmeans.py:1419: UserWarning: KMeans is known to have a memory leak on Windows with MKL, when there are less chunks than available threads. You can avoid it by setting the environment variable OMP_NUM_THREADS=1.\n",
      "  warnings.warn(\n",
      "c:\\Users\\marwa\\miniconda3\\envs\\xBase\\Lib\\site-packages\\sklearn\\cluster\\_kmeans.py:1419: UserWarning: KMeans is known to have a memory leak on Windows with MKL, when there are less chunks than available threads. You can avoid it by setting the environment variable OMP_NUM_THREADS=1.\n",
      "  warnings.warn(\n",
      "c:\\Users\\marwa\\miniconda3\\envs\\xBase\\Lib\\site-packages\\sklearn\\cluster\\_kmeans.py:1419: UserWarning: KMeans is known to have a memory leak on Windows with MKL, when there are less chunks than available threads. You can avoid it by setting the environment variable OMP_NUM_THREADS=1.\n",
      "  warnings.warn(\n",
      "c:\\Users\\marwa\\miniconda3\\envs\\xBase\\Lib\\site-packages\\sklearn\\cluster\\_kmeans.py:1419: UserWarning: KMeans is known to have a memory leak on Windows with MKL, when there are less chunks than available threads. You can avoid it by setting the environment variable OMP_NUM_THREADS=1.\n",
      "  warnings.warn(\n",
      "c:\\Users\\marwa\\miniconda3\\envs\\xBase\\Lib\\site-packages\\sklearn\\cluster\\_kmeans.py:1419: UserWarning: KMeans is known to have a memory leak on Windows with MKL, when there are less chunks than available threads. You can avoid it by setting the environment variable OMP_NUM_THREADS=1.\n",
      "  warnings.warn(\n",
      "c:\\Users\\marwa\\miniconda3\\envs\\xBase\\Lib\\site-packages\\sklearn\\cluster\\_kmeans.py:1419: UserWarning: KMeans is known to have a memory leak on Windows with MKL, when there are less chunks than available threads. You can avoid it by setting the environment variable OMP_NUM_THREADS=1.\n",
      "  warnings.warn(\n",
      "c:\\Users\\marwa\\miniconda3\\envs\\xBase\\Lib\\site-packages\\sklearn\\cluster\\_kmeans.py:1419: UserWarning: KMeans is known to have a memory leak on Windows with MKL, when there are less chunks than available threads. You can avoid it by setting the environment variable OMP_NUM_THREADS=1.\n",
      "  warnings.warn(\n",
      "c:\\Users\\marwa\\miniconda3\\envs\\xBase\\Lib\\site-packages\\sklearn\\cluster\\_kmeans.py:1419: UserWarning: KMeans is known to have a memory leak on Windows with MKL, when there are less chunks than available threads. You can avoid it by setting the environment variable OMP_NUM_THREADS=1.\n",
      "  warnings.warn(\n",
      "c:\\Users\\marwa\\miniconda3\\envs\\xBase\\Lib\\site-packages\\sklearn\\cluster\\_kmeans.py:1419: UserWarning: KMeans is known to have a memory leak on Windows with MKL, when there are less chunks than available threads. You can avoid it by setting the environment variable OMP_NUM_THREADS=1.\n",
      "  warnings.warn(\n",
      "c:\\Users\\marwa\\miniconda3\\envs\\xBase\\Lib\\site-packages\\sklearn\\cluster\\_kmeans.py:1419: UserWarning: KMeans is known to have a memory leak on Windows with MKL, when there are less chunks than available threads. You can avoid it by setting the environment variable OMP_NUM_THREADS=1.\n",
      "  warnings.warn(\n",
      "c:\\Users\\marwa\\miniconda3\\envs\\xBase\\Lib\\site-packages\\sklearn\\cluster\\_kmeans.py:1419: UserWarning: KMeans is known to have a memory leak on Windows with MKL, when there are less chunks than available threads. You can avoid it by setting the environment variable OMP_NUM_THREADS=1.\n",
      "  warnings.warn(\n",
      "c:\\Users\\marwa\\miniconda3\\envs\\xBase\\Lib\\site-packages\\sklearn\\cluster\\_kmeans.py:1419: UserWarning: KMeans is known to have a memory leak on Windows with MKL, when there are less chunks than available threads. You can avoid it by setting the environment variable OMP_NUM_THREADS=1.\n",
      "  warnings.warn(\n",
      "c:\\Users\\marwa\\miniconda3\\envs\\xBase\\Lib\\site-packages\\sklearn\\cluster\\_kmeans.py:1419: UserWarning: KMeans is known to have a memory leak on Windows with MKL, when there are less chunks than available threads. You can avoid it by setting the environment variable OMP_NUM_THREADS=1.\n",
      "  warnings.warn(\n",
      "c:\\Users\\marwa\\miniconda3\\envs\\xBase\\Lib\\site-packages\\sklearn\\cluster\\_kmeans.py:1419: UserWarning: KMeans is known to have a memory leak on Windows with MKL, when there are less chunks than available threads. You can avoid it by setting the environment variable OMP_NUM_THREADS=1.\n",
      "  warnings.warn(\n",
      "c:\\Users\\marwa\\miniconda3\\envs\\xBase\\Lib\\site-packages\\sklearn\\cluster\\_kmeans.py:1419: UserWarning: KMeans is known to have a memory leak on Windows with MKL, when there are less chunks than available threads. You can avoid it by setting the environment variable OMP_NUM_THREADS=1.\n",
      "  warnings.warn(\n",
      "c:\\Users\\marwa\\miniconda3\\envs\\xBase\\Lib\\site-packages\\sklearn\\cluster\\_kmeans.py:1419: UserWarning: KMeans is known to have a memory leak on Windows with MKL, when there are less chunks than available threads. You can avoid it by setting the environment variable OMP_NUM_THREADS=1.\n",
      "  warnings.warn(\n",
      "c:\\Users\\marwa\\miniconda3\\envs\\xBase\\Lib\\site-packages\\sklearn\\cluster\\_kmeans.py:1419: UserWarning: KMeans is known to have a memory leak on Windows with MKL, when there are less chunks than available threads. You can avoid it by setting the environment variable OMP_NUM_THREADS=1.\n",
      "  warnings.warn(\n",
      "c:\\Users\\marwa\\miniconda3\\envs\\xBase\\Lib\\site-packages\\sklearn\\cluster\\_kmeans.py:1419: UserWarning: KMeans is known to have a memory leak on Windows with MKL, when there are less chunks than available threads. You can avoid it by setting the environment variable OMP_NUM_THREADS=1.\n",
      "  warnings.warn(\n",
      "c:\\Users\\marwa\\miniconda3\\envs\\xBase\\Lib\\site-packages\\sklearn\\cluster\\_kmeans.py:1419: UserWarning: KMeans is known to have a memory leak on Windows with MKL, when there are less chunks than available threads. You can avoid it by setting the environment variable OMP_NUM_THREADS=1.\n",
      "  warnings.warn(\n",
      "c:\\Users\\marwa\\miniconda3\\envs\\xBase\\Lib\\site-packages\\sklearn\\cluster\\_kmeans.py:1419: UserWarning: KMeans is known to have a memory leak on Windows with MKL, when there are less chunks than available threads. You can avoid it by setting the environment variable OMP_NUM_THREADS=1.\n",
      "  warnings.warn(\n",
      "c:\\Users\\marwa\\miniconda3\\envs\\xBase\\Lib\\site-packages\\sklearn\\cluster\\_kmeans.py:1419: UserWarning: KMeans is known to have a memory leak on Windows with MKL, when there are less chunks than available threads. You can avoid it by setting the environment variable OMP_NUM_THREADS=1.\n",
      "  warnings.warn(\n",
      "c:\\Users\\marwa\\miniconda3\\envs\\xBase\\Lib\\site-packages\\sklearn\\cluster\\_kmeans.py:1419: UserWarning: KMeans is known to have a memory leak on Windows with MKL, when there are less chunks than available threads. You can avoid it by setting the environment variable OMP_NUM_THREADS=1.\n",
      "  warnings.warn(\n",
      "c:\\Users\\marwa\\miniconda3\\envs\\xBase\\Lib\\site-packages\\sklearn\\cluster\\_kmeans.py:1419: UserWarning: KMeans is known to have a memory leak on Windows with MKL, when there are less chunks than available threads. You can avoid it by setting the environment variable OMP_NUM_THREADS=1.\n",
      "  warnings.warn(\n",
      "c:\\Users\\marwa\\miniconda3\\envs\\xBase\\Lib\\site-packages\\sklearn\\cluster\\_kmeans.py:1419: UserWarning: KMeans is known to have a memory leak on Windows with MKL, when there are less chunks than available threads. You can avoid it by setting the environment variable OMP_NUM_THREADS=1.\n",
      "  warnings.warn(\n",
      "c:\\Users\\marwa\\miniconda3\\envs\\xBase\\Lib\\site-packages\\sklearn\\cluster\\_kmeans.py:1419: UserWarning: KMeans is known to have a memory leak on Windows with MKL, when there are less chunks than available threads. You can avoid it by setting the environment variable OMP_NUM_THREADS=1.\n",
      "  warnings.warn(\n",
      "c:\\Users\\marwa\\miniconda3\\envs\\xBase\\Lib\\site-packages\\sklearn\\cluster\\_kmeans.py:1419: UserWarning: KMeans is known to have a memory leak on Windows with MKL, when there are less chunks than available threads. You can avoid it by setting the environment variable OMP_NUM_THREADS=1.\n",
      "  warnings.warn(\n",
      "c:\\Users\\marwa\\miniconda3\\envs\\xBase\\Lib\\site-packages\\sklearn\\cluster\\_kmeans.py:1419: UserWarning: KMeans is known to have a memory leak on Windows with MKL, when there are less chunks than available threads. You can avoid it by setting the environment variable OMP_NUM_THREADS=1.\n",
      "  warnings.warn(\n",
      "c:\\Users\\marwa\\miniconda3\\envs\\xBase\\Lib\\site-packages\\sklearn\\cluster\\_kmeans.py:1419: UserWarning: KMeans is known to have a memory leak on Windows with MKL, when there are less chunks than available threads. You can avoid it by setting the environment variable OMP_NUM_THREADS=1.\n",
      "  warnings.warn(\n",
      "c:\\Users\\marwa\\miniconda3\\envs\\xBase\\Lib\\site-packages\\sklearn\\cluster\\_kmeans.py:1419: UserWarning: KMeans is known to have a memory leak on Windows with MKL, when there are less chunks than available threads. You can avoid it by setting the environment variable OMP_NUM_THREADS=1.\n",
      "  warnings.warn(\n",
      "c:\\Users\\marwa\\miniconda3\\envs\\xBase\\Lib\\site-packages\\sklearn\\cluster\\_kmeans.py:1419: UserWarning: KMeans is known to have a memory leak on Windows with MKL, when there are less chunks than available threads. You can avoid it by setting the environment variable OMP_NUM_THREADS=1.\n",
      "  warnings.warn(\n",
      "c:\\Users\\marwa\\miniconda3\\envs\\xBase\\Lib\\site-packages\\sklearn\\cluster\\_kmeans.py:1419: UserWarning: KMeans is known to have a memory leak on Windows with MKL, when there are less chunks than available threads. You can avoid it by setting the environment variable OMP_NUM_THREADS=1.\n",
      "  warnings.warn(\n",
      "c:\\Users\\marwa\\miniconda3\\envs\\xBase\\Lib\\site-packages\\sklearn\\cluster\\_kmeans.py:1419: UserWarning: KMeans is known to have a memory leak on Windows with MKL, when there are less chunks than available threads. You can avoid it by setting the environment variable OMP_NUM_THREADS=1.\n",
      "  warnings.warn(\n",
      "c:\\Users\\marwa\\miniconda3\\envs\\xBase\\Lib\\site-packages\\sklearn\\cluster\\_kmeans.py:1419: UserWarning: KMeans is known to have a memory leak on Windows with MKL, when there are less chunks than available threads. You can avoid it by setting the environment variable OMP_NUM_THREADS=1.\n",
      "  warnings.warn(\n",
      "c:\\Users\\marwa\\miniconda3\\envs\\xBase\\Lib\\site-packages\\sklearn\\cluster\\_kmeans.py:1419: UserWarning: KMeans is known to have a memory leak on Windows with MKL, when there are less chunks than available threads. You can avoid it by setting the environment variable OMP_NUM_THREADS=1.\n",
      "  warnings.warn(\n",
      "c:\\Users\\marwa\\miniconda3\\envs\\xBase\\Lib\\site-packages\\sklearn\\cluster\\_kmeans.py:1419: UserWarning: KMeans is known to have a memory leak on Windows with MKL, when there are less chunks than available threads. You can avoid it by setting the environment variable OMP_NUM_THREADS=1.\n",
      "  warnings.warn(\n",
      "c:\\Users\\marwa\\miniconda3\\envs\\xBase\\Lib\\site-packages\\sklearn\\cluster\\_kmeans.py:1419: UserWarning: KMeans is known to have a memory leak on Windows with MKL, when there are less chunks than available threads. You can avoid it by setting the environment variable OMP_NUM_THREADS=1.\n",
      "  warnings.warn(\n",
      "c:\\Users\\marwa\\miniconda3\\envs\\xBase\\Lib\\site-packages\\sklearn\\cluster\\_kmeans.py:1419: UserWarning: KMeans is known to have a memory leak on Windows with MKL, when there are less chunks than available threads. You can avoid it by setting the environment variable OMP_NUM_THREADS=1.\n",
      "  warnings.warn(\n",
      "c:\\Users\\marwa\\miniconda3\\envs\\xBase\\Lib\\site-packages\\sklearn\\cluster\\_kmeans.py:1419: UserWarning: KMeans is known to have a memory leak on Windows with MKL, when there are less chunks than available threads. You can avoid it by setting the environment variable OMP_NUM_THREADS=1.\n",
      "  warnings.warn(\n",
      "c:\\Users\\marwa\\miniconda3\\envs\\xBase\\Lib\\site-packages\\sklearn\\cluster\\_kmeans.py:1419: UserWarning: KMeans is known to have a memory leak on Windows with MKL, when there are less chunks than available threads. You can avoid it by setting the environment variable OMP_NUM_THREADS=1.\n",
      "  warnings.warn(\n",
      "c:\\Users\\marwa\\miniconda3\\envs\\xBase\\Lib\\site-packages\\sklearn\\cluster\\_kmeans.py:1419: UserWarning: KMeans is known to have a memory leak on Windows with MKL, when there are less chunks than available threads. You can avoid it by setting the environment variable OMP_NUM_THREADS=1.\n",
      "  warnings.warn(\n",
      "c:\\Users\\marwa\\miniconda3\\envs\\xBase\\Lib\\site-packages\\sklearn\\cluster\\_kmeans.py:1419: UserWarning: KMeans is known to have a memory leak on Windows with MKL, when there are less chunks than available threads. You can avoid it by setting the environment variable OMP_NUM_THREADS=1.\n",
      "  warnings.warn(\n",
      "c:\\Users\\marwa\\miniconda3\\envs\\xBase\\Lib\\site-packages\\sklearn\\cluster\\_kmeans.py:1419: UserWarning: KMeans is known to have a memory leak on Windows with MKL, when there are less chunks than available threads. You can avoid it by setting the environment variable OMP_NUM_THREADS=1.\n",
      "  warnings.warn(\n",
      "c:\\Users\\marwa\\miniconda3\\envs\\xBase\\Lib\\site-packages\\sklearn\\cluster\\_kmeans.py:1419: UserWarning: KMeans is known to have a memory leak on Windows with MKL, when there are less chunks than available threads. You can avoid it by setting the environment variable OMP_NUM_THREADS=1.\n",
      "  warnings.warn(\n",
      "c:\\Users\\marwa\\miniconda3\\envs\\xBase\\Lib\\site-packages\\sklearn\\cluster\\_kmeans.py:1419: UserWarning: KMeans is known to have a memory leak on Windows with MKL, when there are less chunks than available threads. You can avoid it by setting the environment variable OMP_NUM_THREADS=1.\n",
      "  warnings.warn(\n",
      "c:\\Users\\marwa\\miniconda3\\envs\\xBase\\Lib\\site-packages\\sklearn\\cluster\\_kmeans.py:1419: UserWarning: KMeans is known to have a memory leak on Windows with MKL, when there are less chunks than available threads. You can avoid it by setting the environment variable OMP_NUM_THREADS=1.\n",
      "  warnings.warn(\n",
      "c:\\Users\\marwa\\miniconda3\\envs\\xBase\\Lib\\site-packages\\sklearn\\cluster\\_kmeans.py:1419: UserWarning: KMeans is known to have a memory leak on Windows with MKL, when there are less chunks than available threads. You can avoid it by setting the environment variable OMP_NUM_THREADS=1.\n",
      "  warnings.warn(\n",
      "c:\\Users\\marwa\\miniconda3\\envs\\xBase\\Lib\\site-packages\\sklearn\\cluster\\_kmeans.py:1419: UserWarning: KMeans is known to have a memory leak on Windows with MKL, when there are less chunks than available threads. You can avoid it by setting the environment variable OMP_NUM_THREADS=1.\n",
      "  warnings.warn(\n",
      "c:\\Users\\marwa\\miniconda3\\envs\\xBase\\Lib\\site-packages\\sklearn\\cluster\\_kmeans.py:1419: UserWarning: KMeans is known to have a memory leak on Windows with MKL, when there are less chunks than available threads. You can avoid it by setting the environment variable OMP_NUM_THREADS=1.\n",
      "  warnings.warn(\n",
      "c:\\Users\\marwa\\miniconda3\\envs\\xBase\\Lib\\site-packages\\sklearn\\cluster\\_kmeans.py:1419: UserWarning: KMeans is known to have a memory leak on Windows with MKL, when there are less chunks than available threads. You can avoid it by setting the environment variable OMP_NUM_THREADS=1.\n",
      "  warnings.warn(\n",
      "c:\\Users\\marwa\\miniconda3\\envs\\xBase\\Lib\\site-packages\\sklearn\\cluster\\_kmeans.py:1419: UserWarning: KMeans is known to have a memory leak on Windows with MKL, when there are less chunks than available threads. You can avoid it by setting the environment variable OMP_NUM_THREADS=1.\n",
      "  warnings.warn(\n",
      "c:\\Users\\marwa\\miniconda3\\envs\\xBase\\Lib\\site-packages\\sklearn\\cluster\\_kmeans.py:1419: UserWarning: KMeans is known to have a memory leak on Windows with MKL, when there are less chunks than available threads. You can avoid it by setting the environment variable OMP_NUM_THREADS=1.\n",
      "  warnings.warn(\n",
      "c:\\Users\\marwa\\miniconda3\\envs\\xBase\\Lib\\site-packages\\sklearn\\cluster\\_kmeans.py:1419: UserWarning: KMeans is known to have a memory leak on Windows with MKL, when there are less chunks than available threads. You can avoid it by setting the environment variable OMP_NUM_THREADS=1.\n",
      "  warnings.warn(\n",
      "c:\\Users\\marwa\\miniconda3\\envs\\xBase\\Lib\\site-packages\\sklearn\\cluster\\_kmeans.py:1419: UserWarning: KMeans is known to have a memory leak on Windows with MKL, when there are less chunks than available threads. You can avoid it by setting the environment variable OMP_NUM_THREADS=1.\n",
      "  warnings.warn(\n",
      "c:\\Users\\marwa\\miniconda3\\envs\\xBase\\Lib\\site-packages\\sklearn\\cluster\\_kmeans.py:1419: UserWarning: KMeans is known to have a memory leak on Windows with MKL, when there are less chunks than available threads. You can avoid it by setting the environment variable OMP_NUM_THREADS=1.\n",
      "  warnings.warn(\n",
      "c:\\Users\\marwa\\miniconda3\\envs\\xBase\\Lib\\site-packages\\sklearn\\base.py:1389: ConvergenceWarning: Number of distinct clusters (66) found smaller than n_clusters (67). Possibly due to duplicate points in X.\n",
      "  return fit_method(estimator, *args, **kwargs)\n",
      "c:\\Users\\marwa\\miniconda3\\envs\\xBase\\Lib\\site-packages\\sklearn\\cluster\\_kmeans.py:1419: UserWarning: KMeans is known to have a memory leak on Windows with MKL, when there are less chunks than available threads. You can avoid it by setting the environment variable OMP_NUM_THREADS=1.\n",
      "  warnings.warn(\n",
      "c:\\Users\\marwa\\miniconda3\\envs\\xBase\\Lib\\site-packages\\sklearn\\base.py:1389: ConvergenceWarning: Number of distinct clusters (66) found smaller than n_clusters (68). Possibly due to duplicate points in X.\n",
      "  return fit_method(estimator, *args, **kwargs)\n",
      "c:\\Users\\marwa\\miniconda3\\envs\\xBase\\Lib\\site-packages\\sklearn\\cluster\\_kmeans.py:1419: UserWarning: KMeans is known to have a memory leak on Windows with MKL, when there are less chunks than available threads. You can avoid it by setting the environment variable OMP_NUM_THREADS=1.\n",
      "  warnings.warn(\n",
      "c:\\Users\\marwa\\miniconda3\\envs\\xBase\\Lib\\site-packages\\sklearn\\base.py:1389: ConvergenceWarning: Number of distinct clusters (66) found smaller than n_clusters (69). Possibly due to duplicate points in X.\n",
      "  return fit_method(estimator, *args, **kwargs)\n",
      "c:\\Users\\marwa\\miniconda3\\envs\\xBase\\Lib\\site-packages\\sklearn\\cluster\\_kmeans.py:1419: UserWarning: KMeans is known to have a memory leak on Windows with MKL, when there are less chunks than available threads. You can avoid it by setting the environment variable OMP_NUM_THREADS=1.\n",
      "  warnings.warn(\n",
      "c:\\Users\\marwa\\miniconda3\\envs\\xBase\\Lib\\site-packages\\sklearn\\base.py:1389: ConvergenceWarning: Number of distinct clusters (66) found smaller than n_clusters (70). Possibly due to duplicate points in X.\n",
      "  return fit_method(estimator, *args, **kwargs)\n",
      "c:\\Users\\marwa\\miniconda3\\envs\\xBase\\Lib\\site-packages\\sklearn\\cluster\\_kmeans.py:1419: UserWarning: KMeans is known to have a memory leak on Windows with MKL, when there are less chunks than available threads. You can avoid it by setting the environment variable OMP_NUM_THREADS=1.\n",
      "  warnings.warn(\n",
      "c:\\Users\\marwa\\miniconda3\\envs\\xBase\\Lib\\site-packages\\sklearn\\base.py:1389: ConvergenceWarning: Number of distinct clusters (66) found smaller than n_clusters (71). Possibly due to duplicate points in X.\n",
      "  return fit_method(estimator, *args, **kwargs)\n",
      "c:\\Users\\marwa\\miniconda3\\envs\\xBase\\Lib\\site-packages\\sklearn\\cluster\\_kmeans.py:1419: UserWarning: KMeans is known to have a memory leak on Windows with MKL, when there are less chunks than available threads. You can avoid it by setting the environment variable OMP_NUM_THREADS=1.\n",
      "  warnings.warn(\n",
      "c:\\Users\\marwa\\miniconda3\\envs\\xBase\\Lib\\site-packages\\sklearn\\base.py:1389: ConvergenceWarning: Number of distinct clusters (66) found smaller than n_clusters (72). Possibly due to duplicate points in X.\n",
      "  return fit_method(estimator, *args, **kwargs)\n",
      "c:\\Users\\marwa\\miniconda3\\envs\\xBase\\Lib\\site-packages\\sklearn\\cluster\\_kmeans.py:1419: UserWarning: KMeans is known to have a memory leak on Windows with MKL, when there are less chunks than available threads. You can avoid it by setting the environment variable OMP_NUM_THREADS=1.\n",
      "  warnings.warn(\n",
      "c:\\Users\\marwa\\miniconda3\\envs\\xBase\\Lib\\site-packages\\sklearn\\base.py:1389: ConvergenceWarning: Number of distinct clusters (66) found smaller than n_clusters (73). Possibly due to duplicate points in X.\n",
      "  return fit_method(estimator, *args, **kwargs)\n",
      "c:\\Users\\marwa\\miniconda3\\envs\\xBase\\Lib\\site-packages\\sklearn\\cluster\\_kmeans.py:1419: UserWarning: KMeans is known to have a memory leak on Windows with MKL, when there are less chunks than available threads. You can avoid it by setting the environment variable OMP_NUM_THREADS=1.\n",
      "  warnings.warn(\n",
      "c:\\Users\\marwa\\miniconda3\\envs\\xBase\\Lib\\site-packages\\sklearn\\base.py:1389: ConvergenceWarning: Number of distinct clusters (66) found smaller than n_clusters (74). Possibly due to duplicate points in X.\n",
      "  return fit_method(estimator, *args, **kwargs)\n",
      "c:\\Users\\marwa\\miniconda3\\envs\\xBase\\Lib\\site-packages\\sklearn\\cluster\\_kmeans.py:1419: UserWarning: KMeans is known to have a memory leak on Windows with MKL, when there are less chunks than available threads. You can avoid it by setting the environment variable OMP_NUM_THREADS=1.\n",
      "  warnings.warn(\n",
      "c:\\Users\\marwa\\miniconda3\\envs\\xBase\\Lib\\site-packages\\sklearn\\base.py:1389: ConvergenceWarning: Number of distinct clusters (67) found smaller than n_clusters (75). Possibly due to duplicate points in X.\n",
      "  return fit_method(estimator, *args, **kwargs)\n",
      "c:\\Users\\marwa\\miniconda3\\envs\\xBase\\Lib\\site-packages\\sklearn\\cluster\\_kmeans.py:1419: UserWarning: KMeans is known to have a memory leak on Windows with MKL, when there are less chunks than available threads. You can avoid it by setting the environment variable OMP_NUM_THREADS=1.\n",
      "  warnings.warn(\n",
      "c:\\Users\\marwa\\miniconda3\\envs\\xBase\\Lib\\site-packages\\sklearn\\base.py:1389: ConvergenceWarning: Number of distinct clusters (66) found smaller than n_clusters (76). Possibly due to duplicate points in X.\n",
      "  return fit_method(estimator, *args, **kwargs)\n",
      "c:\\Users\\marwa\\miniconda3\\envs\\xBase\\Lib\\site-packages\\sklearn\\cluster\\_kmeans.py:1419: UserWarning: KMeans is known to have a memory leak on Windows with MKL, when there are less chunks than available threads. You can avoid it by setting the environment variable OMP_NUM_THREADS=1.\n",
      "  warnings.warn(\n",
      "c:\\Users\\marwa\\miniconda3\\envs\\xBase\\Lib\\site-packages\\sklearn\\base.py:1389: ConvergenceWarning: Number of distinct clusters (67) found smaller than n_clusters (77). Possibly due to duplicate points in X.\n",
      "  return fit_method(estimator, *args, **kwargs)\n",
      "c:\\Users\\marwa\\miniconda3\\envs\\xBase\\Lib\\site-packages\\sklearn\\cluster\\_kmeans.py:1419: UserWarning: KMeans is known to have a memory leak on Windows with MKL, when there are less chunks than available threads. You can avoid it by setting the environment variable OMP_NUM_THREADS=1.\n",
      "  warnings.warn(\n",
      "c:\\Users\\marwa\\miniconda3\\envs\\xBase\\Lib\\site-packages\\sklearn\\base.py:1389: ConvergenceWarning: Number of distinct clusters (66) found smaller than n_clusters (78). Possibly due to duplicate points in X.\n",
      "  return fit_method(estimator, *args, **kwargs)\n",
      "c:\\Users\\marwa\\miniconda3\\envs\\xBase\\Lib\\site-packages\\sklearn\\cluster\\_kmeans.py:1419: UserWarning: KMeans is known to have a memory leak on Windows with MKL, when there are less chunks than available threads. You can avoid it by setting the environment variable OMP_NUM_THREADS=1.\n",
      "  warnings.warn(\n",
      "c:\\Users\\marwa\\miniconda3\\envs\\xBase\\Lib\\site-packages\\sklearn\\base.py:1389: ConvergenceWarning: Number of distinct clusters (66) found smaller than n_clusters (79). Possibly due to duplicate points in X.\n",
      "  return fit_method(estimator, *args, **kwargs)\n"
     ]
    },
    {
     "data": {
      "image/png": "[encoded data removed]",
      "text/plain": [
       "<Figure size 640x480 with 1 Axes>"
      ]
     },
     "metadata": {},
     "output_type": "display_data"
    }
   ],
   "source": [
    "import os\n",
    "os.environ[\"OMP_NUM_THREADS\"] = \"4\"\n",
    "\n",
    "movie_ratings_sample = movie_ratings.head(100)\n",
    "\n",
    "\n",
    "pivot_table_kmeans = movie_ratings_sample.pivot_table(index='user_id', columns='movie_id', values='ratings').fillna(value=0)\n",
    "\n",
    "#list to hold inertia\n",
    "inertia = []\n",
    "K_ranges = range(2, 80)\n",
    "\n",
    "\n",
    "for k in K_ranges:\n",
    "    kmeans = KMeans(n_clusters=k, random_state=21)\n",
    "    kmeans.fit(pivot_table_kmeans)\n",
    "    inertia.append(kmeans.inertia_)\n",
    "\n",
    "plt.plot(K_ranges, inertia)\n",
    "plt.title('Elbow Methods')\n",
    "plt.xlabel('Number of K')\n",
    "plt.ylabel('Inertia')\n",
    "plt.grid(True)\n",
    "plt.show()"
   ]
  },
  {
   "cell_type": "code",
   "execution_count": null,
   "id": "d4f88eaa",
   "metadata": {},
   "outputs": [],
   "source": []
  },
  {
   "cell_type": "code",
   "execution_count": 62,
   "id": "5ebb8c80",
   "metadata": {},
   "outputs": [
    {
     "data": {
      "application/vnd.microsoft.datawrangler.viewer.v0+json": {
       "columns": [
        {
         "name": "user_id",
         "rawType": "int16",
         "type": "integer"
        },
        {
         "name": "0",
         "rawType": "float64",
         "type": "float"
        },
        {
         "name": "1",
         "rawType": "float64",
         "type": "float"
        },
        {
         "name": "2",
         "rawType": "float64",
         "type": "float"
        },
        {
         "name": "3",
         "rawType": "float64",
         "type": "float"
        },
        {
         "name": "4",
         "rawType": "float64",
         "type": "float"
        },
        {
         "name": "5",
         "rawType": "float64",
         "type": "float"
        },
        {
         "name": "6",
         "rawType": "float64",
         "type": "float"
        },
        {
         "name": "7",
         "rawType": "float64",
         "type": "float"
        },
        {
         "name": "8",
         "rawType": "float64",
         "type": "float"
        },
        {
         "name": "9",
         "rawType": "float64",
         "type": "float"
        },
        {
         "name": "10",
         "rawType": "float64",
         "type": "float"
        },
        {
         "name": "11",
         "rawType": "float64",
         "type": "float"
        },
        {
         "name": "12",
         "rawType": "float64",
         "type": "float"
        },
        {
         "name": "13",
         "rawType": "float64",
         "type": "float"
        },
        {
         "name": "14",
         "rawType": "float64",
         "type": "float"
        },
        {
         "name": "15",
         "rawType": "float64",
         "type": "float"
        },
        {
         "name": "16",
         "rawType": "float64",
         "type": "float"
        },
        {
         "name": "17",
         "rawType": "float64",
         "type": "float"
        },
        {
         "name": "18",
         "rawType": "float64",
         "type": "float"
        },
        {
         "name": "19",
         "rawType": "float64",
         "type": "float"
        },
        {
         "name": "20",
         "rawType": "float64",
         "type": "float"
        },
        {
         "name": "21",
         "rawType": "float64",
         "type": "float"
        },
        {
         "name": "22",
         "rawType": "float64",
         "type": "float"
        },
        {
         "name": "23",
         "rawType": "float64",
         "type": "float"
        },
        {
         "name": "24",
         "rawType": "float64",
         "type": "float"
        },
        {
         "name": "25",
         "rawType": "float64",
         "type": "float"
        },
        {
         "name": "26",
         "rawType": "float64",
         "type": "float"
        },
        {
         "name": "27",
         "rawType": "float64",
         "type": "float"
        },
        {
         "name": "28",
         "rawType": "float64",
         "type": "float"
        },
        {
         "name": "29",
         "rawType": "float64",
         "type": "float"
        },
        {
         "name": "30",
         "rawType": "float64",
         "type": "float"
        },
        {
         "name": "31",
         "rawType": "float64",
         "type": "float"
        },
        {
         "name": "32",
         "rawType": "float64",
         "type": "float"
        },
        {
         "name": "33",
         "rawType": "float64",
         "type": "float"
        },
        {
         "name": "34",
         "rawType": "float64",
         "type": "float"
        },
        {
         "name": "35",
         "rawType": "float64",
         "type": "float"
        },
        {
         "name": "36",
         "rawType": "float64",
         "type": "float"
        },
        {
         "name": "37",
         "rawType": "float64",
         "type": "float"
        },
        {
         "name": "38",
         "rawType": "float64",
         "type": "float"
        },
        {
         "name": "39",
         "rawType": "float64",
         "type": "float"
        },
        {
         "name": "40",
         "rawType": "float64",
         "type": "float"
        },
        {
         "name": "41",
         "rawType": "float64",
         "type": "float"
        },
        {
         "name": "42",
         "rawType": "float64",
         "type": "float"
        },
        {
         "name": "43",
         "rawType": "float64",
         "type": "float"
        },
        {
         "name": "44",
         "rawType": "float64",
         "type": "float"
        },
        {
         "name": "45",
         "rawType": "float64",
         "type": "float"
        },
        {
         "name": "46",
         "rawType": "float64",
         "type": "float"
        },
        {
         "name": "47",
         "rawType": "float64",
         "type": "float"
        },
        {
         "name": "48",
         "rawType": "float64",
         "type": "float"
        },
        {
         "name": "49",
         "rawType": "float64",
         "type": "float"
        },
        {
         "name": "50",
         "rawType": "float64",
         "type": "float"
        },
        {
         "name": "51",
         "rawType": "float64",
         "type": "float"
        },
        {
         "name": "52",
         "rawType": "float64",
         "type": "float"
        },
        {
         "name": "53",
         "rawType": "float64",
         "type": "float"
        },
        {
         "name": "54",
         "rawType": "float64",
         "type": "float"
        },
        {
         "name": "55",
         "rawType": "float64",
         "type": "float"
        },
        {
         "name": "56",
         "rawType": "float64",
         "type": "float"
        },
        {
         "name": "57",
         "rawType": "float64",
         "type": "float"
        },
        {
         "name": "58",
         "rawType": "float64",
         "type": "float"
        },
        {
         "name": "59",
         "rawType": "float64",
         "type": "float"
        },
        {
         "name": "60",
         "rawType": "float64",
         "type": "float"
        },
        {
         "name": "61",
         "rawType": "float64",
         "type": "float"
        },
        {
         "name": "62",
         "rawType": "float64",
         "type": "float"
        },
        {
         "name": "63",
         "rawType": "float64",
         "type": "float"
        },
        {
         "name": "64",
         "rawType": "float64",
         "type": "float"
        },
        {
         "name": "65",
         "rawType": "float64",
         "type": "float"
        },
        {
         "name": "66",
         "rawType": "float64",
         "type": "float"
        },
        {
         "name": "67",
         "rawType": "float64",
         "type": "float"
        },
        {
         "name": "68",
         "rawType": "float64",
         "type": "float"
        },
        {
         "name": "69",
         "rawType": "float64",
         "type": "float"
        },
        {
         "name": "70",
         "rawType": "float64",
         "type": "float"
        },
        {
         "name": "71",
         "rawType": "float64",
         "type": "float"
        },
        {
         "name": "72",
         "rawType": "float64",
         "type": "float"
        },
        {
         "name": "73",
         "rawType": "float64",
         "type": "float"
        },
        {
         "name": "74",
         "rawType": "float64",
         "type": "float"
        },
        {
         "name": "75",
         "rawType": "float64",
         "type": "float"
        },
        {
         "name": "76",
         "rawType": "float64",
         "type": "float"
        },
        {
         "name": "77",
         "rawType": "float64",
         "type": "float"
        },
        {
         "name": "78",
         "rawType": "float64",
         "type": "float"
        },
        {
         "name": "79",
         "rawType": "float64",
         "type": "float"
        },
        {
         "name": "80",
         "rawType": "float64",
         "type": "float"
        },
        {
         "name": "81",
         "rawType": "float64",
         "type": "float"
        },
        {
         "name": "82",
         "rawType": "float64",
         "type": "float"
        },
        {
         "name": "83",
         "rawType": "float64",
         "type": "float"
        },
        {
         "name": "84",
         "rawType": "float64",
         "type": "float"
        },
        {
         "name": "85",
         "rawType": "float64",
         "type": "float"
        },
        {
         "name": "86",
         "rawType": "float64",
         "type": "float"
        },
        {
         "name": "87",
         "rawType": "float64",
         "type": "float"
        },
        {
         "name": "88",
         "rawType": "float64",
         "type": "float"
        },
        {
         "name": "89",
         "rawType": "float64",
         "type": "float"
        },
        {
         "name": "90",
         "rawType": "float64",
         "type": "float"
        },
        {
         "name": "91",
         "rawType": "float64",
         "type": "float"
        },
        {
         "name": "92",
         "rawType": "float64",
         "type": "float"
        },
        {
         "name": "93",
         "rawType": "float64",
         "type": "float"
        },
        {
         "name": "94",
         "rawType": "float64",
         "type": "float"
        },
        {
         "name": "95",
         "rawType": "float64",
         "type": "float"
        },
        {
         "name": "96",
         "rawType": "float64",
         "type": "float"
        },
        {
         "name": "97",
         "rawType": "float64",
         "type": "float"
        },
        {
         "name": "98",
         "rawType": "float64",
         "type": "float"
        },
        {
         "name": "99",
         "rawType": "float64",
         "type": "float"
        },
        {
         "name": "100",
         "rawType": "float64",
         "type": "float"
        },
        {
         "name": "101",
         "rawType": "float64",
         "type": "float"
        },
        {
         "name": "102",
         "rawType": "float64",
         "type": "float"
        },
        {
         "name": "103",
         "rawType": "float64",
         "type": "float"
        },
        {
         "name": "104",
         "rawType": "float64",
         "type": "float"
        },
        {
         "name": "105",
         "rawType": "float64",
         "type": "float"
        },
        {
         "name": "106",
         "rawType": "float64",
         "type": "float"
        },
        {
         "name": "107",
         "rawType": "float64",
         "type": "float"
        },
        {
         "name": "108",
         "rawType": "float64",
         "type": "float"
        },
        {
         "name": "109",
         "rawType": "float64",
         "type": "float"
        },
        {
         "name": "110",
         "rawType": "float64",
         "type": "float"
        },
        {
         "name": "111",
         "rawType": "float64",
         "type": "float"
        },
        {
         "name": "112",
         "rawType": "float64",
         "type": "float"
        },
        {
         "name": "113",
         "rawType": "float64",
         "type": "float"
        },
        {
         "name": "114",
         "rawType": "float64",
         "type": "float"
        },
        {
         "name": "115",
         "rawType": "float64",
         "type": "float"
        },
        {
         "name": "116",
         "rawType": "float64",
         "type": "float"
        },
        {
         "name": "117",
         "rawType": "float64",
         "type": "float"
        },
        {
         "name": "118",
         "rawType": "float64",
         "type": "float"
        },
        {
         "name": "119",
         "rawType": "float64",
         "type": "float"
        },
        {
         "name": "120",
         "rawType": "float64",
         "type": "float"
        },
        {
         "name": "121",
         "rawType": "float64",
         "type": "float"
        },
        {
         "name": "122",
         "rawType": "float64",
         "type": "float"
        },
        {
         "name": "123",
         "rawType": "float64",
         "type": "float"
        },
        {
         "name": "124",
         "rawType": "float64",
         "type": "float"
        },
        {
         "name": "125",
         "rawType": "float64",
         "type": "float"
        },
        {
         "name": "126",
         "rawType": "float64",
         "type": "float"
        },
        {
         "name": "127",
         "rawType": "float64",
         "type": "float"
        },
        {
         "name": "128",
         "rawType": "float64",
         "type": "float"
        },
        {
         "name": "129",
         "rawType": "float64",
         "type": "float"
        },
        {
         "name": "130",
         "rawType": "float64",
         "type": "float"
        },
        {
         "name": "131",
         "rawType": "float64",
         "type": "float"
        },
        {
         "name": "132",
         "rawType": "float64",
         "type": "float"
        },
        {
         "name": "133",
         "rawType": "float64",
         "type": "float"
        },
        {
         "name": "134",
         "rawType": "float64",
         "type": "float"
        },
        {
         "name": "135",
         "rawType": "float64",
         "type": "float"
        },
        {
         "name": "136",
         "rawType": "float64",
         "type": "float"
        },
        {
         "name": "137",
         "rawType": "float64",
         "type": "float"
        },
        {
         "name": "138",
         "rawType": "float64",
         "type": "float"
        },
        {
         "name": "139",
         "rawType": "float64",
         "type": "float"
        },
        {
         "name": "140",
         "rawType": "float64",
         "type": "float"
        },
        {
         "name": "141",
         "rawType": "float64",
         "type": "float"
        },
        {
         "name": "142",
         "rawType": "float64",
         "type": "float"
        },
        {
         "name": "143",
         "rawType": "float64",
         "type": "float"
        },
        {
         "name": "144",
         "rawType": "float64",
         "type": "float"
        },
        {
         "name": "145",
         "rawType": "float64",
         "type": "float"
        },
        {
         "name": "146",
         "rawType": "float64",
         "type": "float"
        },
        {
         "name": "147",
         "rawType": "float64",
         "type": "float"
        },
        {
         "name": "148",
         "rawType": "float64",
         "type": "float"
        },
        {
         "name": "149",
         "rawType": "float64",
         "type": "float"
        },
        {
         "name": "150",
         "rawType": "float64",
         "type": "float"
        },
        {
         "name": "151",
         "rawType": "float64",
         "type": "float"
        },
        {
         "name": "152",
         "rawType": "float64",
         "type": "float"
        },
        {
         "name": "153",
         "rawType": "float64",
         "type": "float"
        },
        {
         "name": "154",
         "rawType": "float64",
         "type": "float"
        },
        {
         "name": "155",
         "rawType": "float64",
         "type": "float"
        },
        {
         "name": "156",
         "rawType": "float64",
         "type": "float"
        },
        {
         "name": "157",
         "rawType": "float64",
         "type": "float"
        },
        {
         "name": "158",
         "rawType": "float64",
         "type": "float"
        },
        {
         "name": "159",
         "rawType": "float64",
         "type": "float"
        },
        {
         "name": "160",
         "rawType": "float64",
         "type": "float"
        },
        {
         "name": "161",
         "rawType": "float64",
         "type": "float"
        },
        {
         "name": "162",
         "rawType": "float64",
         "type": "float"
        },
        {
         "name": "163",
         "rawType": "float64",
         "type": "float"
        },
        {
         "name": "164",
         "rawType": "float64",
         "type": "float"
        },
        {
         "name": "165",
         "rawType": "float64",
         "type": "float"
        },
        {
         "name": "166",
         "rawType": "float64",
         "type": "float"
        },
        {
         "name": "167",
         "rawType": "float64",
         "type": "float"
        },
        {
         "name": "168",
         "rawType": "float64",
         "type": "float"
        },
        {
         "name": "169",
         "rawType": "float64",
         "type": "float"
        },
        {
         "name": "170",
         "rawType": "float64",
         "type": "float"
        },
        {
         "name": "171",
         "rawType": "float64",
         "type": "float"
        },
        {
         "name": "172",
         "rawType": "float64",
         "type": "float"
        },
        {
         "name": "173",
         "rawType": "float64",
         "type": "float"
        },
        {
         "name": "174",
         "rawType": "float64",
         "type": "float"
        },
        {
         "name": "175",
         "rawType": "float64",
         "type": "float"
        },
        {
         "name": "176",
         "rawType": "float64",
         "type": "float"
        },
        {
         "name": "177",
         "rawType": "float64",
         "type": "float"
        },
        {
         "name": "178",
         "rawType": "float64",
         "type": "float"
        },
        {
         "name": "179",
         "rawType": "float64",
         "type": "float"
        },
        {
         "name": "180",
         "rawType": "float64",
         "type": "float"
        },
        {
         "name": "181",
         "rawType": "float64",
         "type": "float"
        },
        {
         "name": "182",
         "rawType": "float64",
         "type": "float"
        },
        {
         "name": "183",
         "rawType": "float64",
         "type": "float"
        },
        {
         "name": "184",
         "rawType": "float64",
         "type": "float"
        },
        {
         "name": "185",
         "rawType": "float64",
         "type": "float"
        },
        {
         "name": "186",
         "rawType": "float64",
         "type": "float"
        },
        {
         "name": "187",
         "rawType": "float64",
         "type": "float"
        },
        {
         "name": "188",
         "rawType": "float64",
         "type": "float"
        },
        {
         "name": "189",
         "rawType": "float64",
         "type": "float"
        },
        {
         "name": "190",
         "rawType": "float64",
         "type": "float"
        },
        {
         "name": "191",
         "rawType": "float64",
         "type": "float"
        },
        {
         "name": "192",
         "rawType": "float64",
         "type": "float"
        },
        {
         "name": "193",
         "rawType": "float64",
         "type": "float"
        },
        {
         "name": "194",
         "rawType": "float64",
         "type": "float"
        },
        {
         "name": "195",
         "rawType": "float64",
         "type": "float"
        },
        {
         "name": "196",
         "rawType": "float64",
         "type": "float"
        },
        {
         "name": "197",
         "rawType": "float64",
         "type": "float"
        },
        {
         "name": "198",
         "rawType": "float64",
         "type": "float"
        },
        {
         "name": "199",
         "rawType": "float64",
         "type": "float"
        },
        {
         "name": "200",
         "rawType": "float64",
         "type": "float"
        },
        {
         "name": "201",
         "rawType": "float64",
         "type": "float"
        },
        {
         "name": "202",
         "rawType": "float64",
         "type": "float"
        },
        {
         "name": "203",
         "rawType": "float64",
         "type": "float"
        },
        {
         "name": "204",
         "rawType": "float64",
         "type": "float"
        },
        {
         "name": "205",
         "rawType": "float64",
         "type": "float"
        },
        {
         "name": "206",
         "rawType": "float64",
         "type": "float"
        },
        {
         "name": "207",
         "rawType": "float64",
         "type": "float"
        },
        {
         "name": "208",
         "rawType": "float64",
         "type": "float"
        },
        {
         "name": "209",
         "rawType": "float64",
         "type": "float"
        },
        {
         "name": "210",
         "rawType": "float64",
         "type": "float"
        },
        {
         "name": "211",
         "rawType": "float64",
         "type": "float"
        },
        {
         "name": "212",
         "rawType": "float64",
         "type": "float"
        },
        {
         "name": "213",
         "rawType": "float64",
         "type": "float"
        },
        {
         "name": "214",
         "rawType": "float64",
         "type": "float"
        },
        {
         "name": "215",
         "rawType": "float64",
         "type": "float"
        },
        {
         "name": "216",
         "rawType": "float64",
         "type": "float"
        },
        {
         "name": "217",
         "rawType": "float64",
         "type": "float"
        },
        {
         "name": "218",
         "rawType": "float64",
         "type": "float"
        },
        {
         "name": "219",
         "rawType": "float64",
         "type": "float"
        },
        {
         "name": "220",
         "rawType": "float64",
         "type": "float"
        },
        {
         "name": "221",
         "rawType": "float64",
         "type": "float"
        },
        {
         "name": "222",
         "rawType": "float64",
         "type": "float"
        },
        {
         "name": "223",
         "rawType": "float64",
         "type": "float"
        },
        {
         "name": "224",
         "rawType": "float64",
         "type": "float"
        },
        {
         "name": "225",
         "rawType": "float64",
         "type": "float"
        },
        {
         "name": "226",
         "rawType": "float64",
         "type": "float"
        },
        {
         "name": "227",
         "rawType": "float64",
         "type": "float"
        },
        {
         "name": "228",
         "rawType": "float64",
         "type": "float"
        },
        {
         "name": "229",
         "rawType": "float64",
         "type": "float"
        },
        {
         "name": "230",
         "rawType": "float64",
         "type": "float"
        },
        {
         "name": "231",
         "rawType": "float64",
         "type": "float"
        },
        {
         "name": "232",
         "rawType": "float64",
         "type": "float"
        },
        {
         "name": "233",
         "rawType": "float64",
         "type": "float"
        },
        {
         "name": "234",
         "rawType": "float64",
         "type": "float"
        },
        {
         "name": "235",
         "rawType": "float64",
         "type": "float"
        },
        {
         "name": "236",
         "rawType": "float64",
         "type": "float"
        },
        {
         "name": "237",
         "rawType": "float64",
         "type": "float"
        },
        {
         "name": "238",
         "rawType": "float64",
         "type": "float"
        },
        {
         "name": "239",
         "rawType": "float64",
         "type": "float"
        },
        {
         "name": "240",
         "rawType": "float64",
         "type": "float"
        },
        {
         "name": "241",
         "rawType": "float64",
         "type": "float"
        },
        {
         "name": "242",
         "rawType": "float64",
         "type": "float"
        },
        {
         "name": "243",
         "rawType": "float64",
         "type": "float"
        },
        {
         "name": "244",
         "rawType": "float64",
         "type": "float"
        },
        {
         "name": "245",
         "rawType": "float64",
         "type": "float"
        },
        {
         "name": "246",
         "rawType": "float64",
         "type": "float"
        },
        {
         "name": "247",
         "rawType": "float64",
         "type": "float"
        },
        {
         "name": "248",
         "rawType": "float64",
         "type": "float"
        },
        {
         "name": "249",
         "rawType": "float64",
         "type": "float"
        },
        {
         "name": "250",
         "rawType": "float64",
         "type": "float"
        },
        {
         "name": "251",
         "rawType": "float64",
         "type": "float"
        },
        {
         "name": "252",
         "rawType": "float64",
         "type": "float"
        },
        {
         "name": "253",
         "rawType": "float64",
         "type": "float"
        },
        {
         "name": "254",
         "rawType": "float64",
         "type": "float"
        },
        {
         "name": "255",
         "rawType": "float64",
         "type": "float"
        },
        {
         "name": "256",
         "rawType": "float64",
         "type": "float"
        },
        {
         "name": "257",
         "rawType": "float64",
         "type": "float"
        },
        {
         "name": "258",
         "rawType": "float64",
         "type": "float"
        },
        {
         "name": "259",
         "rawType": "float64",
         "type": "float"
        },
        {
         "name": "260",
         "rawType": "float64",
         "type": "float"
        },
        {
         "name": "261",
         "rawType": "float64",
         "type": "float"
        },
        {
         "name": "262",
         "rawType": "float64",
         "type": "float"
        },
        {
         "name": "263",
         "rawType": "float64",
         "type": "float"
        },
        {
         "name": "264",
         "rawType": "float64",
         "type": "float"
        },
        {
         "name": "265",
         "rawType": "float64",
         "type": "float"
        },
        {
         "name": "266",
         "rawType": "float64",
         "type": "float"
        },
        {
         "name": "267",
         "rawType": "float64",
         "type": "float"
        },
        {
         "name": "268",
         "rawType": "float64",
         "type": "float"
        },
        {
         "name": "269",
         "rawType": "float64",
         "type": "float"
        },
        {
         "name": "270",
         "rawType": "float64",
         "type": "float"
        },
        {
         "name": "271",
         "rawType": "float64",
         "type": "float"
        },
        {
         "name": "272",
         "rawType": "float64",
         "type": "float"
        },
        {
         "name": "273",
         "rawType": "float64",
         "type": "float"
        },
        {
         "name": "274",
         "rawType": "float64",
         "type": "float"
        },
        {
         "name": "275",
         "rawType": "float64",
         "type": "float"
        },
        {
         "name": "276",
         "rawType": "float64",
         "type": "float"
        },
        {
         "name": "277",
         "rawType": "float64",
         "type": "float"
        },
        {
         "name": "278",
         "rawType": "float64",
         "type": "float"
        },
        {
         "name": "279",
         "rawType": "float64",
         "type": "float"
        },
        {
         "name": "280",
         "rawType": "float64",
         "type": "float"
        },
        {
         "name": "281",
         "rawType": "float64",
         "type": "float"
        },
        {
         "name": "282",
         "rawType": "float64",
         "type": "float"
        },
        {
         "name": "283",
         "rawType": "float64",
         "type": "float"
        },
        {
         "name": "284",
         "rawType": "float64",
         "type": "float"
        },
        {
         "name": "285",
         "rawType": "float64",
         "type": "float"
        },
        {
         "name": "286",
         "rawType": "float64",
         "type": "float"
        },
        {
         "name": "287",
         "rawType": "float64",
         "type": "float"
        },
        {
         "name": "288",
         "rawType": "float64",
         "type": "float"
        },
        {
         "name": "289",
         "rawType": "float64",
         "type": "float"
        },
        {
         "name": "290",
         "rawType": "float64",
         "type": "float"
        },
        {
         "name": "291",
         "rawType": "float64",
         "type": "float"
        },
        {
         "name": "292",
         "rawType": "float64",
         "type": "float"
        },
        {
         "name": "293",
         "rawType": "float64",
         "type": "float"
        },
        {
         "name": "294",
         "rawType": "float64",
         "type": "float"
        },
        {
         "name": "295",
         "rawType": "float64",
         "type": "float"
        },
        {
         "name": "296",
         "rawType": "float64",
         "type": "float"
        },
        {
         "name": "297",
         "rawType": "float64",
         "type": "float"
        },
        {
         "name": "298",
         "rawType": "float64",
         "type": "float"
        },
        {
         "name": "299",
         "rawType": "float64",
         "type": "float"
        },
        {
         "name": "300",
         "rawType": "float64",
         "type": "float"
        },
        {
         "name": "301",
         "rawType": "float64",
         "type": "float"
        },
        {
         "name": "302",
         "rawType": "float64",
         "type": "float"
        },
        {
         "name": "303",
         "rawType": "float64",
         "type": "float"
        },
        {
         "name": "304",
         "rawType": "float64",
         "type": "float"
        },
        {
         "name": "305",
         "rawType": "float64",
         "type": "float"
        },
        {
         "name": "306",
         "rawType": "float64",
         "type": "float"
        },
        {
         "name": "307",
         "rawType": "float64",
         "type": "float"
        },
        {
         "name": "308",
         "rawType": "float64",
         "type": "float"
        },
        {
         "name": "309",
         "rawType": "float64",
         "type": "float"
        },
        {
         "name": "310",
         "rawType": "float64",
         "type": "float"
        },
        {
         "name": "311",
         "rawType": "float64",
         "type": "float"
        },
        {
         "name": "312",
         "rawType": "float64",
         "type": "float"
        },
        {
         "name": "313",
         "rawType": "float64",
         "type": "float"
        },
        {
         "name": "314",
         "rawType": "float64",
         "type": "float"
        },
        {
         "name": "315",
         "rawType": "float64",
         "type": "float"
        },
        {
         "name": "316",
         "rawType": "float64",
         "type": "float"
        },
        {
         "name": "317",
         "rawType": "float64",
         "type": "float"
        },
        {
         "name": "318",
         "rawType": "float64",
         "type": "float"
        },
        {
         "name": "319",
         "rawType": "float64",
         "type": "float"
        },
        {
         "name": "320",
         "rawType": "float64",
         "type": "float"
        },
        {
         "name": "321",
         "rawType": "float64",
         "type": "float"
        },
        {
         "name": "322",
         "rawType": "float64",
         "type": "float"
        },
        {
         "name": "323",
         "rawType": "float64",
         "type": "float"
        },
        {
         "name": "324",
         "rawType": "float64",
         "type": "float"
        },
        {
         "name": "325",
         "rawType": "float64",
         "type": "float"
        },
        {
         "name": "326",
         "rawType": "float64",
         "type": "float"
        },
        {
         "name": "327",
         "rawType": "float64",
         "type": "float"
        },
        {
         "name": "328",
         "rawType": "float64",
         "type": "float"
        },
        {
         "name": "329",
         "rawType": "float64",
         "type": "float"
        },
        {
         "name": "330",
         "rawType": "float64",
         "type": "float"
        },
        {
         "name": "331",
         "rawType": "float64",
         "type": "float"
        },
        {
         "name": "332",
         "rawType": "float64",
         "type": "float"
        },
        {
         "name": "333",
         "rawType": "float64",
         "type": "float"
        },
        {
         "name": "334",
         "rawType": "float64",
         "type": "float"
        },
        {
         "name": "335",
         "rawType": "float64",
         "type": "float"
        },
        {
         "name": "336",
         "rawType": "float64",
         "type": "float"
        },
        {
         "name": "337",
         "rawType": "float64",
         "type": "float"
        },
        {
         "name": "338",
         "rawType": "float64",
         "type": "float"
        },
        {
         "name": "339",
         "rawType": "float64",
         "type": "float"
        },
        {
         "name": "340",
         "rawType": "float64",
         "type": "float"
        },
        {
         "name": "341",
         "rawType": "float64",
         "type": "float"
        },
        {
         "name": "342",
         "rawType": "float64",
         "type": "float"
        },
        {
         "name": "343",
         "rawType": "float64",
         "type": "float"
        },
        {
         "name": "344",
         "rawType": "float64",
         "type": "float"
        },
        {
         "name": "345",
         "rawType": "float64",
         "type": "float"
        },
        {
         "name": "346",
         "rawType": "float64",
         "type": "float"
        },
        {
         "name": "347",
         "rawType": "float64",
         "type": "float"
        },
        {
         "name": "348",
         "rawType": "float64",
         "type": "float"
        },
        {
         "name": "349",
         "rawType": "float64",
         "type": "float"
        },
        {
         "name": "350",
         "rawType": "float64",
         "type": "float"
        },
        {
         "name": "351",
         "rawType": "float64",
         "type": "float"
        },
        {
         "name": "352",
         "rawType": "float64",
         "type": "float"
        },
        {
         "name": "353",
         "rawType": "float64",
         "type": "float"
        },
        {
         "name": "354",
         "rawType": "float64",
         "type": "float"
        },
        {
         "name": "355",
         "rawType": "float64",
         "type": "float"
        },
        {
         "name": "356",
         "rawType": "float64",
         "type": "float"
        },
        {
         "name": "357",
         "rawType": "float64",
         "type": "float"
        },
        {
         "name": "358",
         "rawType": "float64",
         "type": "float"
        },
        {
         "name": "359",
         "rawType": "float64",
         "type": "float"
        },
        {
         "name": "360",
         "rawType": "float64",
         "type": "float"
        },
        {
         "name": "361",
         "rawType": "float64",
         "type": "float"
        },
        {
         "name": "362",
         "rawType": "float64",
         "type": "float"
        },
        {
         "name": "363",
         "rawType": "float64",
         "type": "float"
        },
        {
         "name": "364",
         "rawType": "float64",
         "type": "float"
        },
        {
         "name": "365",
         "rawType": "float64",
         "type": "float"
        },
        {
         "name": "366",
         "rawType": "float64",
         "type": "float"
        },
        {
         "name": "367",
         "rawType": "float64",
         "type": "float"
        },
        {
         "name": "368",
         "rawType": "float64",
         "type": "float"
        },
        {
         "name": "369",
         "rawType": "float64",
         "type": "float"
        },
        {
         "name": "370",
         "rawType": "float64",
         "type": "float"
        },
        {
         "name": "371",
         "rawType": "float64",
         "type": "float"
        },
        {
         "name": "372",
         "rawType": "float64",
         "type": "float"
        },
        {
         "name": "373",
         "rawType": "float64",
         "type": "float"
        },
        {
         "name": "374",
         "rawType": "float64",
         "type": "float"
        },
        {
         "name": "375",
         "rawType": "float64",
         "type": "float"
        },
        {
         "name": "376",
         "rawType": "float64",
         "type": "float"
        },
        {
         "name": "377",
         "rawType": "float64",
         "type": "float"
        },
        {
         "name": "378",
         "rawType": "float64",
         "type": "float"
        },
        {
         "name": "379",
         "rawType": "float64",
         "type": "float"
        },
        {
         "name": "380",
         "rawType": "float64",
         "type": "float"
        },
        {
         "name": "381",
         "rawType": "float64",
         "type": "float"
        },
        {
         "name": "382",
         "rawType": "float64",
         "type": "float"
        },
        {
         "name": "383",
         "rawType": "float64",
         "type": "float"
        },
        {
         "name": "384",
         "rawType": "float64",
         "type": "float"
        },
        {
         "name": "385",
         "rawType": "float64",
         "type": "float"
        },
        {
         "name": "386",
         "rawType": "float64",
         "type": "float"
        },
        {
         "name": "387",
         "rawType": "float64",
         "type": "float"
        },
        {
         "name": "388",
         "rawType": "float64",
         "type": "float"
        },
        {
         "name": "389",
         "rawType": "float64",
         "type": "float"
        },
        {
         "name": "390",
         "rawType": "float64",
         "type": "float"
        },
        {
         "name": "391",
         "rawType": "float64",
         "type": "float"
        },
        {
         "name": "392",
         "rawType": "float64",
         "type": "float"
        },
        {
         "name": "393",
         "rawType": "float64",
         "type": "float"
        },
        {
         "name": "394",
         "rawType": "float64",
         "type": "float"
        },
        {
         "name": "395",
         "rawType": "float64",
         "type": "float"
        },
        {
         "name": "396",
         "rawType": "float64",
         "type": "float"
        },
        {
         "name": "397",
         "rawType": "float64",
         "type": "float"
        },
        {
         "name": "398",
         "rawType": "float64",
         "type": "float"
        },
        {
         "name": "399",
         "rawType": "float64",
         "type": "float"
        },
        {
         "name": "400",
         "rawType": "float64",
         "type": "float"
        },
        {
         "name": "401",
         "rawType": "float64",
         "type": "float"
        },
        {
         "name": "402",
         "rawType": "float64",
         "type": "float"
        },
        {
         "name": "403",
         "rawType": "float64",
         "type": "float"
        },
        {
         "name": "404",
         "rawType": "float64",
         "type": "float"
        },
        {
         "name": "405",
         "rawType": "float64",
         "type": "float"
        },
        {
         "name": "406",
         "rawType": "float64",
         "type": "float"
        },
        {
         "name": "407",
         "rawType": "float64",
         "type": "float"
        },
        {
         "name": "408",
         "rawType": "float64",
         "type": "float"
        },
        {
         "name": "409",
         "rawType": "float64",
         "type": "float"
        },
        {
         "name": "410",
         "rawType": "float64",
         "type": "float"
        },
        {
         "name": "411",
         "rawType": "float64",
         "type": "float"
        },
        {
         "name": "412",
         "rawType": "float64",
         "type": "float"
        },
        {
         "name": "413",
         "rawType": "float64",
         "type": "float"
        },
        {
         "name": "414",
         "rawType": "float64",
         "type": "float"
        },
        {
         "name": "415",
         "rawType": "float64",
         "type": "float"
        },
        {
         "name": "416",
         "rawType": "float64",
         "type": "float"
        },
        {
         "name": "417",
         "rawType": "float64",
         "type": "float"
        },
        {
         "name": "418",
         "rawType": "float64",
         "type": "float"
        },
        {
         "name": "419",
         "rawType": "float64",
         "type": "float"
        },
        {
         "name": "420",
         "rawType": "float64",
         "type": "float"
        },
        {
         "name": "421",
         "rawType": "float64",
         "type": "float"
        },
        {
         "name": "422",
         "rawType": "float64",
         "type": "float"
        },
        {
         "name": "423",
         "rawType": "float64",
         "type": "float"
        },
        {
         "name": "424",
         "rawType": "float64",
         "type": "float"
        },
        {
         "name": "425",
         "rawType": "float64",
         "type": "float"
        },
        {
         "name": "426",
         "rawType": "float64",
         "type": "float"
        },
        {
         "name": "427",
         "rawType": "float64",
         "type": "float"
        },
        {
         "name": "428",
         "rawType": "float64",
         "type": "float"
        },
        {
         "name": "429",
         "rawType": "float64",
         "type": "float"
        },
        {
         "name": "430",
         "rawType": "float64",
         "type": "float"
        },
        {
         "name": "431",
         "rawType": "float64",
         "type": "float"
        },
        {
         "name": "432",
         "rawType": "float64",
         "type": "float"
        },
        {
         "name": "433",
         "rawType": "float64",
         "type": "float"
        },
        {
         "name": "434",
         "rawType": "float64",
         "type": "float"
        },
        {
         "name": "435",
         "rawType": "float64",
         "type": "float"
        },
        {
         "name": "436",
         "rawType": "float64",
         "type": "float"
        },
        {
         "name": "437",
         "rawType": "float64",
         "type": "float"
        },
        {
         "name": "438",
         "rawType": "float64",
         "type": "float"
        },
        {
         "name": "439",
         "rawType": "float64",
         "type": "float"
        },
        {
         "name": "440",
         "rawType": "float64",
         "type": "float"
        },
        {
         "name": "441",
         "rawType": "float64",
         "type": "float"
        },
        {
         "name": "442",
         "rawType": "float64",
         "type": "float"
        },
        {
         "name": "443",
         "rawType": "float64",
         "type": "float"
        },
        {
         "name": "444",
         "rawType": "float64",
         "type": "float"
        },
        {
         "name": "445",
         "rawType": "float64",
         "type": "float"
        },
        {
         "name": "446",
         "rawType": "float64",
         "type": "float"
        },
        {
         "name": "447",
         "rawType": "float64",
         "type": "float"
        },
        {
         "name": "448",
         "rawType": "float64",
         "type": "float"
        },
        {
         "name": "449",
         "rawType": "float64",
         "type": "float"
        },
        {
         "name": "450",
         "rawType": "float64",
         "type": "float"
        },
        {
         "name": "451",
         "rawType": "float64",
         "type": "float"
        },
        {
         "name": "452",
         "rawType": "float64",
         "type": "float"
        },
        {
         "name": "453",
         "rawType": "float64",
         "type": "float"
        },
        {
         "name": "454",
         "rawType": "float64",
         "type": "float"
        },
        {
         "name": "455",
         "rawType": "float64",
         "type": "float"
        },
        {
         "name": "456",
         "rawType": "float64",
         "type": "float"
        },
        {
         "name": "457",
         "rawType": "float64",
         "type": "float"
        },
        {
         "name": "458",
         "rawType": "float64",
         "type": "float"
        },
        {
         "name": "459",
         "rawType": "float64",
         "type": "float"
        },
        {
         "name": "460",
         "rawType": "float64",
         "type": "float"
        },
        {
         "name": "461",
         "rawType": "float64",
         "type": "float"
        },
        {
         "name": "462",
         "rawType": "float64",
         "type": "float"
        },
        {
         "name": "463",
         "rawType": "float64",
         "type": "float"
        },
        {
         "name": "464",
         "rawType": "float64",
         "type": "float"
        },
        {
         "name": "465",
         "rawType": "float64",
         "type": "float"
        },
        {
         "name": "466",
         "rawType": "float64",
         "type": "float"
        },
        {
         "name": "467",
         "rawType": "float64",
         "type": "float"
        },
        {
         "name": "468",
         "rawType": "float64",
         "type": "float"
        },
        {
         "name": "469",
         "rawType": "float64",
         "type": "float"
        },
        {
         "name": "470",
         "rawType": "float64",
         "type": "float"
        },
        {
         "name": "471",
         "rawType": "float64",
         "type": "float"
        },
        {
         "name": "472",
         "rawType": "float64",
         "type": "float"
        },
        {
         "name": "473",
         "rawType": "float64",
         "type": "float"
        },
        {
         "name": "474",
         "rawType": "float64",
         "type": "float"
        },
        {
         "name": "475",
         "rawType": "float64",
         "type": "float"
        },
        {
         "name": "476",
         "rawType": "float64",
         "type": "float"
        },
        {
         "name": "477",
         "rawType": "float64",
         "type": "float"
        },
        {
         "name": "478",
         "rawType": "float64",
         "type": "float"
        },
        {
         "name": "479",
         "rawType": "float64",
         "type": "float"
        },
        {
         "name": "480",
         "rawType": "float64",
         "type": "float"
        },
        {
         "name": "481",
         "rawType": "float64",
         "type": "float"
        },
        {
         "name": "482",
         "rawType": "float64",
         "type": "float"
        },
        {
         "name": "483",
         "rawType": "float64",
         "type": "float"
        },
        {
         "name": "484",
         "rawType": "float64",
         "type": "float"
        },
        {
         "name": "485",
         "rawType": "float64",
         "type": "float"
        },
        {
         "name": "486",
         "rawType": "float64",
         "type": "float"
        },
        {
         "name": "487",
         "rawType": "float64",
         "type": "float"
        },
        {
         "name": "488",
         "rawType": "float64",
         "type": "float"
        },
        {
         "name": "489",
         "rawType": "float64",
         "type": "float"
        },
        {
         "name": "490",
         "rawType": "float64",
         "type": "float"
        },
        {
         "name": "491",
         "rawType": "float64",
         "type": "float"
        },
        {
         "name": "492",
         "rawType": "float64",
         "type": "float"
        },
        {
         "name": "493",
         "rawType": "float64",
         "type": "float"
        },
        {
         "name": "494",
         "rawType": "float64",
         "type": "float"
        },
        {
         "name": "495",
         "rawType": "float64",
         "type": "float"
        },
        {
         "name": "496",
         "rawType": "float64",
         "type": "float"
        },
        {
         "name": "497",
         "rawType": "float64",
         "type": "float"
        },
        {
         "name": "498",
         "rawType": "float64",
         "type": "float"
        },
        {
         "name": "499",
         "rawType": "float64",
         "type": "float"
        },
        {
         "name": "500",
         "rawType": "float64",
         "type": "float"
        },
        {
         "name": "501",
         "rawType": "float64",
         "type": "float"
        },
        {
         "name": "502",
         "rawType": "float64",
         "type": "float"
        },
        {
         "name": "503",
         "rawType": "float64",
         "type": "float"
        },
        {
         "name": "504",
         "rawType": "float64",
         "type": "float"
        },
        {
         "name": "505",
         "rawType": "float64",
         "type": "float"
        },
        {
         "name": "506",
         "rawType": "float64",
         "type": "float"
        },
        {
         "name": "507",
         "rawType": "float64",
         "type": "float"
        },
        {
         "name": "508",
         "rawType": "float64",
         "type": "float"
        },
        {
         "name": "509",
         "rawType": "float64",
         "type": "float"
        },
        {
         "name": "510",
         "rawType": "float64",
         "type": "float"
        },
        {
         "name": "511",
         "rawType": "float64",
         "type": "float"
        },
        {
         "name": "512",
         "rawType": "float64",
         "type": "float"
        },
        {
         "name": "513",
         "rawType": "float64",
         "type": "float"
        },
        {
         "name": "514",
         "rawType": "float64",
         "type": "float"
        },
        {
         "name": "515",
         "rawType": "float64",
         "type": "float"
        },
        {
         "name": "516",
         "rawType": "float64",
         "type": "float"
        },
        {
         "name": "517",
         "rawType": "float64",
         "type": "float"
        },
        {
         "name": "518",
         "rawType": "float64",
         "type": "float"
        },
        {
         "name": "519",
         "rawType": "float64",
         "type": "float"
        },
        {
         "name": "520",
         "rawType": "float64",
         "type": "float"
        },
        {
         "name": "521",
         "rawType": "float64",
         "type": "float"
        },
        {
         "name": "522",
         "rawType": "float64",
         "type": "float"
        },
        {
         "name": "523",
         "rawType": "float64",
         "type": "float"
        },
        {
         "name": "524",
         "rawType": "float64",
         "type": "float"
        },
        {
         "name": "525",
         "rawType": "float64",
         "type": "float"
        },
        {
         "name": "526",
         "rawType": "float64",
         "type": "float"
        },
        {
         "name": "527",
         "rawType": "float64",
         "type": "float"
        },
        {
         "name": "528",
         "rawType": "float64",
         "type": "float"
        },
        {
         "name": "529",
         "rawType": "float64",
         "type": "float"
        },
        {
         "name": "530",
         "rawType": "float64",
         "type": "float"
        },
        {
         "name": "531",
         "rawType": "float64",
         "type": "float"
        },
        {
         "name": "532",
         "rawType": "float64",
         "type": "float"
        },
        {
         "name": "533",
         "rawType": "float64",
         "type": "float"
        },
        {
         "name": "534",
         "rawType": "float64",
         "type": "float"
        },
        {
         "name": "535",
         "rawType": "float64",
         "type": "float"
        },
        {
         "name": "536",
         "rawType": "float64",
         "type": "float"
        },
        {
         "name": "537",
         "rawType": "float64",
         "type": "float"
        },
        {
         "name": "538",
         "rawType": "float64",
         "type": "float"
        },
        {
         "name": "539",
         "rawType": "float64",
         "type": "float"
        },
        {
         "name": "540",
         "rawType": "float64",
         "type": "float"
        },
        {
         "name": "541",
         "rawType": "float64",
         "type": "float"
        },
        {
         "name": "542",
         "rawType": "float64",
         "type": "float"
        },
        {
         "name": "543",
         "rawType": "float64",
         "type": "float"
        },
        {
         "name": "544",
         "rawType": "float64",
         "type": "float"
        },
        {
         "name": "545",
         "rawType": "float64",
         "type": "float"
        },
        {
         "name": "546",
         "rawType": "float64",
         "type": "float"
        },
        {
         "name": "547",
         "rawType": "float64",
         "type": "float"
        },
        {
         "name": "548",
         "rawType": "float64",
         "type": "float"
        },
        {
         "name": "549",
         "rawType": "float64",
         "type": "float"
        },
        {
         "name": "550",
         "rawType": "float64",
         "type": "float"
        },
        {
         "name": "551",
         "rawType": "float64",
         "type": "float"
        },
        {
         "name": "552",
         "rawType": "float64",
         "type": "float"
        },
        {
         "name": "553",
         "rawType": "float64",
         "type": "float"
        },
        {
         "name": "554",
         "rawType": "float64",
         "type": "float"
        },
        {
         "name": "555",
         "rawType": "float64",
         "type": "float"
        },
        {
         "name": "556",
         "rawType": "float64",
         "type": "float"
        },
        {
         "name": "557",
         "rawType": "float64",
         "type": "float"
        },
        {
         "name": "558",
         "rawType": "float64",
         "type": "float"
        },
        {
         "name": "559",
         "rawType": "float64",
         "type": "float"
        },
        {
         "name": "560",
         "rawType": "float64",
         "type": "float"
        },
        {
         "name": "561",
         "rawType": "float64",
         "type": "float"
        },
        {
         "name": "562",
         "rawType": "float64",
         "type": "float"
        },
        {
         "name": "563",
         "rawType": "float64",
         "type": "float"
        },
        {
         "name": "564",
         "rawType": "float64",
         "type": "float"
        },
        {
         "name": "565",
         "rawType": "float64",
         "type": "float"
        },
        {
         "name": "566",
         "rawType": "float64",
         "type": "float"
        },
        {
         "name": "567",
         "rawType": "float64",
         "type": "float"
        },
        {
         "name": "568",
         "rawType": "float64",
         "type": "float"
        },
        {
         "name": "569",
         "rawType": "float64",
         "type": "float"
        },
        {
         "name": "570",
         "rawType": "float64",
         "type": "float"
        },
        {
         "name": "571",
         "rawType": "float64",
         "type": "float"
        },
        {
         "name": "572",
         "rawType": "float64",
         "type": "float"
        },
        {
         "name": "573",
         "rawType": "float64",
         "type": "float"
        },
        {
         "name": "574",
         "rawType": "float64",
         "type": "float"
        },
        {
         "name": "575",
         "rawType": "float64",
         "type": "float"
        },
        {
         "name": "576",
         "rawType": "float64",
         "type": "float"
        },
        {
         "name": "577",
         "rawType": "float64",
         "type": "float"
        },
        {
         "name": "578",
         "rawType": "float64",
         "type": "float"
        },
        {
         "name": "579",
         "rawType": "float64",
         "type": "float"
        },
        {
         "name": "580",
         "rawType": "float64",
         "type": "float"
        },
        {
         "name": "581",
         "rawType": "float64",
         "type": "float"
        },
        {
         "name": "582",
         "rawType": "float64",
         "type": "float"
        },
        {
         "name": "583",
         "rawType": "float64",
         "type": "float"
        },
        {
         "name": "584",
         "rawType": "float64",
         "type": "float"
        },
        {
         "name": "585",
         "rawType": "float64",
         "type": "float"
        },
        {
         "name": "586",
         "rawType": "float64",
         "type": "float"
        },
        {
         "name": "587",
         "rawType": "float64",
         "type": "float"
        },
        {
         "name": "588",
         "rawType": "float64",
         "type": "float"
        },
        {
         "name": "589",
         "rawType": "float64",
         "type": "float"
        },
        {
         "name": "590",
         "rawType": "float64",
         "type": "float"
        },
        {
         "name": "591",
         "rawType": "float64",
         "type": "float"
        },
        {
         "name": "592",
         "rawType": "float64",
         "type": "float"
        },
        {
         "name": "593",
         "rawType": "float64",
         "type": "float"
        },
        {
         "name": "594",
         "rawType": "float64",
         "type": "float"
        },
        {
         "name": "595",
         "rawType": "float64",
         "type": "float"
        },
        {
         "name": "596",
         "rawType": "float64",
         "type": "float"
        },
        {
         "name": "597",
         "rawType": "float64",
         "type": "float"
        },
        {
         "name": "598",
         "rawType": "float64",
         "type": "float"
        },
        {
         "name": "599",
         "rawType": "float64",
         "type": "float"
        },
        {
         "name": "600",
         "rawType": "float64",
         "type": "float"
        },
        {
         "name": "601",
         "rawType": "float64",
         "type": "float"
        },
        {
         "name": "602",
         "rawType": "float64",
         "type": "float"
        },
        {
         "name": "603",
         "rawType": "float64",
         "type": "float"
        },
        {
         "name": "604",
         "rawType": "float64",
         "type": "float"
        },
        {
         "name": "605",
         "rawType": "float64",
         "type": "float"
        },
        {
         "name": "606",
         "rawType": "float64",
         "type": "float"
        },
        {
         "name": "607",
         "rawType": "float64",
         "type": "float"
        },
        {
         "name": "608",
         "rawType": "float64",
         "type": "float"
        },
        {
         "name": "609",
         "rawType": "float64",
         "type": "float"
        },
        {
         "name": "610",
         "rawType": "float64",
         "type": "float"
        },
        {
         "name": "611",
         "rawType": "float64",
         "type": "float"
        },
        {
         "name": "612",
         "rawType": "float64",
         "type": "float"
        },
        {
         "name": "613",
         "rawType": "float64",
         "type": "float"
        },
        {
         "name": "614",
         "rawType": "float64",
         "type": "float"
        },
        {
         "name": "615",
         "rawType": "float64",
         "type": "float"
        },
        {
         "name": "616",
         "rawType": "float64",
         "type": "float"
        },
        {
         "name": "617",
         "rawType": "float64",
         "type": "float"
        },
        {
         "name": "618",
         "rawType": "float64",
         "type": "float"
        },
        {
         "name": "619",
         "rawType": "float64",
         "type": "float"
        },
        {
         "name": "620",
         "rawType": "float64",
         "type": "float"
        },
        {
         "name": "621",
         "rawType": "float64",
         "type": "float"
        },
        {
         "name": "622",
         "rawType": "float64",
         "type": "float"
        },
        {
         "name": "623",
         "rawType": "float64",
         "type": "float"
        },
        {
         "name": "624",
         "rawType": "float64",
         "type": "float"
        },
        {
         "name": "625",
         "rawType": "float64",
         "type": "float"
        },
        {
         "name": "626",
         "rawType": "float64",
         "type": "float"
        },
        {
         "name": "627",
         "rawType": "float64",
         "type": "float"
        },
        {
         "name": "628",
         "rawType": "float64",
         "type": "float"
        },
        {
         "name": "629",
         "rawType": "float64",
         "type": "float"
        },
        {
         "name": "630",
         "rawType": "float64",
         "type": "float"
        },
        {
         "name": "631",
         "rawType": "float64",
         "type": "float"
        },
        {
         "name": "632",
         "rawType": "float64",
         "type": "float"
        },
        {
         "name": "633",
         "rawType": "float64",
         "type": "float"
        },
        {
         "name": "634",
         "rawType": "float64",
         "type": "float"
        },
        {
         "name": "635",
         "rawType": "float64",
         "type": "float"
        },
        {
         "name": "636",
         "rawType": "float64",
         "type": "float"
        },
        {
         "name": "637",
         "rawType": "float64",
         "type": "float"
        },
        {
         "name": "638",
         "rawType": "float64",
         "type": "float"
        },
        {
         "name": "639",
         "rawType": "float64",
         "type": "float"
        },
        {
         "name": "640",
         "rawType": "float64",
         "type": "float"
        },
        {
         "name": "641",
         "rawType": "float64",
         "type": "float"
        },
        {
         "name": "642",
         "rawType": "float64",
         "type": "float"
        },
        {
         "name": "643",
         "rawType": "float64",
         "type": "float"
        },
        {
         "name": "644",
         "rawType": "float64",
         "type": "float"
        },
        {
         "name": "645",
         "rawType": "float64",
         "type": "float"
        },
        {
         "name": "646",
         "rawType": "float64",
         "type": "float"
        },
        {
         "name": "647",
         "rawType": "float64",
         "type": "float"
        },
        {
         "name": "648",
         "rawType": "float64",
         "type": "float"
        },
        {
         "name": "649",
         "rawType": "float64",
         "type": "float"
        },
        {
         "name": "650",
         "rawType": "float64",
         "type": "float"
        },
        {
         "name": "651",
         "rawType": "float64",
         "type": "float"
        },
        {
         "name": "652",
         "rawType": "float64",
         "type": "float"
        },
        {
         "name": "653",
         "rawType": "float64",
         "type": "float"
        },
        {
         "name": "654",
         "rawType": "float64",
         "type": "float"
        },
        {
         "name": "655",
         "rawType": "float64",
         "type": "float"
        },
        {
         "name": "656",
         "rawType": "float64",
         "type": "float"
        },
        {
         "name": "657",
         "rawType": "float64",
         "type": "float"
        },
        {
         "name": "658",
         "rawType": "float64",
         "type": "float"
        },
        {
         "name": "659",
         "rawType": "float64",
         "type": "float"
        },
        {
         "name": "660",
         "rawType": "float64",
         "type": "float"
        },
        {
         "name": "661",
         "rawType": "float64",
         "type": "float"
        },
        {
         "name": "662",
         "rawType": "float64",
         "type": "float"
        },
        {
         "name": "663",
         "rawType": "float64",
         "type": "float"
        },
        {
         "name": "664",
         "rawType": "float64",
         "type": "float"
        },
        {
         "name": "665",
         "rawType": "float64",
         "type": "float"
        },
        {
         "name": "666",
         "rawType": "float64",
         "type": "float"
        },
        {
         "name": "667",
         "rawType": "float64",
         "type": "float"
        },
        {
         "name": "668",
         "rawType": "float64",
         "type": "float"
        },
        {
         "name": "669",
         "rawType": "float64",
         "type": "float"
        },
        {
         "name": "670",
         "rawType": "float64",
         "type": "float"
        },
        {
         "name": "671",
         "rawType": "float64",
         "type": "float"
        },
        {
         "name": "672",
         "rawType": "float64",
         "type": "float"
        },
        {
         "name": "673",
         "rawType": "float64",
         "type": "float"
        },
        {
         "name": "674",
         "rawType": "float64",
         "type": "float"
        },
        {
         "name": "675",
         "rawType": "float64",
         "type": "float"
        },
        {
         "name": "676",
         "rawType": "float64",
         "type": "float"
        },
        {
         "name": "677",
         "rawType": "float64",
         "type": "float"
        },
        {
         "name": "678",
         "rawType": "float64",
         "type": "float"
        },
        {
         "name": "679",
         "rawType": "float64",
         "type": "float"
        },
        {
         "name": "680",
         "rawType": "float64",
         "type": "float"
        },
        {
         "name": "681",
         "rawType": "float64",
         "type": "float"
        },
        {
         "name": "682",
         "rawType": "float64",
         "type": "float"
        },
        {
         "name": "683",
         "rawType": "float64",
         "type": "float"
        },
        {
         "name": "684",
         "rawType": "float64",
         "type": "float"
        },
        {
         "name": "685",
         "rawType": "float64",
         "type": "float"
        },
        {
         "name": "686",
         "rawType": "float64",
         "type": "float"
        },
        {
         "name": "687",
         "rawType": "float64",
         "type": "float"
        },
        {
         "name": "688",
         "rawType": "float64",
         "type": "float"
        },
        {
         "name": "689",
         "rawType": "float64",
         "type": "float"
        },
        {
         "name": "690",
         "rawType": "float64",
         "type": "float"
        },
        {
         "name": "691",
         "rawType": "float64",
         "type": "float"
        },
        {
         "name": "692",
         "rawType": "float64",
         "type": "float"
        },
        {
         "name": "693",
         "rawType": "float64",
         "type": "float"
        },
        {
         "name": "694",
         "rawType": "float64",
         "type": "float"
        },
        {
         "name": "695",
         "rawType": "float64",
         "type": "float"
        },
        {
         "name": "696",
         "rawType": "float64",
         "type": "float"
        },
        {
         "name": "697",
         "rawType": "float64",
         "type": "float"
        },
        {
         "name": "698",
         "rawType": "float64",
         "type": "float"
        },
        {
         "name": "699",
         "rawType": "float64",
         "type": "float"
        },
        {
         "name": "700",
         "rawType": "float64",
         "type": "float"
        },
        {
         "name": "701",
         "rawType": "float64",
         "type": "float"
        },
        {
         "name": "702",
         "rawType": "float64",
         "type": "float"
        },
        {
         "name": "703",
         "rawType": "float64",
         "type": "float"
        },
        {
         "name": "704",
         "rawType": "float64",
         "type": "float"
        },
        {
         "name": "705",
         "rawType": "float64",
         "type": "float"
        },
        {
         "name": "706",
         "rawType": "float64",
         "type": "float"
        },
        {
         "name": "707",
         "rawType": "float64",
         "type": "float"
        },
        {
         "name": "708",
         "rawType": "float64",
         "type": "float"
        },
        {
         "name": "709",
         "rawType": "float64",
         "type": "float"
        },
        {
         "name": "710",
         "rawType": "float64",
         "type": "float"
        },
        {
         "name": "711",
         "rawType": "float64",
         "type": "float"
        },
        {
         "name": "712",
         "rawType": "float64",
         "type": "float"
        },
        {
         "name": "713",
         "rawType": "float64",
         "type": "float"
        },
        {
         "name": "714",
         "rawType": "float64",
         "type": "float"
        },
        {
         "name": "715",
         "rawType": "float64",
         "type": "float"
        },
        {
         "name": "716",
         "rawType": "float64",
         "type": "float"
        },
        {
         "name": "717",
         "rawType": "float64",
         "type": "float"
        },
        {
         "name": "718",
         "rawType": "float64",
         "type": "float"
        },
        {
         "name": "719",
         "rawType": "float64",
         "type": "float"
        },
        {
         "name": "720",
         "rawType": "float64",
         "type": "float"
        },
        {
         "name": "721",
         "rawType": "float64",
         "type": "float"
        },
        {
         "name": "722",
         "rawType": "float64",
         "type": "float"
        },
        {
         "name": "723",
         "rawType": "float64",
         "type": "float"
        },
        {
         "name": "724",
         "rawType": "float64",
         "type": "float"
        },
        {
         "name": "725",
         "rawType": "float64",
         "type": "float"
        },
        {
         "name": "726",
         "rawType": "float64",
         "type": "float"
        },
        {
         "name": "727",
         "rawType": "float64",
         "type": "float"
        },
        {
         "name": "728",
         "rawType": "float64",
         "type": "float"
        },
        {
         "name": "729",
         "rawType": "float64",
         "type": "float"
        },
        {
         "name": "730",
         "rawType": "float64",
         "type": "float"
        },
        {
         "name": "731",
         "rawType": "float64",
         "type": "float"
        },
        {
         "name": "732",
         "rawType": "float64",
         "type": "float"
        },
        {
         "name": "733",
         "rawType": "float64",
         "type": "float"
        },
        {
         "name": "734",
         "rawType": "float64",
         "type": "float"
        },
        {
         "name": "735",
         "rawType": "float64",
         "type": "float"
        },
        {
         "name": "736",
         "rawType": "float64",
         "type": "float"
        },
        {
         "name": "737",
         "rawType": "float64",
         "type": "float"
        },
        {
         "name": "738",
         "rawType": "float64",
         "type": "float"
        },
        {
         "name": "739",
         "rawType": "float64",
         "type": "float"
        },
        {
         "name": "740",
         "rawType": "float64",
         "type": "float"
        },
        {
         "name": "741",
         "rawType": "float64",
         "type": "float"
        },
        {
         "name": "742",
         "rawType": "float64",
         "type": "float"
        },
        {
         "name": "743",
         "rawType": "float64",
         "type": "float"
        },
        {
         "name": "744",
         "rawType": "float64",
         "type": "float"
        },
        {
         "name": "745",
         "rawType": "float64",
         "type": "float"
        },
        {
         "name": "746",
         "rawType": "float64",
         "type": "float"
        },
        {
         "name": "747",
         "rawType": "float64",
         "type": "float"
        },
        {
         "name": "748",
         "rawType": "float64",
         "type": "float"
        },
        {
         "name": "749",
         "rawType": "float64",
         "type": "float"
        },
        {
         "name": "750",
         "rawType": "float64",
         "type": "float"
        },
        {
         "name": "751",
         "rawType": "float64",
         "type": "float"
        },
        {
         "name": "752",
         "rawType": "float64",
         "type": "float"
        },
        {
         "name": "753",
         "rawType": "float64",
         "type": "float"
        },
        {
         "name": "754",
         "rawType": "float64",
         "type": "float"
        },
        {
         "name": "755",
         "rawType": "float64",
         "type": "float"
        },
        {
         "name": "756",
         "rawType": "float64",
         "type": "float"
        },
        {
         "name": "757",
         "rawType": "float64",
         "type": "float"
        },
        {
         "name": "758",
         "rawType": "float64",
         "type": "float"
        },
        {
         "name": "759",
         "rawType": "float64",
         "type": "float"
        },
        {
         "name": "760",
         "rawType": "float64",
         "type": "float"
        },
        {
         "name": "761",
         "rawType": "float64",
         "type": "float"
        },
        {
         "name": "762",
         "rawType": "float64",
         "type": "float"
        },
        {
         "name": "763",
         "rawType": "float64",
         "type": "float"
        },
        {
         "name": "764",
         "rawType": "float64",
         "type": "float"
        },
        {
         "name": "765",
         "rawType": "float64",
         "type": "float"
        },
        {
         "name": "766",
         "rawType": "float64",
         "type": "float"
        },
        {
         "name": "767",
         "rawType": "float64",
         "type": "float"
        },
        {
         "name": "768",
         "rawType": "float64",
         "type": "float"
        },
        {
         "name": "769",
         "rawType": "float64",
         "type": "float"
        },
        {
         "name": "770",
         "rawType": "float64",
         "type": "float"
        },
        {
         "name": "771",
         "rawType": "float64",
         "type": "float"
        },
        {
         "name": "772",
         "rawType": "float64",
         "type": "float"
        },
        {
         "name": "773",
         "rawType": "float64",
         "type": "float"
        },
        {
         "name": "774",
         "rawType": "float64",
         "type": "float"
        },
        {
         "name": "775",
         "rawType": "float64",
         "type": "float"
        },
        {
         "name": "776",
         "rawType": "float64",
         "type": "float"
        },
        {
         "name": "777",
         "rawType": "float64",
         "type": "float"
        },
        {
         "name": "778",
         "rawType": "float64",
         "type": "float"
        },
        {
         "name": "779",
         "rawType": "float64",
         "type": "float"
        },
        {
         "name": "780",
         "rawType": "float64",
         "type": "float"
        },
        {
         "name": "781",
         "rawType": "float64",
         "type": "float"
        },
        {
         "name": "782",
         "rawType": "float64",
         "type": "float"
        },
        {
         "name": "783",
         "rawType": "float64",
         "type": "float"
        },
        {
         "name": "784",
         "rawType": "float64",
         "type": "float"
        },
        {
         "name": "785",
         "rawType": "float64",
         "type": "float"
        },
        {
         "name": "786",
         "rawType": "float64",
         "type": "float"
        },
        {
         "name": "787",
         "rawType": "float64",
         "type": "float"
        },
        {
         "name": "788",
         "rawType": "float64",
         "type": "float"
        },
        {
         "name": "789",
         "rawType": "float64",
         "type": "float"
        },
        {
         "name": "790",
         "rawType": "float64",
         "type": "float"
        },
        {
         "name": "791",
         "rawType": "float64",
         "type": "float"
        },
        {
         "name": "792",
         "rawType": "float64",
         "type": "float"
        },
        {
         "name": "793",
         "rawType": "float64",
         "type": "float"
        },
        {
         "name": "794",
         "rawType": "float64",
         "type": "float"
        },
        {
         "name": "795",
         "rawType": "float64",
         "type": "float"
        },
        {
         "name": "796",
         "rawType": "float64",
         "type": "float"
        },
        {
         "name": "797",
         "rawType": "float64",
         "type": "float"
        },
        {
         "name": "798",
         "rawType": "float64",
         "type": "float"
        },
        {
         "name": "799",
         "rawType": "float64",
         "type": "float"
        },
        {
         "name": "800",
         "rawType": "float64",
         "type": "float"
        },
        {
         "name": "801",
         "rawType": "float64",
         "type": "float"
        },
        {
         "name": "802",
         "rawType": "float64",
         "type": "float"
        },
        {
         "name": "803",
         "rawType": "float64",
         "type": "float"
        },
        {
         "name": "804",
         "rawType": "float64",
         "type": "float"
        },
        {
         "name": "805",
         "rawType": "float64",
         "type": "float"
        },
        {
         "name": "806",
         "rawType": "float64",
         "type": "float"
        },
        {
         "name": "807",
         "rawType": "float64",
         "type": "float"
        },
        {
         "name": "808",
         "rawType": "float64",
         "type": "float"
        },
        {
         "name": "809",
         "rawType": "float64",
         "type": "float"
        },
        {
         "name": "810",
         "rawType": "float64",
         "type": "float"
        },
        {
         "name": "811",
         "rawType": "float64",
         "type": "float"
        },
        {
         "name": "812",
         "rawType": "float64",
         "type": "float"
        },
        {
         "name": "813",
         "rawType": "float64",
         "type": "float"
        },
        {
         "name": "814",
         "rawType": "float64",
         "type": "float"
        },
        {
         "name": "815",
         "rawType": "float64",
         "type": "float"
        },
        {
         "name": "816",
         "rawType": "float64",
         "type": "float"
        },
        {
         "name": "817",
         "rawType": "float64",
         "type": "float"
        },
        {
         "name": "818",
         "rawType": "float64",
         "type": "float"
        },
        {
         "name": "819",
         "rawType": "float64",
         "type": "float"
        },
        {
         "name": "820",
         "rawType": "float64",
         "type": "float"
        },
        {
         "name": "821",
         "rawType": "float64",
         "type": "float"
        },
        {
         "name": "822",
         "rawType": "float64",
         "type": "float"
        },
        {
         "name": "823",
         "rawType": "float64",
         "type": "float"
        },
        {
         "name": "824",
         "rawType": "float64",
         "type": "float"
        },
        {
         "name": "825",
         "rawType": "float64",
         "type": "float"
        },
        {
         "name": "826",
         "rawType": "float64",
         "type": "float"
        },
        {
         "name": "827",
         "rawType": "float64",
         "type": "float"
        },
        {
         "name": "828",
         "rawType": "float64",
         "type": "float"
        },
        {
         "name": "829",
         "rawType": "float64",
         "type": "float"
        },
        {
         "name": "830",
         "rawType": "float64",
         "type": "float"
        },
        {
         "name": "831",
         "rawType": "float64",
         "type": "float"
        },
        {
         "name": "832",
         "rawType": "float64",
         "type": "float"
        },
        {
         "name": "833",
         "rawType": "float64",
         "type": "float"
        },
        {
         "name": "834",
         "rawType": "float64",
         "type": "float"
        },
        {
         "name": "835",
         "rawType": "float64",
         "type": "float"
        },
        {
         "name": "836",
         "rawType": "float64",
         "type": "float"
        },
        {
         "name": "837",
         "rawType": "float64",
         "type": "float"
        },
        {
         "name": "838",
         "rawType": "float64",
         "type": "float"
        },
        {
         "name": "839",
         "rawType": "float64",
         "type": "float"
        },
        {
         "name": "840",
         "rawType": "float64",
         "type": "float"
        },
        {
         "name": "841",
         "rawType": "float64",
         "type": "float"
        },
        {
         "name": "842",
         "rawType": "float64",
         "type": "float"
        },
        {
         "name": "843",
         "rawType": "float64",
         "type": "float"
        },
        {
         "name": "844",
         "rawType": "float64",
         "type": "float"
        },
        {
         "name": "845",
         "rawType": "float64",
         "type": "float"
        },
        {
         "name": "846",
         "rawType": "float64",
         "type": "float"
        },
        {
         "name": "847",
         "rawType": "float64",
         "type": "float"
        },
        {
         "name": "848",
         "rawType": "float64",
         "type": "float"
        },
        {
         "name": "849",
         "rawType": "float64",
         "type": "float"
        },
        {
         "name": "850",
         "rawType": "float64",
         "type": "float"
        },
        {
         "name": "851",
         "rawType": "float64",
         "type": "float"
        },
        {
         "name": "852",
         "rawType": "float64",
         "type": "float"
        },
        {
         "name": "853",
         "rawType": "float64",
         "type": "float"
        },
        {
         "name": "854",
         "rawType": "float64",
         "type": "float"
        },
        {
         "name": "855",
         "rawType": "float64",
         "type": "float"
        },
        {
         "name": "856",
         "rawType": "float64",
         "type": "float"
        },
        {
         "name": "857",
         "rawType": "float64",
         "type": "float"
        },
        {
         "name": "858",
         "rawType": "float64",
         "type": "float"
        },
        {
         "name": "859",
         "rawType": "float64",
         "type": "float"
        },
        {
         "name": "860",
         "rawType": "float64",
         "type": "float"
        },
        {
         "name": "861",
         "rawType": "float64",
         "type": "float"
        },
        {
         "name": "862",
         "rawType": "float64",
         "type": "float"
        },
        {
         "name": "863",
         "rawType": "float64",
         "type": "float"
        },
        {
         "name": "864",
         "rawType": "float64",
         "type": "float"
        },
        {
         "name": "865",
         "rawType": "float64",
         "type": "float"
        },
        {
         "name": "866",
         "rawType": "float64",
         "type": "float"
        },
        {
         "name": "867",
         "rawType": "float64",
         "type": "float"
        },
        {
         "name": "868",
         "rawType": "float64",
         "type": "float"
        },
        {
         "name": "869",
         "rawType": "float64",
         "type": "float"
        },
        {
         "name": "870",
         "rawType": "float64",
         "type": "float"
        },
        {
         "name": "871",
         "rawType": "float64",
         "type": "float"
        },
        {
         "name": "872",
         "rawType": "float64",
         "type": "float"
        },
        {
         "name": "873",
         "rawType": "float64",
         "type": "float"
        },
        {
         "name": "874",
         "rawType": "float64",
         "type": "float"
        },
        {
         "name": "875",
         "rawType": "float64",
         "type": "float"
        },
        {
         "name": "876",
         "rawType": "float64",
         "type": "float"
        },
        {
         "name": "877",
         "rawType": "float64",
         "type": "float"
        },
        {
         "name": "878",
         "rawType": "float64",
         "type": "float"
        },
        {
         "name": "879",
         "rawType": "float64",
         "type": "float"
        },
        {
         "name": "880",
         "rawType": "float64",
         "type": "float"
        },
        {
         "name": "881",
         "rawType": "float64",
         "type": "float"
        },
        {
         "name": "882",
         "rawType": "float64",
         "type": "float"
        },
        {
         "name": "883",
         "rawType": "float64",
         "type": "float"
        },
        {
         "name": "884",
         "rawType": "float64",
         "type": "float"
        },
        {
         "name": "885",
         "rawType": "float64",
         "type": "float"
        },
        {
         "name": "886",
         "rawType": "float64",
         "type": "float"
        },
        {
         "name": "887",
         "rawType": "float64",
         "type": "float"
        },
        {
         "name": "888",
         "rawType": "float64",
         "type": "float"
        },
        {
         "name": "889",
         "rawType": "float64",
         "type": "float"
        },
        {
         "name": "890",
         "rawType": "float64",
         "type": "float"
        },
        {
         "name": "891",
         "rawType": "float64",
         "type": "float"
        },
        {
         "name": "892",
         "rawType": "float64",
         "type": "float"
        },
        {
         "name": "893",
         "rawType": "float64",
         "type": "float"
        },
        {
         "name": "894",
         "rawType": "float64",
         "type": "float"
        },
        {
         "name": "895",
         "rawType": "float64",
         "type": "float"
        },
        {
         "name": "896",
         "rawType": "float64",
         "type": "float"
        },
        {
         "name": "897",
         "rawType": "float64",
         "type": "float"
        },
        {
         "name": "898",
         "rawType": "float64",
         "type": "float"
        },
        {
         "name": "899",
         "rawType": "float64",
         "type": "float"
        },
        {
         "name": "900",
         "rawType": "float64",
         "type": "float"
        },
        {
         "name": "901",
         "rawType": "float64",
         "type": "float"
        },
        {
         "name": "902",
         "rawType": "float64",
         "type": "float"
        },
        {
         "name": "903",
         "rawType": "float64",
         "type": "float"
        },
        {
         "name": "904",
         "rawType": "float64",
         "type": "float"
        },
        {
         "name": "905",
         "rawType": "float64",
         "type": "float"
        },
        {
         "name": "906",
         "rawType": "float64",
         "type": "float"
        },
        {
         "name": "907",
         "rawType": "float64",
         "type": "float"
        },
        {
         "name": "908",
         "rawType": "float64",
         "type": "float"
        },
        {
         "name": "909",
         "rawType": "float64",
         "type": "float"
        },
        {
         "name": "910",
         "rawType": "float64",
         "type": "float"
        },
        {
         "name": "911",
         "rawType": "float64",
         "type": "float"
        },
        {
         "name": "912",
         "rawType": "float64",
         "type": "float"
        },
        {
         "name": "913",
         "rawType": "float64",
         "type": "float"
        },
        {
         "name": "914",
         "rawType": "float64",
         "type": "float"
        },
        {
         "name": "915",
         "rawType": "float64",
         "type": "float"
        },
        {
         "name": "916",
         "rawType": "float64",
         "type": "float"
        },
        {
         "name": "917",
         "rawType": "float64",
         "type": "float"
        },
        {
         "name": "918",
         "rawType": "float64",
         "type": "float"
        },
        {
         "name": "919",
         "rawType": "float64",
         "type": "float"
        },
        {
         "name": "920",
         "rawType": "float64",
         "type": "float"
        },
        {
         "name": "921",
         "rawType": "float64",
         "type": "float"
        },
        {
         "name": "922",
         "rawType": "float64",
         "type": "float"
        },
        {
         "name": "923",
         "rawType": "float64",
         "type": "float"
        },
        {
         "name": "924",
         "rawType": "float64",
         "type": "float"
        },
        {
         "name": "925",
         "rawType": "float64",
         "type": "float"
        },
        {
         "name": "926",
         "rawType": "float64",
         "type": "float"
        },
        {
         "name": "927",
         "rawType": "float64",
         "type": "float"
        },
        {
         "name": "928",
         "rawType": "float64",
         "type": "float"
        },
        {
         "name": "929",
         "rawType": "float64",
         "type": "float"
        },
        {
         "name": "930",
         "rawType": "float64",
         "type": "float"
        },
        {
         "name": "931",
         "rawType": "float64",
         "type": "float"
        },
        {
         "name": "932",
         "rawType": "float64",
         "type": "float"
        },
        {
         "name": "933",
         "rawType": "float64",
         "type": "float"
        },
        {
         "name": "934",
         "rawType": "float64",
         "type": "float"
        },
        {
         "name": "935",
         "rawType": "float64",
         "type": "float"
        },
        {
         "name": "936",
         "rawType": "float64",
         "type": "float"
        },
        {
         "name": "937",
         "rawType": "float64",
         "type": "float"
        },
        {
         "name": "938",
         "rawType": "float64",
         "type": "float"
        },
        {
         "name": "939",
         "rawType": "float64",
         "type": "float"
        },
        {
         "name": "940",
         "rawType": "float64",
         "type": "float"
        },
        {
         "name": "941",
         "rawType": "float64",
         "type": "float"
        },
        {
         "name": "942",
         "rawType": "float64",
         "type": "float"
        },
        {
         "name": "943",
         "rawType": "float64",
         "type": "float"
        },
        {
         "name": "944",
         "rawType": "float64",
         "type": "float"
        },
        {
         "name": "945",
         "rawType": "float64",
         "type": "float"
        },
        {
         "name": "946",
         "rawType": "float64",
         "type": "float"
        },
        {
         "name": "947",
         "rawType": "float64",
         "type": "float"
        },
        {
         "name": "948",
         "rawType": "float64",
         "type": "float"
        },
        {
         "name": "949",
         "rawType": "float64",
         "type": "float"
        },
        {
         "name": "950",
         "rawType": "float64",
         "type": "float"
        },
        {
         "name": "951",
         "rawType": "float64",
         "type": "float"
        },
        {
         "name": "952",
         "rawType": "float64",
         "type": "float"
        },
        {
         "name": "953",
         "rawType": "float64",
         "type": "float"
        },
        {
         "name": "954",
         "rawType": "float64",
         "type": "float"
        },
        {
         "name": "955",
         "rawType": "float64",
         "type": "float"
        },
        {
         "name": "956",
         "rawType": "float64",
         "type": "float"
        },
        {
         "name": "957",
         "rawType": "float64",
         "type": "float"
        },
        {
         "name": "958",
         "rawType": "float64",
         "type": "float"
        },
        {
         "name": "959",
         "rawType": "float64",
         "type": "float"
        },
        {
         "name": "960",
         "rawType": "float64",
         "type": "float"
        },
        {
         "name": "961",
         "rawType": "float64",
         "type": "float"
        },
        {
         "name": "962",
         "rawType": "float64",
         "type": "float"
        },
        {
         "name": "963",
         "rawType": "float64",
         "type": "float"
        },
        {
         "name": "964",
         "rawType": "float64",
         "type": "float"
        },
        {
         "name": "965",
         "rawType": "float64",
         "type": "float"
        },
        {
         "name": "966",
         "rawType": "float64",
         "type": "float"
        },
        {
         "name": "967",
         "rawType": "float64",
         "type": "float"
        },
        {
         "name": "968",
         "rawType": "float64",
         "type": "float"
        },
        {
         "name": "969",
         "rawType": "float64",
         "type": "float"
        },
        {
         "name": "970",
         "rawType": "float64",
         "type": "float"
        },
        {
         "name": "971",
         "rawType": "float64",
         "type": "float"
        },
        {
         "name": "972",
         "rawType": "float64",
         "type": "float"
        },
        {
         "name": "973",
         "rawType": "float64",
         "type": "float"
        },
        {
         "name": "974",
         "rawType": "float64",
         "type": "float"
        },
        {
         "name": "975",
         "rawType": "float64",
         "type": "float"
        },
        {
         "name": "976",
         "rawType": "float64",
         "type": "float"
        },
        {
         "name": "977",
         "rawType": "float64",
         "type": "float"
        },
        {
         "name": "978",
         "rawType": "float64",
         "type": "float"
        },
        {
         "name": "979",
         "rawType": "float64",
         "type": "float"
        },
        {
         "name": "980",
         "rawType": "float64",
         "type": "float"
        },
        {
         "name": "981",
         "rawType": "float64",
         "type": "float"
        },
        {
         "name": "982",
         "rawType": "float64",
         "type": "float"
        },
        {
         "name": "983",
         "rawType": "float64",
         "type": "float"
        },
        {
         "name": "984",
         "rawType": "float64",
         "type": "float"
        },
        {
         "name": "985",
         "rawType": "float64",
         "type": "float"
        },
        {
         "name": "986",
         "rawType": "float64",
         "type": "float"
        },
        {
         "name": "987",
         "rawType": "float64",
         "type": "float"
        },
        {
         "name": "988",
         "rawType": "float64",
         "type": "float"
        },
        {
         "name": "989",
         "rawType": "float64",
         "type": "float"
        },
        {
         "name": "990",
         "rawType": "float64",
         "type": "float"
        },
        {
         "name": "991",
         "rawType": "float64",
         "type": "float"
        },
        {
         "name": "992",
         "rawType": "float64",
         "type": "float"
        },
        {
         "name": "993",
         "rawType": "float64",
         "type": "float"
        },
        {
         "name": "994",
         "rawType": "float64",
         "type": "float"
        },
        {
         "name": "995",
         "rawType": "float64",
         "type": "float"
        },
        {
         "name": "996",
         "rawType": "float64",
         "type": "float"
        },
        {
         "name": "997",
         "rawType": "float64",
         "type": "float"
        },
        {
         "name": "998",
         "rawType": "float64",
         "type": "float"
        },
        {
         "name": "999",
         "rawType": "float64",
         "type": "float"
        },
        {
         "name": "1000",
         "rawType": "float64",
         "type": "float"
        },
        {
         "name": "1001",
         "rawType": "float64",
         "type": "float"
        },
        {
         "name": "1002",
         "rawType": "float64",
         "type": "float"
        },
        {
         "name": "1003",
         "rawType": "float64",
         "type": "float"
        },
        {
         "name": "1004",
         "rawType": "float64",
         "type": "float"
        },
        {
         "name": "1005",
         "rawType": "float64",
         "type": "float"
        },
        {
         "name": "1006",
         "rawType": "float64",
         "type": "float"
        },
        {
         "name": "1007",
         "rawType": "float64",
         "type": "float"
        },
        {
         "name": "1008",
         "rawType": "float64",
         "type": "float"
        },
        {
         "name": "1009",
         "rawType": "float64",
         "type": "float"
        },
        {
         "name": "1010",
         "rawType": "float64",
         "type": "float"
        },
        {
         "name": "1011",
         "rawType": "float64",
         "type": "float"
        },
        {
         "name": "1012",
         "rawType": "float64",
         "type": "float"
        },
        {
         "name": "1013",
         "rawType": "float64",
         "type": "float"
        },
        {
         "name": "1014",
         "rawType": "float64",
         "type": "float"
        },
        {
         "name": "1015",
         "rawType": "float64",
         "type": "float"
        },
        {
         "name": "1016",
         "rawType": "float64",
         "type": "float"
        },
        {
         "name": "1017",
         "rawType": "float64",
         "type": "float"
        },
        {
         "name": "1018",
         "rawType": "float64",
         "type": "float"
        },
        {
         "name": "1019",
         "rawType": "float64",
         "type": "float"
        },
        {
         "name": "1020",
         "rawType": "float64",
         "type": "float"
        },
        {
         "name": "1021",
         "rawType": "float64",
         "type": "float"
        },
        {
         "name": "1022",
         "rawType": "float64",
         "type": "float"
        },
        {
         "name": "1023",
         "rawType": "float64",
         "type": "float"
        },
        {
         "name": "1024",
         "rawType": "float64",
         "type": "float"
        },
        {
         "name": "1025",
         "rawType": "float64",
         "type": "float"
        },
        {
         "name": "1026",
         "rawType": "float64",
         "type": "float"
        },
        {
         "name": "1027",
         "rawType": "float64",
         "type": "float"
        },
        {
         "name": "1028",
         "rawType": "float64",
         "type": "float"
        },
        {
         "name": "1029",
         "rawType": "float64",
         "type": "float"
        },
        {
         "name": "1030",
         "rawType": "float64",
         "type": "float"
        },
        {
         "name": "1031",
         "rawType": "float64",
         "type": "float"
        },
        {
         "name": "1032",
         "rawType": "float64",
         "type": "float"
        },
        {
         "name": "1033",
         "rawType": "float64",
         "type": "float"
        },
        {
         "name": "1034",
         "rawType": "float64",
         "type": "float"
        },
        {
         "name": "1035",
         "rawType": "float64",
         "type": "float"
        },
        {
         "name": "1036",
         "rawType": "float64",
         "type": "float"
        },
        {
         "name": "1037",
         "rawType": "float64",
         "type": "float"
        },
        {
         "name": "1038",
         "rawType": "float64",
         "type": "float"
        },
        {
         "name": "1039",
         "rawType": "float64",
         "type": "float"
        },
        {
         "name": "1040",
         "rawType": "float64",
         "type": "float"
        },
        {
         "name": "1041",
         "rawType": "float64",
         "type": "float"
        },
        {
         "name": "1042",
         "rawType": "float64",
         "type": "float"
        },
        {
         "name": "1043",
         "rawType": "float64",
         "type": "float"
        },
        {
         "name": "1044",
         "rawType": "float64",
         "type": "float"
        },
        {
         "name": "1045",
         "rawType": "float64",
         "type": "float"
        },
        {
         "name": "1046",
         "rawType": "float64",
         "type": "float"
        },
        {
         "name": "1047",
         "rawType": "float64",
         "type": "float"
        },
        {
         "name": "1048",
         "rawType": "float64",
         "type": "float"
        },
        {
         "name": "1049",
         "rawType": "float64",
         "type": "float"
        },
        {
         "name": "1050",
         "rawType": "float64",
         "type": "float"
        },
        {
         "name": "1051",
         "rawType": "float64",
         "type": "float"
        },
        {
         "name": "1052",
         "rawType": "float64",
         "type": "float"
        },
        {
         "name": "1053",
         "rawType": "float64",
         "type": "float"
        },
        {
         "name": "1054",
         "rawType": "float64",
         "type": "float"
        },
        {
         "name": "1055",
         "rawType": "float64",
         "type": "float"
        },
        {
         "name": "1056",
         "rawType": "float64",
         "type": "float"
        },
        {
         "name": "1057",
         "rawType": "float64",
         "type": "float"
        },
        {
         "name": "1058",
         "rawType": "float64",
         "type": "float"
        },
        {
         "name": "1059",
         "rawType": "float64",
         "type": "float"
        },
        {
         "name": "1060",
         "rawType": "float64",
         "type": "float"
        },
        {
         "name": "1061",
         "rawType": "float64",
         "type": "float"
        },
        {
         "name": "1062",
         "rawType": "float64",
         "type": "float"
        },
        {
         "name": "1063",
         "rawType": "float64",
         "type": "float"
        },
        {
         "name": "1064",
         "rawType": "float64",
         "type": "float"
        },
        {
         "name": "1065",
         "rawType": "float64",
         "type": "float"
        },
        {
         "name": "1066",
         "rawType": "float64",
         "type": "float"
        },
        {
         "name": "1067",
         "rawType": "float64",
         "type": "float"
        },
        {
         "name": "1068",
         "rawType": "float64",
         "type": "float"
        },
        {
         "name": "1069",
         "rawType": "float64",
         "type": "float"
        },
        {
         "name": "1070",
         "rawType": "float64",
         "type": "float"
        },
        {
         "name": "1071",
         "rawType": "float64",
         "type": "float"
        },
        {
         "name": "1072",
         "rawType": "float64",
         "type": "float"
        },
        {
         "name": "1073",
         "rawType": "float64",
         "type": "float"
        },
        {
         "name": "1074",
         "rawType": "float64",
         "type": "float"
        },
        {
         "name": "1075",
         "rawType": "float64",
         "type": "float"
        },
        {
         "name": "1076",
         "rawType": "float64",
         "type": "float"
        },
        {
         "name": "1077",
         "rawType": "float64",
         "type": "float"
        },
        {
         "name": "1078",
         "rawType": "float64",
         "type": "float"
        },
        {
         "name": "1079",
         "rawType": "float64",
         "type": "float"
        },
        {
         "name": "1080",
         "rawType": "float64",
         "type": "float"
        },
        {
         "name": "1081",
         "rawType": "float64",
         "type": "float"
        },
        {
         "name": "1082",
         "rawType": "float64",
         "type": "float"
        },
        {
         "name": "1083",
         "rawType": "float64",
         "type": "float"
        },
        {
         "name": "1084",
         "rawType": "float64",
         "type": "float"
        },
        {
         "name": "1085",
         "rawType": "float64",
         "type": "float"
        },
        {
         "name": "1086",
         "rawType": "float64",
         "type": "float"
        },
        {
         "name": "1087",
         "rawType": "float64",
         "type": "float"
        },
        {
         "name": "1088",
         "rawType": "float64",
         "type": "float"
        },
        {
         "name": "1089",
         "rawType": "float64",
         "type": "float"
        },
        {
         "name": "1090",
         "rawType": "float64",
         "type": "float"
        },
        {
         "name": "1091",
         "rawType": "float64",
         "type": "float"
        },
        {
         "name": "1092",
         "rawType": "float64",
         "type": "float"
        },
        {
         "name": "1093",
         "rawType": "float64",
         "type": "float"
        },
        {
         "name": "1094",
         "rawType": "float64",
         "type": "float"
        },
        {
         "name": "1095",
         "rawType": "float64",
         "type": "float"
        },
        {
         "name": "1096",
         "rawType": "float64",
         "type": "float"
        },
        {
         "name": "1097",
         "rawType": "float64",
         "type": "float"
        },
        {
         "name": "1098",
         "rawType": "float64",
         "type": "float"
        },
        {
         "name": "1099",
         "rawType": "float64",
         "type": "float"
        },
        {
         "name": "1100",
         "rawType": "float64",
         "type": "float"
        },
        {
         "name": "1101",
         "rawType": "float64",
         "type": "float"
        },
        {
         "name": "1102",
         "rawType": "float64",
         "type": "float"
        },
        {
         "name": "1103",
         "rawType": "float64",
         "type": "float"
        },
        {
         "name": "1104",
         "rawType": "float64",
         "type": "float"
        },
        {
         "name": "1105",
         "rawType": "float64",
         "type": "float"
        },
        {
         "name": "1106",
         "rawType": "float64",
         "type": "float"
        },
        {
         "name": "1107",
         "rawType": "float64",
         "type": "float"
        },
        {
         "name": "1108",
         "rawType": "float64",
         "type": "float"
        },
        {
         "name": "1109",
         "rawType": "float64",
         "type": "float"
        },
        {
         "name": "1110",
         "rawType": "float64",
         "type": "float"
        },
        {
         "name": "1111",
         "rawType": "float64",
         "type": "float"
        },
        {
         "name": "1112",
         "rawType": "float64",
         "type": "float"
        },
        {
         "name": "1113",
         "rawType": "float64",
         "type": "float"
        },
        {
         "name": "1114",
         "rawType": "float64",
         "type": "float"
        },
        {
         "name": "1115",
         "rawType": "float64",
         "type": "float"
        },
        {
         "name": "1116",
         "rawType": "float64",
         "type": "float"
        },
        {
         "name": "1117",
         "rawType": "float64",
         "type": "float"
        },
        {
         "name": "1118",
         "rawType": "float64",
         "type": "float"
        },
        {
         "name": "1119",
         "rawType": "float64",
         "type": "float"
        },
        {
         "name": "1120",
         "rawType": "float64",
         "type": "float"
        },
        {
         "name": "1121",
         "rawType": "float64",
         "type": "float"
        },
        {
         "name": "1122",
         "rawType": "float64",
         "type": "float"
        },
        {
         "name": "1123",
         "rawType": "float64",
         "type": "float"
        },
        {
         "name": "1124",
         "rawType": "float64",
         "type": "float"
        },
        {
         "name": "1125",
         "rawType": "float64",
         "type": "float"
        },
        {
         "name": "1126",
         "rawType": "float64",
         "type": "float"
        },
        {
         "name": "1127",
         "rawType": "float64",
         "type": "float"
        },
        {
         "name": "1128",
         "rawType": "float64",
         "type": "float"
        },
        {
         "name": "1129",
         "rawType": "float64",
         "type": "float"
        },
        {
         "name": "1130",
         "rawType": "float64",
         "type": "float"
        },
        {
         "name": "1131",
         "rawType": "float64",
         "type": "float"
        },
        {
         "name": "1132",
         "rawType": "float64",
         "type": "float"
        },
        {
         "name": "1133",
         "rawType": "float64",
         "type": "float"
        },
        {
         "name": "1134",
         "rawType": "float64",
         "type": "float"
        },
        {
         "name": "1135",
         "rawType": "float64",
         "type": "float"
        },
        {
         "name": "1136",
         "rawType": "float64",
         "type": "float"
        },
        {
         "name": "1137",
         "rawType": "float64",
         "type": "float"
        },
        {
         "name": "1138",
         "rawType": "float64",
         "type": "float"
        },
        {
         "name": "1139",
         "rawType": "float64",
         "type": "float"
        },
        {
         "name": "1140",
         "rawType": "float64",
         "type": "float"
        },
        {
         "name": "1141",
         "rawType": "float64",
         "type": "float"
        },
        {
         "name": "1142",
         "rawType": "float64",
         "type": "float"
        },
        {
         "name": "1143",
         "rawType": "float64",
         "type": "float"
        },
        {
         "name": "1144",
         "rawType": "float64",
         "type": "float"
        },
        {
         "name": "1145",
         "rawType": "float64",
         "type": "float"
        },
        {
         "name": "1146",
         "rawType": "float64",
         "type": "float"
        },
        {
         "name": "1147",
         "rawType": "float64",
         "type": "float"
        },
        {
         "name": "1148",
         "rawType": "float64",
         "type": "float"
        },
        {
         "name": "1149",
         "rawType": "float64",
         "type": "float"
        },
        {
         "name": "1150",
         "rawType": "float64",
         "type": "float"
        },
        {
         "name": "1151",
         "rawType": "float64",
         "type": "float"
        },
        {
         "name": "1152",
         "rawType": "float64",
         "type": "float"
        },
        {
         "name": "1153",
         "rawType": "float64",
         "type": "float"
        },
        {
         "name": "1154",
         "rawType": "float64",
         "type": "float"
        },
        {
         "name": "1155",
         "rawType": "float64",
         "type": "float"
        },
        {
         "name": "1156",
         "rawType": "float64",
         "type": "float"
        },
        {
         "name": "1157",
         "rawType": "float64",
         "type": "float"
        },
        {
         "name": "1158",
         "rawType": "float64",
         "type": "float"
        },
        {
         "name": "1159",
         "rawType": "float64",
         "type": "float"
        },
        {
         "name": "1160",
         "rawType": "float64",
         "type": "float"
        },
        {
         "name": "1161",
         "rawType": "float64",
         "type": "float"
        },
        {
         "name": "1162",
         "rawType": "float64",
         "type": "float"
        },
        {
         "name": "1163",
         "rawType": "float64",
         "type": "float"
        },
        {
         "name": "1164",
         "rawType": "float64",
         "type": "float"
        },
        {
         "name": "1165",
         "rawType": "float64",
         "type": "float"
        },
        {
         "name": "1166",
         "rawType": "float64",
         "type": "float"
        },
        {
         "name": "1167",
         "rawType": "float64",
         "type": "float"
        },
        {
         "name": "1168",
         "rawType": "float64",
         "type": "float"
        },
        {
         "name": "1169",
         "rawType": "float64",
         "type": "float"
        },
        {
         "name": "1170",
         "rawType": "float64",
         "type": "float"
        },
        {
         "name": "1171",
         "rawType": "float64",
         "type": "float"
        },
        {
         "name": "1172",
         "rawType": "float64",
         "type": "float"
        },
        {
         "name": "1173",
         "rawType": "float64",
         "type": "float"
        },
        {
         "name": "1174",
         "rawType": "float64",
         "type": "float"
        },
        {
         "name": "1175",
         "rawType": "float64",
         "type": "float"
        },
        {
         "name": "1176",
         "rawType": "float64",
         "type": "float"
        },
        {
         "name": "1177",
         "rawType": "float64",
         "type": "float"
        },
        {
         "name": "1178",
         "rawType": "float64",
         "type": "float"
        },
        {
         "name": "1179",
         "rawType": "float64",
         "type": "float"
        },
        {
         "name": "1180",
         "rawType": "float64",
         "type": "float"
        },
        {
         "name": "1181",
         "rawType": "float64",
         "type": "float"
        },
        {
         "name": "1182",
         "rawType": "float64",
         "type": "float"
        },
        {
         "name": "1183",
         "rawType": "float64",
         "type": "float"
        },
        {
         "name": "1184",
         "rawType": "float64",
         "type": "float"
        },
        {
         "name": "1185",
         "rawType": "float64",
         "type": "float"
        },
        {
         "name": "1186",
         "rawType": "float64",
         "type": "float"
        },
        {
         "name": "1187",
         "rawType": "float64",
         "type": "float"
        },
        {
         "name": "1188",
         "rawType": "float64",
         "type": "float"
        },
        {
         "name": "1189",
         "rawType": "float64",
         "type": "float"
        },
        {
         "name": "1190",
         "rawType": "float64",
         "type": "float"
        },
        {
         "name": "1191",
         "rawType": "float64",
         "type": "float"
        },
        {
         "name": "1192",
         "rawType": "float64",
         "type": "float"
        },
        {
         "name": "1193",
         "rawType": "float64",
         "type": "float"
        },
        {
         "name": "1194",
         "rawType": "float64",
         "type": "float"
        },
        {
         "name": "1195",
         "rawType": "float64",
         "type": "float"
        },
        {
         "name": "1196",
         "rawType": "float64",
         "type": "float"
        },
        {
         "name": "1197",
         "rawType": "float64",
         "type": "float"
        },
        {
         "name": "1198",
         "rawType": "float64",
         "type": "float"
        },
        {
         "name": "1199",
         "rawType": "float64",
         "type": "float"
        },
        {
         "name": "1200",
         "rawType": "float64",
         "type": "float"
        },
        {
         "name": "1201",
         "rawType": "float64",
         "type": "float"
        },
        {
         "name": "1202",
         "rawType": "float64",
         "type": "float"
        },
        {
         "name": "1203",
         "rawType": "float64",
         "type": "float"
        },
        {
         "name": "1204",
         "rawType": "float64",
         "type": "float"
        },
        {
         "name": "1205",
         "rawType": "float64",
         "type": "float"
        },
        {
         "name": "1206",
         "rawType": "float64",
         "type": "float"
        },
        {
         "name": "1207",
         "rawType": "float64",
         "type": "float"
        },
        {
         "name": "1208",
         "rawType": "float64",
         "type": "float"
        },
        {
         "name": "1209",
         "rawType": "float64",
         "type": "float"
        },
        {
         "name": "1210",
         "rawType": "float64",
         "type": "float"
        },
        {
         "name": "1211",
         "rawType": "float64",
         "type": "float"
        },
        {
         "name": "1212",
         "rawType": "float64",
         "type": "float"
        },
        {
         "name": "1213",
         "rawType": "float64",
         "type": "float"
        },
        {
         "name": "1214",
         "rawType": "float64",
         "type": "float"
        },
        {
         "name": "1215",
         "rawType": "float64",
         "type": "float"
        },
        {
         "name": "1216",
         "rawType": "float64",
         "type": "float"
        },
        {
         "name": "1217",
         "rawType": "float64",
         "type": "float"
        },
        {
         "name": "1218",
         "rawType": "float64",
         "type": "float"
        },
        {
         "name": "1219",
         "rawType": "float64",
         "type": "float"
        },
        {
         "name": "1220",
         "rawType": "float64",
         "type": "float"
        },
        {
         "name": "1221",
         "rawType": "float64",
         "type": "float"
        },
        {
         "name": "1222",
         "rawType": "float64",
         "type": "float"
        },
        {
         "name": "1223",
         "rawType": "float64",
         "type": "float"
        },
        {
         "name": "1224",
         "rawType": "float64",
         "type": "float"
        },
        {
         "name": "1225",
         "rawType": "float64",
         "type": "float"
        },
        {
         "name": "1226",
         "rawType": "float64",
         "type": "float"
        },
        {
         "name": "1227",
         "rawType": "float64",
         "type": "float"
        },
        {
         "name": "1228",
         "rawType": "float64",
         "type": "float"
        },
        {
         "name": "1229",
         "rawType": "float64",
         "type": "float"
        },
        {
         "name": "1230",
         "rawType": "float64",
         "type": "float"
        },
        {
         "name": "1231",
         "rawType": "float64",
         "type": "float"
        },
        {
         "name": "1232",
         "rawType": "float64",
         "type": "float"
        },
        {
         "name": "1233",
         "rawType": "float64",
         "type": "float"
        },
        {
         "name": "1234",
         "rawType": "float64",
         "type": "float"
        },
        {
         "name": "1235",
         "rawType": "float64",
         "type": "float"
        },
        {
         "name": "1236",
         "rawType": "float64",
         "type": "float"
        },
        {
         "name": "1237",
         "rawType": "float64",
         "type": "float"
        },
        {
         "name": "1238",
         "rawType": "float64",
         "type": "float"
        },
        {
         "name": "1239",
         "rawType": "float64",
         "type": "float"
        },
        {
         "name": "1240",
         "rawType": "float64",
         "type": "float"
        },
        {
         "name": "1241",
         "rawType": "float64",
         "type": "float"
        },
        {
         "name": "1242",
         "rawType": "float64",
         "type": "float"
        },
        {
         "name": "1243",
         "rawType": "float64",
         "type": "float"
        },
        {
         "name": "1244",
         "rawType": "float64",
         "type": "float"
        },
        {
         "name": "1245",
         "rawType": "float64",
         "type": "float"
        },
        {
         "name": "1246",
         "rawType": "float64",
         "type": "float"
        },
        {
         "name": "1247",
         "rawType": "float64",
         "type": "float"
        },
        {
         "name": "1248",
         "rawType": "float64",
         "type": "float"
        },
        {
         "name": "1249",
         "rawType": "float64",
         "type": "float"
        },
        {
         "name": "1250",
         "rawType": "float64",
         "type": "float"
        },
        {
         "name": "1251",
         "rawType": "float64",
         "type": "float"
        },
        {
         "name": "1252",
         "rawType": "float64",
         "type": "float"
        },
        {
         "name": "1253",
         "rawType": "float64",
         "type": "float"
        },
        {
         "name": "1254",
         "rawType": "float64",
         "type": "float"
        },
        {
         "name": "1255",
         "rawType": "float64",
         "type": "float"
        },
        {
         "name": "1256",
         "rawType": "float64",
         "type": "float"
        },
        {
         "name": "1257",
         "rawType": "float64",
         "type": "float"
        },
        {
         "name": "1258",
         "rawType": "float64",
         "type": "float"
        },
        {
         "name": "1259",
         "rawType": "float64",
         "type": "float"
        },
        {
         "name": "1260",
         "rawType": "float64",
         "type": "float"
        },
        {
         "name": "1261",
         "rawType": "float64",
         "type": "float"
        },
        {
         "name": "1262",
         "rawType": "float64",
         "type": "float"
        },
        {
         "name": "1263",
         "rawType": "float64",
         "type": "float"
        },
        {
         "name": "1264",
         "rawType": "float64",
         "type": "float"
        },
        {
         "name": "1265",
         "rawType": "float64",
         "type": "float"
        },
        {
         "name": "1266",
         "rawType": "float64",
         "type": "float"
        },
        {
         "name": "1267",
         "rawType": "float64",
         "type": "float"
        },
        {
         "name": "1268",
         "rawType": "float64",
         "type": "float"
        },
        {
         "name": "1269",
         "rawType": "float64",
         "type": "float"
        },
        {
         "name": "1270",
         "rawType": "float64",
         "type": "float"
        },
        {
         "name": "1271",
         "rawType": "float64",
         "type": "float"
        },
        {
         "name": "1272",
         "rawType": "float64",
         "type": "float"
        },
        {
         "name": "1273",
         "rawType": "float64",
         "type": "float"
        },
        {
         "name": "1274",
         "rawType": "float64",
         "type": "float"
        },
        {
         "name": "1275",
         "rawType": "float64",
         "type": "float"
        },
        {
         "name": "1276",
         "rawType": "float64",
         "type": "float"
        },
        {
         "name": "1277",
         "rawType": "float64",
         "type": "float"
        },
        {
         "name": "1278",
         "rawType": "float64",
         "type": "float"
        },
        {
         "name": "1279",
         "rawType": "float64",
         "type": "float"
        },
        {
         "name": "1280",
         "rawType": "float64",
         "type": "float"
        },
        {
         "name": "1281",
         "rawType": "float64",
         "type": "float"
        },
        {
         "name": "1282",
         "rawType": "float64",
         "type": "float"
        },
        {
         "name": "1283",
         "rawType": "float64",
         "type": "float"
        },
        {
         "name": "1284",
         "rawType": "float64",
         "type": "float"
        },
        {
         "name": "1285",
         "rawType": "float64",
         "type": "float"
        },
        {
         "name": "1286",
         "rawType": "float64",
         "type": "float"
        },
        {
         "name": "1287",
         "rawType": "float64",
         "type": "float"
        },
        {
         "name": "1288",
         "rawType": "float64",
         "type": "float"
        },
        {
         "name": "1289",
         "rawType": "float64",
         "type": "float"
        },
        {
         "name": "1290",
         "rawType": "float64",
         "type": "float"
        },
        {
         "name": "1291",
         "rawType": "float64",
         "type": "float"
        },
        {
         "name": "1292",
         "rawType": "float64",
         "type": "float"
        },
        {
         "name": "1293",
         "rawType": "float64",
         "type": "float"
        },
        {
         "name": "1294",
         "rawType": "float64",
         "type": "float"
        },
        {
         "name": "1295",
         "rawType": "float64",
         "type": "float"
        },
        {
         "name": "1296",
         "rawType": "float64",
         "type": "float"
        },
        {
         "name": "1297",
         "rawType": "float64",
         "type": "float"
        },
        {
         "name": "1298",
         "rawType": "float64",
         "type": "float"
        },
        {
         "name": "1299",
         "rawType": "float64",
         "type": "float"
        },
        {
         "name": "1300",
         "rawType": "float64",
         "type": "float"
        },
        {
         "name": "1301",
         "rawType": "float64",
         "type": "float"
        },
        {
         "name": "1302",
         "rawType": "float64",
         "type": "float"
        },
        {
         "name": "1303",
         "rawType": "float64",
         "type": "float"
        },
        {
         "name": "1304",
         "rawType": "float64",
         "type": "float"
        },
        {
         "name": "1305",
         "rawType": "float64",
         "type": "float"
        },
        {
         "name": "1306",
         "rawType": "float64",
         "type": "float"
        },
        {
         "name": "1307",
         "rawType": "float64",
         "type": "float"
        },
        {
         "name": "1308",
         "rawType": "float64",
         "type": "float"
        },
        {
         "name": "1309",
         "rawType": "float64",
         "type": "float"
        },
        {
         "name": "1310",
         "rawType": "float64",
         "type": "float"
        },
        {
         "name": "1311",
         "rawType": "float64",
         "type": "float"
        },
        {
         "name": "1312",
         "rawType": "float64",
         "type": "float"
        },
        {
         "name": "1313",
         "rawType": "float64",
         "type": "float"
        },
        {
         "name": "1314",
         "rawType": "float64",
         "type": "float"
        },
        {
         "name": "1315",
         "rawType": "float64",
         "type": "float"
        },
        {
         "name": "1316",
         "rawType": "float64",
         "type": "float"
        },
        {
         "name": "1317",
         "rawType": "float64",
         "type": "float"
        },
        {
         "name": "1318",
         "rawType": "float64",
         "type": "float"
        },
        {
         "name": "1319",
         "rawType": "float64",
         "type": "float"
        },
        {
         "name": "1320",
         "rawType": "float64",
         "type": "float"
        },
        {
         "name": "1321",
         "rawType": "float64",
         "type": "float"
        },
        {
         "name": "1322",
         "rawType": "float64",
         "type": "float"
        },
        {
         "name": "1323",
         "rawType": "float64",
         "type": "float"
        },
        {
         "name": "1324",
         "rawType": "float64",
         "type": "float"
        },
        {
         "name": "1325",
         "rawType": "float64",
         "type": "float"
        },
        {
         "name": "1326",
         "rawType": "float64",
         "type": "float"
        },
        {
         "name": "1327",
         "rawType": "float64",
         "type": "float"
        },
        {
         "name": "1328",
         "rawType": "float64",
         "type": "float"
        },
        {
         "name": "1329",
         "rawType": "float64",
         "type": "float"
        },
        {
         "name": "1330",
         "rawType": "float64",
         "type": "float"
        },
        {
         "name": "1331",
         "rawType": "float64",
         "type": "float"
        },
        {
         "name": "1332",
         "rawType": "float64",
         "type": "float"
        },
        {
         "name": "1333",
         "rawType": "float64",
         "type": "float"
        },
        {
         "name": "1334",
         "rawType": "float64",
         "type": "float"
        },
        {
         "name": "1335",
         "rawType": "float64",
         "type": "float"
        },
        {
         "name": "1336",
         "rawType": "float64",
         "type": "float"
        },
        {
         "name": "1337",
         "rawType": "float64",
         "type": "float"
        },
        {
         "name": "1338",
         "rawType": "float64",
         "type": "float"
        },
        {
         "name": "1339",
         "rawType": "float64",
         "type": "float"
        },
        {
         "name": "1340",
         "rawType": "float64",
         "type": "float"
        },
        {
         "name": "1341",
         "rawType": "float64",
         "type": "float"
        },
        {
         "name": "1342",
         "rawType": "float64",
         "type": "float"
        },
        {
         "name": "1343",
         "rawType": "float64",
         "type": "float"
        },
        {
         "name": "1344",
         "rawType": "float64",
         "type": "float"
        },
        {
         "name": "1345",
         "rawType": "float64",
         "type": "float"
        },
        {
         "name": "1346",
         "rawType": "float64",
         "type": "float"
        },
        {
         "name": "1347",
         "rawType": "float64",
         "type": "float"
        },
        {
         "name": "1348",
         "rawType": "float64",
         "type": "float"
        },
        {
         "name": "1349",
         "rawType": "float64",
         "type": "float"
        },
        {
         "name": "1350",
         "rawType": "float64",
         "type": "float"
        },
        {
         "name": "1351",
         "rawType": "float64",
         "type": "float"
        },
        {
         "name": "1352",
         "rawType": "float64",
         "type": "float"
        },
        {
         "name": "1353",
         "rawType": "float64",
         "type": "float"
        },
        {
         "name": "1354",
         "rawType": "float64",
         "type": "float"
        },
        {
         "name": "1355",
         "rawType": "float64",
         "type": "float"
        },
        {
         "name": "1356",
         "rawType": "float64",
         "type": "float"
        },
        {
         "name": "1357",
         "rawType": "float64",
         "type": "float"
        },
        {
         "name": "1358",
         "rawType": "float64",
         "type": "float"
        },
        {
         "name": "1359",
         "rawType": "float64",
         "type": "float"
        },
        {
         "name": "1360",
         "rawType": "float64",
         "type": "float"
        },
        {
         "name": "1361",
         "rawType": "float64",
         "type": "float"
        },
        {
         "name": "1362",
         "rawType": "float64",
         "type": "float"
        },
        {
         "name": "1363",
         "rawType": "float64",
         "type": "float"
        },
        {
         "name": "1364",
         "rawType": "float64",
         "type": "float"
        },
        {
         "name": "1365",
         "rawType": "float64",
         "type": "float"
        },
        {
         "name": "1366",
         "rawType": "float64",
         "type": "float"
        },
        {
         "name": "1367",
         "rawType": "float64",
         "type": "float"
        },
        {
         "name": "1368",
         "rawType": "float64",
         "type": "float"
        },
        {
         "name": "1369",
         "rawType": "float64",
         "type": "float"
        },
        {
         "name": "1370",
         "rawType": "float64",
         "type": "float"
        },
        {
         "name": "1371",
         "rawType": "float64",
         "type": "float"
        },
        {
         "name": "1372",
         "rawType": "float64",
         "type": "float"
        },
        {
         "name": "1373",
         "rawType": "float64",
         "type": "float"
        },
        {
         "name": "1374",
         "rawType": "float64",
         "type": "float"
        },
        {
         "name": "1375",
         "rawType": "float64",
         "type": "float"
        },
        {
         "name": "1376",
         "rawType": "float64",
         "type": "float"
        },
        {
         "name": "1377",
         "rawType": "float64",
         "type": "float"
        },
        {
         "name": "1378",
         "rawType": "float64",
         "type": "float"
        },
        {
         "name": "1379",
         "rawType": "float64",
         "type": "float"
        },
        {
         "name": "1380",
         "rawType": "float64",
         "type": "float"
        },
        {
         "name": "1381",
         "rawType": "float64",
         "type": "float"
        },
        {
         "name": "1382",
         "rawType": "float64",
         "type": "float"
        },
        {
         "name": "1383",
         "rawType": "float64",
         "type": "float"
        },
        {
         "name": "1384",
         "rawType": "float64",
         "type": "float"
        },
        {
         "name": "1385",
         "rawType": "float64",
         "type": "float"
        },
        {
         "name": "1386",
         "rawType": "float64",
         "type": "float"
        },
        {
         "name": "1387",
         "rawType": "float64",
         "type": "float"
        },
        {
         "name": "1388",
         "rawType": "float64",
         "type": "float"
        },
        {
         "name": "1389",
         "rawType": "float64",
         "type": "float"
        },
        {
         "name": "1390",
         "rawType": "float64",
         "type": "float"
        },
        {
         "name": "1391",
         "rawType": "float64",
         "type": "float"
        },
        {
         "name": "1392",
         "rawType": "float64",
         "type": "float"
        },
        {
         "name": "1393",
         "rawType": "float64",
         "type": "float"
        },
        {
         "name": "1394",
         "rawType": "float64",
         "type": "float"
        },
        {
         "name": "1395",
         "rawType": "float64",
         "type": "float"
        },
        {
         "name": "1396",
         "rawType": "float64",
         "type": "float"
        },
        {
         "name": "1397",
         "rawType": "float64",
         "type": "float"
        },
        {
         "name": "1398",
         "rawType": "float64",
         "type": "float"
        },
        {
         "name": "1399",
         "rawType": "float64",
         "type": "float"
        },
        {
         "name": "1400",
         "rawType": "float64",
         "type": "float"
        },
        {
         "name": "1401",
         "rawType": "float64",
         "type": "float"
        },
        {
         "name": "1402",
         "rawType": "float64",
         "type": "float"
        },
        {
         "name": "1403",
         "rawType": "float64",
         "type": "float"
        },
        {
         "name": "1404",
         "rawType": "float64",
         "type": "float"
        },
        {
         "name": "1405",
         "rawType": "float64",
         "type": "float"
        },
        {
         "name": "1406",
         "rawType": "float64",
         "type": "float"
        },
        {
         "name": "1407",
         "rawType": "float64",
         "type": "float"
        },
        {
         "name": "1408",
         "rawType": "float64",
         "type": "float"
        },
        {
         "name": "1409",
         "rawType": "float64",
         "type": "float"
        },
        {
         "name": "1410",
         "rawType": "float64",
         "type": "float"
        },
        {
         "name": "1411",
         "rawType": "float64",
         "type": "float"
        },
        {
         "name": "1412",
         "rawType": "float64",
         "type": "float"
        },
        {
         "name": "1413",
         "rawType": "float64",
         "type": "float"
        },
        {
         "name": "1414",
         "rawType": "float64",
         "type": "float"
        },
        {
         "name": "1415",
         "rawType": "float64",
         "type": "float"
        },
        {
         "name": "1416",
         "rawType": "float64",
         "type": "float"
        },
        {
         "name": "1417",
         "rawType": "float64",
         "type": "float"
        },
        {
         "name": "1418",
         "rawType": "float64",
         "type": "float"
        },
        {
         "name": "1419",
         "rawType": "float64",
         "type": "float"
        },
        {
         "name": "1420",
         "rawType": "float64",
         "type": "float"
        },
        {
         "name": "1421",
         "rawType": "float64",
         "type": "float"
        },
        {
         "name": "1422",
         "rawType": "float64",
         "type": "float"
        },
        {
         "name": "1423",
         "rawType": "float64",
         "type": "float"
        },
        {
         "name": "1424",
         "rawType": "float64",
         "type": "float"
        },
        {
         "name": "1425",
         "rawType": "float64",
         "type": "float"
        },
        {
         "name": "1426",
         "rawType": "float64",
         "type": "float"
        },
        {
         "name": "1427",
         "rawType": "float64",
         "type": "float"
        },
        {
         "name": "1428",
         "rawType": "float64",
         "type": "float"
        },
        {
         "name": "1429",
         "rawType": "float64",
         "type": "float"
        },
        {
         "name": "1430",
         "rawType": "float64",
         "type": "float"
        },
        {
         "name": "1431",
         "rawType": "float64",
         "type": "float"
        },
        {
         "name": "1432",
         "rawType": "float64",
         "type": "float"
        },
        {
         "name": "1433",
         "rawType": "float64",
         "type": "float"
        },
        {
         "name": "1434",
         "rawType": "float64",
         "type": "float"
        },
        {
         "name": "1435",
         "rawType": "float64",
         "type": "float"
        },
        {
         "name": "1436",
         "rawType": "float64",
         "type": "float"
        },
        {
         "name": "1437",
         "rawType": "float64",
         "type": "float"
        },
        {
         "name": "1438",
         "rawType": "float64",
         "type": "float"
        },
        {
         "name": "1439",
         "rawType": "float64",
         "type": "float"
        },
        {
         "name": "1440",
         "rawType": "float64",
         "type": "float"
        },
        {
         "name": "1441",
         "rawType": "float64",
         "type": "float"
        },
        {
         "name": "1442",
         "rawType": "float64",
         "type": "float"
        },
        {
         "name": "1443",
         "rawType": "float64",
         "type": "float"
        },
        {
         "name": "1444",
         "rawType": "float64",
         "type": "float"
        },
        {
         "name": "1445",
         "rawType": "float64",
         "type": "float"
        },
        {
         "name": "1446",
         "rawType": "float64",
         "type": "float"
        },
        {
         "name": "1447",
         "rawType": "float64",
         "type": "float"
        },
        {
         "name": "1448",
         "rawType": "float64",
         "type": "float"
        },
        {
         "name": "1449",
         "rawType": "float64",
         "type": "float"
        },
        {
         "name": "1450",
         "rawType": "float64",
         "type": "float"
        },
        {
         "name": "1451",
         "rawType": "float64",
         "type": "float"
        },
        {
         "name": "1452",
         "rawType": "float64",
         "type": "float"
        },
        {
         "name": "1453",
         "rawType": "float64",
         "type": "float"
        },
        {
         "name": "1454",
         "rawType": "float64",
         "type": "float"
        },
        {
         "name": "1455",
         "rawType": "float64",
         "type": "float"
        },
        {
         "name": "1456",
         "rawType": "float64",
         "type": "float"
        },
        {
         "name": "1457",
         "rawType": "float64",
         "type": "float"
        },
        {
         "name": "1458",
         "rawType": "float64",
         "type": "float"
        },
        {
         "name": "1459",
         "rawType": "float64",
         "type": "float"
        },
        {
         "name": "1460",
         "rawType": "float64",
         "type": "float"
        },
        {
         "name": "1461",
         "rawType": "float64",
         "type": "float"
        },
        {
         "name": "1462",
         "rawType": "float64",
         "type": "float"
        },
        {
         "name": "1463",
         "rawType": "float64",
         "type": "float"
        },
        {
         "name": "1464",
         "rawType": "float64",
         "type": "float"
        },
        {
         "name": "1465",
         "rawType": "float64",
         "type": "float"
        },
        {
         "name": "1466",
         "rawType": "float64",
         "type": "float"
        },
        {
         "name": "1467",
         "rawType": "float64",
         "type": "float"
        },
        {
         "name": "1468",
         "rawType": "float64",
         "type": "float"
        },
        {
         "name": "1469",
         "rawType": "float64",
         "type": "float"
        },
        {
         "name": "1470",
         "rawType": "float64",
         "type": "float"
        },
        {
         "name": "1471",
         "rawType": "float64",
         "type": "float"
        },
        {
         "name": "1472",
         "rawType": "float64",
         "type": "float"
        },
        {
         "name": "1473",
         "rawType": "float64",
         "type": "float"
        },
        {
         "name": "1474",
         "rawType": "float64",
         "type": "float"
        },
        {
         "name": "1475",
         "rawType": "float64",
         "type": "float"
        },
        {
         "name": "1476",
         "rawType": "float64",
         "type": "float"
        },
        {
         "name": "1477",
         "rawType": "float64",
         "type": "float"
        },
        {
         "name": "1478",
         "rawType": "float64",
         "type": "float"
        },
        {
         "name": "1479",
         "rawType": "float64",
         "type": "float"
        },
        {
         "name": "1480",
         "rawType": "float64",
         "type": "float"
        },
        {
         "name": "1481",
         "rawType": "float64",
         "type": "float"
        },
        {
         "name": "1482",
         "rawType": "float64",
         "type": "float"
        },
        {
         "name": "1483",
         "rawType": "float64",
         "type": "float"
        },
        {
         "name": "1484",
         "rawType": "float64",
         "type": "float"
        },
        {
         "name": "1485",
         "rawType": "float64",
         "type": "float"
        },
        {
         "name": "1486",
         "rawType": "float64",
         "type": "float"
        },
        {
         "name": "1487",
         "rawType": "float64",
         "type": "float"
        },
        {
         "name": "1488",
         "rawType": "float64",
         "type": "float"
        },
        {
         "name": "1489",
         "rawType": "float64",
         "type": "float"
        },
        {
         "name": "1490",
         "rawType": "float64",
         "type": "float"
        },
        {
         "name": "1491",
         "rawType": "float64",
         "type": "float"
        },
        {
         "name": "1492",
         "rawType": "float64",
         "type": "float"
        },
        {
         "name": "1493",
         "rawType": "float64",
         "type": "float"
        },
        {
         "name": "1494",
         "rawType": "float64",
         "type": "float"
        },
        {
         "name": "1495",
         "rawType": "float64",
         "type": "float"
        },
        {
         "name": "1496",
         "rawType": "float64",
         "type": "float"
        },
        {
         "name": "1497",
         "rawType": "float64",
         "type": "float"
        },
        {
         "name": "1498",
         "rawType": "float64",
         "type": "float"
        },
        {
         "name": "1499",
         "rawType": "float64",
         "type": "float"
        },
        {
         "name": "1500",
         "rawType": "float64",
         "type": "float"
        },
        {
         "name": "1501",
         "rawType": "float64",
         "type": "float"
        },
        {
         "name": "1502",
         "rawType": "float64",
         "type": "float"
        },
        {
         "name": "1503",
         "rawType": "float64",
         "type": "float"
        },
        {
         "name": "1504",
         "rawType": "float64",
         "type": "float"
        },
        {
         "name": "1505",
         "rawType": "float64",
         "type": "float"
        },
        {
         "name": "1506",
         "rawType": "float64",
         "type": "float"
        },
        {
         "name": "1507",
         "rawType": "float64",
         "type": "float"
        },
        {
         "name": "1508",
         "rawType": "float64",
         "type": "float"
        },
        {
         "name": "1509",
         "rawType": "float64",
         "type": "float"
        },
        {
         "name": "1510",
         "rawType": "float64",
         "type": "float"
        },
        {
         "name": "1511",
         "rawType": "float64",
         "type": "float"
        },
        {
         "name": "1512",
         "rawType": "float64",
         "type": "float"
        },
        {
         "name": "1513",
         "rawType": "float64",
         "type": "float"
        },
        {
         "name": "1514",
         "rawType": "float64",
         "type": "float"
        },
        {
         "name": "1515",
         "rawType": "float64",
         "type": "float"
        },
        {
         "name": "1516",
         "rawType": "float64",
         "type": "float"
        },
        {
         "name": "1517",
         "rawType": "float64",
         "type": "float"
        },
        {
         "name": "1518",
         "rawType": "float64",
         "type": "float"
        },
        {
         "name": "1519",
         "rawType": "float64",
         "type": "float"
        },
        {
         "name": "1520",
         "rawType": "float64",
         "type": "float"
        },
        {
         "name": "1521",
         "rawType": "float64",
         "type": "float"
        },
        {
         "name": "1522",
         "rawType": "float64",
         "type": "float"
        },
        {
         "name": "1523",
         "rawType": "float64",
         "type": "float"
        },
        {
         "name": "1524",
         "rawType": "float64",
         "type": "float"
        },
        {
         "name": "1525",
         "rawType": "float64",
         "type": "float"
        },
        {
         "name": "1526",
         "rawType": "float64",
         "type": "float"
        },
        {
         "name": "1527",
         "rawType": "float64",
         "type": "float"
        },
        {
         "name": "1528",
         "rawType": "float64",
         "type": "float"
        },
        {
         "name": "1529",
         "rawType": "float64",
         "type": "float"
        },
        {
         "name": "1530",
         "rawType": "float64",
         "type": "float"
        },
        {
         "name": "1531",
         "rawType": "float64",
         "type": "float"
        },
        {
         "name": "1532",
         "rawType": "float64",
         "type": "float"
        },
        {
         "name": "1533",
         "rawType": "float64",
         "type": "float"
        },
        {
         "name": "1534",
         "rawType": "float64",
         "type": "float"
        },
        {
         "name": "1535",
         "rawType": "float64",
         "type": "float"
        },
        {
         "name": "1536",
         "rawType": "float64",
         "type": "float"
        },
        {
         "name": "1537",
         "rawType": "float64",
         "type": "float"
        },
        {
         "name": "1538",
         "rawType": "float64",
         "type": "float"
        },
        {
         "name": "1539",
         "rawType": "float64",
         "type": "float"
        },
        {
         "name": "1540",
         "rawType": "float64",
         "type": "float"
        },
        {
         "name": "1541",
         "rawType": "float64",
         "type": "float"
        },
        {
         "name": "1542",
         "rawType": "float64",
         "type": "float"
        },
        {
         "name": "1543",
         "rawType": "float64",
         "type": "float"
        },
        {
         "name": "1544",
         "rawType": "float64",
         "type": "float"
        },
        {
         "name": "1545",
         "rawType": "float64",
         "type": "float"
        },
        {
         "name": "1546",
         "rawType": "float64",
         "type": "float"
        },
        {
         "name": "1547",
         "rawType": "float64",
         "type": "float"
        },
        {
         "name": "1548",
         "rawType": "float64",
         "type": "float"
        },
        {
         "name": "1549",
         "rawType": "float64",
         "type": "float"
        },
        {
         "name": "1550",
         "rawType": "float64",
         "type": "float"
        },
        {
         "name": "1551",
         "rawType": "float64",
         "type": "float"
        },
        {
         "name": "1552",
         "rawType": "float64",
         "type": "float"
        },
        {
         "name": "1553",
         "rawType": "float64",
         "type": "float"
        },
        {
         "name": "1554",
         "rawType": "float64",
         "type": "float"
        },
        {
         "name": "1555",
         "rawType": "float64",
         "type": "float"
        },
        {
         "name": "1556",
         "rawType": "float64",
         "type": "float"
        },
        {
         "name": "1557",
         "rawType": "float64",
         "type": "float"
        },
        {
         "name": "1558",
         "rawType": "float64",
         "type": "float"
        },
        {
         "name": "1559",
         "rawType": "float64",
         "type": "float"
        },
        {
         "name": "1560",
         "rawType": "float64",
         "type": "float"
        },
        {
         "name": "1561",
         "rawType": "float64",
         "type": "float"
        },
        {
         "name": "1562",
         "rawType": "float64",
         "type": "float"
        },
        {
         "name": "1563",
         "rawType": "float64",
         "type": "float"
        },
        {
         "name": "1564",
         "rawType": "float64",
         "type": "float"
        },
        {
         "name": "1565",
         "rawType": "float64",
         "type": "float"
        },
        {
         "name": "1566",
         "rawType": "float64",
         "type": "float"
        },
        {
         "name": "1567",
         "rawType": "float64",
         "type": "float"
        },
        {
         "name": "1568",
         "rawType": "float64",
         "type": "float"
        },
        {
         "name": "1569",
         "rawType": "float64",
         "type": "float"
        },
        {
         "name": "1570",
         "rawType": "float64",
         "type": "float"
        },
        {
         "name": "1571",
         "rawType": "float64",
         "type": "float"
        },
        {
         "name": "1572",
         "rawType": "float64",
         "type": "float"
        },
        {
         "name": "1573",
         "rawType": "float64",
         "type": "float"
        },
        {
         "name": "1574",
         "rawType": "float64",
         "type": "float"
        },
        {
         "name": "1575",
         "rawType": "float64",
         "type": "float"
        },
        {
         "name": "1576",
         "rawType": "float64",
         "type": "float"
        },
        {
         "name": "1577",
         "rawType": "float64",
         "type": "float"
        },
        {
         "name": "1578",
         "rawType": "float64",
         "type": "float"
        },
        {
         "name": "1579",
         "rawType": "float64",
         "type": "float"
        },
        {
         "name": "1580",
         "rawType": "float64",
         "type": "float"
        },
        {
         "name": "1581",
         "rawType": "float64",
         "type": "float"
        },
        {
         "name": "1582",
         "rawType": "float64",
         "type": "float"
        },
        {
         "name": "1583",
         "rawType": "float64",
         "type": "float"
        },
        {
         "name": "1584",
         "rawType": "float64",
         "type": "float"
        },
        {
         "name": "1585",
         "rawType": "float64",
         "type": "float"
        },
        {
         "name": "1586",
         "rawType": "float64",
         "type": "float"
        },
        {
         "name": "1587",
         "rawType": "float64",
         "type": "float"
        },
        {
         "name": "1588",
         "rawType": "float64",
         "type": "float"
        },
        {
         "name": "1589",
         "rawType": "float64",
         "type": "float"
        },
        {
         "name": "1590",
         "rawType": "float64",
         "type": "float"
        },
        {
         "name": "1591",
         "rawType": "float64",
         "type": "float"
        },
        {
         "name": "1592",
         "rawType": "float64",
         "type": "float"
        },
        {
         "name": "1593",
         "rawType": "float64",
         "type": "float"
        },
        {
         "name": "1594",
         "rawType": "float64",
         "type": "float"
        },
        {
         "name": "1595",
         "rawType": "float64",
         "type": "float"
        },
        {
         "name": "1596",
         "rawType": "float64",
         "type": "float"
        },
        {
         "name": "1597",
         "rawType": "float64",
         "type": "float"
        },
        {
         "name": "1598",
         "rawType": "float64",
         "type": "float"
        },
        {
         "name": "1599",
         "rawType": "float64",
         "type": "float"
        },
        {
         "name": "1600",
         "rawType": "float64",
         "type": "float"
        },
        {
         "name": "1601",
         "rawType": "float64",
         "type": "float"
        },
        {
         "name": "1602",
         "rawType": "float64",
         "type": "float"
        },
        {
         "name": "1603",
         "rawType": "float64",
         "type": "float"
        },
        {
         "name": "1604",
         "rawType": "float64",
         "type": "float"
        },
        {
         "name": "1605",
         "rawType": "float64",
         "type": "float"
        },
        {
         "name": "1606",
         "rawType": "float64",
         "type": "float"
        },
        {
         "name": "1607",
         "rawType": "float64",
         "type": "float"
        },
        {
         "name": "1608",
         "rawType": "float64",
         "type": "float"
        },
        {
         "name": "1609",
         "rawType": "float64",
         "type": "float"
        },
        {
         "name": "1610",
         "rawType": "float64",
         "type": "float"
        },
        {
         "name": "1611",
         "rawType": "float64",
         "type": "float"
        },
        {
         "name": "1612",
         "rawType": "float64",
         "type": "float"
        },
        {
         "name": "1613",
         "rawType": "float64",
         "type": "float"
        },
        {
         "name": "1614",
         "rawType": "float64",
         "type": "float"
        },
        {
         "name": "1615",
         "rawType": "float64",
         "type": "float"
        },
        {
         "name": "1616",
         "rawType": "float64",
         "type": "float"
        },
        {
         "name": "1617",
         "rawType": "float64",
         "type": "float"
        },
        {
         "name": "1618",
         "rawType": "float64",
         "type": "float"
        },
        {
         "name": "1619",
         "rawType": "float64",
         "type": "float"
        },
        {
         "name": "1620",
         "rawType": "float64",
         "type": "float"
        },
        {
         "name": "1621",
         "rawType": "float64",
         "type": "float"
        },
        {
         "name": "1622",
         "rawType": "float64",
         "type": "float"
        },
        {
         "name": "1623",
         "rawType": "float64",
         "type": "float"
        },
        {
         "name": "1624",
         "rawType": "float64",
         "type": "float"
        },
        {
         "name": "1625",
         "rawType": "float64",
         "type": "float"
        },
        {
         "name": "1626",
         "rawType": "float64",
         "type": "float"
        },
        {
         "name": "1627",
         "rawType": "float64",
         "type": "float"
        },
        {
         "name": "1628",
         "rawType": "float64",
         "type": "float"
        },
        {
         "name": "1629",
         "rawType": "float64",
         "type": "float"
        },
        {
         "name": "1630",
         "rawType": "float64",
         "type": "float"
        },
        {
         "name": "1631",
         "rawType": "float64",
         "type": "float"
        },
        {
         "name": "1632",
         "rawType": "float64",
         "type": "float"
        },
        {
         "name": "1633",
         "rawType": "float64",
         "type": "float"
        },
        {
         "name": "1634",
         "rawType": "float64",
         "type": "float"
        },
        {
         "name": "1635",
         "rawType": "float64",
         "type": "float"
        },
        {
         "name": "1636",
         "rawType": "float64",
         "type": "float"
        },
        {
         "name": "1637",
         "rawType": "float64",
         "type": "float"
        },
        {
         "name": "1638",
         "rawType": "float64",
         "type": "float"
        },
        {
         "name": "1639",
         "rawType": "float64",
         "type": "float"
        },
        {
         "name": "1640",
         "rawType": "float64",
         "type": "float"
        },
        {
         "name": "1641",
         "rawType": "float64",
         "type": "float"
        },
        {
         "name": "1642",
         "rawType": "float64",
         "type": "float"
        },
        {
         "name": "1643",
         "rawType": "float64",
         "type": "float"
        },
        {
         "name": "1644",
         "rawType": "float64",
         "type": "float"
        },
        {
         "name": "1645",
         "rawType": "float64",
         "type": "float"
        },
        {
         "name": "1646",
         "rawType": "float64",
         "type": "float"
        },
        {
         "name": "1647",
         "rawType": "float64",
         "type": "float"
        },
        {
         "name": "1648",
         "rawType": "float64",
         "type": "float"
        },
        {
         "name": "1649",
         "rawType": "float64",
         "type": "float"
        },
        {
         "name": "1650",
         "rawType": "float64",
         "type": "float"
        },
        {
         "name": "1651",
         "rawType": "float64",
         "type": "float"
        },
        {
         "name": "1652",
         "rawType": "float64",
         "type": "float"
        },
        {
         "name": "1653",
         "rawType": "float64",
         "type": "float"
        },
        {
         "name": "1654",
         "rawType": "float64",
         "type": "float"
        },
        {
         "name": "1655",
         "rawType": "float64",
         "type": "float"
        },
        {
         "name": "1656",
         "rawType": "float64",
         "type": "float"
        },
        {
         "name": "1657",
         "rawType": "float64",
         "type": "float"
        },
        {
         "name": "1658",
         "rawType": "float64",
         "type": "float"
        },
        {
         "name": "1659",
         "rawType": "float64",
         "type": "float"
        },
        {
         "name": "1660",
         "rawType": "float64",
         "type": "float"
        },
        {
         "name": "1661",
         "rawType": "float64",
         "type": "float"
        },
        {
         "name": "1662",
         "rawType": "float64",
         "type": "float"
        },
        {
         "name": "1663",
         "rawType": "float64",
         "type": "float"
        },
        {
         "name": "1664",
         "rawType": "float64",
         "type": "float"
        },
        {
         "name": "1665",
         "rawType": "float64",
         "type": "float"
        },
        {
         "name": "1666",
         "rawType": "float64",
         "type": "float"
        },
        {
         "name": "1667",
         "rawType": "float64",
         "type": "float"
        },
        {
         "name": "1668",
         "rawType": "float64",
         "type": "float"
        },
        {
         "name": "1669",
         "rawType": "float64",
         "type": "float"
        },
        {
         "name": "1670",
         "rawType": "float64",
         "type": "float"
        },
        {
         "name": "1671",
         "rawType": "float64",
         "type": "float"
        },
        {
         "name": "1672",
         "rawType": "float64",
         "type": "float"
        },
        {
         "name": "1673",
         "rawType": "float64",
         "type": "float"
        },
        {
         "name": "1674",
         "rawType": "float64",
         "type": "float"
        },
        {
         "name": "1675",
         "rawType": "float64",
         "type": "float"
        },
        {
         "name": "1676",
         "rawType": "float64",
         "type": "float"
        },
        {
         "name": "1677",
         "rawType": "float64",
         "type": "float"
        },
        {
         "name": "1678",
         "rawType": "float64",
         "type": "float"
        },
        {
         "name": "1679",
         "rawType": "float64",
         "type": "float"
        },
        {
         "name": "1680",
         "rawType": "float64",
         "type": "float"
        },
        {
         "name": "1681",
         "rawType": "float64",
         "type": "float"
        },
        {
         "name": "agglo_clusters",
         "rawType": "int64",
         "type": "integer"
        }
       ],
       "ref": "84b63f59-de03-4985-a9b4-deab3eadc134",
       "rows": [
        [
         "0",
         "1.0",
         "1.0",
         "1.0",
         "1.0",
         "1.0",
         "1.0",
         "1.0",
         "0.0",
         "1.0",
         "1.0",
         "0.0",
         "1.0",
         "1.0",
         "1.0",
         "1.0",
         "1.0",
         "1.0",
         "1.0",
         "1.0",
         "1.0",
         "0.0",
         "1.0",
         "1.0",
         "1.0",
         "1.0",
         "1.0",
         "0.0",
         "1.0",
         "0.0",
         "1.0",
         "1.0",
         "1.0",
         "1.0",
         "0.0",
         "0.0",
         "0.0",
         "0.0",
         "1.0",
         "1.0",
         "1.0",
         "0.0",
         "1.0",
         "1.0",
         "1.0",
         "1.0",
         "1.0",
         "1.0",
         "1.0",
         "1.0",
         "1.0",
         "1.0",
         "1.0",
         "1.0",
         "1.0",
         "1.0",
         "1.0",
         "1.0",
         "1.0",
         "1.0",
         "1.0",
         "1.0",
         "1.0",
         "0.0",
         "1.0",
         "1.0",
         "1.0",
         "1.0",
         "1.0",
         "1.0",
         "1.0",
         "1.0",
         "1.0",
         "1.0",
         "0.0",
         "1.0",
         "1.0",
         "1.0",
         "0.0",
         "1.0",
         "1.0",
         "1.0",
         "1.0",
         "1.0",
         "1.0",
         "1.0",
         "1.0",
         "1.0",
         "1.0",
         "1.0",
         "1.0",
         "1.0",
         "1.0",
         "1.0",
         "0.0",
         "1.0",
         "1.0",
         "1.0",
         "1.0",
         "1.0",
         "1.0",
         "0.0",
         "0.0",
         "0.0",
         "0.0",
         "0.0",
         "1.0",
         "1.0",
         "1.0",
         "1.0",
         "0.0",
         "1.0",
         "0.0",
         "1.0",
         "1.0",
         "1.0",
         "1.0",
         "1.0",
         "1.0",
         "1.0",
         "0.0",
         "1.0",
         "1.0",
         "1.0",
         "1.0",
         "1.0",
         "0.0",
         "1.0",
         "1.0",
         "1.0",
         "1.0",
         "0.0",
         "1.0",
         "1.0",
         "1.0",
         "1.0",
         "1.0",
         "1.0",
         "0.0",
         "1.0",
         "0.0",
         "1.0",
         "0.0",
         "0.0",
         "1.0",
         "0.0",
         "1.0",
         "1.0",
         "0.0",
         "0.0",
         "1.0",
         "1.0",
         "1.0",
         "1.0",
         "1.0",
         "0.0",
         "1.0",
         "1.0",
         "1.0",
         "1.0",
         "1.0",
         "1.0",
         "1.0",
         "1.0",
         "1.0",
         "1.0",
         "1.0",
         "0.0",
         "1.0",
         "1.0",
         "1.0",
         "1.0",
         "1.0",
         "1.0",
         "1.0",
         "1.0",
         "1.0",
         "1.0",
         "1.0",
         "1.0",
         "1.0",
         "1.0",
         "1.0",
         "1.0",
         "1.0",
         "1.0",
         "1.0",
         "1.0",
         "1.0",
         "1.0",
         "1.0",
         "1.0",
         "1.0",
         "1.0",
         "1.0",
         "1.0",
         "1.0",
         "1.0",
         "1.0",
         "1.0",
         "1.0",
         "1.0",
         "1.0",
         "1.0",
         "1.0",
         "1.0",
         "1.0",
         "1.0",
         "1.0",
         "1.0",
         "1.0",
         "1.0",
         "1.0",
         "0.0",
         "1.0",
         "1.0",
         "1.0",
         "1.0",
         "1.0",
         "0.0",
         "1.0",
         "1.0",
         "1.0",
         "1.0",
         "1.0",
         "0.0",
         "1.0",
         "1.0",
         "1.0",
         "1.0",
         "1.0",
         "0.0",
         "1.0",
         "0.0",
         "1.0",
         "1.0",
         "1.0",
         "0.0",
         "1.0",
         "1.0",
         "1.0",
         "1.0",
         "1.0",
         "0.0",
         "0.0",
         "0.0",
         "1.0",
         "0.0",
         "1.0",
         "1.0",
         "1.0",
         "1.0",
         "0.0",
         "1.0",
         "0.0",
         "0.0",
         "1.0",
         "1.0",
         "1.0",
         "0.0",
         "0.0",
         "0.0",
         "1.0",
         "0.0",
         "0.0",
         "1.0",
         "0.0",
         "1.0",
         "1.0",
         "1.0",
         "1.0",
         "0.0",
         "1.0",
         "0.0",
         "0.0",
         "0.0",
         "0.0",
         "0.0",
         "0.0",
         "0.0",
         "0.0",
         "0.0",
         "0.0",
         "0.0",
         "0.0",
         "0.0",
         "0.0",
         "0.0",
         "0.0",
         "0.0",
         "0.0",
         "0.0",
         "0.0",
         "0.0",
         "0.0",
         "0.0",
         "0.0",
         "0.0",
         "0.0",
         "0.0",
         "0.0",
         "0.0",
         "0.0",
         "0.0",
         "0.0",
         "0.0",
         "0.0",
         "0.0",
         "0.0",
         "0.0",
         "0.0",
         "0.0",
         "0.0",
         "0.0",
         "0.0",
         "0.0",
         "0.0",
         "0.0",
         "0.0",
         "0.0",
         "0.0",
         "0.0",
         "0.0",
         "0.0",
         "0.0",
         "0.0",
         "0.0",
         "0.0",
         "0.0",
         "0.0",
         "0.0",
         "0.0",
         "0.0",
         "0.0",
         "0.0",
         "0.0",
         "0.0",
         "0.0",
         "0.0",
         "0.0",
         "0.0",
         "0.0",
         "0.0",
         "0.0",
         "0.0",
         "0.0",
         "0.0",
         "0.0",
         "0.0",
         "0.0",
         "0.0",
         "0.0",
         "0.0",
         "0.0",
         "0.0",
         "0.0",
         "0.0",
         "0.0",
         "0.0",
         "0.0",
         "0.0",
         "0.0",
         "0.0",
         "0.0",
         "0.0",
         "0.0",
         "0.0",
         "0.0",
         "0.0",
         "0.0",
         "0.0",
         "0.0",
         "0.0",
         "0.0",
         "0.0",
         "0.0",
         "0.0",
         "0.0",
         "0.0",
         "0.0",
         "0.0",
         "0.0",
         "0.0",
         "0.0",
         "0.0",
         "0.0",
         "0.0",
         "0.0",
         "0.0",
         "0.0",
         "0.0",
         "0.0",
         "0.0",
         "0.0",
         "0.0",
         "0.0",
         "0.0",
         "0.0",
         "0.0",
         "0.0",
         "0.0",
         "0.0",
         "0.0",
         "0.0",
         "0.0",
         "0.0",
         "0.0",
         "0.0",
         "0.0",
         "0.0",
         "0.0",
         "0.0",
         "0.0",
         "0.0",
         "0.0",
         "0.0",
         "0.0",
         "0.0",
         "0.0",
         "0.0",
         "0.0",
         "0.0",
         "0.0",
         "0.0",
         "0.0",
         "0.0",
         "0.0",
         "0.0",
         "0.0",
         "0.0",
         "0.0",
         "0.0",
         "0.0",
         "0.0",
         "0.0",
         "0.0",
         "0.0",
         "0.0",
         "0.0",
         "0.0",
         "0.0",
         "0.0",
         "0.0",
         "0.0",
         "0.0",
         "0.0",
         "0.0",
         "0.0",
         "0.0",
         "0.0",
         "0.0",
         "0.0",
         "0.0",
         "0.0",
         "0.0",
         "0.0",
         "0.0",
         "0.0",
         "0.0",
         "0.0",
         "0.0",
         "0.0",
         "0.0",
         "0.0",
         "0.0",
         "0.0",
         "0.0",
         "0.0",
         "0.0",
         "0.0",
         "0.0",
         "0.0",
         "0.0",
         "0.0",
         "0.0",
         "0.0",
         "0.0",
         "0.0",
         "0.0",
         "0.0",
         "0.0",
         "0.0",
         "0.0",
         "0.0",
         "0.0",
         "0.0",
         "0.0",
         "0.0",
         "0.0",
         "0.0",
         "0.0",
         "0.0",
         "0.0",
         "0.0",
         "0.0",
         "0.0",
         "0.0",
         "0.0",
         "0.0",
         "0.0",
         "0.0",
         "0.0",
         "0.0",
         "0.0",
         "0.0",
         "0.0",
         "0.0",
         "0.0",
         "0.0",
         "0.0",
         "0.0",
         "0.0",
         "0.0",
         "0.0",
         "0.0",
         "0.0",
         "0.0",
         "0.0",
         "0.0",
         "0.0",
         "0.0",
         "0.0",
         "0.0",
         "0.0",
         "0.0",
         "0.0",
         "0.0",
         "0.0",
         "0.0",
         "0.0",
         "0.0",
         "0.0",
         "0.0",
         "0.0",
         "0.0",
         "0.0",
         "0.0",
         "0.0",
         "0.0",
         "0.0",
         "0.0",
         "0.0",
         "0.0",
         "0.0",
         "0.0",
         "0.0",
         "0.0",
         "0.0",
         "0.0",
         "0.0",
         "0.0",
         "0.0",
         "0.0",
         "0.0",
         "0.0",
         "0.0",
         "0.0",
         "0.0",
         "0.0",
         "0.0",
         "0.0",
         "0.0",
         "0.0",
         "0.0",
         "0.0",
         "0.0",
         "0.0",
         "0.0",
         "0.0",
         "0.0",
         "0.0",
         "0.0",
         "0.0",
         "0.0",
         "0.0",
         "0.0",
         "0.0",
         "0.0",
         "0.0",
         "0.0",
         "0.0",
         "0.0",
         "0.0",
         "0.0",
         "0.0",
         "0.0",
         "0.0",
         "0.0",
         "0.0",
         "0.0",
         "0.0",
         "0.0",
         "0.0",
         "0.0",
         "0.0",
         "0.0",
         "0.0",
         "0.0",
         "0.0",
         "0.0",
         "0.0",
         "0.0",
         "0.0",
         "0.0",
         "0.0",
         "0.0",
         "0.0",
         "0.0",
         "0.0",
         "0.0",
         "0.0",
         "0.0",
         "0.0",
         "0.0",
         "0.0",
         "0.0",
         "0.0",
         "0.0",
         "0.0",
         "0.0",
         "0.0",
         "0.0",
         "0.0",
         "0.0",
         "0.0",
         "0.0",
         "0.0",
         "0.0",
         "0.0",
         "0.0",
         "0.0",
         "0.0",
         "0.0",
         "0.0",
         "0.0",
         "0.0",
         "0.0",
         "0.0",
         "0.0",
         "0.0",
         "0.0",
         "0.0",
         "0.0",
         "0.0",
         "0.0",
         "0.0",
         "0.0",
         "0.0",
         "0.0",
         "0.0",
         "0.0",
         "0.0",
         "0.0",
         "0.0",
         "0.0",
         "0.0",
         "0.0",
         "0.0",
         "0.0",
         "0.0",
         "0.0",
         "0.0",
         "0.0",
         "0.0",
         "0.0",
         "0.0",
         "0.0",
         "0.0",
         "0.0",
         "0.0",
         "0.0",
         "0.0",
         "0.0",
         "0.0",
         "0.0",
         "0.0",
         "0.0",
         "0.0",
         "0.0",
         "0.0",
         "0.0",
         "0.0",
         "0.0",
         "0.0",
         "0.0",
         "0.0",
         "0.0",
         "0.0",
         "0.0",
         "0.0",
         "0.0",
         "0.0",
         "0.0",
         "0.0",
         "0.0",
         "0.0",
         "0.0",
         "0.0",
         "0.0",
         "0.0",
         "0.0",
         "0.0",
         "0.0",
         "0.0",
         "0.0",
         "0.0",
         "0.0",
         "0.0",
         "0.0",
         "0.0",
         "0.0",
         "0.0",
         "0.0",
         "0.0",
         "0.0",
         "0.0",
         "0.0",
         "0.0",
         "0.0",
         "0.0",
         "0.0",
         "0.0",
         "0.0",
         "0.0",
         "0.0",
         "0.0",
         "0.0",
         "0.0",
         "0.0",
         "0.0",
         "0.0",
         "0.0",
         "0.0",
         "0.0",
         "0.0",
         "0.0",
         "0.0",
         "0.0",
         "0.0",
         "0.0",
         "0.0",
         "0.0",
         "0.0",
         "0.0",
         "0.0",
         "0.0",
         "0.0",
         "0.0",
         "0.0",
         "0.0",
         "0.0",
         "0.0",
         "0.0",
         "0.0",
         "0.0",
         "0.0",
         "0.0",
         "0.0",
         "0.0",
         "0.0",
         "0.0",
         "0.0",
         "0.0",
         "0.0",
         "0.0",
         "0.0",
         "0.0",
         "0.0",
         "0.0",
         "0.0",
         "0.0",
         "0.0",
         "0.0",
         "0.0",
         "0.0",
         "0.0",
         "0.0",
         "0.0",
         "0.0",
         "0.0",
         "0.0",
         "0.0",
         "0.0",
         "0.0",
         "0.0",
         "0.0",
         "0.0",
         "0.0",
         "0.0",
         "0.0",
         "0.0",
         "0.0",
         "0.0",
         "0.0",
         "0.0",
         "0.0",
         "0.0",
         "0.0",
         "0.0",
         "0.0",
         "0.0",
         "0.0",
         "0.0",
         "0.0",
         "0.0",
         "0.0",
         "0.0",
         "0.0",
         "0.0",
         "0.0",
         "0.0",
         "0.0",
         "0.0",
         "0.0",
         "0.0",
         "0.0",
         "0.0",
         "0.0",
         "0.0",
         "0.0",
         "0.0",
         "0.0",
         "0.0",
         "0.0",
         "0.0",
         "0.0",
         "0.0",
         "0.0",
         "0.0",
         "0.0",
         "0.0",
         "0.0",
         "0.0",
         "0.0",
         "0.0",
         "0.0",
         "0.0",
         "0.0",
         "0.0",
         "0.0",
         "0.0",
         "0.0",
         "0.0",
         "0.0",
         "0.0",
         "0.0",
         "0.0",
         "0.0",
         "0.0",
         "0.0",
         "0.0",
         "0.0",
         "0.0",
         "0.0",
         "0.0",
         "0.0",
         "0.0",
         "0.0",
         "0.0",
         "0.0",
         "0.0",
         "0.0",
         "0.0",
         "0.0",
         "0.0",
         "0.0",
         "0.0",
         "0.0",
         "0.0",
         "0.0",
         "0.0",
         "0.0",
         "0.0",
         "0.0",
         "0.0",
         "0.0",
         "0.0",
         "0.0",
         "0.0",
         "0.0",
         "0.0",
         "0.0",
         "0.0",
         "0.0",
         "0.0",
         "0.0",
         "0.0",
         "0.0",
         "0.0",
         "0.0",
         "0.0",
         "0.0",
         "0.0",
         "0.0",
         "0.0",
         "0.0",
         "0.0",
         "0.0",
         "0.0",
         "0.0",
         "0.0",
         "0.0",
         "0.0",
         "0.0",
         "0.0",
         "0.0",
         "0.0",
         "0.0",
         "0.0",
         "0.0",
         "0.0",
         "0.0",
         "0.0",
         "0.0",
         "0.0",
         "0.0",
         "0.0",
         "0.0",
         "0.0",
         "0.0",
         "0.0",
         "0.0",
         "0.0",
         "0.0",
         "0.0",
         "0.0",
         "0.0",
         "0.0",
         "0.0",
         "0.0",
         "0.0",
         "0.0",
         "0.0",
         "0.0",
         "0.0",
         "0.0",
         "0.0",
         "0.0",
         "0.0",
         "0.0",
         "0.0",
         "0.0",
         "0.0",
         "0.0",
         "0.0",
         "0.0",
         "0.0",
         "0.0",
         "0.0",
         "0.0",
         "0.0",
         "0.0",
         "0.0",
         "0.0",
         "0.0",
         "0.0",
         "0.0",
         "0.0",
         "0.0",
         "0.0",
         "0.0",
         "0.0",
         "0.0",
         "0.0",
         "0.0",
         "0.0",
         "0.0",
         "0.0",
         "0.0",
         "0.0",
         "0.0",
         "0.0",
         "0.0",
         "0.0",
         "0.0",
         "0.0",
         "0.0",
         "0.0",
         "0.0",
         "0.0",
         "0.0",
         "0.0",
         "0.0",
         "0.0",
         "0.0",
         "0.0",
         "0.0",
         "0.0",
         "0.0",
         "0.0",
         "0.0",
         "0.0",
         "0.0",
         "0.0",
         "0.0",
         "0.0",
         "0.0",
         "0.0",
         "0.0",
         "0.0",
         "0.0",
         "0.0",
         "0.0",
         "0.0",
         "0.0",
         "0.0",
         "0.0",
         "0.0",
         "0.0",
         "0.0",
         "0.0",
         "0.0",
         "0.0",
         "0.0",
         "0.0",
         "0.0",
         "0.0",
         "0.0",
         "0.0",
         "0.0",
         "0.0",
         "0.0",
         "0.0",
         "0.0",
         "0.0",
         "0.0",
         "0.0",
         "0.0",
         "0.0",
         "0.0",
         "0.0",
         "0.0",
         "0.0",
         "0.0",
         "0.0",
         "0.0",
         "0.0",
         "0.0",
         "0.0",
         "0.0",
         "0.0",
         "0.0",
         "0.0",
         "0.0",
         "0.0",
         "0.0",
         "0.0",
         "0.0",
         "0.0",
         "0.0",
         "0.0",
         "0.0",
         "0.0",
         "0.0",
         "0.0",
         "0.0",
         "0.0",
         "0.0",
         "0.0",
         "0.0",
         "0.0",
         "0.0",
         "0.0",
         "0.0",
         "0.0",
         "0.0",
         "0.0",
         "0.0",
         "0.0",
         "0.0",
         "0.0",
         "0.0",
         "0.0",
         "0.0",
         "0.0",
         "0.0",
         "0.0",
         "0.0",
         "0.0",
         "0.0",
         "0.0",
         "0.0",
         "0.0",
         "0.0",
         "0.0",
         "0.0",
         "0.0",
         "0.0",
         "0.0",
         "0.0",
         "0.0",
         "0.0",
         "0.0",
         "0.0",
         "0.0",
         "0.0",
         "0.0",
         "0.0",
         "0.0",
         "0.0",
         "0.0",
         "0.0",
         "0.0",
         "0.0",
         "0.0",
         "0.0",
         "0.0",
         "0.0",
         "0.0",
         "0.0",
         "0.0",
         "0.0",
         "0.0",
         "0.0",
         "0.0",
         "0.0",
         "0.0",
         "0.0",
         "0.0",
         "0.0",
         "0.0",
         "0.0",
         "0.0",
         "0.0",
         "0.0",
         "0.0",
         "0.0",
         "0.0",
         "0.0",
         "0.0",
         "0.0",
         "0.0",
         "0.0",
         "0.0",
         "0.0",
         "0.0",
         "0.0",
         "0.0",
         "0.0",
         "0.0",
         "0.0",
         "0.0",
         "0.0",
         "0.0",
         "0.0",
         "0.0",
         "0.0",
         "0.0",
         "0.0",
         "0.0",
         "0.0",
         "0.0",
         "0.0",
         "0.0",
         "0.0",
         "0.0",
         "0.0",
         "0.0",
         "0.0",
         "0.0",
         "0.0",
         "0.0",
         "0.0",
         "0.0",
         "0.0",
         "0.0",
         "0.0",
         "0.0",
         "0.0",
         "0.0",
         "0.0",
         "0.0",
         "0.0",
         "0.0",
         "0.0",
         "0.0",
         "0.0",
         "0.0",
         "0.0",
         "0.0",
         "0.0",
         "0.0",
         "0.0",
         "0.0",
         "0.0",
         "0.0",
         "0.0",
         "0.0",
         "0.0",
         "0.0",
         "0.0",
         "0.0",
         "0.0",
         "0.0",
         "0.0",
         "0.0",
         "0.0",
         "0.0",
         "0.0",
         "0.0",
         "0.0",
         "0.0",
         "0.0",
         "0.0",
         "0.0",
         "0.0",
         "0.0",
         "0.0",
         "0.0",
         "0.0",
         "0.0",
         "0.0",
         "0.0",
         "0.0",
         "0.0",
         "0.0",
         "0.0",
         "0.0",
         "0.0",
         "0.0",
         "0.0",
         "0.0",
         "0.0",
         "0.0",
         "0.0",
         "0.0",
         "0.0",
         "0.0",
         "0.0",
         "0.0",
         "0.0",
         "0.0",
         "0.0",
         "0.0",
         "0.0",
         "0.0",
         "0.0",
         "0.0",
         "0.0",
         "0.0",
         "0.0",
         "0.0",
         "0.0",
         "0.0",
         "0.0",
         "0.0",
         "0.0",
         "0.0",
         "0.0",
         "0.0",
         "0.0",
         "0.0",
         "0.0",
         "0.0",
         "0.0",
         "0.0",
         "0.0",
         "0.0",
         "0.0",
         "0.0",
         "0.0",
         "0.0",
         "0.0",
         "0.0",
         "0.0",
         "0.0",
         "0.0",
         "0.0",
         "0.0",
         "0.0",
         "0.0",
         "0.0",
         "0.0",
         "0.0",
         "0.0",
         "0.0",
         "0.0",
         "0.0",
         "0.0",
         "0.0",
         "0.0",
         "0.0",
         "0.0",
         "0.0",
         "0.0",
         "0.0",
         "0.0",
         "0.0",
         "0.0",
         "0.0",
         "0.0",
         "0.0",
         "0.0",
         "0.0",
         "0.0",
         "0.0",
         "0.0",
         "0.0",
         "0.0",
         "0.0",
         "0.0",
         "0.0",
         "0.0",
         "0.0",
         "0.0",
         "0.0",
         "0.0",
         "0.0",
         "0.0",
         "0.0",
         "0.0",
         "0.0",
         "0.0",
         "0.0",
         "0.0",
         "0.0",
         "0.0",
         "0.0",
         "0.0",
         "0.0",
         "0.0",
         "0.0",
         "0.0",
         "0.0",
         "0.0",
         "0.0",
         "0.0",
         "0.0",
         "0.0",
         "0.0",
         "0.0",
         "0.0",
         "0.0",
         "0.0",
         "0.0",
         "0.0",
         "0.0",
         "0.0",
         "0.0",
         "0.0",
         "0.0",
         "0.0",
         "0.0",
         "0.0",
         "0.0",
         "0.0",
         "0.0",
         "0.0",
         "0.0",
         "0.0",
         "0.0",
         "0.0",
         "0.0",
         "0.0",
         "0.0",
         "0.0",
         "0.0",
         "0.0",
         "0.0",
         "0.0",
         "0.0",
         "0.0",
         "0.0",
         "0.0",
         "0.0",
         "0.0",
         "0.0",
         "0.0",
         "0.0",
         "0.0",
         "0.0",
         "0.0",
         "0.0",
         "0.0",
         "0.0",
         "0.0",
         "0.0",
         "0.0",
         "0.0",
         "0.0",
         "0.0",
         "0.0",
         "0.0",
         "0.0",
         "0.0",
         "0.0",
         "0.0",
         "0.0",
         "0.0",
         "0.0",
         "0.0",
         "0.0",
         "0.0",
         "0.0",
         "0.0",
         "0.0",
         "0.0",
         "0.0",
         "0.0",
         "0.0",
         "0.0",
         "0.0",
         "0.0",
         "0.0",
         "0.0",
         "0.0",
         "0.0",
         "0.0",
         "0.0",
         "0.0",
         "0.0",
         "0.0",
         "0.0",
         "0.0",
         "0.0",
         "0.0",
         "0.0",
         "0.0",
         "0.0",
         "0.0",
         "0.0",
         "0.0",
         "0.0",
         "0.0",
         "0.0",
         "0.0",
         "0.0",
         "0.0",
         "0.0",
         "0.0",
         "0.0",
         "0.0",
         "0.0",
         "0.0",
         "0.0",
         "0.0",
         "0.0",
         "0.0",
         "0.0",
         "0.0",
         "0.0",
         "0.0",
         "0.0",
         "0.0",
         "0.0",
         "0.0",
         "0.0",
         "0.0",
         "0.0",
         "0.0",
         "0.0",
         "0.0",
         "0.0",
         "0.0",
         "0.0",
         "0.0",
         "0.0",
         "0.0",
         "0.0",
         "0.0",
         "0.0",
         "0.0",
         "0.0",
         "0.0",
         "0.0",
         "0.0",
         "0.0",
         "0.0",
         "0.0",
         "0.0",
         "0.0",
         "0.0",
         "0.0",
         "0.0",
         "0.0",
         "0.0",
         "0.0",
         "0.0",
         "0.0",
         "0.0",
         "0.0",
         "0.0",
         "0.0",
         "0.0",
         "0.0",
         "0.0",
         "0.0",
         "0.0",
         "0.0",
         "0.0",
         "0.0",
         "0.0",
         "0.0",
         "0.0",
         "0.0",
         "0.0",
         "0.0",
         "0.0",
         "0.0",
         "0.0",
         "0.0",
         "0.0",
         "0.0",
         "0.0",
         "0.0",
         "0.0",
         "0.0",
         "0.0",
         "0.0",
         "0.0",
         "0.0",
         "0.0",
         "0.0",
         "0.0",
         "0.0",
         "0.0",
         "0.0",
         "0.0",
         "0.0",
         "0.0",
         "0.0",
         "0.0",
         "0.0",
         "0.0",
         "0.0",
         "0.0",
         "0.0",
         "0.0",
         "0.0",
         "0.0",
         "0.0",
         "0.0",
         "0.0",
         "0.0",
         "0.0",
         "0.0",
         "0.0",
         "0.0",
         "0.0",
         "0.0",
         "0.0",
         "0.0",
         "0.0",
         "0.0",
         "0.0",
         "0.0",
         "0.0",
         "0.0",
         "0.0",
         "0.0",
         "0.0",
         "0.0",
         "0.0",
         "0.0",
         "0.0",
         "0.0",
         "0.0",
         "0.0",
         "0.0",
         "0.0",
         "0.0",
         "0.0",
         "0.0",
         "0.0",
         "0.0",
         "0.0",
         "0.0",
         "0.0",
         "0.0",
         "0.0",
         "0.0",
         "0.0",
         "0.0",
         "0.0",
         "0.0",
         "0.0",
         "0.0",
         "0.0",
         "0.0",
         "0.0",
         "0.0",
         "0.0",
         "0.0",
         "0.0",
         "0.0",
         "0.0",
         "0.0",
         "0.0",
         "0.0",
         "0.0",
         "0.0",
         "0.0",
         "0.0",
         "0.0",
         "0.0",
         "0.0",
         "0.0",
         "0.0",
         "0.0",
         "0.0",
         "0.0",
         "0.0",
         "0.0",
         "0.0",
         "0.0",
         "0.0",
         "0.0",
         "0.0",
         "0.0",
         "0.0",
         "0.0",
         "0.0",
         "0.0",
         "0.0",
         "0.0",
         "0.0",
         "0.0",
         "0.0",
         "0.0",
         "0.0",
         "0.0",
         "0.0",
         "0.0",
         "0.0",
         "0.0",
         "0.0",
         "0.0",
         "0.0",
         "0.0",
         "0.0",
         "0.0",
         "0.0",
         "0.0",
         "0.0",
         "0.0",
         "0.0",
         "0.0",
         "0.0",
         "0.0",
         "0.0",
         "0.0",
         "0.0",
         "0.0",
         "0.0",
         "0.0",
         "0.0",
         "0.0",
         "0.0",
         "0.0",
         "0.0",
         "0.0",
         "0.0",
         "0.0",
         "0.0",
         "0.0",
         "0.0",
         "0.0",
         "0.0",
         "0.0",
         "0.0",
         "0.0",
         "0.0",
         "0.0",
         "0.0",
         "0.0",
         "0.0",
         "0.0",
         "0.0",
         "0.0",
         "0.0",
         "0.0",
         "0.0",
         "0.0",
         "0.0",
         "0.0",
         "0.0",
         "0.0",
         "0.0",
         "0.0",
         "0.0",
         "0.0",
         "0.0",
         "0.0",
         "0"
        ],
        [
         "1",
         "1.0",
         "0.0",
         "0.0",
         "0.0",
         "0.0",
         "0.0",
         "0.0",
         "0.0",
         "0.0",
         "0.0",
         "0.0",
         "0.0",
         "1.0",
         "1.0",
         "0.0",
         "0.0",
         "0.0",
         "0.0",
         "1.0",
         "0.0",
         "0.0",
         "0.0",
         "0.0",
         "0.0",
         "1.0",
         "0.0",
         "0.0",
         "0.0",
         "0.0",
         "0.0",
         "0.0",
         "0.0",
         "0.0",
         "0.0",
         "0.0",
         "0.0",
         "0.0",
         "0.0",
         "0.0",
         "0.0",
         "0.0",
         "0.0",
         "0.0",
         "0.0",
         "0.0",
         "0.0",
         "0.0",
         "0.0",
         "0.0",
         "1.0",
         "0.0",
         "0.0",
         "0.0",
         "0.0",
         "0.0",
         "0.0",
         "0.0",
         "0.0",
         "0.0",
         "0.0",
         "0.0",
         "0.0",
         "0.0",
         "0.0",
         "0.0",
         "0.0",
         "0.0",
         "0.0",
         "0.0",
         "0.0",
         "0.0",
         "0.0",
         "0.0",
         "0.0",
         "0.0",
         "0.0",
         "0.0",
         "0.0",
         "0.0",
         "0.0",
         "0.0",
         "0.0",
         "0.0",
         "0.0",
         "0.0",
         "0.0",
         "0.0",
         "0.0",
         "0.0",
         "0.0",
         "0.0",
         "0.0",
         "0.0",
         "0.0",
         "0.0",
         "0.0",
         "0.0",
         "0.0",
         "0.0",
         "1.0",
         "0.0",
         "0.0",
         "0.0",
         "0.0",
         "0.0",
         "0.0",
         "0.0",
         "0.0",
         "0.0",
         "0.0",
         "1.0",
         "0.0",
         "0.0",
         "0.0",
         "0.0",
         "0.0",
         "0.0",
         "0.0",
         "0.0",
         "0.0",
         "0.0",
         "0.0",
         "0.0",
         "0.0",
         "0.0",
         "0.0",
         "1.0",
         "0.0",
         "0.0",
         "0.0",
         "0.0",
         "0.0",
         "0.0",
         "0.0",
         "0.0",
         "0.0",
         "0.0",
         "0.0",
         "0.0",
         "0.0",
         "0.0",
         "0.0",
         "0.0",
         "0.0",
         "0.0",
         "0.0",
         "0.0",
         "0.0",
         "0.0",
         "0.0",
         "0.0",
         "0.0",
         "0.0",
         "0.0",
         "0.0",
         "0.0",
         "0.0",
         "0.0",
         "0.0",
         "0.0",
         "0.0",
         "0.0",
         "0.0",
         "0.0",
         "0.0",
         "0.0",
         "0.0",
         "0.0",
         "0.0",
         "0.0",
         "0.0",
         "0.0",
         "0.0",
         "0.0",
         "0.0",
         "0.0",
         "0.0",
         "0.0",
         "0.0",
         "0.0",
         "0.0",
         "0.0",
         "0.0",
         "0.0",
         "0.0",
         "0.0",
         "0.0",
         "0.0",
         "0.0",
         "0.0",
         "0.0",
         "0.0",
         "0.0",
         "0.0",
         "0.0",
         "0.0",
         "0.0",
         "0.0",
         "0.0",
         "0.0",
         "0.0",
         "0.0",
         "0.0",
         "0.0",
         "0.0",
         "0.0",
         "0.0",
         "0.0",
         "0.0",
         "0.0",
         "0.0",
         "0.0",
         "0.0",
         "0.0",
         "0.0",
         "0.0",
         "0.0",
         "0.0",
         "0.0",
         "0.0",
         "0.0",
         "0.0",
         "0.0",
         "0.0",
         "0.0",
         "0.0",
         "0.0",
         "0.0",
         "0.0",
         "0.0",
         "0.0",
         "0.0",
         "0.0",
         "0.0",
         "0.0",
         "0.0",
         "1.0",
         "0.0",
         "0.0",
         "0.0",
         "0.0",
         "1.0",
         "0.0",
         "0.0",
         "0.0",
         "0.0",
         "0.0",
         "0.0",
         "0.0",
         "0.0",
         "1.0",
         "0.0",
         "0.0",
         "0.0",
         "1.0",
         "0.0",
         "1.0",
         "1.0",
         "0.0",
         "0.0",
         "0.0",
         "0.0",
         "0.0",
         "0.0",
         "0.0",
         "0.0",
         "0.0",
         "0.0",
         "1.0",
         "0.0",
         "0.0",
         "1.0",
         "1.0",
         "1.0",
         "1.0",
         "1.0",
         "1.0",
         "1.0",
         "1.0",
         "1.0",
         "1.0",
         "1.0",
         "1.0",
         "1.0",
         "1.0",
         "1.0",
         "1.0",
         "1.0",
         "1.0",
         "1.0",
         "1.0",
         "1.0",
         "1.0",
         "0.0",
         "1.0",
         "1.0",
         "1.0",
         "1.0",
         "1.0",
         "1.0",
         "1.0",
         "1.0",
         "1.0",
         "1.0",
         "1.0",
         "1.0",
         "1.0",
         "1.0",
         "0.0",
         "1.0",
         "1.0",
         "1.0",
         "1.0",
         "0.0",
         "0.0",
         "1.0",
         "0.0",
         "0.0",
         "0.0",
         "0.0",
         "0.0",
         "0.0",
         "0.0",
         "0.0",
         "0.0",
         "0.0",
         "0.0",
         "0.0",
         "0.0",
         "0.0",
         "0.0",
         "0.0",
         "0.0",
         "0.0",
         "0.0",
         "0.0",
         "0.0",
         "0.0",
         "0.0",
         "0.0",
         "0.0",
         "0.0",
         "0.0",
         "0.0",
         "0.0",
         "0.0",
         "0.0",
         "0.0",
         "0.0",
         "0.0",
         "0.0",
         "0.0",
         "0.0",
         "0.0",
         "0.0",
         "0.0",
         "0.0",
         "0.0",
         "0.0",
         "0.0",
         "0.0",
         "0.0",
         "0.0",
         "0.0",
         "0.0",
         "0.0",
         "0.0",
         "0.0",
         "0.0",
         "0.0",
         "0.0",
         "0.0",
         "0.0",
         "0.0",
         "0.0",
         "0.0",
         "0.0",
         "0.0",
         "0.0",
         "0.0",
         "0.0",
         "0.0",
         "0.0",
         "0.0",
         "0.0",
         "0.0",
         "0.0",
         "0.0",
         "0.0",
         "0.0",
         "0.0",
         "0.0",
         "0.0",
         "0.0",
         "0.0",
         "0.0",
         "0.0",
         "0.0",
         "0.0",
         "0.0",
         "0.0",
         "0.0",
         "0.0",
         "0.0",
         "0.0",
         "0.0",
         "0.0",
         "0.0",
         "0.0",
         "0.0",
         "0.0",
         "0.0",
         "0.0",
         "0.0",
         "0.0",
         "0.0",
         "0.0",
         "0.0",
         "0.0",
         "0.0",
         "0.0",
         "0.0",
         "0.0",
         "0.0",
         "0.0",
         "0.0",
         "0.0",
         "0.0",
         "0.0",
         "0.0",
         "0.0",
         "0.0",
         "0.0",
         "0.0",
         "0.0",
         "0.0",
         "0.0",
         "0.0",
         "0.0",
         "0.0",
         "0.0",
         "0.0",
         "0.0",
         "0.0",
         "0.0",
         "0.0",
         "0.0",
         "0.0",
         "0.0",
         "0.0",
         "0.0",
         "0.0",
         "0.0",
         "0.0",
         "0.0",
         "0.0",
         "0.0",
         "0.0",
         "0.0",
         "0.0",
         "0.0",
         "0.0",
         "0.0",
         "0.0",
         "0.0",
         "0.0",
         "0.0",
         "0.0",
         "0.0",
         "0.0",
         "0.0",
         "0.0",
         "0.0",
         "0.0",
         "0.0",
         "0.0",
         "0.0",
         "0.0",
         "0.0",
         "0.0",
         "0.0",
         "0.0",
         "0.0",
         "0.0",
         "0.0",
         "0.0",
         "0.0",
         "0.0",
         "0.0",
         "0.0",
         "0.0",
         "0.0",
         "0.0",
         "0.0",
         "0.0",
         "0.0",
         "0.0",
         "0.0",
         "0.0",
         "0.0",
         "0.0",
         "0.0",
         "0.0",
         "0.0",
         "0.0",
         "0.0",
         "0.0",
         "0.0",
         "0.0",
         "0.0",
         "0.0",
         "0.0",
         "0.0",
         "0.0",
         "0.0",
         "0.0",
         "0.0",
         "0.0",
         "0.0",
         "0.0",
         "0.0",
         "0.0",
         "0.0",
         "0.0",
         "0.0",
         "0.0",
         "0.0",
         "0.0",
         "0.0",
         "0.0",
         "0.0",
         "0.0",
         "0.0",
         "0.0",
         "0.0",
         "0.0",
         "0.0",
         "0.0",
         "0.0",
         "0.0",
         "0.0",
         "0.0",
         "0.0",
         "0.0",
         "0.0",
         "0.0",
         "0.0",
         "0.0",
         "0.0",
         "0.0",
         "0.0",
         "0.0",
         "0.0",
         "0.0",
         "0.0",
         "0.0",
         "0.0",
         "0.0",
         "0.0",
         "0.0",
         "0.0",
         "0.0",
         "0.0",
         "0.0",
         "0.0",
         "0.0",
         "0.0",
         "0.0",
         "0.0",
         "0.0",
         "0.0",
         "0.0",
         "0.0",
         "0.0",
         "0.0",
         "0.0",
         "0.0",
         "0.0",
         "0.0",
         "0.0",
         "0.0",
         "0.0",
         "0.0",
         "0.0",
         "0.0",
         "0.0",
         "0.0",
         "0.0",
         "0.0",
         "0.0",
         "0.0",
         "0.0",
         "0.0",
         "0.0",
         "0.0",
         "0.0",
         "0.0",
         "0.0",
         "0.0",
         "0.0",
         "0.0",
         "0.0",
         "0.0",
         "0.0",
         "0.0",
         "0.0",
         "0.0",
         "0.0",
         "0.0",
         "0.0",
         "0.0",
         "0.0",
         "0.0",
         "0.0",
         "0.0",
         "0.0",
         "0.0",
         "0.0",
         "0.0",
         "0.0",
         "0.0",
         "0.0",
         "0.0",
         "0.0",
         "0.0",
         "0.0",
         "0.0",
         "0.0",
         "0.0",
         "0.0",
         "0.0",
         "0.0",
         "0.0",
         "0.0",
         "0.0",
         "0.0",
         "0.0",
         "0.0",
         "0.0",
         "0.0",
         "0.0",
         "0.0",
         "0.0",
         "0.0",
         "0.0",
         "0.0",
         "0.0",
         "0.0",
         "0.0",
         "0.0",
         "0.0",
         "0.0",
         "0.0",
         "0.0",
         "0.0",
         "0.0",
         "0.0",
         "0.0",
         "0.0",
         "0.0",
         "0.0",
         "0.0",
         "0.0",
         "0.0",
         "0.0",
         "0.0",
         "0.0",
         "0.0",
         "0.0",
         "0.0",
         "0.0",
         "0.0",
         "0.0",
         "0.0",
         "0.0",
         "0.0",
         "0.0",
         "0.0",
         "0.0",
         "0.0",
         "0.0",
         "0.0",
         "0.0",
         "0.0",
         "0.0",
         "0.0",
         "0.0",
         "0.0",
         "0.0",
         "0.0",
         "0.0",
         "0.0",
         "0.0",
         "0.0",
         "0.0",
         "0.0",
         "0.0",
         "0.0",
         "0.0",
         "0.0",
         "0.0",
         "0.0",
         "0.0",
         "0.0",
         "0.0",
         "0.0",
         "0.0",
         "0.0",
         "0.0",
         "0.0",
         "0.0",
         "0.0",
         "0.0",
         "0.0",
         "0.0",
         "0.0",
         "0.0",
         "0.0",
         "0.0",
         "0.0",
         "0.0",
         "0.0",
         "0.0",
         "0.0",
         "0.0",
         "0.0",
         "0.0",
         "0.0",
         "0.0",
         "0.0",
         "0.0",
         "0.0",
         "0.0",
         "0.0",
         "0.0",
         "0.0",
         "0.0",
         "0.0",
         "0.0",
         "0.0",
         "0.0",
         "0.0",
         "0.0",
         "0.0",
         "0.0",
         "0.0",
         "0.0",
         "0.0",
         "0.0",
         "0.0",
         "0.0",
         "0.0",
         "0.0",
         "0.0",
         "0.0",
         "0.0",
         "0.0",
         "0.0",
         "0.0",
         "0.0",
         "0.0",
         "0.0",
         "0.0",
         "0.0",
         "0.0",
         "0.0",
         "0.0",
         "0.0",
         "0.0",
         "0.0",
         "0.0",
         "0.0",
         "0.0",
         "0.0",
         "0.0",
         "0.0",
         "0.0",
         "0.0",
         "0.0",
         "0.0",
         "0.0",
         "0.0",
         "0.0",
         "0.0",
         "0.0",
         "0.0",
         "0.0",
         "0.0",
         "0.0",
         "0.0",
         "0.0",
         "0.0",
         "0.0",
         "0.0",
         "0.0",
         "0.0",
         "0.0",
         "0.0",
         "0.0",
         "0.0",
         "0.0",
         "0.0",
         "0.0",
         "0.0",
         "0.0",
         "0.0",
         "0.0",
         "0.0",
         "0.0",
         "0.0",
         "0.0",
         "0.0",
         "0.0",
         "0.0",
         "0.0",
         "0.0",
         "0.0",
         "0.0",
         "0.0",
         "0.0",
         "0.0",
         "0.0",
         "0.0",
         "0.0",
         "0.0",
         "0.0",
         "0.0",
         "0.0",
         "0.0",
         "0.0",
         "0.0",
         "0.0",
         "0.0",
         "0.0",
         "0.0",
         "0.0",
         "0.0",
         "0.0",
         "0.0",
         "0.0",
         "0.0",
         "0.0",
         "0.0",
         "0.0",
         "0.0",
         "0.0",
         "0.0",
         "0.0",
         "0.0",
         "0.0",
         "0.0",
         "0.0",
         "0.0",
         "0.0",
         "0.0",
         "0.0",
         "0.0",
         "0.0",
         "0.0",
         "0.0",
         "0.0",
         "0.0",
         "0.0",
         "0.0",
         "0.0",
         "0.0",
         "0.0",
         "0.0",
         "0.0",
         "0.0",
         "0.0",
         "0.0",
         "0.0",
         "0.0",
         "0.0",
         "0.0",
         "0.0",
         "0.0",
         "0.0",
         "0.0",
         "0.0",
         "0.0",
         "0.0",
         "0.0",
         "0.0",
         "0.0",
         "0.0",
         "0.0",
         "0.0",
         "0.0",
         "0.0",
         "0.0",
         "0.0",
         "0.0",
         "0.0",
         "0.0",
         "0.0",
         "0.0",
         "0.0",
         "0.0",
         "0.0",
         "0.0",
         "0.0",
         "0.0",
         "0.0",
         "0.0",
         "0.0",
         "0.0",
         "0.0",
         "0.0",
         "0.0",
         "0.0",
         "0.0",
         "0.0",
         "0.0",
         "0.0",
         "0.0",
         "0.0",
         "0.0",
         "0.0",
         "0.0",
         "0.0",
         "0.0",
         "0.0",
         "0.0",
         "0.0",
         "0.0",
         "0.0",
         "0.0",
         "0.0",
         "0.0",
         "0.0",
         "0.0",
         "0.0",
         "0.0",
         "0.0",
         "0.0",
         "0.0",
         "0.0",
         "0.0",
         "0.0",
         "0.0",
         "0.0",
         "0.0",
         "0.0",
         "0.0",
         "0.0",
         "0.0",
         "0.0",
         "0.0",
         "0.0",
         "0.0",
         "0.0",
         "0.0",
         "0.0",
         "0.0",
         "0.0",
         "0.0",
         "0.0",
         "0.0",
         "0.0",
         "0.0",
         "0.0",
         "0.0",
         "0.0",
         "0.0",
         "0.0",
         "0.0",
         "0.0",
         "0.0",
         "0.0",
         "0.0",
         "0.0",
         "0.0",
         "0.0",
         "0.0",
         "0.0",
         "0.0",
         "0.0",
         "0.0",
         "0.0",
         "0.0",
         "0.0",
         "0.0",
         "0.0",
         "0.0",
         "0.0",
         "0.0",
         "0.0",
         "0.0",
         "0.0",
         "0.0",
         "0.0",
         "0.0",
         "0.0",
         "0.0",
         "0.0",
         "0.0",
         "0.0",
         "0.0",
         "0.0",
         "0.0",
         "0.0",
         "0.0",
         "0.0",
         "0.0",
         "0.0",
         "0.0",
         "0.0",
         "0.0",
         "0.0",
         "0.0",
         "0.0",
         "0.0",
         "0.0",
         "0.0",
         "0.0",
         "0.0",
         "0.0",
         "0.0",
         "0.0",
         "0.0",
         "0.0",
         "0.0",
         "0.0",
         "0.0",
         "0.0",
         "0.0",
         "0.0",
         "0.0",
         "0.0",
         "0.0",
         "0.0",
         "0.0",
         "0.0",
         "0.0",
         "0.0",
         "0.0",
         "0.0",
         "0.0",
         "0.0",
         "0.0",
         "0.0",
         "0.0",
         "0.0",
         "0.0",
         "0.0",
         "0.0",
         "0.0",
         "0.0",
         "0.0",
         "0.0",
         "0.0",
         "0.0",
         "0.0",
         "0.0",
         "0.0",
         "0.0",
         "0.0",
         "0.0",
         "0.0",
         "0.0",
         "0.0",
         "0.0",
         "0.0",
         "0.0",
         "0.0",
         "0.0",
         "0.0",
         "0.0",
         "0.0",
         "0.0",
         "0.0",
         "0.0",
         "0.0",
         "0.0",
         "0.0",
         "0.0",
         "0.0",
         "0.0",
         "0.0",
         "0.0",
         "0.0",
         "0.0",
         "0.0",
         "0.0",
         "0.0",
         "0.0",
         "0.0",
         "0.0",
         "0.0",
         "0.0",
         "0.0",
         "0.0",
         "0.0",
         "0.0",
         "0.0",
         "0.0",
         "0.0",
         "0.0",
         "0.0",
         "0.0",
         "0.0",
         "0.0",
         "0.0",
         "0.0",
         "0.0",
         "0.0",
         "0.0",
         "0.0",
         "0.0",
         "0.0",
         "0.0",
         "0.0",
         "0.0",
         "0.0",
         "0.0",
         "0.0",
         "0.0",
         "0.0",
         "0.0",
         "0.0",
         "0.0",
         "0.0",
         "0.0",
         "0.0",
         "0.0",
         "0.0",
         "0.0",
         "0.0",
         "0.0",
         "0.0",
         "0.0",
         "0.0",
         "0.0",
         "0.0",
         "0.0",
         "0.0",
         "0.0",
         "0.0",
         "0.0",
         "0.0",
         "0.0",
         "0.0",
         "0.0",
         "0.0",
         "0.0",
         "0.0",
         "0.0",
         "0.0",
         "0.0",
         "0.0",
         "0.0",
         "0.0",
         "0.0",
         "0.0",
         "0.0",
         "0.0",
         "0.0",
         "0.0",
         "0.0",
         "0.0",
         "0.0",
         "0.0",
         "0.0",
         "0.0",
         "0.0",
         "0.0",
         "0.0",
         "0.0",
         "0.0",
         "0.0",
         "0.0",
         "0.0",
         "0.0",
         "0.0",
         "0.0",
         "0.0",
         "0.0",
         "0.0",
         "0.0",
         "0.0",
         "0.0",
         "0.0",
         "0.0",
         "0.0",
         "0.0",
         "0.0",
         "0.0",
         "0.0",
         "0.0",
         "0.0",
         "0.0",
         "0.0",
         "0.0",
         "0.0",
         "0.0",
         "0.0",
         "0.0",
         "0.0",
         "0.0",
         "0.0",
         "0.0",
         "0.0",
         "0.0",
         "0.0",
         "0.0",
         "0.0",
         "0.0",
         "0.0",
         "0.0",
         "0.0",
         "0.0",
         "0.0",
         "0.0",
         "0.0",
         "0.0",
         "0.0",
         "0.0",
         "0.0",
         "0.0",
         "0.0",
         "0.0",
         "0.0",
         "0.0",
         "0.0",
         "0.0",
         "0.0",
         "0.0",
         "0.0",
         "0.0",
         "0.0",
         "0.0",
         "0.0",
         "0.0",
         "0.0",
         "0.0",
         "0.0",
         "0.0",
         "0.0",
         "0.0",
         "0.0",
         "0.0",
         "0.0",
         "0.0",
         "0.0",
         "0.0",
         "0.0",
         "0.0",
         "0.0",
         "0.0",
         "0.0",
         "0.0",
         "0.0",
         "0.0",
         "0.0",
         "0.0",
         "0.0",
         "0.0",
         "0.0",
         "0.0",
         "0.0",
         "0.0",
         "0.0",
         "0.0",
         "0.0",
         "0.0",
         "0.0",
         "0.0",
         "0.0",
         "0.0",
         "0.0",
         "0.0",
         "0.0",
         "0.0",
         "0.0",
         "0.0",
         "0.0",
         "0.0",
         "0.0",
         "0.0",
         "0.0",
         "0.0",
         "0.0",
         "0.0",
         "0.0",
         "0.0",
         "0.0",
         "0.0",
         "0.0",
         "0.0",
         "0.0",
         "0.0",
         "0.0",
         "0.0",
         "0.0",
         "0.0",
         "0.0",
         "0.0",
         "0.0",
         "0.0",
         "0.0",
         "0.0",
         "0.0",
         "0.0",
         "0.0",
         "0.0",
         "0.0",
         "0.0",
         "0.0",
         "0.0",
         "0.0",
         "0.0",
         "0.0",
         "0.0",
         "0.0",
         "0.0",
         "0.0",
         "0.0",
         "0.0",
         "0.0",
         "0.0",
         "0.0",
         "0.0",
         "0.0",
         "0.0",
         "0.0",
         "0.0",
         "0.0",
         "0.0",
         "0.0",
         "0.0",
         "0.0",
         "0.0",
         "0.0",
         "0.0",
         "0.0",
         "0.0",
         "0.0",
         "0.0",
         "0.0",
         "0.0",
         "0.0",
         "0.0",
         "0.0",
         "0.0",
         "0.0",
         "0.0",
         "0.0",
         "0.0",
         "0.0",
         "0.0",
         "0.0",
         "0.0",
         "0.0",
         "0.0",
         "0.0",
         "0.0",
         "0.0",
         "0.0",
         "0.0",
         "0.0",
         "0.0",
         "0.0",
         "0.0",
         "0.0",
         "0.0",
         "0.0",
         "0.0",
         "0.0",
         "0.0",
         "0.0",
         "0.0",
         "0.0",
         "0.0",
         "0.0",
         "0.0",
         "0.0",
         "0.0",
         "0.0",
         "0.0",
         "0.0",
         "0.0",
         "0.0",
         "0.0",
         "0.0",
         "0.0",
         "0.0",
         "0.0",
         "0.0",
         "0.0",
         "0.0",
         "0.0",
         "0.0",
         "0.0",
         "0.0",
         "0.0",
         "0.0",
         "0.0",
         "0.0",
         "0.0",
         "0.0",
         "0.0",
         "0.0",
         "0.0",
         "0.0",
         "0.0",
         "0.0",
         "0.0",
         "0.0",
         "0.0",
         "0.0",
         "0.0",
         "0.0",
         "0.0",
         "0.0",
         "0.0",
         "0.0",
         "0.0",
         "0.0",
         "0.0",
         "0.0",
         "0.0",
         "0.0",
         "0.0",
         "0.0",
         "0.0",
         "0.0",
         "0.0",
         "0.0",
         "0.0",
         "0.0",
         "0.0",
         "0.0",
         "0.0",
         "0.0",
         "0.0",
         "0.0",
         "0.0",
         "0.0",
         "0.0",
         "0.0",
         "0.0",
         "0.0",
         "0.0",
         "0.0",
         "0.0",
         "0.0",
         "0.0",
         "0.0",
         "0.0",
         "0.0",
         "0.0",
         "0.0",
         "0.0",
         "0.0",
         "0.0",
         "0.0",
         "0.0",
         "0.0",
         "0.0",
         "0.0",
         "0.0",
         "0.0",
         "0.0",
         "0.0",
         "0.0",
         "0.0",
         "0.0",
         "0.0",
         "0.0",
         "0.0",
         "0.0",
         "0.0",
         "0.0",
         "0.0",
         "0.0",
         "0.0",
         "0.0",
         "0.0",
         "0.0",
         "0.0",
         "0.0",
         "0.0",
         "0.0",
         "0.0",
         "0.0",
         "0.0",
         "0.0",
         "0.0",
         "0.0",
         "0.0",
         "0.0",
         "0.0",
         "0.0",
         "0.0",
         "0.0",
         "0.0",
         "0.0",
         "0.0",
         "0.0",
         "0.0",
         "0.0",
         "0.0",
         "0.0",
         "0.0",
         "0.0",
         "0.0",
         "0.0",
         "0.0",
         "0.0",
         "0.0",
         "0.0",
         "0.0",
         "0.0",
         "0.0",
         "0.0",
         "0.0",
         "0.0",
         "0.0",
         "0.0",
         "0.0",
         "0.0",
         "0.0",
         "0.0",
         "0.0",
         "0.0",
         "0.0",
         "0.0",
         "0.0",
         "0.0",
         "0.0",
         "0.0",
         "0.0",
         "0.0",
         "0.0",
         "0.0",
         "0.0",
         "0.0",
         "0.0",
         "0.0",
         "0.0",
         "0.0",
         "0.0",
         "0.0",
         "0.0",
         "0.0",
         "0.0",
         "0.0",
         "0.0",
         "0.0",
         "0.0",
         "0.0",
         "0.0",
         "0.0",
         "0.0",
         "0.0",
         "0.0",
         "0.0",
         "0.0",
         "0.0",
         "0.0",
         "0.0",
         "0.0",
         "0.0",
         "0.0",
         "0.0",
         "0.0",
         "0.0",
         "0.0",
         "0.0",
         "0.0",
         "0.0",
         "0.0",
         "0.0",
         "0.0",
         "0.0",
         "0.0",
         "0.0",
         "0.0",
         "0.0",
         "0.0",
         "0.0",
         "0.0",
         "0.0",
         "0.0",
         "0.0",
         "0.0",
         "0.0",
         "0.0",
         "0.0",
         "0.0",
         "0.0",
         "0.0",
         "0.0",
         "0.0",
         "0.0",
         "0.0",
         "0.0",
         "0.0",
         "0.0",
         "0.0",
         "0.0",
         "0.0",
         "0.0",
         "0.0",
         "0.0",
         "0.0",
         "0.0",
         "0.0",
         "0.0",
         "0.0",
         "0.0",
         "0.0",
         "0.0",
         "0.0",
         "0.0",
         "0.0",
         "0.0",
         "0.0",
         "0.0",
         "0.0",
         "0.0",
         "0.0",
         "0.0",
         "0.0",
         "0.0",
         "0.0",
         "0.0",
         "0.0",
         "0.0",
         "0.0",
         "0.0",
         "0.0",
         "0.0",
         "0.0",
         "0.0",
         "0.0",
         "0.0",
         "0.0",
         "0.0",
         "0.0",
         "0.0",
         "0.0",
         "0.0",
         "0.0",
         "0.0",
         "0.0",
         "0.0",
         "0.0",
         "0.0",
         "0.0",
         "0.0",
         "0.0",
         "0.0",
         "0.0",
         "0.0",
         "0.0",
         "0.0",
         "0.0",
         "0.0",
         "0.0",
         "0.0",
         "0.0",
         "0.0",
         "0.0",
         "0.0",
         "0.0",
         "0.0",
         "0.0",
         "0.0",
         "0.0",
         "0.0",
         "0.0",
         "0.0",
         "0.0",
         "0.0",
         "0.0",
         "0.0",
         "0.0",
         "0.0",
         "0.0",
         "8"
        ],
        [
         "2",
         "0.0",
         "0.0",
         "0.0",
         "0.0",
         "0.0",
         "0.0",
         "0.0",
         "0.0",
         "0.0",
         "0.0",
         "0.0",
         "0.0",
         "0.0",
         "0.0",
         "0.0",
         "0.0",
         "0.0",
         "0.0",
         "0.0",
         "0.0",
         "0.0",
         "0.0",
         "0.0",
         "0.0",
         "0.0",
         "0.0",
         "0.0",
         "0.0",
         "0.0",
         "0.0",
         "0.0",
         "0.0",
         "0.0",
         "0.0",
         "0.0",
         "0.0",
         "0.0",
         "0.0",
         "0.0",
         "0.0",
         "0.0",
         "0.0",
         "0.0",
         "0.0",
         "0.0",
         "0.0",
         "0.0",
         "0.0",
         "0.0",
         "0.0",
         "0.0",
         "0.0",
         "0.0",
         "0.0",
         "0.0",
         "0.0",
         "0.0",
         "0.0",
         "0.0",
         "0.0",
         "0.0",
         "0.0",
         "0.0",
         "0.0",
         "0.0",
         "0.0",
         "0.0",
         "0.0",
         "0.0",
         "0.0",
         "0.0",
         "0.0",
         "0.0",
         "0.0",
         "0.0",
         "0.0",
         "0.0",
         "0.0",
         "0.0",
         "0.0",
         "0.0",
         "0.0",
         "0.0",
         "0.0",
         "0.0",
         "0.0",
         "0.0",
         "0.0",
         "0.0",
         "0.0",
         "0.0",
         "0.0",
         "0.0",
         "0.0",
         "0.0",
         "0.0",
         "0.0",
         "0.0",
         "0.0",
         "0.0",
         "0.0",
         "0.0",
         "0.0",
         "0.0",
         "0.0",
         "0.0",
         "0.0",
         "0.0",
         "0.0",
         "0.0",
         "0.0",
         "0.0",
         "0.0",
         "0.0",
         "0.0",
         "0.0",
         "0.0",
         "0.0",
         "0.0",
         "0.0",
         "0.0",
         "0.0",
         "0.0",
         "0.0",
         "0.0",
         "0.0",
         "0.0",
         "0.0",
         "0.0",
         "0.0",
         "0.0",
         "0.0",
         "0.0",
         "0.0",
         "0.0",
         "0.0",
         "0.0",
         "0.0",
         "0.0",
         "0.0",
         "0.0",
         "0.0",
         "0.0",
         "0.0",
         "0.0",
         "0.0",
         "0.0",
         "0.0",
         "0.0",
         "0.0",
         "0.0",
         "0.0",
         "0.0",
         "0.0",
         "0.0",
         "0.0",
         "0.0",
         "0.0",
         "0.0",
         "0.0",
         "0.0",
         "0.0",
         "0.0",
         "0.0",
         "0.0",
         "0.0",
         "0.0",
         "0.0",
         "0.0",
         "0.0",
         "0.0",
         "0.0",
         "0.0",
         "0.0",
         "0.0",
         "0.0",
         "0.0",
         "0.0",
         "0.0",
         "0.0",
         "1.0",
         "0.0",
         "0.0",
         "0.0",
         "0.0",
         "0.0",
         "0.0",
         "0.0",
         "0.0",
         "0.0",
         "0.0",
         "0.0",
         "0.0",
         "0.0",
         "0.0",
         "0.0",
         "0.0",
         "0.0",
         "0.0",
         "0.0",
         "0.0",
         "0.0",
         "0.0",
         "0.0",
         "0.0",
         "0.0",
         "0.0",
         "0.0",
         "0.0",
         "0.0",
         "0.0",
         "0.0",
         "0.0",
         "0.0",
         "0.0",
         "0.0",
         "0.0",
         "0.0",
         "0.0",
         "0.0",
         "0.0",
         "0.0",
         "0.0",
         "0.0",
         "0.0",
         "0.0",
         "0.0",
         "0.0",
         "0.0",
         "0.0",
         "0.0",
         "0.0",
         "0.0",
         "0.0",
         "0.0",
         "0.0",
         "0.0",
         "0.0",
         "0.0",
         "0.0",
         "0.0",
         "0.0",
         "0.0",
         "0.0",
         "0.0",
         "0.0",
         "0.0",
         "0.0",
         "0.0",
         "0.0",
         "0.0",
         "0.0",
         "0.0",
         "0.0",
         "0.0",
         "0.0",
         "0.0",
         "0.0",
         "0.0",
         "1.0",
         "0.0",
         "0.0",
         "0.0",
         "0.0",
         "0.0",
         "0.0",
         "0.0",
         "1.0",
         "0.0",
         "0.0",
         "1.0",
         "0.0",
         "0.0",
         "0.0",
         "0.0",
         "0.0",
         "0.0",
         "0.0",
         "0.0",
         "0.0",
         "0.0",
         "0.0",
         "0.0",
         "0.0",
         "0.0",
         "0.0",
         "0.0",
         "0.0",
         "0.0",
         "0.0",
         "0.0",
         "0.0",
         "0.0",
         "0.0",
         "0.0",
         "0.0",
         "0.0",
         "0.0",
         "1.0",
         "0.0",
         "0.0",
         "0.0",
         "1.0",
         "0.0",
         "0.0",
         "0.0",
         "1.0",
         "0.0",
         "0.0",
         "0.0",
         "0.0",
         "0.0",
         "0.0",
         "0.0",
         "0.0",
         "0.0",
         "0.0",
         "1.0",
         "0.0",
         "1.0",
         "1.0",
         "1.0",
         "0.0",
         "0.0",
         "0.0",
         "0.0",
         "1.0",
         "1.0",
         "1.0",
         "0.0",
         "1.0",
         "0.0",
         "0.0",
         "1.0",
         "0.0",
         "0.0",
         "0.0",
         "0.0",
         "1.0",
         "1.0",
         "0.0",
         "1.0",
         "1.0",
         "1.0",
         "1.0",
         "1.0",
         "1.0",
         "1.0",
         "1.0",
         "1.0",
         "1.0",
         "0.0",
         "0.0",
         "1.0",
         "1.0",
         "0.0",
         "0.0",
         "0.0",
         "0.0",
         "0.0",
         "0.0",
         "0.0",
         "0.0",
         "0.0",
         "0.0",
         "0.0",
         "0.0",
         "0.0",
         "0.0",
         "0.0",
         "0.0",
         "0.0",
         "0.0",
         "0.0",
         "0.0",
         "0.0",
         "0.0",
         "0.0",
         "0.0",
         "0.0",
         "0.0",
         "0.0",
         "0.0",
         "0.0",
         "0.0",
         "0.0",
         "0.0",
         "0.0",
         "0.0",
         "0.0",
         "0.0",
         "0.0",
         "0.0",
         "0.0",
         "0.0",
         "0.0",
         "0.0",
         "0.0",
         "0.0",
         "0.0",
         "0.0",
         "0.0",
         "0.0",
         "0.0",
         "0.0",
         "0.0",
         "0.0",
         "0.0",
         "0.0",
         "0.0",
         "0.0",
         "0.0",
         "0.0",
         "0.0",
         "0.0",
         "0.0",
         "0.0",
         "0.0",
         "0.0",
         "0.0",
         "0.0",
         "0.0",
         "0.0",
         "0.0",
         "0.0",
         "0.0",
         "0.0",
         "0.0",
         "0.0",
         "0.0",
         "0.0",
         "0.0",
         "0.0",
         "0.0",
         "0.0",
         "0.0",
         "0.0",
         "0.0",
         "0.0",
         "0.0",
         "0.0",
         "0.0",
         "0.0",
         "0.0",
         "0.0",
         "0.0",
         "0.0",
         "0.0",
         "0.0",
         "0.0",
         "0.0",
         "0.0",
         "0.0",
         "0.0",
         "0.0",
         "0.0",
         "0.0",
         "0.0",
         "0.0",
         "0.0",
         "0.0",
         "0.0",
         "0.0",
         "0.0",
         "0.0",
         "0.0",
         "0.0",
         "0.0",
         "0.0",
         "0.0",
         "0.0",
         "0.0",
         "0.0",
         "0.0",
         "0.0",
         "0.0",
         "0.0",
         "0.0",
         "0.0",
         "0.0",
         "0.0",
         "0.0",
         "0.0",
         "0.0",
         "0.0",
         "0.0",
         "0.0",
         "0.0",
         "0.0",
         "0.0",
         "0.0",
         "0.0",
         "0.0",
         "0.0",
         "0.0",
         "0.0",
         "0.0",
         "0.0",
         "0.0",
         "0.0",
         "0.0",
         "0.0",
         "0.0",
         "0.0",
         "0.0",
         "0.0",
         "0.0",
         "0.0",
         "0.0",
         "0.0",
         "0.0",
         "0.0",
         "0.0",
         "0.0",
         "0.0",
         "0.0",
         "0.0",
         "0.0",
         "0.0",
         "0.0",
         "0.0",
         "0.0",
         "0.0",
         "0.0",
         "0.0",
         "0.0",
         "0.0",
         "0.0",
         "0.0",
         "0.0",
         "0.0",
         "0.0",
         "0.0",
         "0.0",
         "0.0",
         "0.0",
         "0.0",
         "0.0",
         "0.0",
         "0.0",
         "0.0",
         "0.0",
         "0.0",
         "0.0",
         "0.0",
         "0.0",
         "0.0",
         "0.0",
         "0.0",
         "0.0",
         "0.0",
         "0.0",
         "0.0",
         "0.0",
         "0.0",
         "0.0",
         "0.0",
         "0.0",
         "0.0",
         "0.0",
         "0.0",
         "0.0",
         "0.0",
         "0.0",
         "0.0",
         "0.0",
         "0.0",
         "0.0",
         "0.0",
         "0.0",
         "0.0",
         "0.0",
         "0.0",
         "0.0",
         "0.0",
         "0.0",
         "0.0",
         "0.0",
         "0.0",
         "0.0",
         "0.0",
         "0.0",
         "0.0",
         "0.0",
         "0.0",
         "0.0",
         "0.0",
         "0.0",
         "0.0",
         "0.0",
         "0.0",
         "0.0",
         "0.0",
         "0.0",
         "0.0",
         "0.0",
         "0.0",
         "0.0",
         "0.0",
         "0.0",
         "0.0",
         "0.0",
         "0.0",
         "0.0",
         "0.0",
         "0.0",
         "0.0",
         "0.0",
         "0.0",
         "0.0",
         "0.0",
         "0.0",
         "0.0",
         "0.0",
         "0.0",
         "0.0",
         "0.0",
         "0.0",
         "0.0",
         "0.0",
         "0.0",
         "0.0",
         "0.0",
         "0.0",
         "0.0",
         "0.0",
         "0.0",
         "0.0",
         "0.0",
         "0.0",
         "0.0",
         "0.0",
         "0.0",
         "0.0",
         "0.0",
         "0.0",
         "0.0",
         "0.0",
         "0.0",
         "0.0",
         "0.0",
         "0.0",
         "0.0",
         "0.0",
         "0.0",
         "0.0",
         "0.0",
         "0.0",
         "0.0",
         "0.0",
         "0.0",
         "0.0",
         "0.0",
         "0.0",
         "0.0",
         "0.0",
         "0.0",
         "0.0",
         "0.0",
         "0.0",
         "0.0",
         "0.0",
         "0.0",
         "0.0",
         "0.0",
         "0.0",
         "0.0",
         "0.0",
         "0.0",
         "0.0",
         "0.0",
         "0.0",
         "0.0",
         "0.0",
         "0.0",
         "0.0",
         "0.0",
         "0.0",
         "0.0",
         "0.0",
         "0.0",
         "0.0",
         "0.0",
         "0.0",
         "0.0",
         "0.0",
         "0.0",
         "0.0",
         "0.0",
         "0.0",
         "0.0",
         "0.0",
         "0.0",
         "0.0",
         "0.0",
         "0.0",
         "0.0",
         "0.0",
         "0.0",
         "0.0",
         "0.0",
         "0.0",
         "0.0",
         "0.0",
         "0.0",
         "0.0",
         "0.0",
         "0.0",
         "0.0",
         "0.0",
         "0.0",
         "0.0",
         "0.0",
         "0.0",
         "0.0",
         "0.0",
         "0.0",
         "0.0",
         "0.0",
         "0.0",
         "0.0",
         "0.0",
         "0.0",
         "0.0",
         "0.0",
         "0.0",
         "0.0",
         "0.0",
         "0.0",
         "0.0",
         "0.0",
         "0.0",
         "0.0",
         "0.0",
         "0.0",
         "0.0",
         "0.0",
         "0.0",
         "0.0",
         "0.0",
         "0.0",
         "0.0",
         "0.0",
         "0.0",
         "0.0",
         "0.0",
         "0.0",
         "0.0",
         "0.0",
         "0.0",
         "0.0",
         "0.0",
         "0.0",
         "0.0",
         "0.0",
         "0.0",
         "0.0",
         "0.0",
         "0.0",
         "0.0",
         "0.0",
         "0.0",
         "0.0",
         "0.0",
         "0.0",
         "0.0",
         "0.0",
         "0.0",
         "0.0",
         "0.0",
         "0.0",
         "0.0",
         "0.0",
         "0.0",
         "0.0",
         "0.0",
         "0.0",
         "0.0",
         "0.0",
         "0.0",
         "0.0",
         "0.0",
         "0.0",
         "0.0",
         "0.0",
         "0.0",
         "0.0",
         "0.0",
         "0.0",
         "0.0",
         "0.0",
         "0.0",
         "0.0",
         "0.0",
         "0.0",
         "0.0",
         "0.0",
         "0.0",
         "0.0",
         "0.0",
         "0.0",
         "0.0",
         "0.0",
         "0.0",
         "0.0",
         "0.0",
         "0.0",
         "0.0",
         "0.0",
         "0.0",
         "0.0",
         "0.0",
         "0.0",
         "0.0",
         "0.0",
         "0.0",
         "0.0",
         "0.0",
         "0.0",
         "0.0",
         "0.0",
         "0.0",
         "0.0",
         "0.0",
         "0.0",
         "0.0",
         "0.0",
         "0.0",
         "0.0",
         "0.0",
         "0.0",
         "0.0",
         "0.0",
         "0.0",
         "0.0",
         "0.0",
         "0.0",
         "0.0",
         "0.0",
         "0.0",
         "0.0",
         "0.0",
         "0.0",
         "0.0",
         "0.0",
         "0.0",
         "0.0",
         "0.0",
         "0.0",
         "0.0",
         "0.0",
         "0.0",
         "0.0",
         "0.0",
         "0.0",
         "0.0",
         "0.0",
         "0.0",
         "0.0",
         "0.0",
         "0.0",
         "0.0",
         "0.0",
         "0.0",
         "0.0",
         "0.0",
         "0.0",
         "0.0",
         "0.0",
         "0.0",
         "0.0",
         "0.0",
         "0.0",
         "0.0",
         "0.0",
         "0.0",
         "0.0",
         "0.0",
         "0.0",
         "0.0",
         "0.0",
         "0.0",
         "0.0",
         "0.0",
         "0.0",
         "0.0",
         "0.0",
         "0.0",
         "0.0",
         "0.0",
         "0.0",
         "0.0",
         "0.0",
         "0.0",
         "0.0",
         "0.0",
         "0.0",
         "0.0",
         "0.0",
         "0.0",
         "0.0",
         "0.0",
         "0.0",
         "0.0",
         "0.0",
         "0.0",
         "0.0",
         "0.0",
         "0.0",
         "0.0",
         "0.0",
         "0.0",
         "0.0",
         "0.0",
         "0.0",
         "0.0",
         "0.0",
         "0.0",
         "0.0",
         "0.0",
         "0.0",
         "0.0",
         "0.0",
         "0.0",
         "0.0",
         "0.0",
         "0.0",
         "0.0",
         "0.0",
         "0.0",
         "0.0",
         "0.0",
         "0.0",
         "0.0",
         "0.0",
         "0.0",
         "0.0",
         "0.0",
         "0.0",
         "0.0",
         "0.0",
         "0.0",
         "0.0",
         "0.0",
         "0.0",
         "0.0",
         "0.0",
         "0.0",
         "0.0",
         "0.0",
         "0.0",
         "0.0",
         "0.0",
         "0.0",
         "0.0",
         "0.0",
         "0.0",
         "0.0",
         "0.0",
         "0.0",
         "0.0",
         "0.0",
         "0.0",
         "0.0",
         "0.0",
         "0.0",
         "0.0",
         "0.0",
         "0.0",
         "0.0",
         "0.0",
         "0.0",
         "0.0",
         "0.0",
         "0.0",
         "0.0",
         "0.0",
         "0.0",
         "0.0",
         "0.0",
         "0.0",
         "0.0",
         "0.0",
         "0.0",
         "0.0",
         "0.0",
         "0.0",
         "0.0",
         "0.0",
         "0.0",
         "0.0",
         "0.0",
         "0.0",
         "0.0",
         "0.0",
         "0.0",
         "0.0",
         "0.0",
         "0.0",
         "0.0",
         "0.0",
         "0.0",
         "0.0",
         "0.0",
         "0.0",
         "0.0",
         "0.0",
         "0.0",
         "0.0",
         "0.0",
         "0.0",
         "0.0",
         "0.0",
         "0.0",
         "0.0",
         "0.0",
         "0.0",
         "0.0",
         "0.0",
         "0.0",
         "0.0",
         "0.0",
         "0.0",
         "0.0",
         "0.0",
         "0.0",
         "0.0",
         "0.0",
         "0.0",
         "0.0",
         "0.0",
         "0.0",
         "0.0",
         "0.0",
         "0.0",
         "0.0",
         "0.0",
         "0.0",
         "0.0",
         "0.0",
         "0.0",
         "0.0",
         "0.0",
         "0.0",
         "0.0",
         "0.0",
         "0.0",
         "0.0",
         "0.0",
         "0.0",
         "0.0",
         "0.0",
         "0.0",
         "0.0",
         "0.0",
         "0.0",
         "0.0",
         "0.0",
         "0.0",
         "0.0",
         "0.0",
         "0.0",
         "0.0",
         "0.0",
         "0.0",
         "0.0",
         "0.0",
         "0.0",
         "0.0",
         "0.0",
         "0.0",
         "0.0",
         "0.0",
         "0.0",
         "0.0",
         "0.0",
         "0.0",
         "0.0",
         "0.0",
         "0.0",
         "0.0",
         "0.0",
         "0.0",
         "0.0",
         "0.0",
         "0.0",
         "0.0",
         "0.0",
         "0.0",
         "0.0",
         "0.0",
         "0.0",
         "0.0",
         "0.0",
         "0.0",
         "0.0",
         "0.0",
         "0.0",
         "0.0",
         "0.0",
         "0.0",
         "0.0",
         "0.0",
         "0.0",
         "0.0",
         "0.0",
         "0.0",
         "0.0",
         "0.0",
         "0.0",
         "0.0",
         "0.0",
         "0.0",
         "0.0",
         "0.0",
         "0.0",
         "0.0",
         "0.0",
         "0.0",
         "0.0",
         "0.0",
         "0.0",
         "0.0",
         "0.0",
         "0.0",
         "0.0",
         "0.0",
         "0.0",
         "0.0",
         "0.0",
         "0.0",
         "0.0",
         "0.0",
         "0.0",
         "0.0",
         "0.0",
         "0.0",
         "0.0",
         "0.0",
         "0.0",
         "0.0",
         "0.0",
         "0.0",
         "0.0",
         "0.0",
         "0.0",
         "0.0",
         "0.0",
         "0.0",
         "0.0",
         "0.0",
         "0.0",
         "0.0",
         "0.0",
         "0.0",
         "0.0",
         "0.0",
         "0.0",
         "0.0",
         "0.0",
         "0.0",
         "0.0",
         "0.0",
         "0.0",
         "0.0",
         "0.0",
         "0.0",
         "0.0",
         "0.0",
         "0.0",
         "0.0",
         "0.0",
         "0.0",
         "0.0",
         "0.0",
         "0.0",
         "0.0",
         "0.0",
         "0.0",
         "0.0",
         "0.0",
         "0.0",
         "0.0",
         "0.0",
         "0.0",
         "0.0",
         "0.0",
         "0.0",
         "0.0",
         "0.0",
         "0.0",
         "0.0",
         "0.0",
         "0.0",
         "0.0",
         "0.0",
         "0.0",
         "0.0",
         "0.0",
         "0.0",
         "0.0",
         "0.0",
         "0.0",
         "0.0",
         "0.0",
         "0.0",
         "0.0",
         "0.0",
         "0.0",
         "0.0",
         "0.0",
         "0.0",
         "0.0",
         "0.0",
         "0.0",
         "0.0",
         "0.0",
         "0.0",
         "0.0",
         "0.0",
         "0.0",
         "0.0",
         "0.0",
         "0.0",
         "0.0",
         "0.0",
         "0.0",
         "0.0",
         "0.0",
         "0.0",
         "0.0",
         "0.0",
         "0.0",
         "0.0",
         "0.0",
         "0.0",
         "0.0",
         "0.0",
         "0.0",
         "0.0",
         "0.0",
         "0.0",
         "0.0",
         "0.0",
         "0.0",
         "0.0",
         "0.0",
         "0.0",
         "0.0",
         "0.0",
         "0.0",
         "0.0",
         "0.0",
         "0.0",
         "0.0",
         "0.0",
         "0.0",
         "0.0",
         "0.0",
         "0.0",
         "0.0",
         "0.0",
         "0.0",
         "0.0",
         "0.0",
         "0.0",
         "0.0",
         "0.0",
         "0.0",
         "0.0",
         "0.0",
         "0.0",
         "0.0",
         "0.0",
         "0.0",
         "0.0",
         "0.0",
         "0.0",
         "0.0",
         "0.0",
         "0.0",
         "0.0",
         "0.0",
         "0.0",
         "0.0",
         "0.0",
         "0.0",
         "0.0",
         "0.0",
         "0.0",
         "0.0",
         "0.0",
         "0.0",
         "0.0",
         "0.0",
         "0.0",
         "0.0",
         "0.0",
         "0.0",
         "0.0",
         "0.0",
         "0.0",
         "0.0",
         "0.0",
         "0.0",
         "0.0",
         "0.0",
         "0.0",
         "0.0",
         "0.0",
         "0.0",
         "0.0",
         "0.0",
         "0.0",
         "0.0",
         "0.0",
         "0.0",
         "0.0",
         "0.0",
         "0.0",
         "0.0",
         "0.0",
         "0.0",
         "0.0",
         "0.0",
         "0.0",
         "0.0",
         "0.0",
         "0.0",
         "0.0",
         "0.0",
         "0.0",
         "0.0",
         "0.0",
         "0.0",
         "0.0",
         "0.0",
         "0.0",
         "0.0",
         "0.0",
         "0.0",
         "0.0",
         "0.0",
         "0.0",
         "0.0",
         "0.0",
         "0.0",
         "0.0",
         "0.0",
         "0.0",
         "0.0",
         "0.0",
         "0.0",
         "0.0",
         "0.0",
         "0.0",
         "0.0",
         "0.0",
         "0.0",
         "0.0",
         "0.0",
         "0.0",
         "0.0",
         "0.0",
         "0.0",
         "0.0",
         "0.0",
         "0.0",
         "0.0",
         "0.0",
         "0.0",
         "0.0",
         "0.0",
         "0.0",
         "0.0",
         "0.0",
         "0.0",
         "0.0",
         "0.0",
         "0.0",
         "0.0",
         "0.0",
         "0.0",
         "0.0",
         "0.0",
         "0.0",
         "0.0",
         "0.0",
         "0.0",
         "0.0",
         "0.0",
         "0.0",
         "0.0",
         "0.0",
         "0.0",
         "0.0",
         "0.0",
         "0.0",
         "0.0",
         "0.0",
         "0.0",
         "0.0",
         "0.0",
         "0.0",
         "0.0",
         "0.0",
         "0.0",
         "0.0",
         "0.0",
         "0.0",
         "0.0",
         "0.0",
         "0.0",
         "0.0",
         "0.0",
         "0.0",
         "0.0",
         "0.0",
         "0.0",
         "0.0",
         "0.0",
         "0.0",
         "0.0",
         "0.0",
         "0.0",
         "0.0",
         "0.0",
         "0.0",
         "0.0",
         "0.0",
         "0.0",
         "0.0",
         "0.0",
         "0.0",
         "0.0",
         "0.0",
         "0.0",
         "0.0",
         "0.0",
         "0.0",
         "0.0",
         "0.0",
         "0.0",
         "0.0",
         "0.0",
         "0.0",
         "0.0",
         "0.0",
         "0.0",
         "0.0",
         "0.0",
         "0.0",
         "0.0",
         "0.0",
         "0.0",
         "0.0",
         "0.0",
         "0.0",
         "0.0",
         "0.0",
         "0.0",
         "0.0",
         "0.0",
         "0.0",
         "0.0",
         "0.0",
         "0.0",
         "0.0",
         "0.0",
         "0.0",
         "0.0",
         "0.0",
         "0.0",
         "0.0",
         "0.0",
         "0.0",
         "0.0",
         "0.0",
         "0.0",
         "0.0",
         "0.0",
         "0.0",
         "0.0",
         "0.0",
         "0.0",
         "0.0",
         "0.0",
         "0.0",
         "0.0",
         "0.0",
         "0.0",
         "0.0",
         "0.0",
         "0.0",
         "0.0",
         "0.0",
         "0.0",
         "0.0",
         "0.0",
         "0.0",
         "0.0",
         "0.0",
         "0.0",
         "0.0",
         "0.0",
         "0.0",
         "0.0",
         "0.0",
         "0.0",
         "0.0",
         "0.0",
         "0.0",
         "0.0",
         "0.0",
         "0.0",
         "0.0",
         "0.0",
         "0.0",
         "0.0",
         "0.0",
         "0.0",
         "0.0",
         "0.0",
         "0.0",
         "0.0",
         "0.0",
         "0.0",
         "0.0",
         "0.0",
         "0.0",
         "0.0",
         "0.0",
         "0.0",
         "0.0",
         "0.0",
         "0.0",
         "0.0",
         "0.0",
         "0.0",
         "0.0",
         "0.0",
         "0.0",
         "0.0",
         "0.0",
         "0.0",
         "0.0",
         "0.0",
         "0.0",
         "0.0",
         "0.0",
         "0.0",
         "0.0",
         "0.0",
         "0.0",
         "0.0",
         "0.0",
         "0.0",
         "0.0",
         "0.0",
         "0.0",
         "0.0",
         "0.0",
         "0.0",
         "0.0",
         "0.0",
         "0.0",
         "0.0",
         "0.0",
         "0.0",
         "0.0",
         "0.0",
         "0.0",
         "0.0",
         "0.0",
         "0.0",
         "0.0",
         "0.0",
         "0.0",
         "0.0",
         "0.0",
         "0.0",
         "0.0",
         "0.0",
         "0.0",
         "0.0",
         "0.0",
         "0.0",
         "0.0",
         "0.0",
         "0.0",
         "0.0",
         "0.0",
         "0.0",
         "0.0",
         "0.0",
         "0.0",
         "0.0",
         "0.0",
         "0.0",
         "0.0",
         "0.0",
         "0.0",
         "0.0",
         "0.0",
         "0.0",
         "0.0",
         "0.0",
         "0.0",
         "0.0",
         "0.0",
         "0.0",
         "0.0",
         "0.0",
         "0.0",
         "0.0",
         "0.0",
         "0.0",
         "0.0",
         "0.0",
         "0.0",
         "0.0",
         "0.0",
         "0.0",
         "0.0",
         "0.0",
         "0.0",
         "0.0",
         "0.0",
         "0.0",
         "0.0",
         "0.0",
         "0.0",
         "0.0",
         "0.0",
         "0.0",
         "0.0",
         "0.0",
         "0.0",
         "0.0",
         "0.0",
         "0.0",
         "0.0",
         "0.0",
         "0.0",
         "0.0",
         "0.0",
         "0.0",
         "0.0",
         "0.0",
         "0.0",
         "0.0",
         "0.0",
         "0.0",
         "0.0",
         "0.0",
         "0.0",
         "0.0",
         "0.0",
         "0.0",
         "0.0",
         "0.0",
         "0.0",
         "0.0",
         "0.0",
         "0.0",
         "0.0",
         "0.0",
         "0.0",
         "0.0",
         "0.0",
         "0.0",
         "0.0",
         "0.0",
         "0.0",
         "0.0",
         "0.0",
         "0.0",
         "0.0",
         "0.0",
         "0.0",
         "0.0",
         "0.0",
         "7"
        ],
        [
         "3",
         "0.0",
         "0.0",
         "0.0",
         "0.0",
         "0.0",
         "0.0",
         "0.0",
         "0.0",
         "0.0",
         "0.0",
         "1.0",
         "0.0",
         "0.0",
         "0.0",
         "0.0",
         "0.0",
         "0.0",
         "0.0",
         "0.0",
         "0.0",
         "0.0",
         "0.0",
         "0.0",
         "0.0",
         "0.0",
         "0.0",
         "0.0",
         "0.0",
         "0.0",
         "0.0",
         "0.0",
         "0.0",
         "0.0",
         "0.0",
         "0.0",
         "0.0",
         "0.0",
         "0.0",
         "0.0",
         "0.0",
         "0.0",
         "0.0",
         "0.0",
         "0.0",
         "0.0",
         "0.0",
         "0.0",
         "0.0",
         "0.0",
         "1.0",
         "0.0",
         "0.0",
         "0.0",
         "0.0",
         "0.0",
         "0.0",
         "0.0",
         "0.0",
         "0.0",
         "0.0",
         "0.0",
         "0.0",
         "0.0",
         "0.0",
         "0.0",
         "0.0",
         "0.0",
         "0.0",
         "0.0",
         "0.0",
         "0.0",
         "0.0",
         "0.0",
         "0.0",
         "0.0",
         "0.0",
         "0.0",
         "0.0",
         "0.0",
         "0.0",
         "0.0",
         "0.0",
         "0.0",
         "0.0",
         "0.0",
         "0.0",
         "0.0",
         "0.0",
         "0.0",
         "0.0",
         "0.0",
         "0.0",
         "0.0",
         "0.0",
         "0.0",
         "0.0",
         "0.0",
         "0.0",
         "0.0",
         "0.0",
         "0.0",
         "0.0",
         "0.0",
         "0.0",
         "0.0",
         "0.0",
         "0.0",
         "0.0",
         "0.0",
         "0.0",
         "0.0",
         "0.0",
         "0.0",
         "0.0",
         "0.0",
         "0.0",
         "0.0",
         "0.0",
         "0.0",
         "0.0",
         "0.0",
         "0.0",
         "0.0",
         "0.0",
         "0.0",
         "0.0",
         "0.0",
         "0.0",
         "0.0",
         "0.0",
         "0.0",
         "0.0",
         "0.0",
         "0.0",
         "0.0",
         "0.0",
         "0.0",
         "0.0",
         "0.0",
         "0.0",
         "0.0",
         "0.0",
         "0.0",
         "0.0",
         "0.0",
         "0.0",
         "0.0",
         "0.0",
         "0.0",
         "0.0",
         "0.0",
         "0.0",
         "0.0",
         "0.0",
         "0.0",
         "0.0",
         "0.0",
         "0.0",
         "0.0",
         "0.0",
         "0.0",
         "0.0",
         "0.0",
         "0.0",
         "0.0",
         "0.0",
         "0.0",
         "0.0",
         "0.0",
         "0.0",
         "0.0",
         "0.0",
         "0.0",
         "0.0",
         "0.0",
         "0.0",
         "0.0",
         "0.0",
         "0.0",
         "0.0",
         "0.0",
         "0.0",
         "0.0",
         "0.0",
         "0.0",
         "0.0",
         "0.0",
         "0.0",
         "0.0",
         "0.0",
         "0.0",
         "0.0",
         "0.0",
         "0.0",
         "0.0",
         "0.0",
         "0.0",
         "0.0",
         "0.0",
         "0.0",
         "0.0",
         "0.0",
         "0.0",
         "0.0",
         "0.0",
         "0.0",
         "0.0",
         "0.0",
         "0.0",
         "1.0",
         "0.0",
         "0.0",
         "0.0",
         "0.0",
         "0.0",
         "0.0",
         "0.0",
         "0.0",
         "0.0",
         "0.0",
         "0.0",
         "0.0",
         "0.0",
         "0.0",
         "0.0",
         "0.0",
         "0.0",
         "0.0",
         "0.0",
         "0.0",
         "0.0",
         "0.0",
         "0.0",
         "0.0",
         "0.0",
         "0.0",
         "0.0",
         "0.0",
         "0.0",
         "0.0",
         "0.0",
         "0.0",
         "0.0",
         "0.0",
         "0.0",
         "0.0",
         "0.0",
         "0.0",
         "0.0",
         "0.0",
         "0.0",
         "0.0",
         "0.0",
         "0.0",
         "0.0",
         "0.0",
         "0.0",
         "1.0",
         "0.0",
         "1.0",
         "0.0",
         "0.0",
         "0.0",
         "1.0",
         "0.0",
         "0.0",
         "0.0",
         "0.0",
         "0.0",
         "0.0",
         "1.0",
         "0.0",
         "0.0",
         "0.0",
         "0.0",
         "0.0",
         "0.0",
         "0.0",
         "0.0",
         "0.0",
         "0.0",
         "0.0",
         "0.0",
         "0.0",
         "0.0",
         "0.0",
         "0.0",
         "1.0",
         "0.0",
         "0.0",
         "0.0",
         "0.0",
         "0.0",
         "1.0",
         "0.0",
         "0.0",
         "0.0",
         "0.0",
         "0.0",
         "1.0",
         "1.0",
         "0.0",
         "1.0",
         "0.0",
         "0.0",
         "0.0",
         "0.0",
         "0.0",
         "0.0",
         "0.0",
         "0.0",
         "0.0",
         "0.0",
         "0.0",
         "0.0",
         "0.0",
         "0.0",
         "0.0",
         "0.0",
         "0.0",
         "0.0",
         "0.0",
         "0.0",
         "1.0",
         "0.0",
         "0.0",
         "1.0",
         "1.0",
         "1.0",
         "0.0",
         "0.0",
         "0.0",
         "0.0",
         "0.0",
         "0.0",
         "0.0",
         "0.0",
         "0.0",
         "0.0",
         "0.0",
         "0.0",
         "0.0",
         "0.0",
         "0.0",
         "0.0",
         "0.0",
         "0.0",
         "0.0",
         "0.0",
         "0.0",
         "0.0",
         "0.0",
         "0.0",
         "1.0",
         "0.0",
         "1.0",
         "1.0",
         "0.0",
         "1.0",
         "1.0",
         "1.0",
         "1.0",
         "0.0",
         "0.0",
         "0.0",
         "0.0",
         "0.0",
         "0.0",
         "0.0",
         "0.0",
         "0.0",
         "0.0",
         "0.0",
         "0.0",
         "0.0",
         "0.0",
         "0.0",
         "0.0",
         "0.0",
         "0.0",
         "0.0",
         "0.0",
         "0.0",
         "0.0",
         "0.0",
         "0.0",
         "0.0",
         "0.0",
         "0.0",
         "0.0",
         "0.0",
         "0.0",
         "0.0",
         "0.0",
         "0.0",
         "0.0",
         "0.0",
         "0.0",
         "0.0",
         "0.0",
         "0.0",
         "0.0",
         "0.0",
         "0.0",
         "0.0",
         "0.0",
         "0.0",
         "0.0",
         "0.0",
         "0.0",
         "0.0",
         "0.0",
         "0.0",
         "0.0",
         "0.0",
         "0.0",
         "0.0",
         "0.0",
         "0.0",
         "0.0",
         "0.0",
         "0.0",
         "0.0",
         "0.0",
         "0.0",
         "0.0",
         "0.0",
         "0.0",
         "0.0",
         "0.0",
         "0.0",
         "0.0",
         "0.0",
         "0.0",
         "0.0",
         "0.0",
         "0.0",
         "0.0",
         "0.0",
         "0.0",
         "0.0",
         "0.0",
         "0.0",
         "0.0",
         "0.0",
         "0.0",
         "0.0",
         "0.0",
         "0.0",
         "0.0",
         "0.0",
         "0.0",
         "0.0",
         "0.0",
         "0.0",
         "0.0",
         "0.0",
         "0.0",
         "0.0",
         "0.0",
         "0.0",
         "0.0",
         "0.0",
         "0.0",
         "0.0",
         "0.0",
         "0.0",
         "0.0",
         "0.0",
         "0.0",
         "0.0",
         "0.0",
         "0.0",
         "0.0",
         "0.0",
         "0.0",
         "0.0",
         "0.0",
         "0.0",
         "0.0",
         "0.0",
         "0.0",
         "0.0",
         "0.0",
         "0.0",
         "0.0",
         "0.0",
         "0.0",
         "0.0",
         "0.0",
         "0.0",
         "0.0",
         "0.0",
         "0.0",
         "0.0",
         "0.0",
         "0.0",
         "0.0",
         "0.0",
         "0.0",
         "0.0",
         "0.0",
         "0.0",
         "0.0",
         "0.0",
         "0.0",
         "0.0",
         "0.0",
         "0.0",
         "0.0",
         "0.0",
         "0.0",
         "0.0",
         "0.0",
         "0.0",
         "0.0",
         "0.0",
         "0.0",
         "0.0",
         "0.0",
         "0.0",
         "0.0",
         "0.0",
         "0.0",
         "0.0",
         "0.0",
         "0.0",
         "0.0",
         "0.0",
         "0.0",
         "0.0",
         "0.0",
         "0.0",
         "0.0",
         "0.0",
         "0.0",
         "0.0",
         "0.0",
         "0.0",
         "0.0",
         "0.0",
         "0.0",
         "0.0",
         "0.0",
         "0.0",
         "0.0",
         "0.0",
         "0.0",
         "0.0",
         "0.0",
         "0.0",
         "0.0",
         "0.0",
         "0.0",
         "0.0",
         "0.0",
         "0.0",
         "0.0",
         "0.0",
         "0.0",
         "0.0",
         "0.0",
         "0.0",
         "0.0",
         "0.0",
         "0.0",
         "0.0",
         "0.0",
         "0.0",
         "0.0",
         "0.0",
         "0.0",
         "0.0",
         "0.0",
         "0.0",
         "0.0",
         "0.0",
         "0.0",
         "0.0",
         "0.0",
         "0.0",
         "0.0",
         "0.0",
         "0.0",
         "0.0",
         "0.0",
         "0.0",
         "0.0",
         "0.0",
         "0.0",
         "0.0",
         "0.0",
         "0.0",
         "0.0",
         "0.0",
         "0.0",
         "0.0",
         "0.0",
         "0.0",
         "0.0",
         "0.0",
         "0.0",
         "0.0",
         "0.0",
         "0.0",
         "0.0",
         "0.0",
         "0.0",
         "0.0",
         "0.0",
         "0.0",
         "0.0",
         "0.0",
         "0.0",
         "0.0",
         "0.0",
         "0.0",
         "0.0",
         "0.0",
         "0.0",
         "0.0",
         "0.0",
         "0.0",
         "0.0",
         "0.0",
         "0.0",
         "0.0",
         "0.0",
         "0.0",
         "0.0",
         "0.0",
         "0.0",
         "0.0",
         "0.0",
         "0.0",
         "0.0",
         "0.0",
         "0.0",
         "0.0",
         "0.0",
         "0.0",
         "0.0",
         "0.0",
         "0.0",
         "0.0",
         "0.0",
         "0.0",
         "0.0",
         "0.0",
         "0.0",
         "0.0",
         "0.0",
         "0.0",
         "0.0",
         "0.0",
         "0.0",
         "0.0",
         "0.0",
         "0.0",
         "0.0",
         "0.0",
         "0.0",
         "0.0",
         "0.0",
         "0.0",
         "0.0",
         "0.0",
         "0.0",
         "0.0",
         "0.0",
         "0.0",
         "0.0",
         "0.0",
         "0.0",
         "0.0",
         "0.0",
         "0.0",
         "0.0",
         "0.0",
         "0.0",
         "0.0",
         "0.0",
         "0.0",
         "0.0",
         "0.0",
         "0.0",
         "0.0",
         "0.0",
         "0.0",
         "0.0",
         "0.0",
         "0.0",
         "0.0",
         "0.0",
         "0.0",
         "0.0",
         "0.0",
         "0.0",
         "0.0",
         "0.0",
         "0.0",
         "0.0",
         "0.0",
         "0.0",
         "0.0",
         "0.0",
         "0.0",
         "0.0",
         "0.0",
         "0.0",
         "0.0",
         "0.0",
         "0.0",
         "0.0",
         "0.0",
         "0.0",
         "0.0",
         "0.0",
         "0.0",
         "0.0",
         "0.0",
         "0.0",
         "0.0",
         "0.0",
         "0.0",
         "0.0",
         "0.0",
         "0.0",
         "0.0",
         "0.0",
         "0.0",
         "0.0",
         "0.0",
         "0.0",
         "0.0",
         "0.0",
         "0.0",
         "0.0",
         "0.0",
         "0.0",
         "0.0",
         "0.0",
         "0.0",
         "0.0",
         "0.0",
         "0.0",
         "0.0",
         "0.0",
         "0.0",
         "0.0",
         "0.0",
         "0.0",
         "0.0",
         "0.0",
         "0.0",
         "0.0",
         "0.0",
         "0.0",
         "0.0",
         "0.0",
         "0.0",
         "0.0",
         "0.0",
         "0.0",
         "0.0",
         "0.0",
         "0.0",
         "0.0",
         "0.0",
         "0.0",
         "0.0",
         "0.0",
         "0.0",
         "0.0",
         "0.0",
         "0.0",
         "0.0",
         "0.0",
         "0.0",
         "0.0",
         "0.0",
         "0.0",
         "0.0",
         "0.0",
         "0.0",
         "0.0",
         "0.0",
         "0.0",
         "0.0",
         "0.0",
         "0.0",
         "0.0",
         "0.0",
         "0.0",
         "0.0",
         "0.0",
         "0.0",
         "0.0",
         "0.0",
         "0.0",
         "0.0",
         "0.0",
         "0.0",
         "0.0",
         "0.0",
         "0.0",
         "0.0",
         "0.0",
         "0.0",
         "0.0",
         "0.0",
         "0.0",
         "0.0",
         "0.0",
         "0.0",
         "0.0",
         "0.0",
         "0.0",
         "0.0",
         "0.0",
         "0.0",
         "0.0",
         "0.0",
         "0.0",
         "0.0",
         "0.0",
         "0.0",
         "0.0",
         "0.0",
         "0.0",
         "0.0",
         "0.0",
         "0.0",
         "0.0",
         "0.0",
         "0.0",
         "0.0",
         "0.0",
         "0.0",
         "0.0",
         "0.0",
         "0.0",
         "0.0",
         "0.0",
         "0.0",
         "0.0",
         "0.0",
         "0.0",
         "0.0",
         "0.0",
         "0.0",
         "0.0",
         "0.0",
         "0.0",
         "0.0",
         "0.0",
         "0.0",
         "0.0",
         "0.0",
         "0.0",
         "0.0",
         "0.0",
         "0.0",
         "0.0",
         "0.0",
         "0.0",
         "0.0",
         "0.0",
         "0.0",
         "0.0",
         "0.0",
         "0.0",
         "0.0",
         "0.0",
         "0.0",
         "0.0",
         "0.0",
         "0.0",
         "0.0",
         "0.0",
         "0.0",
         "0.0",
         "0.0",
         "0.0",
         "0.0",
         "0.0",
         "0.0",
         "0.0",
         "0.0",
         "0.0",
         "0.0",
         "0.0",
         "0.0",
         "0.0",
         "0.0",
         "0.0",
         "0.0",
         "0.0",
         "0.0",
         "0.0",
         "0.0",
         "0.0",
         "0.0",
         "0.0",
         "0.0",
         "0.0",
         "0.0",
         "0.0",
         "0.0",
         "0.0",
         "0.0",
         "0.0",
         "0.0",
         "0.0",
         "0.0",
         "0.0",
         "0.0",
         "0.0",
         "0.0",
         "0.0",
         "0.0",
         "0.0",
         "0.0",
         "0.0",
         "0.0",
         "0.0",
         "0.0",
         "0.0",
         "0.0",
         "0.0",
         "0.0",
         "0.0",
         "0.0",
         "0.0",
         "0.0",
         "0.0",
         "0.0",
         "0.0",
         "0.0",
         "0.0",
         "0.0",
         "0.0",
         "0.0",
         "0.0",
         "0.0",
         "0.0",
         "0.0",
         "0.0",
         "0.0",
         "0.0",
         "0.0",
         "0.0",
         "0.0",
         "0.0",
         "0.0",
         "0.0",
         "0.0",
         "0.0",
         "0.0",
         "0.0",
         "0.0",
         "0.0",
         "0.0",
         "0.0",
         "0.0",
         "0.0",
         "0.0",
         "0.0",
         "0.0",
         "0.0",
         "0.0",
         "0.0",
         "0.0",
         "0.0",
         "0.0",
         "0.0",
         "0.0",
         "0.0",
         "0.0",
         "0.0",
         "0.0",
         "0.0",
         "0.0",
         "0.0",
         "0.0",
         "0.0",
         "0.0",
         "0.0",
         "0.0",
         "0.0",
         "0.0",
         "0.0",
         "0.0",
         "0.0",
         "0.0",
         "0.0",
         "0.0",
         "0.0",
         "0.0",
         "0.0",
         "0.0",
         "0.0",
         "0.0",
         "0.0",
         "0.0",
         "0.0",
         "0.0",
         "0.0",
         "0.0",
         "0.0",
         "0.0",
         "0.0",
         "0.0",
         "0.0",
         "0.0",
         "0.0",
         "0.0",
         "0.0",
         "0.0",
         "0.0",
         "0.0",
         "0.0",
         "0.0",
         "0.0",
         "0.0",
         "0.0",
         "0.0",
         "0.0",
         "0.0",
         "0.0",
         "0.0",
         "0.0",
         "0.0",
         "0.0",
         "0.0",
         "0.0",
         "0.0",
         "0.0",
         "0.0",
         "0.0",
         "0.0",
         "0.0",
         "0.0",
         "0.0",
         "0.0",
         "0.0",
         "0.0",
         "0.0",
         "0.0",
         "0.0",
         "0.0",
         "0.0",
         "0.0",
         "0.0",
         "0.0",
         "0.0",
         "0.0",
         "0.0",
         "0.0",
         "0.0",
         "0.0",
         "0.0",
         "0.0",
         "0.0",
         "0.0",
         "0.0",
         "0.0",
         "0.0",
         "0.0",
         "0.0",
         "0.0",
         "0.0",
         "0.0",
         "0.0",
         "0.0",
         "0.0",
         "0.0",
         "0.0",
         "0.0",
         "0.0",
         "0.0",
         "0.0",
         "0.0",
         "0.0",
         "0.0",
         "0.0",
         "0.0",
         "0.0",
         "0.0",
         "0.0",
         "0.0",
         "0.0",
         "0.0",
         "0.0",
         "0.0",
         "0.0",
         "0.0",
         "0.0",
         "0.0",
         "0.0",
         "0.0",
         "0.0",
         "0.0",
         "0.0",
         "0.0",
         "0.0",
         "0.0",
         "0.0",
         "0.0",
         "0.0",
         "0.0",
         "0.0",
         "0.0",
         "0.0",
         "0.0",
         "0.0",
         "0.0",
         "0.0",
         "0.0",
         "0.0",
         "0.0",
         "0.0",
         "0.0",
         "0.0",
         "0.0",
         "0.0",
         "0.0",
         "0.0",
         "0.0",
         "0.0",
         "0.0",
         "0.0",
         "0.0",
         "0.0",
         "0.0",
         "0.0",
         "0.0",
         "0.0",
         "0.0",
         "0.0",
         "0.0",
         "0.0",
         "0.0",
         "0.0",
         "0.0",
         "0.0",
         "0.0",
         "0.0",
         "0.0",
         "0.0",
         "0.0",
         "0.0",
         "0.0",
         "0.0",
         "0.0",
         "0.0",
         "0.0",
         "0.0",
         "0.0",
         "0.0",
         "0.0",
         "0.0",
         "0.0",
         "0.0",
         "0.0",
         "0.0",
         "0.0",
         "0.0",
         "0.0",
         "0.0",
         "0.0",
         "0.0",
         "0.0",
         "0.0",
         "0.0",
         "0.0",
         "0.0",
         "0.0",
         "0.0",
         "0.0",
         "0.0",
         "0.0",
         "0.0",
         "0.0",
         "0.0",
         "0.0",
         "0.0",
         "0.0",
         "0.0",
         "0.0",
         "0.0",
         "0.0",
         "0.0",
         "0.0",
         "0.0",
         "0.0",
         "0.0",
         "0.0",
         "0.0",
         "0.0",
         "0.0",
         "0.0",
         "0.0",
         "0.0",
         "0.0",
         "0.0",
         "0.0",
         "0.0",
         "0.0",
         "0.0",
         "0.0",
         "0.0",
         "0.0",
         "0.0",
         "0.0",
         "0.0",
         "0.0",
         "0.0",
         "0.0",
         "0.0",
         "0.0",
         "0.0",
         "0.0",
         "0.0",
         "0.0",
         "0.0",
         "0.0",
         "0.0",
         "0.0",
         "0.0",
         "0.0",
         "0.0",
         "0.0",
         "0.0",
         "0.0",
         "0.0",
         "0.0",
         "0.0",
         "0.0",
         "0.0",
         "0.0",
         "0.0",
         "0.0",
         "0.0",
         "0.0",
         "0.0",
         "0.0",
         "0.0",
         "0.0",
         "0.0",
         "0.0",
         "0.0",
         "0.0",
         "0.0",
         "0.0",
         "0.0",
         "0.0",
         "0.0",
         "0.0",
         "0.0",
         "0.0",
         "0.0",
         "0.0",
         "0.0",
         "0.0",
         "0.0",
         "0.0",
         "0.0",
         "0.0",
         "0.0",
         "0.0",
         "0.0",
         "0.0",
         "0.0",
         "0.0",
         "0.0",
         "0.0",
         "0.0",
         "0.0",
         "0.0",
         "0.0",
         "0.0",
         "0.0",
         "0.0",
         "0.0",
         "0.0",
         "0.0",
         "0.0",
         "0.0",
         "0.0",
         "0.0",
         "0.0",
         "0.0",
         "0.0",
         "0.0",
         "0.0",
         "0.0",
         "0.0",
         "0.0",
         "0.0",
         "0.0",
         "0.0",
         "0.0",
         "0.0",
         "0.0",
         "0.0",
         "0.0",
         "0.0",
         "0.0",
         "0.0",
         "0.0",
         "0.0",
         "0.0",
         "0.0",
         "0.0",
         "0.0",
         "0.0",
         "0.0",
         "0.0",
         "0.0",
         "0.0",
         "0.0",
         "0.0",
         "0.0",
         "0.0",
         "0.0",
         "0.0",
         "0.0",
         "0.0",
         "0.0",
         "0.0",
         "0.0",
         "0.0",
         "0.0",
         "0.0",
         "0.0",
         "0.0",
         "0.0",
         "0.0",
         "0.0",
         "0.0",
         "0.0",
         "0.0",
         "0.0",
         "0.0",
         "0.0",
         "0.0",
         "0.0",
         "0.0",
         "0.0",
         "0.0",
         "0.0",
         "0.0",
         "0.0",
         "0.0",
         "0.0",
         "0.0",
         "0.0",
         "0.0",
         "0.0",
         "0.0",
         "0.0",
         "0.0",
         "0.0",
         "0.0",
         "0.0",
         "0.0",
         "0.0",
         "0.0",
         "0.0",
         "0.0",
         "0.0",
         "0.0",
         "0.0",
         "0.0",
         "0.0",
         "0.0",
         "0.0",
         "0.0",
         "0.0",
         "0.0",
         "0.0",
         "0.0",
         "0.0",
         "0.0",
         "0.0",
         "0.0",
         "0.0",
         "0.0",
         "0.0",
         "0.0",
         "0.0",
         "0.0",
         "0.0",
         "0.0",
         "0.0",
         "0.0",
         "0.0",
         "0.0",
         "0.0",
         "0.0",
         "0.0",
         "0.0",
         "0.0",
         "0.0",
         "0.0",
         "0.0",
         "0.0",
         "0.0",
         "0.0",
         "0.0",
         "0.0",
         "0.0",
         "0.0",
         "0.0",
         "0.0",
         "0.0",
         "0.0",
         "0.0",
         "0.0",
         "0.0",
         "0.0",
         "0.0",
         "0.0",
         "0.0",
         "0.0",
         "0.0",
         "0.0",
         "0.0",
         "0.0",
         "0.0",
         "0.0",
         "0.0",
         "0.0",
         "0.0",
         "0.0",
         "0.0",
         "0.0",
         "0.0",
         "0.0",
         "0.0",
         "0.0",
         "0.0",
         "0.0",
         "0.0",
         "0.0",
         "0.0",
         "0.0",
         "0.0",
         "0.0",
         "0.0",
         "0.0",
         "0.0",
         "0.0",
         "0.0",
         "0.0",
         "0.0",
         "0.0",
         "0.0",
         "0.0",
         "0.0",
         "0.0",
         "0.0",
         "0.0",
         "0.0",
         "0.0",
         "0.0",
         "0.0",
         "0.0",
         "0.0",
         "0.0",
         "0.0",
         "0.0",
         "0.0",
         "0.0",
         "0.0",
         "0.0",
         "0.0",
         "0.0",
         "0.0",
         "0.0",
         "0.0",
         "0.0",
         "0.0",
         "0.0",
         "0.0",
         "0.0",
         "0.0",
         "0.0",
         "0.0",
         "0.0",
         "0.0",
         "0.0",
         "0.0",
         "0.0",
         "0.0",
         "0.0",
         "0.0",
         "0.0",
         "0.0",
         "0.0",
         "0.0",
         "0.0",
         "0.0",
         "0.0",
         "0.0",
         "0.0",
         "0.0",
         "0.0",
         "0.0",
         "0.0",
         "0.0",
         "0.0",
         "0.0",
         "0.0",
         "0.0",
         "0.0",
         "0.0",
         "0.0",
         "0.0",
         "0.0",
         "0.0",
         "0.0",
         "0.0",
         "0.0",
         "0.0",
         "0.0",
         "0.0",
         "0.0",
         "0.0",
         "0.0",
         "0.0",
         "0.0",
         "0.0",
         "0.0",
         "0.0",
         "0.0",
         "0.0",
         "0.0",
         "0.0",
         "0.0",
         "0.0",
         "0.0",
         "0.0",
         "0.0",
         "0.0",
         "0.0",
         "0.0",
         "0.0",
         "0.0",
         "0.0",
         "0.0",
         "0.0",
         "0.0",
         "0.0",
         "0.0",
         "0.0",
         "0.0",
         "0.0",
         "0.0",
         "0.0",
         "0.0",
         "0.0",
         "0.0",
         "0.0",
         "0.0",
         "0.0",
         "0.0",
         "0.0",
         "0.0",
         "0.0",
         "0.0",
         "0.0",
         "0.0",
         "0.0",
         "0.0",
         "0.0",
         "0.0",
         "0.0",
         "0.0",
         "0.0",
         "0.0",
         "0.0",
         "0.0",
         "0.0",
         "0.0",
         "0.0",
         "0.0",
         "0.0",
         "0.0",
         "0.0",
         "0.0",
         "0.0",
         "0.0",
         "0.0",
         "0.0",
         "0.0",
         "0.0",
         "0.0",
         "0.0",
         "0.0",
         "0.0",
         "0.0",
         "0.0",
         "0.0",
         "0.0",
         "0.0",
         "0.0",
         "0.0",
         "0.0",
         "0.0",
         "0.0",
         "0.0",
         "0.0",
         "0.0",
         "0.0",
         "0.0",
         "0.0",
         "0.0",
         "0.0",
         "0.0",
         "0.0",
         "0.0",
         "0.0",
         "0.0",
         "0.0",
         "0.0",
         "0.0",
         "0.0",
         "0.0",
         "0.0",
         "0.0",
         "0.0",
         "0.0",
         "0.0",
         "0.0",
         "0.0",
         "0.0",
         "0.0",
         "0.0",
         "0.0",
         "0.0",
         "0.0",
         "0.0",
         "0.0",
         "0.0",
         "0.0",
         "0.0",
         "0.0",
         "0.0",
         "0.0",
         "0.0",
         "0.0",
         "0.0",
         "0.0",
         "0.0",
         "0.0",
         "0.0",
         "0.0",
         "0.0",
         "0.0",
         "0.0",
         "0.0",
         "0.0",
         "0.0",
         "0.0",
         "0.0",
         "0.0",
         "0.0",
         "0.0",
         "0.0",
         "0.0",
         "0.0",
         "0.0",
         "0.0",
         "0.0",
         "0.0",
         "0.0",
         "0.0",
         "0.0",
         "0.0",
         "0.0",
         "7"
        ],
        [
         "4",
         "1.0",
         "1.0",
         "0.0",
         "0.0",
         "0.0",
         "0.0",
         "0.0",
         "0.0",
         "0.0",
         "0.0",
         "0.0",
         "0.0",
         "0.0",
         "0.0",
         "0.0",
         "0.0",
         "1.0",
         "0.0",
         "0.0",
         "0.0",
         "1.0",
         "0.0",
         "0.0",
         "1.0",
         "1.0",
         "0.0",
         "0.0",
         "0.0",
         "1.0",
         "0.0",
         "0.0",
         "0.0",
         "0.0",
         "0.0",
         "0.0",
         "0.0",
         "0.0",
         "0.0",
         "0.0",
         "1.0",
         "0.0",
         "1.0",
         "0.0",
         "0.0",
         "0.0",
         "0.0",
         "0.0",
         "0.0",
         "0.0",
         "1.0",
         "0.0",
         "0.0",
         "0.0",
         "0.0",
         "0.0",
         "0.0",
         "0.0",
         "0.0",
         "0.0",
         "0.0",
         "0.0",
         "1.0",
         "0.0",
         "0.0",
         "0.0",
         "0.0",
         "0.0",
         "0.0",
         "0.0",
         "1.0",
         "0.0",
         "0.0",
         "0.0",
         "0.0",
         "0.0",
         "0.0",
         "0.0",
         "0.0",
         "1.0",
         "0.0",
         "0.0",
         "0.0",
         "0.0",
         "0.0",
         "0.0",
         "0.0",
         "0.0",
         "0.0",
         "1.0",
         "1.0",
         "0.0",
         "0.0",
         "0.0",
         "1.0",
         "1.0",
         "0.0",
         "0.0",
         "1.0",
         "1.0",
         "1.0",
         "1.0",
         "1.0",
         "0.0",
         "0.0",
         "1.0",
         "0.0",
         "0.0",
         "0.0",
         "1.0",
         "0.0",
         "0.0",
         "0.0",
         "0.0",
         "0.0",
         "0.0",
         "0.0",
         "0.0",
         "0.0",
         "0.0",
         "0.0",
         "1.0",
         "0.0",
         "0.0",
         "0.0",
         "0.0",
         "0.0",
         "0.0",
         "0.0",
         "0.0",
         "0.0",
         "0.0",
         "0.0",
         "0.0",
         "0.0",
         "1.0",
         "0.0",
         "0.0",
         "0.0",
         "1.0",
         "0.0",
         "0.0",
         "0.0",
         "1.0",
         "1.0",
         "0.0",
         "0.0",
         "0.0",
         "0.0",
         "0.0",
         "0.0",
         "1.0",
         "0.0",
         "1.0",
         "1.0",
         "0.0",
         "0.0",
         "0.0",
         "0.0",
         "0.0",
         "0.0",
         "0.0",
         "0.0",
         "1.0",
         "0.0",
         "0.0",
         "0.0",
         "0.0",
         "1.0",
         "1.0",
         "0.0",
         "0.0",
         "1.0",
         "1.0",
         "1.0",
         "0.0",
         "1.0",
         "0.0",
         "0.0",
         "0.0",
         "0.0",
         "1.0",
         "0.0",
         "1.0",
         "0.0",
         "1.0",
         "1.0",
         "0.0",
         "0.0",
         "1.0",
         "0.0",
         "0.0",
         "0.0",
         "0.0",
         "1.0",
         "0.0",
         "0.0",
         "0.0",
         "0.0",
         "0.0",
         "0.0",
         "0.0",
         "0.0",
         "0.0",
         "1.0",
         "0.0",
         "0.0",
         "0.0",
         "1.0",
         "1.0",
         "1.0",
         "1.0",
         "0.0",
         "0.0",
         "1.0",
         "0.0",
         "0.0",
         "0.0",
         "0.0",
         "1.0",
         "0.0",
         "0.0",
         "1.0",
         "0.0",
         "0.0",
         "0.0",
         "1.0",
         "1.0",
         "1.0",
         "0.0",
         "1.0",
         "0.0",
         "0.0",
         "1.0",
         "0.0",
         "1.0",
         "0.0",
         "0.0",
         "0.0",
         "1.0",
         "0.0",
         "0.0",
         "0.0",
         "0.0",
         "0.0",
         "0.0",
         "0.0",
         "0.0",
         "0.0",
         "0.0",
         "1.0",
         "0.0",
         "0.0",
         "0.0",
         "0.0",
         "0.0",
         "0.0",
         "1.0",
         "0.0",
         "0.0",
         "0.0",
         "0.0",
         "0.0",
         "0.0",
         "0.0",
         "0.0",
         "0.0",
         "1.0",
         "0.0",
         "0.0",
         "0.0",
         "0.0",
         "0.0",
         "0.0",
         "0.0",
         "0.0",
         "0.0",
         "0.0",
         "0.0",
         "0.0",
         "0.0",
         "0.0",
         "0.0",
         "0.0",
         "0.0",
         "0.0",
         "0.0",
         "0.0",
         "0.0",
         "0.0",
         "0.0",
         "0.0",
         "0.0",
         "0.0",
         "0.0",
         "0.0",
         "0.0",
         "0.0",
         "0.0",
         "0.0",
         "0.0",
         "0.0",
         "0.0",
         "0.0",
         "0.0",
         "0.0",
         "0.0",
         "0.0",
         "0.0",
         "0.0",
         "0.0",
         "0.0",
         "0.0",
         "0.0",
         "0.0",
         "0.0",
         "0.0",
         "0.0",
         "0.0",
         "0.0",
         "0.0",
         "0.0",
         "0.0",
         "0.0",
         "0.0",
         "0.0",
         "0.0",
         "0.0",
         "0.0",
         "0.0",
         "0.0",
         "0.0",
         "0.0",
         "0.0",
         "0.0",
         "0.0",
         "0.0",
         "0.0",
         "0.0",
         "0.0",
         "0.0",
         "0.0",
         "0.0",
         "0.0",
         "0.0",
         "0.0",
         "0.0",
         "0.0",
         "0.0",
         "0.0",
         "0.0",
         "0.0",
         "0.0",
         "0.0",
         "0.0",
         "0.0",
         "0.0",
         "0.0",
         "0.0",
         "0.0",
         "0.0",
         "0.0",
         "0.0",
         "1.0",
         "0.0",
         "0.0",
         "1.0",
         "1.0",
         "0.0",
         "0.0",
         "0.0",
         "0.0",
         "1.0",
         "1.0",
         "1.0",
         "1.0",
         "0.0",
         "0.0",
         "0.0",
         "1.0",
         "1.0",
         "0.0",
         "1.0",
         "1.0",
         "1.0",
         "1.0",
         "0.0",
         "1.0",
         "0.0",
         "0.0",
         "1.0",
         "1.0",
         "0.0",
         "0.0",
         "0.0",
         "0.0",
         "1.0",
         "0.0",
         "0.0",
         "1.0",
         "0.0",
         "1.0",
         "0.0",
         "1.0",
         "0.0",
         "1.0",
         "0.0",
         "1.0",
         "1.0",
         "0.0",
         "0.0",
         "0.0",
         "1.0",
         "1.0",
         "1.0",
         "0.0",
         "0.0",
         "1.0",
         "1.0",
         "1.0",
         "1.0",
         "0.0",
         "1.0",
         "1.0",
         "0.0",
         "0.0",
         "1.0",
         "1.0",
         "1.0",
         "1.0",
         "1.0",
         "1.0",
         "1.0",
         "1.0",
         "1.0",
         "1.0",
         "1.0",
         "0.0",
         "0.0",
         "0.0",
         "0.0",
         "0.0",
         "0.0",
         "1.0",
         "0.0",
         "1.0",
         "1.0",
         "1.0",
         "0.0",
         "0.0",
         "0.0",
         "0.0",
         "0.0",
         "0.0",
         "0.0",
         "1.0",
         "0.0",
         "0.0",
         "0.0",
         "0.0",
         "0.0",
         "0.0",
         "0.0",
         "0.0",
         "0.0",
         "0.0",
         "0.0",
         "0.0",
         "0.0",
         "0.0",
         "0.0",
         "0.0",
         "0.0",
         "0.0",
         "0.0",
         "0.0",
         "0.0",
         "0.0",
         "0.0",
         "0.0",
         "0.0",
         "0.0",
         "0.0",
         "0.0",
         "0.0",
         "0.0",
         "0.0",
         "0.0",
         "0.0",
         "0.0",
         "0.0",
         "0.0",
         "0.0",
         "0.0",
         "0.0",
         "0.0",
         "0.0",
         "0.0",
         "0.0",
         "0.0",
         "0.0",
         "0.0",
         "0.0",
         "0.0",
         "0.0",
         "0.0",
         "0.0",
         "0.0",
         "0.0",
         "0.0",
         "0.0",
         "0.0",
         "0.0",
         "0.0",
         "0.0",
         "0.0",
         "0.0",
         "0.0",
         "0.0",
         "0.0",
         "0.0",
         "0.0",
         "0.0",
         "0.0",
         "0.0",
         "0.0",
         "0.0",
         "0.0",
         "0.0",
         "0.0",
         "0.0",
         "0.0",
         "0.0",
         "0.0",
         "0.0",
         "0.0",
         "0.0",
         "0.0",
         "0.0",
         "0.0",
         "0.0",
         "0.0",
         "0.0",
         "0.0",
         "0.0",
         "0.0",
         "0.0",
         "0.0",
         "0.0",
         "0.0",
         "0.0",
         "0.0",
         "0.0",
         "0.0",
         "0.0",
         "0.0",
         "0.0",
         "0.0",
         "0.0",
         "0.0",
         "0.0",
         "0.0",
         "0.0",
         "0.0",
         "0.0",
         "0.0",
         "0.0",
         "0.0",
         "0.0",
         "0.0",
         "0.0",
         "0.0",
         "0.0",
         "0.0",
         "0.0",
         "0.0",
         "0.0",
         "0.0",
         "0.0",
         "0.0",
         "0.0",
         "0.0",
         "0.0",
         "0.0",
         "0.0",
         "0.0",
         "0.0",
         "0.0",
         "0.0",
         "0.0",
         "0.0",
         "0.0",
         "0.0",
         "0.0",
         "0.0",
         "0.0",
         "0.0",
         "0.0",
         "0.0",
         "0.0",
         "0.0",
         "0.0",
         "0.0",
         "0.0",
         "0.0",
         "0.0",
         "0.0",
         "0.0",
         "0.0",
         "0.0",
         "0.0",
         "0.0",
         "0.0",
         "0.0",
         "0.0",
         "0.0",
         "0.0",
         "0.0",
         "0.0",
         "0.0",
         "0.0",
         "0.0",
         "0.0",
         "0.0",
         "0.0",
         "0.0",
         "0.0",
         "0.0",
         "0.0",
         "0.0",
         "0.0",
         "0.0",
         "0.0",
         "0.0",
         "0.0",
         "0.0",
         "0.0",
         "0.0",
         "0.0",
         "0.0",
         "0.0",
         "0.0",
         "0.0",
         "0.0",
         "0.0",
         "0.0",
         "0.0",
         "0.0",
         "0.0",
         "0.0",
         "0.0",
         "0.0",
         "0.0",
         "0.0",
         "0.0",
         "0.0",
         "0.0",
         "0.0",
         "0.0",
         "0.0",
         "0.0",
         "0.0",
         "0.0",
         "0.0",
         "0.0",
         "0.0",
         "0.0",
         "0.0",
         "0.0",
         "0.0",
         "0.0",
         "0.0",
         "0.0",
         "0.0",
         "0.0",
         "0.0",
         "0.0",
         "0.0",
         "0.0",
         "0.0",
         "0.0",
         "0.0",
         "0.0",
         "0.0",
         "0.0",
         "0.0",
         "0.0",
         "0.0",
         "0.0",
         "0.0",
         "0.0",
         "0.0",
         "0.0",
         "0.0",
         "0.0",
         "0.0",
         "0.0",
         "0.0",
         "0.0",
         "0.0",
         "0.0",
         "0.0",
         "0.0",
         "0.0",
         "0.0",
         "0.0",
         "0.0",
         "0.0",
         "0.0",
         "0.0",
         "0.0",
         "0.0",
         "0.0",
         "0.0",
         "0.0",
         "0.0",
         "0.0",
         "0.0",
         "0.0",
         "0.0",
         "0.0",
         "0.0",
         "0.0",
         "0.0",
         "0.0",
         "0.0",
         "0.0",
         "0.0",
         "0.0",
         "0.0",
         "0.0",
         "0.0",
         "0.0",
         "0.0",
         "0.0",
         "0.0",
         "0.0",
         "0.0",
         "0.0",
         "0.0",
         "0.0",
         "0.0",
         "0.0",
         "0.0",
         "0.0",
         "0.0",
         "0.0",
         "0.0",
         "0.0",
         "0.0",
         "0.0",
         "0.0",
         "0.0",
         "0.0",
         "0.0",
         "0.0",
         "0.0",
         "0.0",
         "0.0",
         "0.0",
         "0.0",
         "0.0",
         "0.0",
         "0.0",
         "0.0",
         "0.0",
         "0.0",
         "0.0",
         "0.0",
         "0.0",
         "0.0",
         "0.0",
         "0.0",
         "0.0",
         "0.0",
         "0.0",
         "0.0",
         "0.0",
         "0.0",
         "0.0",
         "0.0",
         "0.0",
         "0.0",
         "0.0",
         "0.0",
         "0.0",
         "0.0",
         "0.0",
         "0.0",
         "0.0",
         "0.0",
         "0.0",
         "0.0",
         "0.0",
         "0.0",
         "0.0",
         "0.0",
         "0.0",
         "0.0",
         "0.0",
         "0.0",
         "0.0",
         "0.0",
         "0.0",
         "0.0",
         "0.0",
         "0.0",
         "0.0",
         "0.0",
         "0.0",
         "0.0",
         "0.0",
         "0.0",
         "0.0",
         "0.0",
         "0.0",
         "0.0",
         "0.0",
         "0.0",
         "0.0",
         "0.0",
         "0.0",
         "0.0",
         "0.0",
         "0.0",
         "0.0",
         "0.0",
         "0.0",
         "0.0",
         "0.0",
         "0.0",
         "0.0",
         "0.0",
         "0.0",
         "0.0",
         "0.0",
         "0.0",
         "0.0",
         "0.0",
         "0.0",
         "0.0",
         "0.0",
         "0.0",
         "0.0",
         "0.0",
         "0.0",
         "0.0",
         "0.0",
         "0.0",
         "0.0",
         "0.0",
         "0.0",
         "0.0",
         "0.0",
         "0.0",
         "0.0",
         "0.0",
         "0.0",
         "0.0",
         "0.0",
         "0.0",
         "0.0",
         "0.0",
         "0.0",
         "0.0",
         "0.0",
         "0.0",
         "0.0",
         "0.0",
         "0.0",
         "0.0",
         "0.0",
         "0.0",
         "0.0",
         "0.0",
         "0.0",
         "0.0",
         "0.0",
         "0.0",
         "0.0",
         "0.0",
         "0.0",
         "0.0",
         "0.0",
         "0.0",
         "0.0",
         "0.0",
         "0.0",
         "0.0",
         "0.0",
         "0.0",
         "0.0",
         "0.0",
         "0.0",
         "0.0",
         "0.0",
         "0.0",
         "0.0",
         "0.0",
         "0.0",
         "0.0",
         "0.0",
         "0.0",
         "0.0",
         "0.0",
         "0.0",
         "0.0",
         "0.0",
         "0.0",
         "0.0",
         "0.0",
         "0.0",
         "0.0",
         "0.0",
         "0.0",
         "0.0",
         "0.0",
         "0.0",
         "0.0",
         "0.0",
         "0.0",
         "0.0",
         "0.0",
         "0.0",
         "0.0",
         "0.0",
         "0.0",
         "0.0",
         "0.0",
         "0.0",
         "0.0",
         "0.0",
         "0.0",
         "0.0",
         "0.0",
         "0.0",
         "0.0",
         "0.0",
         "0.0",
         "0.0",
         "0.0",
         "0.0",
         "0.0",
         "0.0",
         "0.0",
         "0.0",
         "0.0",
         "0.0",
         "0.0",
         "0.0",
         "0.0",
         "0.0",
         "0.0",
         "0.0",
         "0.0",
         "0.0",
         "0.0",
         "0.0",
         "0.0",
         "0.0",
         "0.0",
         "0.0",
         "0.0",
         "0.0",
         "0.0",
         "0.0",
         "0.0",
         "0.0",
         "0.0",
         "0.0",
         "0.0",
         "0.0",
         "0.0",
         "0.0",
         "0.0",
         "0.0",
         "0.0",
         "0.0",
         "0.0",
         "0.0",
         "0.0",
         "0.0",
         "0.0",
         "0.0",
         "0.0",
         "0.0",
         "0.0",
         "0.0",
         "0.0",
         "0.0",
         "0.0",
         "0.0",
         "0.0",
         "0.0",
         "0.0",
         "0.0",
         "0.0",
         "0.0",
         "0.0",
         "0.0",
         "0.0",
         "0.0",
         "0.0",
         "0.0",
         "0.0",
         "0.0",
         "0.0",
         "0.0",
         "0.0",
         "0.0",
         "0.0",
         "0.0",
         "0.0",
         "0.0",
         "0.0",
         "0.0",
         "0.0",
         "0.0",
         "0.0",
         "0.0",
         "0.0",
         "0.0",
         "0.0",
         "0.0",
         "0.0",
         "0.0",
         "0.0",
         "0.0",
         "0.0",
         "0.0",
         "0.0",
         "0.0",
         "0.0",
         "0.0",
         "0.0",
         "0.0",
         "0.0",
         "0.0",
         "0.0",
         "0.0",
         "0.0",
         "0.0",
         "0.0",
         "0.0",
         "0.0",
         "0.0",
         "0.0",
         "0.0",
         "0.0",
         "0.0",
         "0.0",
         "0.0",
         "0.0",
         "0.0",
         "0.0",
         "0.0",
         "0.0",
         "0.0",
         "0.0",
         "0.0",
         "0.0",
         "0.0",
         "0.0",
         "0.0",
         "0.0",
         "0.0",
         "0.0",
         "0.0",
         "0.0",
         "0.0",
         "0.0",
         "0.0",
         "0.0",
         "0.0",
         "0.0",
         "0.0",
         "0.0",
         "0.0",
         "0.0",
         "0.0",
         "0.0",
         "0.0",
         "0.0",
         "0.0",
         "0.0",
         "0.0",
         "0.0",
         "0.0",
         "0.0",
         "0.0",
         "0.0",
         "0.0",
         "0.0",
         "0.0",
         "0.0",
         "0.0",
         "0.0",
         "0.0",
         "0.0",
         "0.0",
         "0.0",
         "0.0",
         "0.0",
         "0.0",
         "0.0",
         "0.0",
         "0.0",
         "0.0",
         "0.0",
         "0.0",
         "0.0",
         "0.0",
         "0.0",
         "0.0",
         "0.0",
         "0.0",
         "0.0",
         "0.0",
         "0.0",
         "0.0",
         "0.0",
         "0.0",
         "0.0",
         "0.0",
         "0.0",
         "0.0",
         "0.0",
         "0.0",
         "0.0",
         "0.0",
         "0.0",
         "0.0",
         "0.0",
         "0.0",
         "0.0",
         "0.0",
         "0.0",
         "0.0",
         "0.0",
         "0.0",
         "0.0",
         "0.0",
         "0.0",
         "0.0",
         "0.0",
         "0.0",
         "0.0",
         "0.0",
         "0.0",
         "0.0",
         "0.0",
         "0.0",
         "0.0",
         "0.0",
         "0.0",
         "0.0",
         "0.0",
         "0.0",
         "0.0",
         "0.0",
         "0.0",
         "0.0",
         "0.0",
         "0.0",
         "0.0",
         "0.0",
         "0.0",
         "0.0",
         "0.0",
         "0.0",
         "0.0",
         "0.0",
         "0.0",
         "0.0",
         "0.0",
         "0.0",
         "0.0",
         "0.0",
         "0.0",
         "0.0",
         "0.0",
         "0.0",
         "0.0",
         "0.0",
         "0.0",
         "0.0",
         "0.0",
         "0.0",
         "0.0",
         "0.0",
         "0.0",
         "0.0",
         "0.0",
         "0.0",
         "0.0",
         "0.0",
         "0.0",
         "0.0",
         "0.0",
         "0.0",
         "0.0",
         "0.0",
         "0.0",
         "0.0",
         "0.0",
         "0.0",
         "0.0",
         "0.0",
         "0.0",
         "0.0",
         "0.0",
         "0.0",
         "0.0",
         "0.0",
         "0.0",
         "0.0",
         "0.0",
         "0.0",
         "0.0",
         "0.0",
         "0.0",
         "0.0",
         "0.0",
         "0.0",
         "0.0",
         "0.0",
         "0.0",
         "0.0",
         "0.0",
         "0.0",
         "0.0",
         "0.0",
         "0.0",
         "0.0",
         "0.0",
         "0.0",
         "0.0",
         "0.0",
         "0.0",
         "0.0",
         "0.0",
         "0.0",
         "0.0",
         "0.0",
         "0.0",
         "0.0",
         "0.0",
         "0.0",
         "0.0",
         "0.0",
         "0.0",
         "0.0",
         "0.0",
         "0.0",
         "0.0",
         "0.0",
         "0.0",
         "0.0",
         "0.0",
         "0.0",
         "0.0",
         "0.0",
         "0.0",
         "0.0",
         "0.0",
         "0.0",
         "0.0",
         "0.0",
         "0.0",
         "0.0",
         "0.0",
         "0.0",
         "0.0",
         "0.0",
         "0.0",
         "0.0",
         "0.0",
         "0.0",
         "0.0",
         "0.0",
         "0.0",
         "0.0",
         "0.0",
         "0.0",
         "0.0",
         "0.0",
         "0.0",
         "0.0",
         "0.0",
         "0.0",
         "0.0",
         "0.0",
         "0.0",
         "0.0",
         "0.0",
         "0.0",
         "0.0",
         "0.0",
         "0.0",
         "0.0",
         "0.0",
         "0.0",
         "0.0",
         "0.0",
         "0.0",
         "0.0",
         "0.0",
         "0.0",
         "0.0",
         "0.0",
         "0.0",
         "0.0",
         "0.0",
         "0.0",
         "0.0",
         "0.0",
         "0.0",
         "0.0",
         "0.0",
         "0.0",
         "0.0",
         "0.0",
         "0.0",
         "0.0",
         "0.0",
         "0.0",
         "0.0",
         "0.0",
         "0.0",
         "0.0",
         "0.0",
         "0.0",
         "0.0",
         "0.0",
         "0.0",
         "0.0",
         "0.0",
         "0.0",
         "0.0",
         "0.0",
         "0.0",
         "0.0",
         "0.0",
         "0.0",
         "0.0",
         "0.0",
         "0.0",
         "0.0",
         "0.0",
         "0.0",
         "0.0",
         "0.0",
         "0.0",
         "0.0",
         "0.0",
         "0.0",
         "0.0",
         "0.0",
         "0.0",
         "0.0",
         "0.0",
         "0.0",
         "0.0",
         "0.0",
         "0.0",
         "0.0",
         "0.0",
         "0.0",
         "0.0",
         "0.0",
         "0.0",
         "0.0",
         "0.0",
         "0.0",
         "0.0",
         "0.0",
         "0.0",
         "0.0",
         "0.0",
         "0.0",
         "0.0",
         "0.0",
         "0.0",
         "0.0",
         "0.0",
         "0.0",
         "0.0",
         "0.0",
         "0.0",
         "0.0",
         "0.0",
         "0.0",
         "0.0",
         "0.0",
         "0.0",
         "0.0",
         "0.0",
         "0.0",
         "0.0",
         "0.0",
         "0.0",
         "0.0",
         "0.0",
         "0.0",
         "0.0",
         "0.0",
         "0.0",
         "0.0",
         "0.0",
         "0.0",
         "0.0",
         "0.0",
         "0.0",
         "0.0",
         "0.0",
         "0.0",
         "0.0",
         "0.0",
         "0.0",
         "0.0",
         "0.0",
         "0.0",
         "0.0",
         "0.0",
         "0.0",
         "0.0",
         "0.0",
         "0.0",
         "0.0",
         "0.0",
         "0.0",
         "0.0",
         "0.0",
         "0.0",
         "0.0",
         "0.0",
         "0.0",
         "0.0",
         "0.0",
         "0.0",
         "0.0",
         "0.0",
         "0.0",
         "0.0",
         "0.0",
         "0.0",
         "0.0",
         "0.0",
         "0.0",
         "0.0",
         "0.0",
         "0.0",
         "0.0",
         "0.0",
         "0.0",
         "0.0",
         "0.0",
         "0.0",
         "0.0",
         "0.0",
         "0.0",
         "0.0",
         "0.0",
         "0.0",
         "0.0",
         "0.0",
         "0.0",
         "0.0",
         "0.0",
         "0.0",
         "0.0",
         "0.0",
         "0.0",
         "0.0",
         "0.0",
         "0.0",
         "0.0",
         "0.0",
         "0.0",
         "0.0",
         "0.0",
         "0.0",
         "0.0",
         "0.0",
         "0.0",
         "0.0",
         "0.0",
         "0.0",
         "0.0",
         "0.0",
         "0.0",
         "0.0",
         "0.0",
         "0.0",
         "0.0",
         "0.0",
         "0.0",
         "0.0",
         "0.0",
         "0.0",
         "0.0",
         "0.0",
         "0.0",
         "0.0",
         "0.0",
         "0.0",
         "0.0",
         "0.0",
         "0.0",
         "0.0",
         "0.0",
         "0.0",
         "0.0",
         "0.0",
         "0.0",
         "0.0",
         "0.0",
         "0.0",
         "0.0",
         "0.0",
         "0.0",
         "0.0",
         "0.0",
         "0.0",
         "0.0",
         "0.0",
         "0.0",
         "0.0",
         "0.0",
         "0.0",
         "0.0",
         "0.0",
         "0.0",
         "0.0",
         "0.0",
         "0.0",
         "0.0",
         "0.0",
         "0.0",
         "0.0",
         "0.0",
         "0.0",
         "0.0",
         "0.0",
         "0.0",
         "0.0",
         "0.0",
         "0.0",
         "0.0",
         "0.0",
         "0.0",
         "0.0",
         "0.0",
         "0.0",
         "0.0",
         "0.0",
         "0.0",
         "0.0",
         "0.0",
         "0.0",
         "0.0",
         "0.0",
         "0.0",
         "0.0",
         "0.0",
         "0.0",
         "0.0",
         "0.0",
         "0.0",
         "0.0",
         "0.0",
         "0.0",
         "0.0",
         "0.0",
         "0.0",
         "0.0",
         "0.0",
         "0.0",
         "0.0",
         "0.0",
         "0.0",
         "0.0",
         "0.0",
         "0.0",
         "0.0",
         "0.0",
         "0.0",
         "0.0",
         "0.0",
         "0.0",
         "0.0",
         "0.0",
         "0.0",
         "0.0",
         "0.0",
         "0.0",
         "0.0",
         "0.0",
         "0.0",
         "0.0",
         "0.0",
         "0.0",
         "0.0",
         "0.0",
         "0.0",
         "0.0",
         "0.0",
         "0.0",
         "0.0",
         "0.0",
         "0.0",
         "0.0",
         "0.0",
         "0.0",
         "0.0",
         "0.0",
         "0.0",
         "0.0",
         "0.0",
         "0.0",
         "0.0",
         "0.0",
         "0.0",
         "0.0",
         "0.0",
         "0.0",
         "0.0",
         "0.0",
         "0.0",
         "0.0",
         "0.0",
         "0.0",
         "0.0",
         "0.0",
         "0.0",
         "0.0",
         "0.0",
         "0.0",
         "0.0",
         "0.0",
         "0.0",
         "0.0",
         "0.0",
         "0.0",
         "0.0",
         "0.0",
         "0.0",
         "0.0",
         "0.0",
         "0.0",
         "0.0",
         "0.0",
         "0.0",
         "0.0",
         "0.0",
         "0.0",
         "0.0",
         "0.0",
         "0.0",
         "0.0",
         "0.0",
         "0.0",
         "0.0",
         "0.0",
         "0.0",
         "0.0",
         "0.0",
         "0.0",
         "0.0",
         "0.0",
         "0.0",
         "0.0",
         "0.0",
         "0.0",
         "0.0",
         "0.0",
         "0.0",
         "0.0",
         "0.0",
         "0.0",
         "0.0",
         "0.0",
         "0.0",
         "2"
        ]
       ],
       "shape": {
        "columns": 1683,
        "rows": 5
       }
      },
      "text/html": [
       "<div>\n",
       "<style scoped>\n",
       "    .dataframe tbody tr th:only-of-type {\n",
       "        vertical-align: middle;\n",
       "    }\n",
       "\n",
       "    .dataframe tbody tr th {\n",
       "        vertical-align: top;\n",
       "    }\n",
       "\n",
       "    .dataframe thead th {\n",
       "        text-align: right;\n",
       "    }\n",
       "</style>\n",
       "<table border=\"1\" class=\"dataframe\">\n",
       "  <thead>\n",
       "    <tr style=\"text-align: right;\">\n",
       "      <th>movie_id</th>\n",
       "      <th>0</th>\n",
       "      <th>1</th>\n",
       "      <th>2</th>\n",
       "      <th>3</th>\n",
       "      <th>4</th>\n",
       "      <th>5</th>\n",
       "      <th>6</th>\n",
       "      <th>7</th>\n",
       "      <th>8</th>\n",
       "      <th>9</th>\n",
       "      <th>...</th>\n",
       "      <th>1673</th>\n",
       "      <th>1674</th>\n",
       "      <th>1675</th>\n",
       "      <th>1676</th>\n",
       "      <th>1677</th>\n",
       "      <th>1678</th>\n",
       "      <th>1679</th>\n",
       "      <th>1680</th>\n",
       "      <th>1681</th>\n",
       "      <th>agglo_clusters</th>\n",
       "    </tr>\n",
       "    <tr>\n",
       "      <th>user_id</th>\n",
       "      <th></th>\n",
       "      <th></th>\n",
       "      <th></th>\n",
       "      <th></th>\n",
       "      <th></th>\n",
       "      <th></th>\n",
       "      <th></th>\n",
       "      <th></th>\n",
       "      <th></th>\n",
       "      <th></th>\n",
       "      <th></th>\n",
       "      <th></th>\n",
       "      <th></th>\n",
       "      <th></th>\n",
       "      <th></th>\n",
       "      <th></th>\n",
       "      <th></th>\n",
       "      <th></th>\n",
       "      <th></th>\n",
       "      <th></th>\n",
       "      <th></th>\n",
       "    </tr>\n",
       "  </thead>\n",
       "  <tbody>\n",
       "    <tr>\n",
       "      <th>0</th>\n",
       "      <td>1.0</td>\n",
       "      <td>1.0</td>\n",
       "      <td>1.0</td>\n",
       "      <td>1.0</td>\n",
       "      <td>1.0</td>\n",
       "      <td>1.0</td>\n",
       "      <td>1.0</td>\n",
       "      <td>0.0</td>\n",
       "      <td>1.0</td>\n",
       "      <td>1.0</td>\n",
       "      <td>...</td>\n",
       "      <td>0.0</td>\n",
       "      <td>0.0</td>\n",
       "      <td>0.0</td>\n",
       "      <td>0.0</td>\n",
       "      <td>0.0</td>\n",
       "      <td>0.0</td>\n",
       "      <td>0.0</td>\n",
       "      <td>0.0</td>\n",
       "      <td>0.0</td>\n",
       "      <td>0</td>\n",
       "    </tr>\n",
       "    <tr>\n",
       "      <th>1</th>\n",
       "      <td>1.0</td>\n",
       "      <td>0.0</td>\n",
       "      <td>0.0</td>\n",
       "      <td>0.0</td>\n",
       "      <td>0.0</td>\n",
       "      <td>0.0</td>\n",
       "      <td>0.0</td>\n",
       "      <td>0.0</td>\n",
       "      <td>0.0</td>\n",
       "      <td>0.0</td>\n",
       "      <td>...</td>\n",
       "      <td>0.0</td>\n",
       "      <td>0.0</td>\n",
       "      <td>0.0</td>\n",
       "      <td>0.0</td>\n",
       "      <td>0.0</td>\n",
       "      <td>0.0</td>\n",
       "      <td>0.0</td>\n",
       "      <td>0.0</td>\n",
       "      <td>0.0</td>\n",
       "      <td>8</td>\n",
       "    </tr>\n",
       "    <tr>\n",
       "      <th>2</th>\n",
       "      <td>0.0</td>\n",
       "      <td>0.0</td>\n",
       "      <td>0.0</td>\n",
       "      <td>0.0</td>\n",
       "      <td>0.0</td>\n",
       "      <td>0.0</td>\n",
       "      <td>0.0</td>\n",
       "      <td>0.0</td>\n",
       "      <td>0.0</td>\n",
       "      <td>0.0</td>\n",
       "      <td>...</td>\n",
       "      <td>0.0</td>\n",
       "      <td>0.0</td>\n",
       "      <td>0.0</td>\n",
       "      <td>0.0</td>\n",
       "      <td>0.0</td>\n",
       "      <td>0.0</td>\n",
       "      <td>0.0</td>\n",
       "      <td>0.0</td>\n",
       "      <td>0.0</td>\n",
       "      <td>7</td>\n",
       "    </tr>\n",
       "    <tr>\n",
       "      <th>3</th>\n",
       "      <td>0.0</td>\n",
       "      <td>0.0</td>\n",
       "      <td>0.0</td>\n",
       "      <td>0.0</td>\n",
       "      <td>0.0</td>\n",
       "      <td>0.0</td>\n",
       "      <td>0.0</td>\n",
       "      <td>0.0</td>\n",
       "      <td>0.0</td>\n",
       "      <td>0.0</td>\n",
       "      <td>...</td>\n",
       "      <td>0.0</td>\n",
       "      <td>0.0</td>\n",
       "      <td>0.0</td>\n",
       "      <td>0.0</td>\n",
       "      <td>0.0</td>\n",
       "      <td>0.0</td>\n",
       "      <td>0.0</td>\n",
       "      <td>0.0</td>\n",
       "      <td>0.0</td>\n",
       "      <td>7</td>\n",
       "    </tr>\n",
       "    <tr>\n",
       "      <th>4</th>\n",
       "      <td>1.0</td>\n",
       "      <td>1.0</td>\n",
       "      <td>0.0</td>\n",
       "      <td>0.0</td>\n",
       "      <td>0.0</td>\n",
       "      <td>0.0</td>\n",
       "      <td>0.0</td>\n",
       "      <td>0.0</td>\n",
       "      <td>0.0</td>\n",
       "      <td>0.0</td>\n",
       "      <td>...</td>\n",
       "      <td>0.0</td>\n",
       "      <td>0.0</td>\n",
       "      <td>0.0</td>\n",
       "      <td>0.0</td>\n",
       "      <td>0.0</td>\n",
       "      <td>0.0</td>\n",
       "      <td>0.0</td>\n",
       "      <td>0.0</td>\n",
       "      <td>0.0</td>\n",
       "      <td>2</td>\n",
       "    </tr>\n",
       "  </tbody>\n",
       "</table>\n",
       "<p>5 rows × 1683 columns</p>\n",
       "</div>"
      ],
      "text/plain": [
       "movie_id    0    1    2    3    4    5    6    7    8    9  ...  1673  1674  \\\n",
       "user_id                                                     ...               \n",
       "0         1.0  1.0  1.0  1.0  1.0  1.0  1.0  0.0  1.0  1.0  ...   0.0   0.0   \n",
       "1         1.0  0.0  0.0  0.0  0.0  0.0  0.0  0.0  0.0  0.0  ...   0.0   0.0   \n",
       "2         0.0  0.0  0.0  0.0  0.0  0.0  0.0  0.0  0.0  0.0  ...   0.0   0.0   \n",
       "3         0.0  0.0  0.0  0.0  0.0  0.0  0.0  0.0  0.0  0.0  ...   0.0   0.0   \n",
       "4         1.0  1.0  0.0  0.0  0.0  0.0  0.0  0.0  0.0  0.0  ...   0.0   0.0   \n",
       "\n",
       "movie_id  1675  1676  1677  1678  1679  1680  1681  agglo_clusters  \n",
       "user_id                                                             \n",
       "0          0.0   0.0   0.0   0.0   0.0   0.0   0.0               0  \n",
       "1          0.0   0.0   0.0   0.0   0.0   0.0   0.0               8  \n",
       "2          0.0   0.0   0.0   0.0   0.0   0.0   0.0               7  \n",
       "3          0.0   0.0   0.0   0.0   0.0   0.0   0.0               7  \n",
       "4          0.0   0.0   0.0   0.0   0.0   0.0   0.0               2  \n",
       "\n",
       "[5 rows x 1683 columns]"
      ]
     },
     "execution_count": 62,
     "metadata": {},
     "output_type": "execute_result"
    }
   ],
   "source": [
    "###hierarchial\n",
    "from sklearn.cluster import AgglomerativeClustering\n",
    "\n",
    "pivot_table_agg = pivot_table.copy()\n",
    "\n",
    "#instantiate model\n",
    "agglomerative = AgglomerativeClustering(n_clusters=10)\n",
    "agglo_clusters = agglomerative.fit_predict(pivot_table_agg)\n",
    "\n",
    "pivot_table_agg['agglo_clusters'] = agglo_clusters\n",
    "\n",
    "\n",
    "\n",
    "pivot_table_agg.head()"
   ]
  },
  {
   "cell_type": "code",
   "execution_count": 63,
   "id": "6f9bd1ee",
   "metadata": {},
   "outputs": [
    {
     "data": {
      "application/vnd.microsoft.datawrangler.viewer.v0+json": {
       "columns": [
        {
         "name": "agglo_clusters",
         "rawType": "int64",
         "type": "integer"
        },
        {
         "name": "count",
         "rawType": "int64",
         "type": "integer"
        }
       ],
       "ref": "ada13904-2601-4ab5-89fb-168ba5b8f8b7",
       "rows": [
        [
         "8",
         "255"
        ],
        [
         "1",
         "173"
        ],
        [
         "7",
         "168"
        ],
        [
         "2",
         "84"
        ],
        [
         "5",
         "75"
        ],
        [
         "0",
         "62"
        ],
        [
         "3",
         "49"
        ],
        [
         "6",
         "35"
        ],
        [
         "4",
         "29"
        ],
        [
         "9",
         "13"
        ]
       ],
       "shape": {
        "columns": 1,
        "rows": 10
       }
      },
      "text/plain": [
       "agglo_clusters\n",
       "8    255\n",
       "1    173\n",
       "7    168\n",
       "2     84\n",
       "5     75\n",
       "0     62\n",
       "3     49\n",
       "6     35\n",
       "4     29\n",
       "9     13\n",
       "Name: count, dtype: int64"
      ]
     },
     "execution_count": 63,
     "metadata": {},
     "output_type": "execute_result"
    }
   ],
   "source": [
    "pivot_table_agg['agglo_clusters'].value_counts()"
   ]
  },
  {
   "cell_type": "code",
   "execution_count": null,
   "id": "7f8244d5",
   "metadata": {},
   "outputs": [
    {
     "name": "stderr",
     "output_type": "stream",
     "text": [
      "c:\\Users\\marwa\\miniconda3\\envs\\xBase\\Lib\\site-packages\\IPython\\core\\pylabtools.py:170: UserWarning: Creating legend with loc=\"best\" can be slow with large amounts of data.\n",
      "  fig.canvas.print_figure(bytes_io, **kw)\n"
     ]
    }
   ],
   "source": [
    "sns.scatterplot(pivot_table_agg)\n",
    "plt.show()"
   ]
  }
 ],
 "metadata": {
  "kernelspec": {
   "display_name": "xBase",
   "language": "python",
   "name": "python3"
  },
  "language_info": {
   "codemirror_mode": {
    "name": "ipython",
    "version": 3
   },
   "file_extension": ".py",
   "mimetype": "text/x-python",
   "name": "python",
   "nbconvert_exporter": "python",
   "pygments_lexer": "ipython3",
   "version": "3.12.3"
  }
 },
 "nbformat": 4,
 "nbformat_minor": 5
}
