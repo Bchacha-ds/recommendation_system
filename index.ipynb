{
 "cells": [
  {
   "cell_type": "markdown",
   "id": "14d6cc8b",
   "metadata": {},
   "source": [
    "## Recommendation Systems.\n",
    "There are three main types of recommendation systems:\n",
    "* **Content-based filtering** - looks at the item and recommends similar items eg action movie(Jumanji) then the recommendation can be a similar action movie (Tomb Raider)\n",
    "* **Collaborative filtering** - looks at who liked what, then suggests these items.\n",
    "* **Hybrid Models** - combines both for more nuanced recommendations.(Amazon, Netflix & Google Ads)\n",
    "\n",
    "We'll start by looking at `content-based filtering` using cosine similarity on the movielens dataset."
   ]
  },
  {
   "cell_type": "code",
   "execution_count": 1,
   "id": "bcdcf28f",
   "metadata": {},
   "outputs": [],
   "source": [
    "import numpy as np\n",
    "import matplotlib.pyplot as plt \n",
    "import pandas as pd\n",
    "from sklearn.metrics.pairwise import cosine_similarity"
   ]
  },
  {
   "cell_type": "code",
   "execution_count": 2,
   "id": "3c8eb97a",
   "metadata": {},
   "outputs": [
    {
     "name": "stdout",
     "output_type": "stream",
     "text": [
      "<class 'pandas.core.frame.DataFrame'>\n",
      "RangeIndex: 1682 entries, 0 to 1681\n",
      "Data columns (total 24 columns):\n",
      " #   Column              Non-Null Count  Dtype  \n",
      "---  ------              --------------  -----  \n",
      " 0   movie_id            1682 non-null   int64  \n",
      " 1   movie title         1682 non-null   object \n",
      " 2   release date        1681 non-null   object \n",
      " 3   video_release_date  0 non-null      float64\n",
      " 4   IMDb URL            1679 non-null   object \n",
      " 5   unknown             1682 non-null   int64  \n",
      " 6   action              1682 non-null   int64  \n",
      " 7   adventure           1682 non-null   int64  \n",
      " 8   animation           1682 non-null   int64  \n",
      " 9   children's          1682 non-null   int64  \n",
      " 10  comedy              1682 non-null   int64  \n",
      " 11  crime               1682 non-null   int64  \n",
      " 12  documentary         1682 non-null   int64  \n",
      " 13  drama               1682 non-null   int64  \n",
      " 14  fantasy             1682 non-null   int64  \n",
      " 15  Film-Noir           1682 non-null   int64  \n",
      " 16  horror              1682 non-null   int64  \n",
      " 17  musical             1682 non-null   int64  \n",
      " 18  mystery             1682 non-null   int64  \n",
      " 19  romance             1682 non-null   int64  \n",
      " 20  Sci-Fi              1682 non-null   int64  \n",
      " 21  thriller            1682 non-null   int64  \n",
      " 22  war                 1682 non-null   int64  \n",
      " 23  western             1682 non-null   int64  \n",
      "dtypes: float64(1), int64(20), object(3)\n",
      "memory usage: 315.5+ KB\n"
     ]
    }
   ],
   "source": [
    "#load the movie and genres dataset\n",
    "\n",
    "items = [\"movie_id\", \"movie title\", \"release date\", \"video_release_date\",\n",
    "            \"IMDb URL\", \"unknown\", \"action\", 'adventure', \"animation\",\n",
    "              \"children's\", \"comedy\", \"crime\", \"documentary\", \"drama\", \"fantasy\",\n",
    "              \"Film-Noir\", \"horror\", \"musical\", \"mystery\", \"romance\", \"Sci-Fi\",\n",
    "              \"thriller\", \"war\", \"western\"]\n",
    "\n",
    "movies = pd.read_csv('./data/mlk/u.item', sep=\"|\", names=items, encoding='latin-1')\n",
    "movies.info()"
   ]
  },
  {
   "cell_type": "markdown",
   "id": "0e14568c",
   "metadata": {},
   "source": [
    "We'll do a bit of cleaning by removing column with the most null entries."
   ]
  },
  {
   "cell_type": "code",
   "execution_count": 3,
   "id": "b4d6e02c",
   "metadata": {},
   "outputs": [
    {
     "name": "stdout",
     "output_type": "stream",
     "text": [
      "<class 'pandas.core.frame.DataFrame'>\n",
      "RangeIndex: 1682 entries, 0 to 1681\n",
      "Data columns (total 22 columns):\n",
      " #   Column        Non-Null Count  Dtype \n",
      "---  ------        --------------  ----- \n",
      " 0   movie_id      1682 non-null   int64 \n",
      " 1   movie title   1682 non-null   object\n",
      " 2   release date  1681 non-null   object\n",
      " 3   unknown       1682 non-null   int64 \n",
      " 4   action        1682 non-null   int64 \n",
      " 5   adventure     1682 non-null   int64 \n",
      " 6   animation     1682 non-null   int64 \n",
      " 7   children's    1682 non-null   int64 \n",
      " 8   comedy        1682 non-null   int64 \n",
      " 9   crime         1682 non-null   int64 \n",
      " 10  documentary   1682 non-null   int64 \n",
      " 11  drama         1682 non-null   int64 \n",
      " 12  fantasy       1682 non-null   int64 \n",
      " 13  Film-Noir     1682 non-null   int64 \n",
      " 14  horror        1682 non-null   int64 \n",
      " 15  musical       1682 non-null   int64 \n",
      " 16  mystery       1682 non-null   int64 \n",
      " 17  romance       1682 non-null   int64 \n",
      " 18  Sci-Fi        1682 non-null   int64 \n",
      " 19  thriller      1682 non-null   int64 \n",
      " 20  war           1682 non-null   int64 \n",
      " 21  western       1682 non-null   int64 \n",
      "dtypes: int64(20), object(2)\n",
      "memory usage: 289.2+ KB\n"
     ]
    }
   ],
   "source": [
    "movies = movies.drop(['video_release_date','IMDb URL'], axis=1)\n",
    "movies.info()"
   ]
  },
  {
   "cell_type": "code",
   "execution_count": 4,
   "id": "469c9dcd",
   "metadata": {},
   "outputs": [
    {
     "data": {
      "application/vnd.microsoft.datawrangler.viewer.v0+json": {
       "columns": [
        {
         "name": "index",
         "rawType": "int64",
         "type": "integer"
        },
        {
         "name": "movie_id",
         "rawType": "int64",
         "type": "integer"
        },
        {
         "name": "movie title",
         "rawType": "object",
         "type": "string"
        },
        {
         "name": "release date",
         "rawType": "object",
         "type": "string"
        },
        {
         "name": "unknown",
         "rawType": "int64",
         "type": "integer"
        },
        {
         "name": "action",
         "rawType": "int64",
         "type": "integer"
        },
        {
         "name": "adventure",
         "rawType": "int64",
         "type": "integer"
        },
        {
         "name": "animation",
         "rawType": "int64",
         "type": "integer"
        },
        {
         "name": "children's",
         "rawType": "int64",
         "type": "integer"
        },
        {
         "name": "comedy",
         "rawType": "int64",
         "type": "integer"
        },
        {
         "name": "crime",
         "rawType": "int64",
         "type": "integer"
        },
        {
         "name": "documentary",
         "rawType": "int64",
         "type": "integer"
        },
        {
         "name": "drama",
         "rawType": "int64",
         "type": "integer"
        },
        {
         "name": "fantasy",
         "rawType": "int64",
         "type": "integer"
        },
        {
         "name": "Film-Noir",
         "rawType": "int64",
         "type": "integer"
        },
        {
         "name": "horror",
         "rawType": "int64",
         "type": "integer"
        },
        {
         "name": "musical",
         "rawType": "int64",
         "type": "integer"
        },
        {
         "name": "mystery",
         "rawType": "int64",
         "type": "integer"
        },
        {
         "name": "romance",
         "rawType": "int64",
         "type": "integer"
        },
        {
         "name": "Sci-Fi",
         "rawType": "int64",
         "type": "integer"
        },
        {
         "name": "thriller",
         "rawType": "int64",
         "type": "integer"
        },
        {
         "name": "war",
         "rawType": "int64",
         "type": "integer"
        },
        {
         "name": "western",
         "rawType": "int64",
         "type": "integer"
        }
       ],
       "ref": "d8744d49-31d0-45b4-9853-8d03ca243b92",
       "rows": [
        [
         "0",
         "1",
         "Toy Story (1995)",
         "01-Jan-1995",
         "0",
         "0",
         "0",
         "1",
         "1",
         "1",
         "0",
         "0",
         "0",
         "0",
         "0",
         "0",
         "0",
         "0",
         "0",
         "0",
         "0",
         "0",
         "0"
        ],
        [
         "1",
         "2",
         "GoldenEye (1995)",
         "01-Jan-1995",
         "0",
         "1",
         "1",
         "0",
         "0",
         "0",
         "0",
         "0",
         "0",
         "0",
         "0",
         "0",
         "0",
         "0",
         "0",
         "0",
         "1",
         "0",
         "0"
        ],
        [
         "2",
         "3",
         "Four Rooms (1995)",
         "01-Jan-1995",
         "0",
         "0",
         "0",
         "0",
         "0",
         "0",
         "0",
         "0",
         "0",
         "0",
         "0",
         "0",
         "0",
         "0",
         "0",
         "0",
         "1",
         "0",
         "0"
        ],
        [
         "3",
         "4",
         "Get Shorty (1995)",
         "01-Jan-1995",
         "0",
         "1",
         "0",
         "0",
         "0",
         "1",
         "0",
         "0",
         "1",
         "0",
         "0",
         "0",
         "0",
         "0",
         "0",
         "0",
         "0",
         "0",
         "0"
        ],
        [
         "4",
         "5",
         "Copycat (1995)",
         "01-Jan-1995",
         "0",
         "0",
         "0",
         "0",
         "0",
         "0",
         "1",
         "0",
         "1",
         "0",
         "0",
         "0",
         "0",
         "0",
         "0",
         "0",
         "1",
         "0",
         "0"
        ]
       ],
       "shape": {
        "columns": 22,
        "rows": 5
       }
      },
      "text/html": [
       "<div>\n",
       "<style scoped>\n",
       "    .dataframe tbody tr th:only-of-type {\n",
       "        vertical-align: middle;\n",
       "    }\n",
       "\n",
       "    .dataframe tbody tr th {\n",
       "        vertical-align: top;\n",
       "    }\n",
       "\n",
       "    .dataframe thead th {\n",
       "        text-align: right;\n",
       "    }\n",
       "</style>\n",
       "<table border=\"1\" class=\"dataframe\">\n",
       "  <thead>\n",
       "    <tr style=\"text-align: right;\">\n",
       "      <th></th>\n",
       "      <th>movie_id</th>\n",
       "      <th>movie title</th>\n",
       "      <th>release date</th>\n",
       "      <th>unknown</th>\n",
       "      <th>action</th>\n",
       "      <th>adventure</th>\n",
       "      <th>animation</th>\n",
       "      <th>children's</th>\n",
       "      <th>comedy</th>\n",
       "      <th>crime</th>\n",
       "      <th>...</th>\n",
       "      <th>fantasy</th>\n",
       "      <th>Film-Noir</th>\n",
       "      <th>horror</th>\n",
       "      <th>musical</th>\n",
       "      <th>mystery</th>\n",
       "      <th>romance</th>\n",
       "      <th>Sci-Fi</th>\n",
       "      <th>thriller</th>\n",
       "      <th>war</th>\n",
       "      <th>western</th>\n",
       "    </tr>\n",
       "  </thead>\n",
       "  <tbody>\n",
       "    <tr>\n",
       "      <th>0</th>\n",
       "      <td>1</td>\n",
       "      <td>Toy Story (1995)</td>\n",
       "      <td>01-Jan-1995</td>\n",
       "      <td>0</td>\n",
       "      <td>0</td>\n",
       "      <td>0</td>\n",
       "      <td>1</td>\n",
       "      <td>1</td>\n",
       "      <td>1</td>\n",
       "      <td>0</td>\n",
       "      <td>...</td>\n",
       "      <td>0</td>\n",
       "      <td>0</td>\n",
       "      <td>0</td>\n",
       "      <td>0</td>\n",
       "      <td>0</td>\n",
       "      <td>0</td>\n",
       "      <td>0</td>\n",
       "      <td>0</td>\n",
       "      <td>0</td>\n",
       "      <td>0</td>\n",
       "    </tr>\n",
       "    <tr>\n",
       "      <th>1</th>\n",
       "      <td>2</td>\n",
       "      <td>GoldenEye (1995)</td>\n",
       "      <td>01-Jan-1995</td>\n",
       "      <td>0</td>\n",
       "      <td>1</td>\n",
       "      <td>1</td>\n",
       "      <td>0</td>\n",
       "      <td>0</td>\n",
       "      <td>0</td>\n",
       "      <td>0</td>\n",
       "      <td>...</td>\n",
       "      <td>0</td>\n",
       "      <td>0</td>\n",
       "      <td>0</td>\n",
       "      <td>0</td>\n",
       "      <td>0</td>\n",
       "      <td>0</td>\n",
       "      <td>0</td>\n",
       "      <td>1</td>\n",
       "      <td>0</td>\n",
       "      <td>0</td>\n",
       "    </tr>\n",
       "    <tr>\n",
       "      <th>2</th>\n",
       "      <td>3</td>\n",
       "      <td>Four Rooms (1995)</td>\n",
       "      <td>01-Jan-1995</td>\n",
       "      <td>0</td>\n",
       "      <td>0</td>\n",
       "      <td>0</td>\n",
       "      <td>0</td>\n",
       "      <td>0</td>\n",
       "      <td>0</td>\n",
       "      <td>0</td>\n",
       "      <td>...</td>\n",
       "      <td>0</td>\n",
       "      <td>0</td>\n",
       "      <td>0</td>\n",
       "      <td>0</td>\n",
       "      <td>0</td>\n",
       "      <td>0</td>\n",
       "      <td>0</td>\n",
       "      <td>1</td>\n",
       "      <td>0</td>\n",
       "      <td>0</td>\n",
       "    </tr>\n",
       "    <tr>\n",
       "      <th>3</th>\n",
       "      <td>4</td>\n",
       "      <td>Get Shorty (1995)</td>\n",
       "      <td>01-Jan-1995</td>\n",
       "      <td>0</td>\n",
       "      <td>1</td>\n",
       "      <td>0</td>\n",
       "      <td>0</td>\n",
       "      <td>0</td>\n",
       "      <td>1</td>\n",
       "      <td>0</td>\n",
       "      <td>...</td>\n",
       "      <td>0</td>\n",
       "      <td>0</td>\n",
       "      <td>0</td>\n",
       "      <td>0</td>\n",
       "      <td>0</td>\n",
       "      <td>0</td>\n",
       "      <td>0</td>\n",
       "      <td>0</td>\n",
       "      <td>0</td>\n",
       "      <td>0</td>\n",
       "    </tr>\n",
       "    <tr>\n",
       "      <th>4</th>\n",
       "      <td>5</td>\n",
       "      <td>Copycat (1995)</td>\n",
       "      <td>01-Jan-1995</td>\n",
       "      <td>0</td>\n",
       "      <td>0</td>\n",
       "      <td>0</td>\n",
       "      <td>0</td>\n",
       "      <td>0</td>\n",
       "      <td>0</td>\n",
       "      <td>1</td>\n",
       "      <td>...</td>\n",
       "      <td>0</td>\n",
       "      <td>0</td>\n",
       "      <td>0</td>\n",
       "      <td>0</td>\n",
       "      <td>0</td>\n",
       "      <td>0</td>\n",
       "      <td>0</td>\n",
       "      <td>1</td>\n",
       "      <td>0</td>\n",
       "      <td>0</td>\n",
       "    </tr>\n",
       "  </tbody>\n",
       "</table>\n",
       "<p>5 rows × 22 columns</p>\n",
       "</div>"
      ],
      "text/plain": [
       "   movie_id        movie title release date  unknown  action  adventure  \\\n",
       "0         1   Toy Story (1995)  01-Jan-1995        0       0          0   \n",
       "1         2   GoldenEye (1995)  01-Jan-1995        0       1          1   \n",
       "2         3  Four Rooms (1995)  01-Jan-1995        0       0          0   \n",
       "3         4  Get Shorty (1995)  01-Jan-1995        0       1          0   \n",
       "4         5     Copycat (1995)  01-Jan-1995        0       0          0   \n",
       "\n",
       "   animation  children's  comedy  crime  ...  fantasy  Film-Noir  horror  \\\n",
       "0          1           1       1      0  ...        0          0       0   \n",
       "1          0           0       0      0  ...        0          0       0   \n",
       "2          0           0       0      0  ...        0          0       0   \n",
       "3          0           0       1      0  ...        0          0       0   \n",
       "4          0           0       0      1  ...        0          0       0   \n",
       "\n",
       "   musical  mystery  romance  Sci-Fi  thriller  war  western  \n",
       "0        0        0        0       0         0    0        0  \n",
       "1        0        0        0       0         1    0        0  \n",
       "2        0        0        0       0         1    0        0  \n",
       "3        0        0        0       0         0    0        0  \n",
       "4        0        0        0       0         1    0        0  \n",
       "\n",
       "[5 rows x 22 columns]"
      ]
     },
     "execution_count": 4,
     "metadata": {},
     "output_type": "execute_result"
    }
   ],
   "source": [
    "movies.head()"
   ]
  },
  {
   "cell_type": "markdown",
   "id": "9827d72a",
   "metadata": {},
   "source": [
    "The columns seem to be one-hot encoded so lets create vectors to represent each movie. Then use these vectors in the cosine similarity function to get recommendations."
   ]
  },
  {
   "cell_type": "code",
   "execution_count": 5,
   "id": "d87a491b",
   "metadata": {},
   "outputs": [
    {
     "name": "stdout",
     "output_type": "stream",
     "text": [
      "<class 'pandas.core.frame.DataFrame'>\n",
      "RangeIndex: 1682 entries, 0 to 1681\n",
      "Data columns (total 19 columns):\n",
      " #   Column       Non-Null Count  Dtype\n",
      "---  ------       --------------  -----\n",
      " 0   unknown      1682 non-null   int64\n",
      " 1   action       1682 non-null   int64\n",
      " 2   adventure    1682 non-null   int64\n",
      " 3   animation    1682 non-null   int64\n",
      " 4   children's   1682 non-null   int64\n",
      " 5   comedy       1682 non-null   int64\n",
      " 6   crime        1682 non-null   int64\n",
      " 7   documentary  1682 non-null   int64\n",
      " 8   drama        1682 non-null   int64\n",
      " 9   fantasy      1682 non-null   int64\n",
      " 10  Film-Noir    1682 non-null   int64\n",
      " 11  horror       1682 non-null   int64\n",
      " 12  musical      1682 non-null   int64\n",
      " 13  mystery      1682 non-null   int64\n",
      " 14  romance      1682 non-null   int64\n",
      " 15  Sci-Fi       1682 non-null   int64\n",
      " 16  thriller     1682 non-null   int64\n",
      " 17  war          1682 non-null   int64\n",
      " 18  western      1682 non-null   int64\n",
      "dtypes: int64(19)\n",
      "memory usage: 249.8 KB\n"
     ]
    }
   ],
   "source": [
    "genres = [ \"unknown\", \"action\", 'adventure', \"animation\",\n",
    "              \"children's\", \"comedy\", \"crime\", \"documentary\", \"drama\", \"fantasy\",\n",
    "              \"Film-Noir\", \"horror\", \"musical\", \"mystery\", \"romance\", \"Sci-Fi\",\n",
    "              \"thriller\", \"war\", \"western\"]\n",
    "\n",
    "genre_features = movies[genres]\n",
    "\n",
    "genre_features.info()\n"
   ]
  },
  {
   "cell_type": "markdown",
   "id": "98d427e7",
   "metadata": {},
   "source": [
    "## Cosine Similarity\n",
    "Instead of using angles directly, cosine similarity gives us a score between -1 and 1.\n",
    "* 1 = items are identical in terms of direction\n",
    "* 0 = they are completely different\n",
    "* -1 = opposite direction\n",
    "\n",
    "We will use these values to compare movies based on ttheir genre vectors."
   ]
  },
  {
   "cell_type": "code",
   "execution_count": 6,
   "id": "eff5c25a",
   "metadata": {},
   "outputs": [
    {
     "data": {
      "text/plain": [
       "array([1.        , 0.        , 0.        , 0.33333333, 0.        ,\n",
       "       0.        , 0.        , 0.66666667, 0.        , 0.        ,\n",
       "       0.        , 0.        , 0.57735027, 0.        , 0.        ])"
      ]
     },
     "execution_count": 6,
     "metadata": {},
     "output_type": "execute_result"
    }
   ],
   "source": [
    "#get the matrix to use within our function.\n",
    "cosine_matrix = cosine_similarity(genre_features)\n",
    "\n",
    "#displaying similarity of first movie with others\n",
    "cosine_matrix[0][:15]\n",
    "# cosine_matrix"
   ]
  },
  {
   "cell_type": "code",
   "execution_count": 7,
   "id": "c0803a29",
   "metadata": {},
   "outputs": [
    {
     "data": {
      "application/vnd.microsoft.datawrangler.viewer.v0+json": {
       "columns": [
        {
         "name": "index",
         "rawType": "int64",
         "type": "integer"
        },
        {
         "name": "movie_id",
         "rawType": "int64",
         "type": "integer"
        },
        {
         "name": "movie title",
         "rawType": "object",
         "type": "string"
        },
        {
         "name": "release date",
         "rawType": "object",
         "type": "string"
        },
        {
         "name": "unknown",
         "rawType": "int64",
         "type": "integer"
        },
        {
         "name": "action",
         "rawType": "int64",
         "type": "integer"
        },
        {
         "name": "adventure",
         "rawType": "int64",
         "type": "integer"
        },
        {
         "name": "animation",
         "rawType": "int64",
         "type": "integer"
        },
        {
         "name": "children's",
         "rawType": "int64",
         "type": "integer"
        },
        {
         "name": "comedy",
         "rawType": "int64",
         "type": "integer"
        },
        {
         "name": "crime",
         "rawType": "int64",
         "type": "integer"
        },
        {
         "name": "documentary",
         "rawType": "int64",
         "type": "integer"
        },
        {
         "name": "drama",
         "rawType": "int64",
         "type": "integer"
        },
        {
         "name": "fantasy",
         "rawType": "int64",
         "type": "integer"
        },
        {
         "name": "Film-Noir",
         "rawType": "int64",
         "type": "integer"
        },
        {
         "name": "horror",
         "rawType": "int64",
         "type": "integer"
        },
        {
         "name": "musical",
         "rawType": "int64",
         "type": "integer"
        },
        {
         "name": "mystery",
         "rawType": "int64",
         "type": "integer"
        },
        {
         "name": "romance",
         "rawType": "int64",
         "type": "integer"
        },
        {
         "name": "Sci-Fi",
         "rawType": "int64",
         "type": "integer"
        },
        {
         "name": "thriller",
         "rawType": "int64",
         "type": "integer"
        },
        {
         "name": "war",
         "rawType": "int64",
         "type": "integer"
        },
        {
         "name": "western",
         "rawType": "int64",
         "type": "integer"
        }
       ],
       "ref": "394a7335-17af-4581-84d2-391647149389",
       "rows": [
        [
         "0",
         "1",
         "Toy Story (1995)",
         "01-Jan-1995",
         "0",
         "0",
         "0",
         "1",
         "1",
         "1",
         "0",
         "0",
         "0",
         "0",
         "0",
         "0",
         "0",
         "0",
         "0",
         "0",
         "0",
         "0",
         "0"
        ],
        [
         "1",
         "2",
         "GoldenEye (1995)",
         "01-Jan-1995",
         "0",
         "1",
         "1",
         "0",
         "0",
         "0",
         "0",
         "0",
         "0",
         "0",
         "0",
         "0",
         "0",
         "0",
         "0",
         "0",
         "1",
         "0",
         "0"
        ],
        [
         "2",
         "3",
         "Four Rooms (1995)",
         "01-Jan-1995",
         "0",
         "0",
         "0",
         "0",
         "0",
         "0",
         "0",
         "0",
         "0",
         "0",
         "0",
         "0",
         "0",
         "0",
         "0",
         "0",
         "1",
         "0",
         "0"
        ],
        [
         "3",
         "4",
         "Get Shorty (1995)",
         "01-Jan-1995",
         "0",
         "1",
         "0",
         "0",
         "0",
         "1",
         "0",
         "0",
         "1",
         "0",
         "0",
         "0",
         "0",
         "0",
         "0",
         "0",
         "0",
         "0",
         "0"
        ],
        [
         "4",
         "5",
         "Copycat (1995)",
         "01-Jan-1995",
         "0",
         "0",
         "0",
         "0",
         "0",
         "0",
         "1",
         "0",
         "1",
         "0",
         "0",
         "0",
         "0",
         "0",
         "0",
         "0",
         "1",
         "0",
         "0"
        ],
        [
         "5",
         "6",
         "Shanghai Triad (Yao a yao yao dao waipo qiao) (1995)",
         "01-Jan-1995",
         "0",
         "0",
         "0",
         "0",
         "0",
         "0",
         "0",
         "0",
         "1",
         "0",
         "0",
         "0",
         "0",
         "0",
         "0",
         "0",
         "0",
         "0",
         "0"
        ],
        [
         "6",
         "7",
         "Twelve Monkeys (1995)",
         "01-Jan-1995",
         "0",
         "0",
         "0",
         "0",
         "0",
         "0",
         "0",
         "0",
         "1",
         "0",
         "0",
         "0",
         "0",
         "0",
         "0",
         "1",
         "0",
         "0",
         "0"
        ],
        [
         "7",
         "8",
         "Babe (1995)",
         "01-Jan-1995",
         "0",
         "0",
         "0",
         "0",
         "1",
         "1",
         "0",
         "0",
         "1",
         "0",
         "0",
         "0",
         "0",
         "0",
         "0",
         "0",
         "0",
         "0",
         "0"
        ],
        [
         "8",
         "9",
         "Dead Man Walking (1995)",
         "01-Jan-1995",
         "0",
         "0",
         "0",
         "0",
         "0",
         "0",
         "0",
         "0",
         "1",
         "0",
         "0",
         "0",
         "0",
         "0",
         "0",
         "0",
         "0",
         "0",
         "0"
        ],
        [
         "9",
         "10",
         "Richard III (1995)",
         "22-Jan-1996",
         "0",
         "0",
         "0",
         "0",
         "0",
         "0",
         "0",
         "0",
         "1",
         "0",
         "0",
         "0",
         "0",
         "0",
         "0",
         "0",
         "0",
         "1",
         "0"
        ]
       ],
       "shape": {
        "columns": 22,
        "rows": 10
       }
      },
      "text/html": [
       "<div>\n",
       "<style scoped>\n",
       "    .dataframe tbody tr th:only-of-type {\n",
       "        vertical-align: middle;\n",
       "    }\n",
       "\n",
       "    .dataframe tbody tr th {\n",
       "        vertical-align: top;\n",
       "    }\n",
       "\n",
       "    .dataframe thead th {\n",
       "        text-align: right;\n",
       "    }\n",
       "</style>\n",
       "<table border=\"1\" class=\"dataframe\">\n",
       "  <thead>\n",
       "    <tr style=\"text-align: right;\">\n",
       "      <th></th>\n",
       "      <th>movie_id</th>\n",
       "      <th>movie title</th>\n",
       "      <th>release date</th>\n",
       "      <th>unknown</th>\n",
       "      <th>action</th>\n",
       "      <th>adventure</th>\n",
       "      <th>animation</th>\n",
       "      <th>children's</th>\n",
       "      <th>comedy</th>\n",
       "      <th>crime</th>\n",
       "      <th>...</th>\n",
       "      <th>fantasy</th>\n",
       "      <th>Film-Noir</th>\n",
       "      <th>horror</th>\n",
       "      <th>musical</th>\n",
       "      <th>mystery</th>\n",
       "      <th>romance</th>\n",
       "      <th>Sci-Fi</th>\n",
       "      <th>thriller</th>\n",
       "      <th>war</th>\n",
       "      <th>western</th>\n",
       "    </tr>\n",
       "  </thead>\n",
       "  <tbody>\n",
       "    <tr>\n",
       "      <th>0</th>\n",
       "      <td>1</td>\n",
       "      <td>Toy Story (1995)</td>\n",
       "      <td>01-Jan-1995</td>\n",
       "      <td>0</td>\n",
       "      <td>0</td>\n",
       "      <td>0</td>\n",
       "      <td>1</td>\n",
       "      <td>1</td>\n",
       "      <td>1</td>\n",
       "      <td>0</td>\n",
       "      <td>...</td>\n",
       "      <td>0</td>\n",
       "      <td>0</td>\n",
       "      <td>0</td>\n",
       "      <td>0</td>\n",
       "      <td>0</td>\n",
       "      <td>0</td>\n",
       "      <td>0</td>\n",
       "      <td>0</td>\n",
       "      <td>0</td>\n",
       "      <td>0</td>\n",
       "    </tr>\n",
       "    <tr>\n",
       "      <th>1</th>\n",
       "      <td>2</td>\n",
       "      <td>GoldenEye (1995)</td>\n",
       "      <td>01-Jan-1995</td>\n",
       "      <td>0</td>\n",
       "      <td>1</td>\n",
       "      <td>1</td>\n",
       "      <td>0</td>\n",
       "      <td>0</td>\n",
       "      <td>0</td>\n",
       "      <td>0</td>\n",
       "      <td>...</td>\n",
       "      <td>0</td>\n",
       "      <td>0</td>\n",
       "      <td>0</td>\n",
       "      <td>0</td>\n",
       "      <td>0</td>\n",
       "      <td>0</td>\n",
       "      <td>0</td>\n",
       "      <td>1</td>\n",
       "      <td>0</td>\n",
       "      <td>0</td>\n",
       "    </tr>\n",
       "    <tr>\n",
       "      <th>2</th>\n",
       "      <td>3</td>\n",
       "      <td>Four Rooms (1995)</td>\n",
       "      <td>01-Jan-1995</td>\n",
       "      <td>0</td>\n",
       "      <td>0</td>\n",
       "      <td>0</td>\n",
       "      <td>0</td>\n",
       "      <td>0</td>\n",
       "      <td>0</td>\n",
       "      <td>0</td>\n",
       "      <td>...</td>\n",
       "      <td>0</td>\n",
       "      <td>0</td>\n",
       "      <td>0</td>\n",
       "      <td>0</td>\n",
       "      <td>0</td>\n",
       "      <td>0</td>\n",
       "      <td>0</td>\n",
       "      <td>1</td>\n",
       "      <td>0</td>\n",
       "      <td>0</td>\n",
       "    </tr>\n",
       "    <tr>\n",
       "      <th>3</th>\n",
       "      <td>4</td>\n",
       "      <td>Get Shorty (1995)</td>\n",
       "      <td>01-Jan-1995</td>\n",
       "      <td>0</td>\n",
       "      <td>1</td>\n",
       "      <td>0</td>\n",
       "      <td>0</td>\n",
       "      <td>0</td>\n",
       "      <td>1</td>\n",
       "      <td>0</td>\n",
       "      <td>...</td>\n",
       "      <td>0</td>\n",
       "      <td>0</td>\n",
       "      <td>0</td>\n",
       "      <td>0</td>\n",
       "      <td>0</td>\n",
       "      <td>0</td>\n",
       "      <td>0</td>\n",
       "      <td>0</td>\n",
       "      <td>0</td>\n",
       "      <td>0</td>\n",
       "    </tr>\n",
       "    <tr>\n",
       "      <th>4</th>\n",
       "      <td>5</td>\n",
       "      <td>Copycat (1995)</td>\n",
       "      <td>01-Jan-1995</td>\n",
       "      <td>0</td>\n",
       "      <td>0</td>\n",
       "      <td>0</td>\n",
       "      <td>0</td>\n",
       "      <td>0</td>\n",
       "      <td>0</td>\n",
       "      <td>1</td>\n",
       "      <td>...</td>\n",
       "      <td>0</td>\n",
       "      <td>0</td>\n",
       "      <td>0</td>\n",
       "      <td>0</td>\n",
       "      <td>0</td>\n",
       "      <td>0</td>\n",
       "      <td>0</td>\n",
       "      <td>1</td>\n",
       "      <td>0</td>\n",
       "      <td>0</td>\n",
       "    </tr>\n",
       "    <tr>\n",
       "      <th>5</th>\n",
       "      <td>6</td>\n",
       "      <td>Shanghai Triad (Yao a yao yao dao waipo qiao) ...</td>\n",
       "      <td>01-Jan-1995</td>\n",
       "      <td>0</td>\n",
       "      <td>0</td>\n",
       "      <td>0</td>\n",
       "      <td>0</td>\n",
       "      <td>0</td>\n",
       "      <td>0</td>\n",
       "      <td>0</td>\n",
       "      <td>...</td>\n",
       "      <td>0</td>\n",
       "      <td>0</td>\n",
       "      <td>0</td>\n",
       "      <td>0</td>\n",
       "      <td>0</td>\n",
       "      <td>0</td>\n",
       "      <td>0</td>\n",
       "      <td>0</td>\n",
       "      <td>0</td>\n",
       "      <td>0</td>\n",
       "    </tr>\n",
       "    <tr>\n",
       "      <th>6</th>\n",
       "      <td>7</td>\n",
       "      <td>Twelve Monkeys (1995)</td>\n",
       "      <td>01-Jan-1995</td>\n",
       "      <td>0</td>\n",
       "      <td>0</td>\n",
       "      <td>0</td>\n",
       "      <td>0</td>\n",
       "      <td>0</td>\n",
       "      <td>0</td>\n",
       "      <td>0</td>\n",
       "      <td>...</td>\n",
       "      <td>0</td>\n",
       "      <td>0</td>\n",
       "      <td>0</td>\n",
       "      <td>0</td>\n",
       "      <td>0</td>\n",
       "      <td>0</td>\n",
       "      <td>1</td>\n",
       "      <td>0</td>\n",
       "      <td>0</td>\n",
       "      <td>0</td>\n",
       "    </tr>\n",
       "    <tr>\n",
       "      <th>7</th>\n",
       "      <td>8</td>\n",
       "      <td>Babe (1995)</td>\n",
       "      <td>01-Jan-1995</td>\n",
       "      <td>0</td>\n",
       "      <td>0</td>\n",
       "      <td>0</td>\n",
       "      <td>0</td>\n",
       "      <td>1</td>\n",
       "      <td>1</td>\n",
       "      <td>0</td>\n",
       "      <td>...</td>\n",
       "      <td>0</td>\n",
       "      <td>0</td>\n",
       "      <td>0</td>\n",
       "      <td>0</td>\n",
       "      <td>0</td>\n",
       "      <td>0</td>\n",
       "      <td>0</td>\n",
       "      <td>0</td>\n",
       "      <td>0</td>\n",
       "      <td>0</td>\n",
       "    </tr>\n",
       "    <tr>\n",
       "      <th>8</th>\n",
       "      <td>9</td>\n",
       "      <td>Dead Man Walking (1995)</td>\n",
       "      <td>01-Jan-1995</td>\n",
       "      <td>0</td>\n",
       "      <td>0</td>\n",
       "      <td>0</td>\n",
       "      <td>0</td>\n",
       "      <td>0</td>\n",
       "      <td>0</td>\n",
       "      <td>0</td>\n",
       "      <td>...</td>\n",
       "      <td>0</td>\n",
       "      <td>0</td>\n",
       "      <td>0</td>\n",
       "      <td>0</td>\n",
       "      <td>0</td>\n",
       "      <td>0</td>\n",
       "      <td>0</td>\n",
       "      <td>0</td>\n",
       "      <td>0</td>\n",
       "      <td>0</td>\n",
       "    </tr>\n",
       "    <tr>\n",
       "      <th>9</th>\n",
       "      <td>10</td>\n",
       "      <td>Richard III (1995)</td>\n",
       "      <td>22-Jan-1996</td>\n",
       "      <td>0</td>\n",
       "      <td>0</td>\n",
       "      <td>0</td>\n",
       "      <td>0</td>\n",
       "      <td>0</td>\n",
       "      <td>0</td>\n",
       "      <td>0</td>\n",
       "      <td>...</td>\n",
       "      <td>0</td>\n",
       "      <td>0</td>\n",
       "      <td>0</td>\n",
       "      <td>0</td>\n",
       "      <td>0</td>\n",
       "      <td>0</td>\n",
       "      <td>0</td>\n",
       "      <td>0</td>\n",
       "      <td>1</td>\n",
       "      <td>0</td>\n",
       "    </tr>\n",
       "  </tbody>\n",
       "</table>\n",
       "<p>10 rows × 22 columns</p>\n",
       "</div>"
      ],
      "text/plain": [
       "   movie_id                                        movie title release date  \\\n",
       "0         1                                   Toy Story (1995)  01-Jan-1995   \n",
       "1         2                                   GoldenEye (1995)  01-Jan-1995   \n",
       "2         3                                  Four Rooms (1995)  01-Jan-1995   \n",
       "3         4                                  Get Shorty (1995)  01-Jan-1995   \n",
       "4         5                                     Copycat (1995)  01-Jan-1995   \n",
       "5         6  Shanghai Triad (Yao a yao yao dao waipo qiao) ...  01-Jan-1995   \n",
       "6         7                              Twelve Monkeys (1995)  01-Jan-1995   \n",
       "7         8                                        Babe (1995)  01-Jan-1995   \n",
       "8         9                            Dead Man Walking (1995)  01-Jan-1995   \n",
       "9        10                                 Richard III (1995)  22-Jan-1996   \n",
       "\n",
       "   unknown  action  adventure  animation  children's  comedy  crime  ...  \\\n",
       "0        0       0          0          1           1       1      0  ...   \n",
       "1        0       1          1          0           0       0      0  ...   \n",
       "2        0       0          0          0           0       0      0  ...   \n",
       "3        0       1          0          0           0       1      0  ...   \n",
       "4        0       0          0          0           0       0      1  ...   \n",
       "5        0       0          0          0           0       0      0  ...   \n",
       "6        0       0          0          0           0       0      0  ...   \n",
       "7        0       0          0          0           1       1      0  ...   \n",
       "8        0       0          0          0           0       0      0  ...   \n",
       "9        0       0          0          0           0       0      0  ...   \n",
       "\n",
       "   fantasy  Film-Noir  horror  musical  mystery  romance  Sci-Fi  thriller  \\\n",
       "0        0          0       0        0        0        0       0         0   \n",
       "1        0          0       0        0        0        0       0         1   \n",
       "2        0          0       0        0        0        0       0         1   \n",
       "3        0          0       0        0        0        0       0         0   \n",
       "4        0          0       0        0        0        0       0         1   \n",
       "5        0          0       0        0        0        0       0         0   \n",
       "6        0          0       0        0        0        0       1         0   \n",
       "7        0          0       0        0        0        0       0         0   \n",
       "8        0          0       0        0        0        0       0         0   \n",
       "9        0          0       0        0        0        0       0         0   \n",
       "\n",
       "   war  western  \n",
       "0    0        0  \n",
       "1    0        0  \n",
       "2    0        0  \n",
       "3    0        0  \n",
       "4    0        0  \n",
       "5    0        0  \n",
       "6    0        0  \n",
       "7    0        0  \n",
       "8    0        0  \n",
       "9    1        0  \n",
       "\n",
       "[10 rows x 22 columns]"
      ]
     },
     "execution_count": 7,
     "metadata": {},
     "output_type": "execute_result"
    }
   ],
   "source": [
    "movies.head(10)"
   ]
  },
  {
   "cell_type": "markdown",
   "id": "51f97cd3",
   "metadata": {},
   "source": [
    "Next, lets define a function that will take a movie title as an input, use the list from the cosine matrix to sort similar movies then return a list of top 5 movies as the output."
   ]
  },
  {
   "cell_type": "code",
   "execution_count": 8,
   "id": "e9ab6388",
   "metadata": {},
   "outputs": [
    {
     "data": {
      "application/vnd.microsoft.datawrangler.viewer.v0+json": {
       "columns": [
        {
         "name": "index",
         "rawType": "int64",
         "type": "integer"
        },
        {
         "name": "movie title",
         "rawType": "object",
         "type": "string"
        }
       ],
       "ref": "f3b17fcb-a99e-421d-a42a-1f9d7dde58f0",
       "rows": [
        [
         "8",
         "Dead Man Walking (1995)"
        ],
        [
         "14",
         "Mr. Holland's Opus (1995)"
        ],
        [
         "17",
         "White Balloon, The (1995)"
        ],
        [
         "18",
         "Antonia's Line (1995)"
        ],
        [
         "29",
         "Belle de jour (1967)"
        ]
       ],
       "shape": {
        "columns": 1,
        "rows": 5
       }
      },
      "text/plain": [
       "8       Dead Man Walking (1995)\n",
       "14    Mr. Holland's Opus (1995)\n",
       "17    White Balloon, The (1995)\n",
       "18        Antonia's Line (1995)\n",
       "29         Belle de jour (1967)\n",
       "Name: movie title, dtype: object"
      ]
     },
     "execution_count": 8,
     "metadata": {},
     "output_type": "execute_result"
    }
   ],
   "source": [
    "def movie_recommendation(movie_title, n=5):\n",
    "    movie_index = movies[movies['movie title'] == movie_title].index[0]\n",
    "\n",
    "    scores = list(enumerate(cosine_matrix[movie_index]))\n",
    "\n",
    "    sorted_scores = sorted(scores, key=lambda x: x[1], reverse=True)\n",
    "\n",
    "    #return the scores ommitting the first movie and adding the 6th one to make five \n",
    "    return_scores = sorted_scores[1: n+1]\n",
    "    #get movie indices and names\n",
    "    movie_indices = [i[0] for i in return_scores]\n",
    "\n",
    "    return movies['movie title'].iloc[movie_indices]\n",
    "\n",
    "\n",
    "\n",
    "movie_recommendation(\"Shanghai Triad (Yao a yao yao dao waipo qiao) (1995)\")"
   ]
  },
  {
   "cell_type": "code",
   "execution_count": 9,
   "id": "952eb9f9",
   "metadata": {},
   "outputs": [
    {
     "data": {
      "application/vnd.microsoft.datawrangler.viewer.v0+json": {
       "columns": [
        {
         "name": "index",
         "rawType": "int64",
         "type": "integer"
        },
        {
         "name": "movie title",
         "rawType": "object",
         "type": "string"
        }
       ],
       "ref": "2151292b-f51b-412f-a06d-84b648c1f006",
       "rows": [
        [
         "8",
         "Dead Man Walking (1995)"
        ],
        [
         "14",
         "Mr. Holland's Opus (1995)"
        ],
        [
         "17",
         "White Balloon, The (1995)"
        ],
        [
         "18",
         "Antonia's Line (1995)"
        ],
        [
         "29",
         "Belle de jour (1967)"
        ]
       ],
       "shape": {
        "columns": 1,
        "rows": 5
       }
      },
      "text/plain": [
       "8       Dead Man Walking (1995)\n",
       "14    Mr. Holland's Opus (1995)\n",
       "17    White Balloon, The (1995)\n",
       "18        Antonia's Line (1995)\n",
       "29         Belle de jour (1967)\n",
       "Name: movie title, dtype: object"
      ]
     },
     "execution_count": 9,
     "metadata": {},
     "output_type": "execute_result"
    }
   ],
   "source": [
    "movie_recommendation('Dead Man Walking (1995)')"
   ]
  },
  {
   "cell_type": "code",
   "execution_count": 10,
   "id": "75ebd8bc",
   "metadata": {},
   "outputs": [
    {
     "data": {
      "application/vnd.microsoft.datawrangler.viewer.v0+json": {
       "columns": [
        {
         "name": "index",
         "rawType": "int64",
         "type": "integer"
        },
        {
         "name": "movie_id",
         "rawType": "int64",
         "type": "integer"
        },
        {
         "name": "movie title",
         "rawType": "object",
         "type": "string"
        },
        {
         "name": "release date",
         "rawType": "object",
         "type": "string"
        },
        {
         "name": "unknown",
         "rawType": "int64",
         "type": "integer"
        },
        {
         "name": "action",
         "rawType": "int64",
         "type": "integer"
        },
        {
         "name": "adventure",
         "rawType": "int64",
         "type": "integer"
        },
        {
         "name": "animation",
         "rawType": "int64",
         "type": "integer"
        },
        {
         "name": "children's",
         "rawType": "int64",
         "type": "integer"
        },
        {
         "name": "comedy",
         "rawType": "int64",
         "type": "integer"
        },
        {
         "name": "crime",
         "rawType": "int64",
         "type": "integer"
        },
        {
         "name": "documentary",
         "rawType": "int64",
         "type": "integer"
        },
        {
         "name": "drama",
         "rawType": "int64",
         "type": "integer"
        },
        {
         "name": "fantasy",
         "rawType": "int64",
         "type": "integer"
        },
        {
         "name": "Film-Noir",
         "rawType": "int64",
         "type": "integer"
        },
        {
         "name": "horror",
         "rawType": "int64",
         "type": "integer"
        },
        {
         "name": "musical",
         "rawType": "int64",
         "type": "integer"
        },
        {
         "name": "mystery",
         "rawType": "int64",
         "type": "integer"
        },
        {
         "name": "romance",
         "rawType": "int64",
         "type": "integer"
        },
        {
         "name": "Sci-Fi",
         "rawType": "int64",
         "type": "integer"
        },
        {
         "name": "thriller",
         "rawType": "int64",
         "type": "integer"
        },
        {
         "name": "war",
         "rawType": "int64",
         "type": "integer"
        },
        {
         "name": "western",
         "rawType": "int64",
         "type": "integer"
        }
       ],
       "ref": "c6339dfc-8b60-47cc-a437-f185e746a49d",
       "rows": [
        [
         "1670",
         "1671",
         "Further Gesture, A (1996)",
         "20-Feb-1998",
         "0",
         "0",
         "0",
         "0",
         "0",
         "0",
         "0",
         "0",
         "1",
         "0",
         "0",
         "0",
         "0",
         "0",
         "0",
         "0",
         "0",
         "0",
         "0"
        ],
        [
         "1671",
         "1672",
         "Kika (1993)",
         "01-Jan-1993",
         "0",
         "0",
         "0",
         "0",
         "0",
         "0",
         "0",
         "0",
         "1",
         "0",
         "0",
         "0",
         "0",
         "0",
         "0",
         "0",
         "0",
         "0",
         "0"
        ],
        [
         "1672",
         "1673",
         "Mirage (1995)",
         "01-Jan-1995",
         "0",
         "1",
         "0",
         "0",
         "0",
         "0",
         "0",
         "0",
         "0",
         "0",
         "0",
         "0",
         "0",
         "0",
         "0",
         "0",
         "1",
         "0",
         "0"
        ],
        [
         "1673",
         "1674",
         "Mamma Roma (1962)",
         "01-Jan-1962",
         "0",
         "0",
         "0",
         "0",
         "0",
         "0",
         "0",
         "0",
         "1",
         "0",
         "0",
         "0",
         "0",
         "0",
         "0",
         "0",
         "0",
         "0",
         "0"
        ],
        [
         "1674",
         "1675",
         "Sunchaser, The (1996)",
         "25-Oct-1996",
         "0",
         "0",
         "0",
         "0",
         "0",
         "0",
         "0",
         "0",
         "1",
         "0",
         "0",
         "0",
         "0",
         "0",
         "0",
         "0",
         "0",
         "0",
         "0"
        ],
        [
         "1675",
         "1676",
         "War at Home, The (1996)",
         "01-Jan-1996",
         "0",
         "0",
         "0",
         "0",
         "0",
         "0",
         "0",
         "0",
         "1",
         "0",
         "0",
         "0",
         "0",
         "0",
         "0",
         "0",
         "0",
         "0",
         "0"
        ],
        [
         "1676",
         "1677",
         "Sweet Nothing (1995)",
         "20-Sep-1996",
         "0",
         "0",
         "0",
         "0",
         "0",
         "0",
         "0",
         "0",
         "1",
         "0",
         "0",
         "0",
         "0",
         "0",
         "0",
         "0",
         "0",
         "0",
         "0"
        ],
        [
         "1677",
         "1678",
         "Mat' i syn (1997)",
         "06-Feb-1998",
         "0",
         "0",
         "0",
         "0",
         "0",
         "0",
         "0",
         "0",
         "1",
         "0",
         "0",
         "0",
         "0",
         "0",
         "0",
         "0",
         "0",
         "0",
         "0"
        ],
        [
         "1678",
         "1679",
         "B. Monkey (1998)",
         "06-Feb-1998",
         "0",
         "0",
         "0",
         "0",
         "0",
         "0",
         "0",
         "0",
         "0",
         "0",
         "0",
         "0",
         "0",
         "0",
         "1",
         "0",
         "1",
         "0",
         "0"
        ],
        [
         "1679",
         "1680",
         "Sliding Doors (1998)",
         "01-Jan-1998",
         "0",
         "0",
         "0",
         "0",
         "0",
         "0",
         "0",
         "0",
         "1",
         "0",
         "0",
         "0",
         "0",
         "0",
         "1",
         "0",
         "0",
         "0",
         "0"
        ],
        [
         "1680",
         "1681",
         "You So Crazy (1994)",
         "01-Jan-1994",
         "0",
         "0",
         "0",
         "0",
         "0",
         "1",
         "0",
         "0",
         "0",
         "0",
         "0",
         "0",
         "0",
         "0",
         "0",
         "0",
         "0",
         "0",
         "0"
        ],
        [
         "1681",
         "1682",
         "Scream of Stone (Schrei aus Stein) (1991)",
         "08-Mar-1996",
         "0",
         "0",
         "0",
         "0",
         "0",
         "0",
         "0",
         "0",
         "1",
         "0",
         "0",
         "0",
         "0",
         "0",
         "0",
         "0",
         "0",
         "0",
         "0"
        ]
       ],
       "shape": {
        "columns": 22,
        "rows": 12
       }
      },
      "text/html": [
       "<div>\n",
       "<style scoped>\n",
       "    .dataframe tbody tr th:only-of-type {\n",
       "        vertical-align: middle;\n",
       "    }\n",
       "\n",
       "    .dataframe tbody tr th {\n",
       "        vertical-align: top;\n",
       "    }\n",
       "\n",
       "    .dataframe thead th {\n",
       "        text-align: right;\n",
       "    }\n",
       "</style>\n",
       "<table border=\"1\" class=\"dataframe\">\n",
       "  <thead>\n",
       "    <tr style=\"text-align: right;\">\n",
       "      <th></th>\n",
       "      <th>movie_id</th>\n",
       "      <th>movie title</th>\n",
       "      <th>release date</th>\n",
       "      <th>unknown</th>\n",
       "      <th>action</th>\n",
       "      <th>adventure</th>\n",
       "      <th>animation</th>\n",
       "      <th>children's</th>\n",
       "      <th>comedy</th>\n",
       "      <th>crime</th>\n",
       "      <th>...</th>\n",
       "      <th>fantasy</th>\n",
       "      <th>Film-Noir</th>\n",
       "      <th>horror</th>\n",
       "      <th>musical</th>\n",
       "      <th>mystery</th>\n",
       "      <th>romance</th>\n",
       "      <th>Sci-Fi</th>\n",
       "      <th>thriller</th>\n",
       "      <th>war</th>\n",
       "      <th>western</th>\n",
       "    </tr>\n",
       "  </thead>\n",
       "  <tbody>\n",
       "    <tr>\n",
       "      <th>1670</th>\n",
       "      <td>1671</td>\n",
       "      <td>Further Gesture, A (1996)</td>\n",
       "      <td>20-Feb-1998</td>\n",
       "      <td>0</td>\n",
       "      <td>0</td>\n",
       "      <td>0</td>\n",
       "      <td>0</td>\n",
       "      <td>0</td>\n",
       "      <td>0</td>\n",
       "      <td>0</td>\n",
       "      <td>...</td>\n",
       "      <td>0</td>\n",
       "      <td>0</td>\n",
       "      <td>0</td>\n",
       "      <td>0</td>\n",
       "      <td>0</td>\n",
       "      <td>0</td>\n",
       "      <td>0</td>\n",
       "      <td>0</td>\n",
       "      <td>0</td>\n",
       "      <td>0</td>\n",
       "    </tr>\n",
       "    <tr>\n",
       "      <th>1671</th>\n",
       "      <td>1672</td>\n",
       "      <td>Kika (1993)</td>\n",
       "      <td>01-Jan-1993</td>\n",
       "      <td>0</td>\n",
       "      <td>0</td>\n",
       "      <td>0</td>\n",
       "      <td>0</td>\n",
       "      <td>0</td>\n",
       "      <td>0</td>\n",
       "      <td>0</td>\n",
       "      <td>...</td>\n",
       "      <td>0</td>\n",
       "      <td>0</td>\n",
       "      <td>0</td>\n",
       "      <td>0</td>\n",
       "      <td>0</td>\n",
       "      <td>0</td>\n",
       "      <td>0</td>\n",
       "      <td>0</td>\n",
       "      <td>0</td>\n",
       "      <td>0</td>\n",
       "    </tr>\n",
       "    <tr>\n",
       "      <th>1672</th>\n",
       "      <td>1673</td>\n",
       "      <td>Mirage (1995)</td>\n",
       "      <td>01-Jan-1995</td>\n",
       "      <td>0</td>\n",
       "      <td>1</td>\n",
       "      <td>0</td>\n",
       "      <td>0</td>\n",
       "      <td>0</td>\n",
       "      <td>0</td>\n",
       "      <td>0</td>\n",
       "      <td>...</td>\n",
       "      <td>0</td>\n",
       "      <td>0</td>\n",
       "      <td>0</td>\n",
       "      <td>0</td>\n",
       "      <td>0</td>\n",
       "      <td>0</td>\n",
       "      <td>0</td>\n",
       "      <td>1</td>\n",
       "      <td>0</td>\n",
       "      <td>0</td>\n",
       "    </tr>\n",
       "    <tr>\n",
       "      <th>1673</th>\n",
       "      <td>1674</td>\n",
       "      <td>Mamma Roma (1962)</td>\n",
       "      <td>01-Jan-1962</td>\n",
       "      <td>0</td>\n",
       "      <td>0</td>\n",
       "      <td>0</td>\n",
       "      <td>0</td>\n",
       "      <td>0</td>\n",
       "      <td>0</td>\n",
       "      <td>0</td>\n",
       "      <td>...</td>\n",
       "      <td>0</td>\n",
       "      <td>0</td>\n",
       "      <td>0</td>\n",
       "      <td>0</td>\n",
       "      <td>0</td>\n",
       "      <td>0</td>\n",
       "      <td>0</td>\n",
       "      <td>0</td>\n",
       "      <td>0</td>\n",
       "      <td>0</td>\n",
       "    </tr>\n",
       "    <tr>\n",
       "      <th>1674</th>\n",
       "      <td>1675</td>\n",
       "      <td>Sunchaser, The (1996)</td>\n",
       "      <td>25-Oct-1996</td>\n",
       "      <td>0</td>\n",
       "      <td>0</td>\n",
       "      <td>0</td>\n",
       "      <td>0</td>\n",
       "      <td>0</td>\n",
       "      <td>0</td>\n",
       "      <td>0</td>\n",
       "      <td>...</td>\n",
       "      <td>0</td>\n",
       "      <td>0</td>\n",
       "      <td>0</td>\n",
       "      <td>0</td>\n",
       "      <td>0</td>\n",
       "      <td>0</td>\n",
       "      <td>0</td>\n",
       "      <td>0</td>\n",
       "      <td>0</td>\n",
       "      <td>0</td>\n",
       "    </tr>\n",
       "    <tr>\n",
       "      <th>1675</th>\n",
       "      <td>1676</td>\n",
       "      <td>War at Home, The (1996)</td>\n",
       "      <td>01-Jan-1996</td>\n",
       "      <td>0</td>\n",
       "      <td>0</td>\n",
       "      <td>0</td>\n",
       "      <td>0</td>\n",
       "      <td>0</td>\n",
       "      <td>0</td>\n",
       "      <td>0</td>\n",
       "      <td>...</td>\n",
       "      <td>0</td>\n",
       "      <td>0</td>\n",
       "      <td>0</td>\n",
       "      <td>0</td>\n",
       "      <td>0</td>\n",
       "      <td>0</td>\n",
       "      <td>0</td>\n",
       "      <td>0</td>\n",
       "      <td>0</td>\n",
       "      <td>0</td>\n",
       "    </tr>\n",
       "    <tr>\n",
       "      <th>1676</th>\n",
       "      <td>1677</td>\n",
       "      <td>Sweet Nothing (1995)</td>\n",
       "      <td>20-Sep-1996</td>\n",
       "      <td>0</td>\n",
       "      <td>0</td>\n",
       "      <td>0</td>\n",
       "      <td>0</td>\n",
       "      <td>0</td>\n",
       "      <td>0</td>\n",
       "      <td>0</td>\n",
       "      <td>...</td>\n",
       "      <td>0</td>\n",
       "      <td>0</td>\n",
       "      <td>0</td>\n",
       "      <td>0</td>\n",
       "      <td>0</td>\n",
       "      <td>0</td>\n",
       "      <td>0</td>\n",
       "      <td>0</td>\n",
       "      <td>0</td>\n",
       "      <td>0</td>\n",
       "    </tr>\n",
       "    <tr>\n",
       "      <th>1677</th>\n",
       "      <td>1678</td>\n",
       "      <td>Mat' i syn (1997)</td>\n",
       "      <td>06-Feb-1998</td>\n",
       "      <td>0</td>\n",
       "      <td>0</td>\n",
       "      <td>0</td>\n",
       "      <td>0</td>\n",
       "      <td>0</td>\n",
       "      <td>0</td>\n",
       "      <td>0</td>\n",
       "      <td>...</td>\n",
       "      <td>0</td>\n",
       "      <td>0</td>\n",
       "      <td>0</td>\n",
       "      <td>0</td>\n",
       "      <td>0</td>\n",
       "      <td>0</td>\n",
       "      <td>0</td>\n",
       "      <td>0</td>\n",
       "      <td>0</td>\n",
       "      <td>0</td>\n",
       "    </tr>\n",
       "    <tr>\n",
       "      <th>1678</th>\n",
       "      <td>1679</td>\n",
       "      <td>B. Monkey (1998)</td>\n",
       "      <td>06-Feb-1998</td>\n",
       "      <td>0</td>\n",
       "      <td>0</td>\n",
       "      <td>0</td>\n",
       "      <td>0</td>\n",
       "      <td>0</td>\n",
       "      <td>0</td>\n",
       "      <td>0</td>\n",
       "      <td>...</td>\n",
       "      <td>0</td>\n",
       "      <td>0</td>\n",
       "      <td>0</td>\n",
       "      <td>0</td>\n",
       "      <td>0</td>\n",
       "      <td>1</td>\n",
       "      <td>0</td>\n",
       "      <td>1</td>\n",
       "      <td>0</td>\n",
       "      <td>0</td>\n",
       "    </tr>\n",
       "    <tr>\n",
       "      <th>1679</th>\n",
       "      <td>1680</td>\n",
       "      <td>Sliding Doors (1998)</td>\n",
       "      <td>01-Jan-1998</td>\n",
       "      <td>0</td>\n",
       "      <td>0</td>\n",
       "      <td>0</td>\n",
       "      <td>0</td>\n",
       "      <td>0</td>\n",
       "      <td>0</td>\n",
       "      <td>0</td>\n",
       "      <td>...</td>\n",
       "      <td>0</td>\n",
       "      <td>0</td>\n",
       "      <td>0</td>\n",
       "      <td>0</td>\n",
       "      <td>0</td>\n",
       "      <td>1</td>\n",
       "      <td>0</td>\n",
       "      <td>0</td>\n",
       "      <td>0</td>\n",
       "      <td>0</td>\n",
       "    </tr>\n",
       "    <tr>\n",
       "      <th>1680</th>\n",
       "      <td>1681</td>\n",
       "      <td>You So Crazy (1994)</td>\n",
       "      <td>01-Jan-1994</td>\n",
       "      <td>0</td>\n",
       "      <td>0</td>\n",
       "      <td>0</td>\n",
       "      <td>0</td>\n",
       "      <td>0</td>\n",
       "      <td>1</td>\n",
       "      <td>0</td>\n",
       "      <td>...</td>\n",
       "      <td>0</td>\n",
       "      <td>0</td>\n",
       "      <td>0</td>\n",
       "      <td>0</td>\n",
       "      <td>0</td>\n",
       "      <td>0</td>\n",
       "      <td>0</td>\n",
       "      <td>0</td>\n",
       "      <td>0</td>\n",
       "      <td>0</td>\n",
       "    </tr>\n",
       "    <tr>\n",
       "      <th>1681</th>\n",
       "      <td>1682</td>\n",
       "      <td>Scream of Stone (Schrei aus Stein) (1991)</td>\n",
       "      <td>08-Mar-1996</td>\n",
       "      <td>0</td>\n",
       "      <td>0</td>\n",
       "      <td>0</td>\n",
       "      <td>0</td>\n",
       "      <td>0</td>\n",
       "      <td>0</td>\n",
       "      <td>0</td>\n",
       "      <td>...</td>\n",
       "      <td>0</td>\n",
       "      <td>0</td>\n",
       "      <td>0</td>\n",
       "      <td>0</td>\n",
       "      <td>0</td>\n",
       "      <td>0</td>\n",
       "      <td>0</td>\n",
       "      <td>0</td>\n",
       "      <td>0</td>\n",
       "      <td>0</td>\n",
       "    </tr>\n",
       "  </tbody>\n",
       "</table>\n",
       "<p>12 rows × 22 columns</p>\n",
       "</div>"
      ],
      "text/plain": [
       "      movie_id                                movie title release date  \\\n",
       "1670      1671                  Further Gesture, A (1996)  20-Feb-1998   \n",
       "1671      1672                                Kika (1993)  01-Jan-1993   \n",
       "1672      1673                              Mirage (1995)  01-Jan-1995   \n",
       "1673      1674                          Mamma Roma (1962)  01-Jan-1962   \n",
       "1674      1675                      Sunchaser, The (1996)  25-Oct-1996   \n",
       "1675      1676                    War at Home, The (1996)  01-Jan-1996   \n",
       "1676      1677                       Sweet Nothing (1995)  20-Sep-1996   \n",
       "1677      1678                          Mat' i syn (1997)  06-Feb-1998   \n",
       "1678      1679                           B. Monkey (1998)  06-Feb-1998   \n",
       "1679      1680                       Sliding Doors (1998)  01-Jan-1998   \n",
       "1680      1681                        You So Crazy (1994)  01-Jan-1994   \n",
       "1681      1682  Scream of Stone (Schrei aus Stein) (1991)  08-Mar-1996   \n",
       "\n",
       "      unknown  action  adventure  animation  children's  comedy  crime  ...  \\\n",
       "1670        0       0          0          0           0       0      0  ...   \n",
       "1671        0       0          0          0           0       0      0  ...   \n",
       "1672        0       1          0          0           0       0      0  ...   \n",
       "1673        0       0          0          0           0       0      0  ...   \n",
       "1674        0       0          0          0           0       0      0  ...   \n",
       "1675        0       0          0          0           0       0      0  ...   \n",
       "1676        0       0          0          0           0       0      0  ...   \n",
       "1677        0       0          0          0           0       0      0  ...   \n",
       "1678        0       0          0          0           0       0      0  ...   \n",
       "1679        0       0          0          0           0       0      0  ...   \n",
       "1680        0       0          0          0           0       1      0  ...   \n",
       "1681        0       0          0          0           0       0      0  ...   \n",
       "\n",
       "      fantasy  Film-Noir  horror  musical  mystery  romance  Sci-Fi  thriller  \\\n",
       "1670        0          0       0        0        0        0       0         0   \n",
       "1671        0          0       0        0        0        0       0         0   \n",
       "1672        0          0       0        0        0        0       0         1   \n",
       "1673        0          0       0        0        0        0       0         0   \n",
       "1674        0          0       0        0        0        0       0         0   \n",
       "1675        0          0       0        0        0        0       0         0   \n",
       "1676        0          0       0        0        0        0       0         0   \n",
       "1677        0          0       0        0        0        0       0         0   \n",
       "1678        0          0       0        0        0        1       0         1   \n",
       "1679        0          0       0        0        0        1       0         0   \n",
       "1680        0          0       0        0        0        0       0         0   \n",
       "1681        0          0       0        0        0        0       0         0   \n",
       "\n",
       "      war  western  \n",
       "1670    0        0  \n",
       "1671    0        0  \n",
       "1672    0        0  \n",
       "1673    0        0  \n",
       "1674    0        0  \n",
       "1675    0        0  \n",
       "1676    0        0  \n",
       "1677    0        0  \n",
       "1678    0        0  \n",
       "1679    0        0  \n",
       "1680    0        0  \n",
       "1681    0        0  \n",
       "\n",
       "[12 rows x 22 columns]"
      ]
     },
     "execution_count": 10,
     "metadata": {},
     "output_type": "execute_result"
    }
   ],
   "source": [
    "movies.tail(12)"
   ]
  },
  {
   "cell_type": "markdown",
   "id": "28161f78",
   "metadata": {},
   "source": [
    "Improve on the function to make sure it doesn't return the movie title parsed into it."
   ]
  },
  {
   "cell_type": "code",
   "execution_count": 11,
   "id": "3130c798",
   "metadata": {},
   "outputs": [
    {
     "data": {
      "application/vnd.microsoft.datawrangler.viewer.v0+json": {
       "columns": [
        {
         "name": "index",
         "rawType": "int64",
         "type": "integer"
        },
        {
         "name": "movie title",
         "rawType": "object",
         "type": "string"
        }
       ],
       "ref": "64f924e0-19f3-45d8-a854-b4e7d6ba458e",
       "rows": [
        [
         "8",
         "Dead Man Walking (1995)"
        ],
        [
         "14",
         "Mr. Holland's Opus (1995)"
        ],
        [
         "17",
         "White Balloon, The (1995)"
        ],
        [
         "18",
         "Antonia's Line (1995)"
        ],
        [
         "29",
         "Belle de jour (1967)"
        ]
       ],
       "shape": {
        "columns": 1,
        "rows": 5
       }
      },
      "text/plain": [
       "8       Dead Man Walking (1995)\n",
       "14    Mr. Holland's Opus (1995)\n",
       "17    White Balloon, The (1995)\n",
       "18        Antonia's Line (1995)\n",
       "29         Belle de jour (1967)\n",
       "Name: movie title, dtype: object"
      ]
     },
     "execution_count": 11,
     "metadata": {},
     "output_type": "execute_result"
    }
   ],
   "source": [
    "def improved_movie_recommendation(movie_title, n=5):\n",
    "    movie_index = movies[movies['movie title'] == movie_title].index[0]\n",
    "\n",
    "    scores = list(enumerate(cosine_matrix[movie_index]))\n",
    "\n",
    "    sorted_scores = sorted(scores, key=lambda x: x[1], reverse=True)\n",
    "\n",
    "    #make a list without the parsed in movie_title using the movie_id\n",
    "    return_scores = []\n",
    "    for score in sorted_scores:\n",
    "        index = score[0]\n",
    "        if index != movie_index:\n",
    "            return_scores.append(score)\n",
    "    #to break out of this loop\n",
    "        if len(return_scores) == n:\n",
    "            break\n",
    "\n",
    "    movie_indices = [i[0] for i in return_scores]\n",
    "\n",
    "    return movies['movie title'].iloc[movie_indices]\n",
    "\n",
    "\n",
    "movie_recommendation('Dead Man Walking (1995)')"
   ]
  },
  {
   "cell_type": "code",
   "execution_count": 12,
   "id": "a62849f8",
   "metadata": {},
   "outputs": [
    {
     "data": {
      "application/vnd.microsoft.datawrangler.viewer.v0+json": {
       "columns": [
        {
         "name": "index",
         "rawType": "int64",
         "type": "integer"
        },
        {
         "name": "movie title",
         "rawType": "object",
         "type": "string"
        }
       ],
       "ref": "0cc10699-f905-4c01-8b04-c072c6a66e89",
       "rows": [
        [
         "5",
         "Shanghai Triad (Yao a yao yao dao waipo qiao) (1995)"
        ],
        [
         "14",
         "Mr. Holland's Opus (1995)"
        ],
        [
         "17",
         "White Balloon, The (1995)"
        ],
        [
         "18",
         "Antonia's Line (1995)"
        ],
        [
         "29",
         "Belle de jour (1967)"
        ]
       ],
       "shape": {
        "columns": 1,
        "rows": 5
       }
      },
      "text/plain": [
       "5     Shanghai Triad (Yao a yao yao dao waipo qiao) ...\n",
       "14                            Mr. Holland's Opus (1995)\n",
       "17                            White Balloon, The (1995)\n",
       "18                                Antonia's Line (1995)\n",
       "29                                 Belle de jour (1967)\n",
       "Name: movie title, dtype: object"
      ]
     },
     "execution_count": 12,
     "metadata": {},
     "output_type": "execute_result"
    }
   ],
   "source": [
    "# movie_recommendation('B. Monkey (1998)')\n",
    "improved_movie_recommendation('Dead Man Walking (1995)')"
   ]
  },
  {
   "cell_type": "code",
   "execution_count": 13,
   "id": "18cd2eb3",
   "metadata": {},
   "outputs": [
    {
     "data": {
      "application/vnd.microsoft.datawrangler.viewer.v0+json": {
       "columns": [
        {
         "name": "index",
         "rawType": "int64",
         "type": "integer"
        },
        {
         "name": "movie title",
         "rawType": "object",
         "type": "string"
        }
       ],
       "ref": "bd59d7ca-cab3-4d7c-8abe-06f16d469393",
       "rows": [
        [
         "606",
         "Rebecca (1940)"
        ],
        [
         "885",
         "Life Less Ordinary, A (1997)"
        ],
        [
         "32",
         "Desperado (1995)"
        ],
        [
         "67",
         "Crow, The (1994)"
        ],
        [
         "89",
         "So I Married an Axe Murderer (1993)"
        ]
       ],
       "shape": {
        "columns": 1,
        "rows": 5
       }
      },
      "text/plain": [
       "606                         Rebecca (1940)\n",
       "885           Life Less Ordinary, A (1997)\n",
       "32                        Desperado (1995)\n",
       "67                        Crow, The (1994)\n",
       "89     So I Married an Axe Murderer (1993)\n",
       "Name: movie title, dtype: object"
      ]
     },
     "execution_count": 13,
     "metadata": {},
     "output_type": "execute_result"
    }
   ],
   "source": [
    "improved_movie_recommendation('B. Monkey (1998)')"
   ]
  },
  {
   "cell_type": "code",
   "execution_count": 14,
   "id": "684d495b",
   "metadata": {},
   "outputs": [
    {
     "data": {
      "application/vnd.microsoft.datawrangler.viewer.v0+json": {
       "columns": [
        {
         "name": "index",
         "rawType": "int64",
         "type": "integer"
        },
        {
         "name": "movie title",
         "rawType": "object",
         "type": "string"
        }
       ],
       "ref": "13780d16-f8c3-46c5-a500-5394c37b844e",
       "rows": [
        [
         "5",
         "Shanghai Triad (Yao a yao yao dao waipo qiao) (1995)"
        ],
        [
         "14",
         "Mr. Holland's Opus (1995)"
        ],
        [
         "17",
         "White Balloon, The (1995)"
        ],
        [
         "18",
         "Antonia's Line (1995)"
        ],
        [
         "29",
         "Belle de jour (1967)"
        ]
       ],
       "shape": {
        "columns": 1,
        "rows": 5
       }
      },
      "text/plain": [
       "5     Shanghai Triad (Yao a yao yao dao waipo qiao) ...\n",
       "14                            Mr. Holland's Opus (1995)\n",
       "17                            White Balloon, The (1995)\n",
       "18                                Antonia's Line (1995)\n",
       "29                                 Belle de jour (1967)\n",
       "Name: movie title, dtype: object"
      ]
     },
     "execution_count": 14,
     "metadata": {},
     "output_type": "execute_result"
    }
   ],
   "source": [
    "improved_movie_recommendation('Dead Man Walking (1995)')\n"
   ]
  },
  {
   "cell_type": "code",
   "execution_count": 15,
   "id": "da5a3e85",
   "metadata": {},
   "outputs": [
    {
     "data": {
      "application/vnd.microsoft.datawrangler.viewer.v0+json": {
       "columns": [
        {
         "name": "index",
         "rawType": "int64",
         "type": "integer"
        },
        {
         "name": "movie title",
         "rawType": "object",
         "type": "string"
        }
       ],
       "ref": "81ddfe14-9e2a-44c7-87ae-7f2b302d80da",
       "rows": [
        [
         "8",
         "Dead Man Walking (1995)"
        ],
        [
         "14",
         "Mr. Holland's Opus (1995)"
        ],
        [
         "17",
         "White Balloon, The (1995)"
        ],
        [
         "18",
         "Antonia's Line (1995)"
        ],
        [
         "29",
         "Belle de jour (1967)"
        ]
       ],
       "shape": {
        "columns": 1,
        "rows": 5
       }
      },
      "text/plain": [
       "8       Dead Man Walking (1995)\n",
       "14    Mr. Holland's Opus (1995)\n",
       "17    White Balloon, The (1995)\n",
       "18        Antonia's Line (1995)\n",
       "29         Belle de jour (1967)\n",
       "Name: movie title, dtype: object"
      ]
     },
     "execution_count": 15,
     "metadata": {},
     "output_type": "execute_result"
    }
   ],
   "source": [
    "movie_recommendation('Dead Man Walking (1995)')\n"
   ]
  },
  {
   "cell_type": "markdown",
   "id": "b0dda28a",
   "metadata": {},
   "source": [
    "### Collaborative Filtering\n",
    "We have seen an example of content-based filtering, now as you might have guessed its not a reliable system, just because two items are similar doesn't mean that the user will like it. \n",
    "\n",
    "So comes in collaborative filtering where we'll be looking at user preferences and recommending based on that. \n",
    "\n",
    "Collaborative Filtering (CF) is currently the most widely used approach to build recommendation systems and uses the users’ behavior in the form of user-item ratings for predictions."
   ]
  },
  {
   "cell_type": "code",
   "execution_count": 16,
   "id": "cf5ebe8d",
   "metadata": {},
   "outputs": [
    {
     "data": {
      "text/plain": [
       "' \\n          Sleepy Hollow  |      Dead-Pool     |     Madagascar |        Dodge \\nJacob           5                   3                   0                  2\\nMartha          4                   0                   0                  1\\nTony            1                   1                   0                  5\\n'"
      ]
     },
     "execution_count": 16,
     "metadata": {},
     "output_type": "execute_result"
    }
   ],
   "source": [
    "\"\"\" \n",
    "          Sleepy Hollow  |      Dead-Pool     |     Madagascar |        Dodge \n",
    "Jacob           5                   3                   0                  2\n",
    "Martha          4                   0                   0                  1\n",
    "Tony            1                   1                   0                  5\n",
    "\"\"\"\n",
    "\n",
    "\n",
    "# [5, 3, 0, 2],\n",
    "# [4, 0, 0, 1],\n",
    "# [1, 1, 0, 5]\n"
   ]
  },
  {
   "cell_type": "markdown",
   "id": "cd5fb6f3",
   "metadata": {},
   "source": [
    "SVD breaksdown this matrix into three parts:\n",
    "- `U` -  users' relationship to the hidden pattern/latent factors/hidden features.\n",
    "- `S` - this one contains the weight/strengh of each dimension.\n",
    "- `V^t` - captures how each item maps to these same dimensions."
   ]
  },
  {
   "cell_type": "code",
   "execution_count": 19,
   "id": "38ce64f5",
   "metadata": {},
   "outputs": [],
   "source": [
    "import numpy as np\n",
    "from numpy.linalg import svd\n",
    "\n",
    "\n",
    "ratings = np.array([\n",
    "    [5, 3, 0, 2],\n",
    "    [4, 0, 0, 1],\n",
    "    [1, 1, 0, 5]\n",
    "])\n",
    "\n",
    "\n",
    "u, s, vt = svd(ratings)\n",
    "\n",
    "\n",
    "# s = np.pad(s, ((0, 0), (0, 1)), mode='constant')\n",
    "\n",
    "# np.dot(u, np.dot(s, vt))"
   ]
  },
  {
   "cell_type": "code",
   "execution_count": 20,
   "id": "08d5f4eb",
   "metadata": {},
   "outputs": [
    {
     "data": {
      "text/plain": [
       "(3, 4)"
      ]
     },
     "execution_count": 20,
     "metadata": {},
     "output_type": "execute_result"
    }
   ],
   "source": [
    "ratings.shape"
   ]
  },
  {
   "cell_type": "code",
   "execution_count": 21,
   "id": "f98dad5c",
   "metadata": {},
   "outputs": [
    {
     "data": {
      "text/plain": [
       "(3,)"
      ]
     },
     "execution_count": 21,
     "metadata": {},
     "output_type": "execute_result"
    }
   ],
   "source": [
    "s.shape"
   ]
  },
  {
   "cell_type": "code",
   "execution_count": 22,
   "id": "57fe5209",
   "metadata": {},
   "outputs": [
    {
     "data": {
      "text/plain": [
       "(4, 4)"
      ]
     },
     "execution_count": 22,
     "metadata": {},
     "output_type": "execute_result"
    }
   ],
   "source": [
    "vt.shape"
   ]
  },
  {
   "cell_type": "code",
   "execution_count": 23,
   "id": "f6189d94",
   "metadata": {},
   "outputs": [
    {
     "data": {
      "text/plain": [
       "array([[7.93906308, 0.        , 0.        ],\n",
       "       [0.        , 4.01213138, 0.        ],\n",
       "       [0.        , 0.        , 1.69531093]])"
      ]
     },
     "execution_count": 23,
     "metadata": {},
     "output_type": "execute_result"
    }
   ],
   "source": [
    "s = np.diag(s)\n",
    "s"
   ]
  },
  {
   "cell_type": "code",
   "execution_count": 35,
   "id": "119701e1",
   "metadata": {},
   "outputs": [
    {
     "name": "stdout",
     "output_type": "stream",
     "text": [
      "<class 'pandas.core.frame.DataFrame'>\n",
      "RangeIndex: 100000 entries, 0 to 99999\n",
      "Data columns (total 4 columns):\n",
      " #   Column      Non-Null Count   Dtype\n",
      "---  ------      --------------   -----\n",
      " 0   user_id     100000 non-null  int64\n",
      " 1   movie_id    100000 non-null  int64\n",
      " 2   ratings     100000 non-null  int64\n",
      " 3   timestampt  100000 non-null  int64\n",
      "dtypes: int64(4)\n",
      "memory usage: 3.1 MB\n"
     ]
    }
   ],
   "source": [
    "movie_ratings = pd.read_csv('./data/mlk/u.data', sep=\"\\t\", names=['user_id', 'movie_id', 'ratings', 'timestampt'])\n",
    "\n",
    "movie_ratings_copy = movie_ratings.copy()\n",
    "movie_ratings.info()"
   ]
  },
  {
   "cell_type": "code",
   "execution_count": 36,
   "id": "a420b787",
   "metadata": {},
   "outputs": [
    {
     "data": {
      "text/plain": [
       "array([3, 1, 2, 4, 5], dtype=int64)"
      ]
     },
     "execution_count": 36,
     "metadata": {},
     "output_type": "execute_result"
    }
   ],
   "source": [
    "movie_ratings['ratings'].unique()"
   ]
  },
  {
   "cell_type": "code",
   "execution_count": 37,
   "id": "fa90be12",
   "metadata": {},
   "outputs": [],
   "source": [
    "# !pip install scikit-surprise\n",
    "from surprise import SVD, Dataset, accuracy, Reader\n",
    "from surprise.model_selection import train_test_split\n",
    "\n",
    "\n",
    "#get ratings to surprise format\n",
    "reader = Reader(rating_scale=(1, 5))\n",
    "\n",
    "#load the data into surprise format\n",
    "data = Dataset.load_from_df(movie_ratings[['user_id', 'movie_id', 'ratings']], reader)\n"
   ]
  },
  {
   "cell_type": "code",
   "execution_count": 38,
   "id": "38ab2063",
   "metadata": {},
   "outputs": [],
   "source": [
    "#split data\n",
    "train_set, test_set = train_test_split(data, test_size=0.3, random_state=21)\n",
    "\n",
    "#initiate model\n",
    "svd_model = SVD()\n"
   ]
  },
  {
   "cell_type": "code",
   "execution_count": 39,
   "id": "8033b3c4",
   "metadata": {},
   "outputs": [
    {
     "name": "stdout",
     "output_type": "stream",
     "text": [
      "RMSE: 0.9425\n",
      "MAE:  0.7432\n"
     ]
    }
   ],
   "source": [
    "#modelling \n",
    "svd_model.fit(train_set)\n",
    "\n",
    "#prediction and evaluation\n",
    "svd_ratings = svd_model.test(test_set)\n",
    "\n",
    "#rmse & mae\n",
    "rsme = accuracy.rmse(svd_ratings)\n",
    "mae = accuracy.mae(svd_ratings)"
   ]
  },
  {
   "cell_type": "markdown",
   "id": "932af5cc",
   "metadata": {},
   "source": [
    "### ALS\n",
    "Alternating Least Squares works well with binary formats."
   ]
  },
  {
   "cell_type": "code",
   "execution_count": null,
   "id": "960b40de",
   "metadata": {},
   "outputs": [
    {
     "name": "stdout",
     "output_type": "stream",
     "text": [
      "<class 'pandas.core.frame.DataFrame'>\n",
      "Index: 80000 entries, 80618 to 67324\n",
      "Data columns (total 4 columns):\n",
      " #   Column      Non-Null Count  Dtype\n",
      "---  ------      --------------  -----\n",
      " 0   user_id     80000 non-null  int16\n",
      " 1   movie_id    80000 non-null  int16\n",
      " 2   ratings     80000 non-null  int32\n",
      " 3   timestampt  80000 non-null  int64\n",
      "dtypes: int16(2), int32(1), int64(1)\n",
      "memory usage: 1.8 MB\n"
     ]
    }
   ],
   "source": [
    "# !pip install implicit\n",
    "import implicit\n",
    "from sklearn.model_selection import train_test_split\n",
    "# from surprise.model_selection import train_test_split\n",
    "\n",
    "# specify a rating\n",
    "movie_ratings['ratings'] = (movie_ratings['ratings'] >= 3).astype(int)\n",
    "\n",
    "movie_ratings['user_id'] = movie_ratings['user_id'].astype('category').cat.codes\n",
    "\n",
    "movie_ratings['movie_id'] = movie_ratings['movie_id'].astype('category').cat.codes\n",
    "\n",
    "#split dataset and make sure that all user are represented in both sets\n",
    "train_set_als, test_set_als = train_test_split(movie_ratings, test_size=0.2, random_state=42, stratify=movie_ratings['user_id'])\n",
    "\n",
    "\n",
    "train_set_als.info()"
   ]
  },
  {
   "cell_type": "code",
   "execution_count": 50,
   "id": "cdfbb17d",
   "metadata": {},
   "outputs": [],
   "source": [
    "users = movie_ratings['user_id'].nunique()\n",
    "movies = movie_ratings['movie_id'].nunique()"
   ]
  },
  {
   "cell_type": "code",
   "execution_count": 54,
   "id": "28a0ac7a",
   "metadata": {},
   "outputs": [],
   "source": [
    "#create a sparse matrix for both train and test\n",
    "from scipy.sparse import csr_matrix\n",
    "\n",
    "train_sparse = csr_matrix((train_set_als['ratings'], (train_set_als['user_id'], train_set_als['movie_id'])), shape=(users, movies))\n",
    "test_sparse = csr_matrix((test_set_als['ratings'], (test_set_als['user_id'], test_set_als['movie_id'])), shape=(users, movies))"
   ]
  },
  {
   "cell_type": "code",
   "execution_count": 55,
   "id": "1ce45ec9",
   "metadata": {},
   "outputs": [
    {
     "name": "stderr",
     "output_type": "stream",
     "text": [
      "c:\\Users\\marwa\\miniconda3\\envs\\xBase\\Lib\\site-packages\\implicit\\cpu\\als.py:95: RuntimeWarning: Intel MKL BLAS is configured to use 4 threads. It is highly recommended to disable its internal threadpool by setting the environment variable 'MKL_NUM_THREADS=1' or by callng 'threadpoolctl.threadpool_limits(1, \"blas\")'. Having MKL use a threadpool can lead to severe performance issues\n",
      "  check_blas_config()\n",
      "100%|██████████| 15/15 [00:00<00:00, 28.69it/s]\n"
     ]
    }
   ],
   "source": [
    "model = implicit.als.AlternatingLeastSquares(random_state=42)\n",
    "\n",
    "model.fit(train_sparse)"
   ]
  },
  {
   "cell_type": "code",
   "execution_count": 56,
   "id": "93b3b8c6",
   "metadata": {},
   "outputs": [
    {
     "name": "stderr",
     "output_type": "stream",
     "text": [
      "100%|██████████| 15/15 [00:00<00:00, 27.83it/s]\n"
     ]
    }
   ],
   "source": [
    "from implicit.als import AlternatingLeastSquares\n",
    "\n",
    "model = AlternatingLeastSquares(random_state=42)\n",
    "\n",
    "model.fit(train_sparse)"
   ]
  },
  {
   "cell_type": "code",
   "execution_count": 61,
   "id": "cb5a123a",
   "metadata": {},
   "outputs": [
    {
     "data": {
      "text/plain": [
       "(array([750, 280, 247, 116, 284]),\n",
       " array([0.5000793 , 0.4959383 , 0.45313233, 0.4440935 , 0.44021663],\n",
       "       dtype=float32))"
      ]
     },
     "execution_count": 61,
     "metadata": {},
     "output_type": "execute_result"
    }
   ],
   "source": [
    "\n",
    "values = []\n",
    "predicted_ratings = []\n",
    "\n",
    "for user, item, pred_rating in zip(test_set_als['user_id'], test_set_als['movie_id'], test_set_als['ratings']):\n",
    "    if user < model.user_factors.shape[0] and item < model.item_factors.shape[0]:\n",
    "        user_v = model.user_factors[user]\n",
    "        item_v = model.item_factors[item]\n",
    "\n",
    "        \n",
    "        values.append(np.dot(user_v, item_v))\n",
    "        predicted_ratings.append(pred_rating)\n",
    "\n",
    "    else:\n",
    "        pass\n",
    "\n",
    "\n",
    "###create a logic to get movie names\n",
    "\n",
    "model.recommend(25, train_sparse[25], 5)"
   ]
  }
 ],
 "metadata": {
  "kernelspec": {
   "display_name": "xBase",
   "language": "python",
   "name": "python3"
  },
  "language_info": {
   "codemirror_mode": {
    "name": "ipython",
    "version": 3
   },
   "file_extension": ".py",
   "mimetype": "text/x-python",
   "name": "python",
   "nbconvert_exporter": "python",
   "pygments_lexer": "ipython3",
   "version": "3.12.3"
  }
 },
 "nbformat": 4,
 "nbformat_minor": 5
}
